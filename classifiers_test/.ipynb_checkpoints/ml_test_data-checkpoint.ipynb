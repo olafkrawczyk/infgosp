{
 "cells": [
  {
   "cell_type": "code",
   "execution_count": 16,
   "metadata": {},
   "outputs": [
    {
     "data": {
      "text/html": [
       "<script>requirejs.config({paths: { 'plotly': ['https://cdn.plot.ly/plotly-latest.min']},});if(!window.Plotly) {{require(['plotly'],function(plotly) {window.Plotly=plotly;});}}</script>"
      ],
      "text/vnd.plotly.v1+html": [
       "<script>requirejs.config({paths: { 'plotly': ['https://cdn.plot.ly/plotly-latest.min']},});if(!window.Plotly) {{require(['plotly'],function(plotly) {window.Plotly=plotly;});}}</script>"
      ]
     },
     "metadata": {},
     "output_type": "display_data"
    }
   ],
   "source": [
    "import pandas as pd\n",
    "import sklearn\n",
    "from sklearn.svm import SVC\n",
    "from sklearn.neighbors import KNeighborsClassifier\n",
    "from sklearn.neural_network import MLPClassifier\n",
    "from sklearn.linear_model import SGDClassifier\n",
    "from sklearn.ensemble import RandomForestClassifier\n",
    "from sklearn.metrics import accuracy_score, confusion_matrix\n",
    "from sklearn import manifold\n",
    "from sklearn.preprocessing import StandardScaler  \n",
    "import matplotlib.pyplot as plt\n",
    "\n",
    "import plotly.plotly as py\n",
    "import plotly.graph_objs as go\n",
    "import plotly.figure_factory as ff\n",
    "import numpy as np\n",
    "from plotly.offline import download_plotlyjs, init_notebook_mode, plot, iplot\n",
    "\n",
    "from sklearn import cross_validation\n",
    "\n",
    "init_notebook_mode(connected=True)\n",
    "\n",
    "# Jaki procent całego zbioru ma być wykorzystany do uczenia\n",
    "TRAIN_DATASET_PRECENTAGE = 0.7"
   ]
  },
  {
   "cell_type": "code",
   "execution_count": 17,
   "metadata": {},
   "outputs": [],
   "source": [
    "# Załadowanie zbioru cech z csv\n",
    "dataset = pd.read_csv(\"features.csv\", index_col=None)\n",
    "\n",
    "# Stworzenie kolumn dla wektora cech. Nazwy to liczby od 1 do 25.\n",
    "cols = [str(x) for x in range(1, 26)]\n",
    "#Ostatnia kolumna to etykieta aktywności\n",
    "cols.append(\"label\")\n",
    "\n",
    "dataset.columns = cols"
   ]
  },
  {
   "cell_type": "code",
   "execution_count": 18,
   "metadata": {},
   "outputs": [],
   "source": [
    "# Mieszamy wczytane wiersze tak, żeby kolejność cech nie miała wpływu na trenowanie i testowanie\n",
    "dataset = sklearn.utils.shuffle(dataset)"
   ]
  },
  {
   "cell_type": "code",
   "execution_count": 19,
   "metadata": {},
   "outputs": [],
   "source": [
    "# Obliczenie liczby wektorów cech potrzebynch do uczenia\n",
    "train_size = int(len(dataset)*TRAIN_DATASET_PRECENTAGE)\n",
    "\n",
    "#Podział na zbiór uczący i testowy\n",
    "train_dataset = dataset[:train_size]\n",
    "test_dataset = dataset[train_size:]\n",
    "\n",
    "# Oddzielamy cechy od etykiety i przypisujemy do X - zbioru danych uczących\n",
    "feature_cols = dataset.columns[:-1]\n",
    "X = train_dataset.loc[:, feature_cols]\n",
    "\n",
    "# Zbiór poprawnych etykiet dla zbioru uczącego\n",
    "y = train_dataset.label"
   ]
  },
  {
   "cell_type": "code",
   "execution_count": 20,
   "metadata": {},
   "outputs": [],
   "source": [
    "# Skalowanie wektora cech\n",
    "scaler = StandardScaler()\n",
    "scaler.fit(X)\n",
    "\n",
    "X = scaler.transform(X)"
   ]
  },
  {
   "cell_type": "code",
   "execution_count": 21,
   "metadata": {},
   "outputs": [],
   "source": [
    "# Podział na X i y dla danych testowych\n",
    "X_test = test_dataset.loc[:, feature_cols]\n",
    "X_test = scaler.transform(X_test)\n",
    "y_test = test_dataset.label"
   ]
  },
  {
   "cell_type": "code",
   "execution_count": 22,
   "metadata": {},
   "outputs": [],
   "source": [
    "# Tworzymy listę klasyfikatorów które testujemy\n",
    "classifiers = []\n",
    "\n",
    "classifiers.append({\"name\":\"SVM\", \"cls\":SVC()})\n",
    "classifiers.append({\"name\":\"MLP\", \"cls\":MLPClassifier(solver='lbfgs', alpha=1e-7, hidden_layer_sizes=(25, 10, 6), random_state=1, max_iter=700)})\n",
    "classifiers.append({\"name\":\"KNN\", \"cls\":KNeighborsClassifier(n_neighbors=3)})\n",
    "classifiers.append({\"name\":\"RF\", \"cls\":RandomForestClassifier()})\n"
   ]
  },
  {
   "cell_type": "code",
   "execution_count": 23,
   "metadata": {
    "scrolled": true
   },
   "outputs": [
    {
     "data": {
      "application/vnd.plotly.v1+json": {
       "data": [
        {
         "colorscale": "RdBu",
         "showscale": false,
         "type": "heatmap",
         "x": [
          "running",
          "walking",
          "car",
          "bike",
          "upstairs",
          "downstairs"
         ],
         "y": [
          "running",
          "walking",
          "car",
          "bike",
          "upstairs",
          "downstairs"
         ],
         "z": [
          [
           88.57,
           8.98,
           2.45,
           0,
           0,
           0
          ],
          [
           5.15,
           84.93,
           9.19,
           0,
           0.74,
           0
          ],
          [
           2.41,
           4.1,
           92.53,
           0,
           0.96,
           0
          ],
          [
           0,
           47.06,
           23.53,
           29.41,
           0,
           0
          ],
          [
           5.56,
           33.33,
           15.28,
           0,
           45.83,
           0
          ],
          [
           0,
           83.87,
           9.68,
           0,
           6.45,
           0
          ]
         ]
        }
       ],
       "layout": {
        "annotations": [
         {
          "font": {
           "color": "#000000"
          },
          "showarrow": false,
          "text": "88.57",
          "x": "running",
          "xref": "x1",
          "y": "running",
          "yref": "y1"
         },
         {
          "font": {
           "color": "#FFFFFF"
          },
          "showarrow": false,
          "text": "8.98",
          "x": "walking",
          "xref": "x1",
          "y": "running",
          "yref": "y1"
         },
         {
          "font": {
           "color": "#FFFFFF"
          },
          "showarrow": false,
          "text": "2.45",
          "x": "car",
          "xref": "x1",
          "y": "running",
          "yref": "y1"
         },
         {
          "font": {
           "color": "#FFFFFF"
          },
          "showarrow": false,
          "text": "0.0",
          "x": "bike",
          "xref": "x1",
          "y": "running",
          "yref": "y1"
         },
         {
          "font": {
           "color": "#FFFFFF"
          },
          "showarrow": false,
          "text": "0.0",
          "x": "upstairs",
          "xref": "x1",
          "y": "running",
          "yref": "y1"
         },
         {
          "font": {
           "color": "#FFFFFF"
          },
          "showarrow": false,
          "text": "0.0",
          "x": "downstairs",
          "xref": "x1",
          "y": "running",
          "yref": "y1"
         },
         {
          "font": {
           "color": "#FFFFFF"
          },
          "showarrow": false,
          "text": "5.15",
          "x": "running",
          "xref": "x1",
          "y": "walking",
          "yref": "y1"
         },
         {
          "font": {
           "color": "#000000"
          },
          "showarrow": false,
          "text": "84.93",
          "x": "walking",
          "xref": "x1",
          "y": "walking",
          "yref": "y1"
         },
         {
          "font": {
           "color": "#FFFFFF"
          },
          "showarrow": false,
          "text": "9.19",
          "x": "car",
          "xref": "x1",
          "y": "walking",
          "yref": "y1"
         },
         {
          "font": {
           "color": "#FFFFFF"
          },
          "showarrow": false,
          "text": "0.0",
          "x": "bike",
          "xref": "x1",
          "y": "walking",
          "yref": "y1"
         },
         {
          "font": {
           "color": "#FFFFFF"
          },
          "showarrow": false,
          "text": "0.74",
          "x": "upstairs",
          "xref": "x1",
          "y": "walking",
          "yref": "y1"
         },
         {
          "font": {
           "color": "#FFFFFF"
          },
          "showarrow": false,
          "text": "0.0",
          "x": "downstairs",
          "xref": "x1",
          "y": "walking",
          "yref": "y1"
         },
         {
          "font": {
           "color": "#FFFFFF"
          },
          "showarrow": false,
          "text": "2.41",
          "x": "running",
          "xref": "x1",
          "y": "car",
          "yref": "y1"
         },
         {
          "font": {
           "color": "#FFFFFF"
          },
          "showarrow": false,
          "text": "4.1",
          "x": "walking",
          "xref": "x1",
          "y": "car",
          "yref": "y1"
         },
         {
          "font": {
           "color": "#000000"
          },
          "showarrow": false,
          "text": "92.53",
          "x": "car",
          "xref": "x1",
          "y": "car",
          "yref": "y1"
         },
         {
          "font": {
           "color": "#FFFFFF"
          },
          "showarrow": false,
          "text": "0.0",
          "x": "bike",
          "xref": "x1",
          "y": "car",
          "yref": "y1"
         },
         {
          "font": {
           "color": "#FFFFFF"
          },
          "showarrow": false,
          "text": "0.96",
          "x": "upstairs",
          "xref": "x1",
          "y": "car",
          "yref": "y1"
         },
         {
          "font": {
           "color": "#FFFFFF"
          },
          "showarrow": false,
          "text": "0.0",
          "x": "downstairs",
          "xref": "x1",
          "y": "car",
          "yref": "y1"
         },
         {
          "font": {
           "color": "#FFFFFF"
          },
          "showarrow": false,
          "text": "0.0",
          "x": "running",
          "xref": "x1",
          "y": "bike",
          "yref": "y1"
         },
         {
          "font": {
           "color": "#000000"
          },
          "showarrow": false,
          "text": "47.06",
          "x": "walking",
          "xref": "x1",
          "y": "bike",
          "yref": "y1"
         },
         {
          "font": {
           "color": "#FFFFFF"
          },
          "showarrow": false,
          "text": "23.53",
          "x": "car",
          "xref": "x1",
          "y": "bike",
          "yref": "y1"
         },
         {
          "font": {
           "color": "#FFFFFF"
          },
          "showarrow": false,
          "text": "29.41",
          "x": "bike",
          "xref": "x1",
          "y": "bike",
          "yref": "y1"
         },
         {
          "font": {
           "color": "#FFFFFF"
          },
          "showarrow": false,
          "text": "0.0",
          "x": "upstairs",
          "xref": "x1",
          "y": "bike",
          "yref": "y1"
         },
         {
          "font": {
           "color": "#FFFFFF"
          },
          "showarrow": false,
          "text": "0.0",
          "x": "downstairs",
          "xref": "x1",
          "y": "bike",
          "yref": "y1"
         },
         {
          "font": {
           "color": "#FFFFFF"
          },
          "showarrow": false,
          "text": "5.56",
          "x": "running",
          "xref": "x1",
          "y": "upstairs",
          "yref": "y1"
         },
         {
          "font": {
           "color": "#FFFFFF"
          },
          "showarrow": false,
          "text": "33.33",
          "x": "walking",
          "xref": "x1",
          "y": "upstairs",
          "yref": "y1"
         },
         {
          "font": {
           "color": "#FFFFFF"
          },
          "showarrow": false,
          "text": "15.28",
          "x": "car",
          "xref": "x1",
          "y": "upstairs",
          "yref": "y1"
         },
         {
          "font": {
           "color": "#FFFFFF"
          },
          "showarrow": false,
          "text": "0.0",
          "x": "bike",
          "xref": "x1",
          "y": "upstairs",
          "yref": "y1"
         },
         {
          "font": {
           "color": "#FFFFFF"
          },
          "showarrow": false,
          "text": "45.83",
          "x": "upstairs",
          "xref": "x1",
          "y": "upstairs",
          "yref": "y1"
         },
         {
          "font": {
           "color": "#FFFFFF"
          },
          "showarrow": false,
          "text": "0.0",
          "x": "downstairs",
          "xref": "x1",
          "y": "upstairs",
          "yref": "y1"
         },
         {
          "font": {
           "color": "#FFFFFF"
          },
          "showarrow": false,
          "text": "0.0",
          "x": "running",
          "xref": "x1",
          "y": "downstairs",
          "yref": "y1"
         },
         {
          "font": {
           "color": "#000000"
          },
          "showarrow": false,
          "text": "83.87",
          "x": "walking",
          "xref": "x1",
          "y": "downstairs",
          "yref": "y1"
         },
         {
          "font": {
           "color": "#FFFFFF"
          },
          "showarrow": false,
          "text": "9.68",
          "x": "car",
          "xref": "x1",
          "y": "downstairs",
          "yref": "y1"
         },
         {
          "font": {
           "color": "#FFFFFF"
          },
          "showarrow": false,
          "text": "0.0",
          "x": "bike",
          "xref": "x1",
          "y": "downstairs",
          "yref": "y1"
         },
         {
          "font": {
           "color": "#FFFFFF"
          },
          "showarrow": false,
          "text": "6.45",
          "x": "upstairs",
          "xref": "x1",
          "y": "downstairs",
          "yref": "y1"
         },
         {
          "font": {
           "color": "#FFFFFF"
          },
          "showarrow": false,
          "text": "0.0",
          "x": "downstairs",
          "xref": "x1",
          "y": "downstairs",
          "yref": "y1"
         }
        ],
        "title": "SVM - overall accuracy: 82.7%",
        "xaxis": {
         "dtick": 1,
         "gridcolor": "rgb(0, 0, 0)",
         "side": "top",
         "ticks": ""
        },
        "yaxis": {
         "dtick": 1,
         "ticks": "",
         "ticksuffix": "  "
        }
       }
      },
      "text/html": [
       "<div id=\"6021e586-cb46-4aec-b53e-fc8599ed78f5\" style=\"height: 525px; width: 100%;\" class=\"plotly-graph-div\"></div><script type=\"text/javascript\">require([\"plotly\"], function(Plotly) { window.PLOTLYENV=window.PLOTLYENV || {};window.PLOTLYENV.BASE_URL=\"https://plot.ly\";Plotly.newPlot(\"6021e586-cb46-4aec-b53e-fc8599ed78f5\", [{\"type\": \"heatmap\", \"z\": [[88.57, 8.98, 2.45, 0.0, 0.0, 0.0], [5.15, 84.93, 9.19, 0.0, 0.74, 0.0], [2.41, 4.1, 92.53, 0.0, 0.96, 0.0], [0.0, 47.06, 23.53, 29.41, 0.0, 0.0], [5.56, 33.33, 15.28, 0.0, 45.83, 0.0], [0.0, 83.87, 9.68, 0.0, 6.45, 0.0]], \"x\": [\"running\", \"walking\", \"car\", \"bike\", \"upstairs\", \"downstairs\"], \"y\": [\"running\", \"walking\", \"car\", \"bike\", \"upstairs\", \"downstairs\"], \"colorscale\": \"RdBu\", \"showscale\": false}], {\"annotations\": [{\"text\": \"88.57\", \"x\": \"running\", \"y\": \"running\", \"xref\": \"x1\", \"yref\": \"y1\", \"font\": {\"color\": \"#000000\"}, \"showarrow\": false}, {\"text\": \"8.98\", \"x\": \"walking\", \"y\": \"running\", \"xref\": \"x1\", \"yref\": \"y1\", \"font\": {\"color\": \"#FFFFFF\"}, \"showarrow\": false}, {\"text\": \"2.45\", \"x\": \"car\", \"y\": \"running\", \"xref\": \"x1\", \"yref\": \"y1\", \"font\": {\"color\": \"#FFFFFF\"}, \"showarrow\": false}, {\"text\": \"0.0\", \"x\": \"bike\", \"y\": \"running\", \"xref\": \"x1\", \"yref\": \"y1\", \"font\": {\"color\": \"#FFFFFF\"}, \"showarrow\": false}, {\"text\": \"0.0\", \"x\": \"upstairs\", \"y\": \"running\", \"xref\": \"x1\", \"yref\": \"y1\", \"font\": {\"color\": \"#FFFFFF\"}, \"showarrow\": false}, {\"text\": \"0.0\", \"x\": \"downstairs\", \"y\": \"running\", \"xref\": \"x1\", \"yref\": \"y1\", \"font\": {\"color\": \"#FFFFFF\"}, \"showarrow\": false}, {\"text\": \"5.15\", \"x\": \"running\", \"y\": \"walking\", \"xref\": \"x1\", \"yref\": \"y1\", \"font\": {\"color\": \"#FFFFFF\"}, \"showarrow\": false}, {\"text\": \"84.93\", \"x\": \"walking\", \"y\": \"walking\", \"xref\": \"x1\", \"yref\": \"y1\", \"font\": {\"color\": \"#000000\"}, \"showarrow\": false}, {\"text\": \"9.19\", \"x\": \"car\", \"y\": \"walking\", \"xref\": \"x1\", \"yref\": \"y1\", \"font\": {\"color\": \"#FFFFFF\"}, \"showarrow\": false}, {\"text\": \"0.0\", \"x\": \"bike\", \"y\": \"walking\", \"xref\": \"x1\", \"yref\": \"y1\", \"font\": {\"color\": \"#FFFFFF\"}, \"showarrow\": false}, {\"text\": \"0.74\", \"x\": \"upstairs\", \"y\": \"walking\", \"xref\": \"x1\", \"yref\": \"y1\", \"font\": {\"color\": \"#FFFFFF\"}, \"showarrow\": false}, {\"text\": \"0.0\", \"x\": \"downstairs\", \"y\": \"walking\", \"xref\": \"x1\", \"yref\": \"y1\", \"font\": {\"color\": \"#FFFFFF\"}, \"showarrow\": false}, {\"text\": \"2.41\", \"x\": \"running\", \"y\": \"car\", \"xref\": \"x1\", \"yref\": \"y1\", \"font\": {\"color\": \"#FFFFFF\"}, \"showarrow\": false}, {\"text\": \"4.1\", \"x\": \"walking\", \"y\": \"car\", \"xref\": \"x1\", \"yref\": \"y1\", \"font\": {\"color\": \"#FFFFFF\"}, \"showarrow\": false}, {\"text\": \"92.53\", \"x\": \"car\", \"y\": \"car\", \"xref\": \"x1\", \"yref\": \"y1\", \"font\": {\"color\": \"#000000\"}, \"showarrow\": false}, {\"text\": \"0.0\", \"x\": \"bike\", \"y\": \"car\", \"xref\": \"x1\", \"yref\": \"y1\", \"font\": {\"color\": \"#FFFFFF\"}, \"showarrow\": false}, {\"text\": \"0.96\", \"x\": \"upstairs\", \"y\": \"car\", \"xref\": \"x1\", \"yref\": \"y1\", \"font\": {\"color\": \"#FFFFFF\"}, \"showarrow\": false}, {\"text\": \"0.0\", \"x\": \"downstairs\", \"y\": \"car\", \"xref\": \"x1\", \"yref\": \"y1\", \"font\": {\"color\": \"#FFFFFF\"}, \"showarrow\": false}, {\"text\": \"0.0\", \"x\": \"running\", \"y\": \"bike\", \"xref\": \"x1\", \"yref\": \"y1\", \"font\": {\"color\": \"#FFFFFF\"}, \"showarrow\": false}, {\"text\": \"47.06\", \"x\": \"walking\", \"y\": \"bike\", \"xref\": \"x1\", \"yref\": \"y1\", \"font\": {\"color\": \"#000000\"}, \"showarrow\": false}, {\"text\": \"23.53\", \"x\": \"car\", \"y\": \"bike\", \"xref\": \"x1\", \"yref\": \"y1\", \"font\": {\"color\": \"#FFFFFF\"}, \"showarrow\": false}, {\"text\": \"29.41\", \"x\": \"bike\", \"y\": \"bike\", \"xref\": \"x1\", \"yref\": \"y1\", \"font\": {\"color\": \"#FFFFFF\"}, \"showarrow\": false}, {\"text\": \"0.0\", \"x\": \"upstairs\", \"y\": \"bike\", \"xref\": \"x1\", \"yref\": \"y1\", \"font\": {\"color\": \"#FFFFFF\"}, \"showarrow\": false}, {\"text\": \"0.0\", \"x\": \"downstairs\", \"y\": \"bike\", \"xref\": \"x1\", \"yref\": \"y1\", \"font\": {\"color\": \"#FFFFFF\"}, \"showarrow\": false}, {\"text\": \"5.56\", \"x\": \"running\", \"y\": \"upstairs\", \"xref\": \"x1\", \"yref\": \"y1\", \"font\": {\"color\": \"#FFFFFF\"}, \"showarrow\": false}, {\"text\": \"33.33\", \"x\": \"walking\", \"y\": \"upstairs\", \"xref\": \"x1\", \"yref\": \"y1\", \"font\": {\"color\": \"#FFFFFF\"}, \"showarrow\": false}, {\"text\": \"15.28\", \"x\": \"car\", \"y\": \"upstairs\", \"xref\": \"x1\", \"yref\": \"y1\", \"font\": {\"color\": \"#FFFFFF\"}, \"showarrow\": false}, {\"text\": \"0.0\", \"x\": \"bike\", \"y\": \"upstairs\", \"xref\": \"x1\", \"yref\": \"y1\", \"font\": {\"color\": \"#FFFFFF\"}, \"showarrow\": false}, {\"text\": \"45.83\", \"x\": \"upstairs\", \"y\": \"upstairs\", \"xref\": \"x1\", \"yref\": \"y1\", \"font\": {\"color\": \"#FFFFFF\"}, \"showarrow\": false}, {\"text\": \"0.0\", \"x\": \"downstairs\", \"y\": \"upstairs\", \"xref\": \"x1\", \"yref\": \"y1\", \"font\": {\"color\": \"#FFFFFF\"}, \"showarrow\": false}, {\"text\": \"0.0\", \"x\": \"running\", \"y\": \"downstairs\", \"xref\": \"x1\", \"yref\": \"y1\", \"font\": {\"color\": \"#FFFFFF\"}, \"showarrow\": false}, {\"text\": \"83.87\", \"x\": \"walking\", \"y\": \"downstairs\", \"xref\": \"x1\", \"yref\": \"y1\", \"font\": {\"color\": \"#000000\"}, \"showarrow\": false}, {\"text\": \"9.68\", \"x\": \"car\", \"y\": \"downstairs\", \"xref\": \"x1\", \"yref\": \"y1\", \"font\": {\"color\": \"#FFFFFF\"}, \"showarrow\": false}, {\"text\": \"0.0\", \"x\": \"bike\", \"y\": \"downstairs\", \"xref\": \"x1\", \"yref\": \"y1\", \"font\": {\"color\": \"#FFFFFF\"}, \"showarrow\": false}, {\"text\": \"6.45\", \"x\": \"upstairs\", \"y\": \"downstairs\", \"xref\": \"x1\", \"yref\": \"y1\", \"font\": {\"color\": \"#FFFFFF\"}, \"showarrow\": false}, {\"text\": \"0.0\", \"x\": \"downstairs\", \"y\": \"downstairs\", \"xref\": \"x1\", \"yref\": \"y1\", \"font\": {\"color\": \"#FFFFFF\"}, \"showarrow\": false}], \"xaxis\": {\"ticks\": \"\", \"dtick\": 1, \"side\": \"top\", \"gridcolor\": \"rgb(0, 0, 0)\"}, \"yaxis\": {\"ticks\": \"\", \"dtick\": 1, \"ticksuffix\": \"  \"}, \"title\": \"SVM - overall accuracy: 82.7%\"}, {\"showLink\": true, \"linkText\": \"Export to plot.ly\"})});</script>"
      ],
      "text/vnd.plotly.v1+html": [
       "<div id=\"6021e586-cb46-4aec-b53e-fc8599ed78f5\" style=\"height: 525px; width: 100%;\" class=\"plotly-graph-div\"></div><script type=\"text/javascript\">require([\"plotly\"], function(Plotly) { window.PLOTLYENV=window.PLOTLYENV || {};window.PLOTLYENV.BASE_URL=\"https://plot.ly\";Plotly.newPlot(\"6021e586-cb46-4aec-b53e-fc8599ed78f5\", [{\"type\": \"heatmap\", \"z\": [[88.57, 8.98, 2.45, 0.0, 0.0, 0.0], [5.15, 84.93, 9.19, 0.0, 0.74, 0.0], [2.41, 4.1, 92.53, 0.0, 0.96, 0.0], [0.0, 47.06, 23.53, 29.41, 0.0, 0.0], [5.56, 33.33, 15.28, 0.0, 45.83, 0.0], [0.0, 83.87, 9.68, 0.0, 6.45, 0.0]], \"x\": [\"running\", \"walking\", \"car\", \"bike\", \"upstairs\", \"downstairs\"], \"y\": [\"running\", \"walking\", \"car\", \"bike\", \"upstairs\", \"downstairs\"], \"colorscale\": \"RdBu\", \"showscale\": false}], {\"annotations\": [{\"text\": \"88.57\", \"x\": \"running\", \"y\": \"running\", \"xref\": \"x1\", \"yref\": \"y1\", \"font\": {\"color\": \"#000000\"}, \"showarrow\": false}, {\"text\": \"8.98\", \"x\": \"walking\", \"y\": \"running\", \"xref\": \"x1\", \"yref\": \"y1\", \"font\": {\"color\": \"#FFFFFF\"}, \"showarrow\": false}, {\"text\": \"2.45\", \"x\": \"car\", \"y\": \"running\", \"xref\": \"x1\", \"yref\": \"y1\", \"font\": {\"color\": \"#FFFFFF\"}, \"showarrow\": false}, {\"text\": \"0.0\", \"x\": \"bike\", \"y\": \"running\", \"xref\": \"x1\", \"yref\": \"y1\", \"font\": {\"color\": \"#FFFFFF\"}, \"showarrow\": false}, {\"text\": \"0.0\", \"x\": \"upstairs\", \"y\": \"running\", \"xref\": \"x1\", \"yref\": \"y1\", \"font\": {\"color\": \"#FFFFFF\"}, \"showarrow\": false}, {\"text\": \"0.0\", \"x\": \"downstairs\", \"y\": \"running\", \"xref\": \"x1\", \"yref\": \"y1\", \"font\": {\"color\": \"#FFFFFF\"}, \"showarrow\": false}, {\"text\": \"5.15\", \"x\": \"running\", \"y\": \"walking\", \"xref\": \"x1\", \"yref\": \"y1\", \"font\": {\"color\": \"#FFFFFF\"}, \"showarrow\": false}, {\"text\": \"84.93\", \"x\": \"walking\", \"y\": \"walking\", \"xref\": \"x1\", \"yref\": \"y1\", \"font\": {\"color\": \"#000000\"}, \"showarrow\": false}, {\"text\": \"9.19\", \"x\": \"car\", \"y\": \"walking\", \"xref\": \"x1\", \"yref\": \"y1\", \"font\": {\"color\": \"#FFFFFF\"}, \"showarrow\": false}, {\"text\": \"0.0\", \"x\": \"bike\", \"y\": \"walking\", \"xref\": \"x1\", \"yref\": \"y1\", \"font\": {\"color\": \"#FFFFFF\"}, \"showarrow\": false}, {\"text\": \"0.74\", \"x\": \"upstairs\", \"y\": \"walking\", \"xref\": \"x1\", \"yref\": \"y1\", \"font\": {\"color\": \"#FFFFFF\"}, \"showarrow\": false}, {\"text\": \"0.0\", \"x\": \"downstairs\", \"y\": \"walking\", \"xref\": \"x1\", \"yref\": \"y1\", \"font\": {\"color\": \"#FFFFFF\"}, \"showarrow\": false}, {\"text\": \"2.41\", \"x\": \"running\", \"y\": \"car\", \"xref\": \"x1\", \"yref\": \"y1\", \"font\": {\"color\": \"#FFFFFF\"}, \"showarrow\": false}, {\"text\": \"4.1\", \"x\": \"walking\", \"y\": \"car\", \"xref\": \"x1\", \"yref\": \"y1\", \"font\": {\"color\": \"#FFFFFF\"}, \"showarrow\": false}, {\"text\": \"92.53\", \"x\": \"car\", \"y\": \"car\", \"xref\": \"x1\", \"yref\": \"y1\", \"font\": {\"color\": \"#000000\"}, \"showarrow\": false}, {\"text\": \"0.0\", \"x\": \"bike\", \"y\": \"car\", \"xref\": \"x1\", \"yref\": \"y1\", \"font\": {\"color\": \"#FFFFFF\"}, \"showarrow\": false}, {\"text\": \"0.96\", \"x\": \"upstairs\", \"y\": \"car\", \"xref\": \"x1\", \"yref\": \"y1\", \"font\": {\"color\": \"#FFFFFF\"}, \"showarrow\": false}, {\"text\": \"0.0\", \"x\": \"downstairs\", \"y\": \"car\", \"xref\": \"x1\", \"yref\": \"y1\", \"font\": {\"color\": \"#FFFFFF\"}, \"showarrow\": false}, {\"text\": \"0.0\", \"x\": \"running\", \"y\": \"bike\", \"xref\": \"x1\", \"yref\": \"y1\", \"font\": {\"color\": \"#FFFFFF\"}, \"showarrow\": false}, {\"text\": \"47.06\", \"x\": \"walking\", \"y\": \"bike\", \"xref\": \"x1\", \"yref\": \"y1\", \"font\": {\"color\": \"#000000\"}, \"showarrow\": false}, {\"text\": \"23.53\", \"x\": \"car\", \"y\": \"bike\", \"xref\": \"x1\", \"yref\": \"y1\", \"font\": {\"color\": \"#FFFFFF\"}, \"showarrow\": false}, {\"text\": \"29.41\", \"x\": \"bike\", \"y\": \"bike\", \"xref\": \"x1\", \"yref\": \"y1\", \"font\": {\"color\": \"#FFFFFF\"}, \"showarrow\": false}, {\"text\": \"0.0\", \"x\": \"upstairs\", \"y\": \"bike\", \"xref\": \"x1\", \"yref\": \"y1\", \"font\": {\"color\": \"#FFFFFF\"}, \"showarrow\": false}, {\"text\": \"0.0\", \"x\": \"downstairs\", \"y\": \"bike\", \"xref\": \"x1\", \"yref\": \"y1\", \"font\": {\"color\": \"#FFFFFF\"}, \"showarrow\": false}, {\"text\": \"5.56\", \"x\": \"running\", \"y\": \"upstairs\", \"xref\": \"x1\", \"yref\": \"y1\", \"font\": {\"color\": \"#FFFFFF\"}, \"showarrow\": false}, {\"text\": \"33.33\", \"x\": \"walking\", \"y\": \"upstairs\", \"xref\": \"x1\", \"yref\": \"y1\", \"font\": {\"color\": \"#FFFFFF\"}, \"showarrow\": false}, {\"text\": \"15.28\", \"x\": \"car\", \"y\": \"upstairs\", \"xref\": \"x1\", \"yref\": \"y1\", \"font\": {\"color\": \"#FFFFFF\"}, \"showarrow\": false}, {\"text\": \"0.0\", \"x\": \"bike\", \"y\": \"upstairs\", \"xref\": \"x1\", \"yref\": \"y1\", \"font\": {\"color\": \"#FFFFFF\"}, \"showarrow\": false}, {\"text\": \"45.83\", \"x\": \"upstairs\", \"y\": \"upstairs\", \"xref\": \"x1\", \"yref\": \"y1\", \"font\": {\"color\": \"#FFFFFF\"}, \"showarrow\": false}, {\"text\": \"0.0\", \"x\": \"downstairs\", \"y\": \"upstairs\", \"xref\": \"x1\", \"yref\": \"y1\", \"font\": {\"color\": \"#FFFFFF\"}, \"showarrow\": false}, {\"text\": \"0.0\", \"x\": \"running\", \"y\": \"downstairs\", \"xref\": \"x1\", \"yref\": \"y1\", \"font\": {\"color\": \"#FFFFFF\"}, \"showarrow\": false}, {\"text\": \"83.87\", \"x\": \"walking\", \"y\": \"downstairs\", \"xref\": \"x1\", \"yref\": \"y1\", \"font\": {\"color\": \"#000000\"}, \"showarrow\": false}, {\"text\": \"9.68\", \"x\": \"car\", \"y\": \"downstairs\", \"xref\": \"x1\", \"yref\": \"y1\", \"font\": {\"color\": \"#FFFFFF\"}, \"showarrow\": false}, {\"text\": \"0.0\", \"x\": \"bike\", \"y\": \"downstairs\", \"xref\": \"x1\", \"yref\": \"y1\", \"font\": {\"color\": \"#FFFFFF\"}, \"showarrow\": false}, {\"text\": \"6.45\", \"x\": \"upstairs\", \"y\": \"downstairs\", \"xref\": \"x1\", \"yref\": \"y1\", \"font\": {\"color\": \"#FFFFFF\"}, \"showarrow\": false}, {\"text\": \"0.0\", \"x\": \"downstairs\", \"y\": \"downstairs\", \"xref\": \"x1\", \"yref\": \"y1\", \"font\": {\"color\": \"#FFFFFF\"}, \"showarrow\": false}], \"xaxis\": {\"ticks\": \"\", \"dtick\": 1, \"side\": \"top\", \"gridcolor\": \"rgb(0, 0, 0)\"}, \"yaxis\": {\"ticks\": \"\", \"dtick\": 1, \"ticksuffix\": \"  \"}, \"title\": \"SVM - overall accuracy: 82.7%\"}, {\"showLink\": true, \"linkText\": \"Export to plot.ly\"})});</script>"
      ]
     },
     "metadata": {},
     "output_type": "display_data"
    },
    {
     "data": {
      "application/vnd.plotly.v1+json": {
       "data": [
        {
         "colorscale": "RdBu",
         "showscale": false,
         "type": "heatmap",
         "x": [
          "running",
          "walking",
          "car",
          "bike",
          "upstairs",
          "downstairs"
         ],
         "y": [
          "running",
          "walking",
          "car",
          "bike",
          "upstairs",
          "downstairs"
         ],
         "z": [
          [
           85.31,
           4.08,
           2.04,
           0,
           8.57,
           0
          ],
          [
           2.94,
           79.78,
           7.72,
           0,
           9.56,
           0
          ],
          [
           0.72,
           1.69,
           95.9,
           0.72,
           0.96,
           0
          ],
          [
           17.65,
           41.18,
           29.41,
           0,
           11.76,
           0
          ],
          [
           6.94,
           15.28,
           19.44,
           0,
           58.33,
           0
          ],
          [
           3.23,
           38.71,
           12.9,
           0,
           45.16,
           0
          ]
         ]
        }
       ],
       "layout": {
        "annotations": [
         {
          "font": {
           "color": "#000000"
          },
          "showarrow": false,
          "text": "85.31",
          "x": "running",
          "xref": "x1",
          "y": "running",
          "yref": "y1"
         },
         {
          "font": {
           "color": "#FFFFFF"
          },
          "showarrow": false,
          "text": "4.08",
          "x": "walking",
          "xref": "x1",
          "y": "running",
          "yref": "y1"
         },
         {
          "font": {
           "color": "#FFFFFF"
          },
          "showarrow": false,
          "text": "2.04",
          "x": "car",
          "xref": "x1",
          "y": "running",
          "yref": "y1"
         },
         {
          "font": {
           "color": "#FFFFFF"
          },
          "showarrow": false,
          "text": "0.0",
          "x": "bike",
          "xref": "x1",
          "y": "running",
          "yref": "y1"
         },
         {
          "font": {
           "color": "#FFFFFF"
          },
          "showarrow": false,
          "text": "8.57",
          "x": "upstairs",
          "xref": "x1",
          "y": "running",
          "yref": "y1"
         },
         {
          "font": {
           "color": "#FFFFFF"
          },
          "showarrow": false,
          "text": "0.0",
          "x": "downstairs",
          "xref": "x1",
          "y": "running",
          "yref": "y1"
         },
         {
          "font": {
           "color": "#FFFFFF"
          },
          "showarrow": false,
          "text": "2.94",
          "x": "running",
          "xref": "x1",
          "y": "walking",
          "yref": "y1"
         },
         {
          "font": {
           "color": "#000000"
          },
          "showarrow": false,
          "text": "79.78",
          "x": "walking",
          "xref": "x1",
          "y": "walking",
          "yref": "y1"
         },
         {
          "font": {
           "color": "#FFFFFF"
          },
          "showarrow": false,
          "text": "7.72",
          "x": "car",
          "xref": "x1",
          "y": "walking",
          "yref": "y1"
         },
         {
          "font": {
           "color": "#FFFFFF"
          },
          "showarrow": false,
          "text": "0.0",
          "x": "bike",
          "xref": "x1",
          "y": "walking",
          "yref": "y1"
         },
         {
          "font": {
           "color": "#FFFFFF"
          },
          "showarrow": false,
          "text": "9.56",
          "x": "upstairs",
          "xref": "x1",
          "y": "walking",
          "yref": "y1"
         },
         {
          "font": {
           "color": "#FFFFFF"
          },
          "showarrow": false,
          "text": "0.0",
          "x": "downstairs",
          "xref": "x1",
          "y": "walking",
          "yref": "y1"
         },
         {
          "font": {
           "color": "#FFFFFF"
          },
          "showarrow": false,
          "text": "0.72",
          "x": "running",
          "xref": "x1",
          "y": "car",
          "yref": "y1"
         },
         {
          "font": {
           "color": "#FFFFFF"
          },
          "showarrow": false,
          "text": "1.69",
          "x": "walking",
          "xref": "x1",
          "y": "car",
          "yref": "y1"
         },
         {
          "font": {
           "color": "#000000"
          },
          "showarrow": false,
          "text": "95.9",
          "x": "car",
          "xref": "x1",
          "y": "car",
          "yref": "y1"
         },
         {
          "font": {
           "color": "#FFFFFF"
          },
          "showarrow": false,
          "text": "0.72",
          "x": "bike",
          "xref": "x1",
          "y": "car",
          "yref": "y1"
         },
         {
          "font": {
           "color": "#FFFFFF"
          },
          "showarrow": false,
          "text": "0.96",
          "x": "upstairs",
          "xref": "x1",
          "y": "car",
          "yref": "y1"
         },
         {
          "font": {
           "color": "#FFFFFF"
          },
          "showarrow": false,
          "text": "0.0",
          "x": "downstairs",
          "xref": "x1",
          "y": "car",
          "yref": "y1"
         },
         {
          "font": {
           "color": "#FFFFFF"
          },
          "showarrow": false,
          "text": "17.65",
          "x": "running",
          "xref": "x1",
          "y": "bike",
          "yref": "y1"
         },
         {
          "font": {
           "color": "#FFFFFF"
          },
          "showarrow": false,
          "text": "41.18",
          "x": "walking",
          "xref": "x1",
          "y": "bike",
          "yref": "y1"
         },
         {
          "font": {
           "color": "#FFFFFF"
          },
          "showarrow": false,
          "text": "29.41",
          "x": "car",
          "xref": "x1",
          "y": "bike",
          "yref": "y1"
         },
         {
          "font": {
           "color": "#FFFFFF"
          },
          "showarrow": false,
          "text": "0.0",
          "x": "bike",
          "xref": "x1",
          "y": "bike",
          "yref": "y1"
         },
         {
          "font": {
           "color": "#FFFFFF"
          },
          "showarrow": false,
          "text": "11.76",
          "x": "upstairs",
          "xref": "x1",
          "y": "bike",
          "yref": "y1"
         },
         {
          "font": {
           "color": "#FFFFFF"
          },
          "showarrow": false,
          "text": "0.0",
          "x": "downstairs",
          "xref": "x1",
          "y": "bike",
          "yref": "y1"
         },
         {
          "font": {
           "color": "#FFFFFF"
          },
          "showarrow": false,
          "text": "6.94",
          "x": "running",
          "xref": "x1",
          "y": "upstairs",
          "yref": "y1"
         },
         {
          "font": {
           "color": "#FFFFFF"
          },
          "showarrow": false,
          "text": "15.28",
          "x": "walking",
          "xref": "x1",
          "y": "upstairs",
          "yref": "y1"
         },
         {
          "font": {
           "color": "#FFFFFF"
          },
          "showarrow": false,
          "text": "19.44",
          "x": "car",
          "xref": "x1",
          "y": "upstairs",
          "yref": "y1"
         },
         {
          "font": {
           "color": "#FFFFFF"
          },
          "showarrow": false,
          "text": "0.0",
          "x": "bike",
          "xref": "x1",
          "y": "upstairs",
          "yref": "y1"
         },
         {
          "font": {
           "color": "#000000"
          },
          "showarrow": false,
          "text": "58.33",
          "x": "upstairs",
          "xref": "x1",
          "y": "upstairs",
          "yref": "y1"
         },
         {
          "font": {
           "color": "#FFFFFF"
          },
          "showarrow": false,
          "text": "0.0",
          "x": "downstairs",
          "xref": "x1",
          "y": "upstairs",
          "yref": "y1"
         },
         {
          "font": {
           "color": "#FFFFFF"
          },
          "showarrow": false,
          "text": "3.23",
          "x": "running",
          "xref": "x1",
          "y": "downstairs",
          "yref": "y1"
         },
         {
          "font": {
           "color": "#FFFFFF"
          },
          "showarrow": false,
          "text": "38.71",
          "x": "walking",
          "xref": "x1",
          "y": "downstairs",
          "yref": "y1"
         },
         {
          "font": {
           "color": "#FFFFFF"
          },
          "showarrow": false,
          "text": "12.9",
          "x": "car",
          "xref": "x1",
          "y": "downstairs",
          "yref": "y1"
         },
         {
          "font": {
           "color": "#FFFFFF"
          },
          "showarrow": false,
          "text": "0.0",
          "x": "bike",
          "xref": "x1",
          "y": "downstairs",
          "yref": "y1"
         },
         {
          "font": {
           "color": "#FFFFFF"
          },
          "showarrow": false,
          "text": "45.16",
          "x": "upstairs",
          "xref": "x1",
          "y": "downstairs",
          "yref": "y1"
         },
         {
          "font": {
           "color": "#FFFFFF"
          },
          "showarrow": false,
          "text": "0.0",
          "x": "downstairs",
          "xref": "x1",
          "y": "downstairs",
          "yref": "y1"
         }
        ],
        "title": "MLP - overall accuracy: 82.32%",
        "xaxis": {
         "dtick": 1,
         "gridcolor": "rgb(0, 0, 0)",
         "side": "top",
         "ticks": ""
        },
        "yaxis": {
         "dtick": 1,
         "ticks": "",
         "ticksuffix": "  "
        }
       }
      },
      "text/html": [
       "<div id=\"3ceb1dec-b158-4ddc-841a-76eb2f2cdab6\" style=\"height: 525px; width: 100%;\" class=\"plotly-graph-div\"></div><script type=\"text/javascript\">require([\"plotly\"], function(Plotly) { window.PLOTLYENV=window.PLOTLYENV || {};window.PLOTLYENV.BASE_URL=\"https://plot.ly\";Plotly.newPlot(\"3ceb1dec-b158-4ddc-841a-76eb2f2cdab6\", [{\"type\": \"heatmap\", \"z\": [[85.31, 4.08, 2.04, 0.0, 8.57, 0.0], [2.94, 79.78, 7.72, 0.0, 9.56, 0.0], [0.72, 1.69, 95.9, 0.72, 0.96, 0.0], [17.65, 41.18, 29.41, 0.0, 11.76, 0.0], [6.94, 15.28, 19.44, 0.0, 58.33, 0.0], [3.23, 38.71, 12.9, 0.0, 45.16, 0.0]], \"x\": [\"running\", \"walking\", \"car\", \"bike\", \"upstairs\", \"downstairs\"], \"y\": [\"running\", \"walking\", \"car\", \"bike\", \"upstairs\", \"downstairs\"], \"colorscale\": \"RdBu\", \"showscale\": false}], {\"annotations\": [{\"text\": \"85.31\", \"x\": \"running\", \"y\": \"running\", \"xref\": \"x1\", \"yref\": \"y1\", \"font\": {\"color\": \"#000000\"}, \"showarrow\": false}, {\"text\": \"4.08\", \"x\": \"walking\", \"y\": \"running\", \"xref\": \"x1\", \"yref\": \"y1\", \"font\": {\"color\": \"#FFFFFF\"}, \"showarrow\": false}, {\"text\": \"2.04\", \"x\": \"car\", \"y\": \"running\", \"xref\": \"x1\", \"yref\": \"y1\", \"font\": {\"color\": \"#FFFFFF\"}, \"showarrow\": false}, {\"text\": \"0.0\", \"x\": \"bike\", \"y\": \"running\", \"xref\": \"x1\", \"yref\": \"y1\", \"font\": {\"color\": \"#FFFFFF\"}, \"showarrow\": false}, {\"text\": \"8.57\", \"x\": \"upstairs\", \"y\": \"running\", \"xref\": \"x1\", \"yref\": \"y1\", \"font\": {\"color\": \"#FFFFFF\"}, \"showarrow\": false}, {\"text\": \"0.0\", \"x\": \"downstairs\", \"y\": \"running\", \"xref\": \"x1\", \"yref\": \"y1\", \"font\": {\"color\": \"#FFFFFF\"}, \"showarrow\": false}, {\"text\": \"2.94\", \"x\": \"running\", \"y\": \"walking\", \"xref\": \"x1\", \"yref\": \"y1\", \"font\": {\"color\": \"#FFFFFF\"}, \"showarrow\": false}, {\"text\": \"79.78\", \"x\": \"walking\", \"y\": \"walking\", \"xref\": \"x1\", \"yref\": \"y1\", \"font\": {\"color\": \"#000000\"}, \"showarrow\": false}, {\"text\": \"7.72\", \"x\": \"car\", \"y\": \"walking\", \"xref\": \"x1\", \"yref\": \"y1\", \"font\": {\"color\": \"#FFFFFF\"}, \"showarrow\": false}, {\"text\": \"0.0\", \"x\": \"bike\", \"y\": \"walking\", \"xref\": \"x1\", \"yref\": \"y1\", \"font\": {\"color\": \"#FFFFFF\"}, \"showarrow\": false}, {\"text\": \"9.56\", \"x\": \"upstairs\", \"y\": \"walking\", \"xref\": \"x1\", \"yref\": \"y1\", \"font\": {\"color\": \"#FFFFFF\"}, \"showarrow\": false}, {\"text\": \"0.0\", \"x\": \"downstairs\", \"y\": \"walking\", \"xref\": \"x1\", \"yref\": \"y1\", \"font\": {\"color\": \"#FFFFFF\"}, \"showarrow\": false}, {\"text\": \"0.72\", \"x\": \"running\", \"y\": \"car\", \"xref\": \"x1\", \"yref\": \"y1\", \"font\": {\"color\": \"#FFFFFF\"}, \"showarrow\": false}, {\"text\": \"1.69\", \"x\": \"walking\", \"y\": \"car\", \"xref\": \"x1\", \"yref\": \"y1\", \"font\": {\"color\": \"#FFFFFF\"}, \"showarrow\": false}, {\"text\": \"95.9\", \"x\": \"car\", \"y\": \"car\", \"xref\": \"x1\", \"yref\": \"y1\", \"font\": {\"color\": \"#000000\"}, \"showarrow\": false}, {\"text\": \"0.72\", \"x\": \"bike\", \"y\": \"car\", \"xref\": \"x1\", \"yref\": \"y1\", \"font\": {\"color\": \"#FFFFFF\"}, \"showarrow\": false}, {\"text\": \"0.96\", \"x\": \"upstairs\", \"y\": \"car\", \"xref\": \"x1\", \"yref\": \"y1\", \"font\": {\"color\": \"#FFFFFF\"}, \"showarrow\": false}, {\"text\": \"0.0\", \"x\": \"downstairs\", \"y\": \"car\", \"xref\": \"x1\", \"yref\": \"y1\", \"font\": {\"color\": \"#FFFFFF\"}, \"showarrow\": false}, {\"text\": \"17.65\", \"x\": \"running\", \"y\": \"bike\", \"xref\": \"x1\", \"yref\": \"y1\", \"font\": {\"color\": \"#FFFFFF\"}, \"showarrow\": false}, {\"text\": \"41.18\", \"x\": \"walking\", \"y\": \"bike\", \"xref\": \"x1\", \"yref\": \"y1\", \"font\": {\"color\": \"#FFFFFF\"}, \"showarrow\": false}, {\"text\": \"29.41\", \"x\": \"car\", \"y\": \"bike\", \"xref\": \"x1\", \"yref\": \"y1\", \"font\": {\"color\": \"#FFFFFF\"}, \"showarrow\": false}, {\"text\": \"0.0\", \"x\": \"bike\", \"y\": \"bike\", \"xref\": \"x1\", \"yref\": \"y1\", \"font\": {\"color\": \"#FFFFFF\"}, \"showarrow\": false}, {\"text\": \"11.76\", \"x\": \"upstairs\", \"y\": \"bike\", \"xref\": \"x1\", \"yref\": \"y1\", \"font\": {\"color\": \"#FFFFFF\"}, \"showarrow\": false}, {\"text\": \"0.0\", \"x\": \"downstairs\", \"y\": \"bike\", \"xref\": \"x1\", \"yref\": \"y1\", \"font\": {\"color\": \"#FFFFFF\"}, \"showarrow\": false}, {\"text\": \"6.94\", \"x\": \"running\", \"y\": \"upstairs\", \"xref\": \"x1\", \"yref\": \"y1\", \"font\": {\"color\": \"#FFFFFF\"}, \"showarrow\": false}, {\"text\": \"15.28\", \"x\": \"walking\", \"y\": \"upstairs\", \"xref\": \"x1\", \"yref\": \"y1\", \"font\": {\"color\": \"#FFFFFF\"}, \"showarrow\": false}, {\"text\": \"19.44\", \"x\": \"car\", \"y\": \"upstairs\", \"xref\": \"x1\", \"yref\": \"y1\", \"font\": {\"color\": \"#FFFFFF\"}, \"showarrow\": false}, {\"text\": \"0.0\", \"x\": \"bike\", \"y\": \"upstairs\", \"xref\": \"x1\", \"yref\": \"y1\", \"font\": {\"color\": \"#FFFFFF\"}, \"showarrow\": false}, {\"text\": \"58.33\", \"x\": \"upstairs\", \"y\": \"upstairs\", \"xref\": \"x1\", \"yref\": \"y1\", \"font\": {\"color\": \"#000000\"}, \"showarrow\": false}, {\"text\": \"0.0\", \"x\": \"downstairs\", \"y\": \"upstairs\", \"xref\": \"x1\", \"yref\": \"y1\", \"font\": {\"color\": \"#FFFFFF\"}, \"showarrow\": false}, {\"text\": \"3.23\", \"x\": \"running\", \"y\": \"downstairs\", \"xref\": \"x1\", \"yref\": \"y1\", \"font\": {\"color\": \"#FFFFFF\"}, \"showarrow\": false}, {\"text\": \"38.71\", \"x\": \"walking\", \"y\": \"downstairs\", \"xref\": \"x1\", \"yref\": \"y1\", \"font\": {\"color\": \"#FFFFFF\"}, \"showarrow\": false}, {\"text\": \"12.9\", \"x\": \"car\", \"y\": \"downstairs\", \"xref\": \"x1\", \"yref\": \"y1\", \"font\": {\"color\": \"#FFFFFF\"}, \"showarrow\": false}, {\"text\": \"0.0\", \"x\": \"bike\", \"y\": \"downstairs\", \"xref\": \"x1\", \"yref\": \"y1\", \"font\": {\"color\": \"#FFFFFF\"}, \"showarrow\": false}, {\"text\": \"45.16\", \"x\": \"upstairs\", \"y\": \"downstairs\", \"xref\": \"x1\", \"yref\": \"y1\", \"font\": {\"color\": \"#FFFFFF\"}, \"showarrow\": false}, {\"text\": \"0.0\", \"x\": \"downstairs\", \"y\": \"downstairs\", \"xref\": \"x1\", \"yref\": \"y1\", \"font\": {\"color\": \"#FFFFFF\"}, \"showarrow\": false}], \"xaxis\": {\"ticks\": \"\", \"dtick\": 1, \"side\": \"top\", \"gridcolor\": \"rgb(0, 0, 0)\"}, \"yaxis\": {\"ticks\": \"\", \"dtick\": 1, \"ticksuffix\": \"  \"}, \"title\": \"MLP - overall accuracy: 82.32%\"}, {\"showLink\": true, \"linkText\": \"Export to plot.ly\"})});</script>"
      ],
      "text/vnd.plotly.v1+html": [
       "<div id=\"3ceb1dec-b158-4ddc-841a-76eb2f2cdab6\" style=\"height: 525px; width: 100%;\" class=\"plotly-graph-div\"></div><script type=\"text/javascript\">require([\"plotly\"], function(Plotly) { window.PLOTLYENV=window.PLOTLYENV || {};window.PLOTLYENV.BASE_URL=\"https://plot.ly\";Plotly.newPlot(\"3ceb1dec-b158-4ddc-841a-76eb2f2cdab6\", [{\"type\": \"heatmap\", \"z\": [[85.31, 4.08, 2.04, 0.0, 8.57, 0.0], [2.94, 79.78, 7.72, 0.0, 9.56, 0.0], [0.72, 1.69, 95.9, 0.72, 0.96, 0.0], [17.65, 41.18, 29.41, 0.0, 11.76, 0.0], [6.94, 15.28, 19.44, 0.0, 58.33, 0.0], [3.23, 38.71, 12.9, 0.0, 45.16, 0.0]], \"x\": [\"running\", \"walking\", \"car\", \"bike\", \"upstairs\", \"downstairs\"], \"y\": [\"running\", \"walking\", \"car\", \"bike\", \"upstairs\", \"downstairs\"], \"colorscale\": \"RdBu\", \"showscale\": false}], {\"annotations\": [{\"text\": \"85.31\", \"x\": \"running\", \"y\": \"running\", \"xref\": \"x1\", \"yref\": \"y1\", \"font\": {\"color\": \"#000000\"}, \"showarrow\": false}, {\"text\": \"4.08\", \"x\": \"walking\", \"y\": \"running\", \"xref\": \"x1\", \"yref\": \"y1\", \"font\": {\"color\": \"#FFFFFF\"}, \"showarrow\": false}, {\"text\": \"2.04\", \"x\": \"car\", \"y\": \"running\", \"xref\": \"x1\", \"yref\": \"y1\", \"font\": {\"color\": \"#FFFFFF\"}, \"showarrow\": false}, {\"text\": \"0.0\", \"x\": \"bike\", \"y\": \"running\", \"xref\": \"x1\", \"yref\": \"y1\", \"font\": {\"color\": \"#FFFFFF\"}, \"showarrow\": false}, {\"text\": \"8.57\", \"x\": \"upstairs\", \"y\": \"running\", \"xref\": \"x1\", \"yref\": \"y1\", \"font\": {\"color\": \"#FFFFFF\"}, \"showarrow\": false}, {\"text\": \"0.0\", \"x\": \"downstairs\", \"y\": \"running\", \"xref\": \"x1\", \"yref\": \"y1\", \"font\": {\"color\": \"#FFFFFF\"}, \"showarrow\": false}, {\"text\": \"2.94\", \"x\": \"running\", \"y\": \"walking\", \"xref\": \"x1\", \"yref\": \"y1\", \"font\": {\"color\": \"#FFFFFF\"}, \"showarrow\": false}, {\"text\": \"79.78\", \"x\": \"walking\", \"y\": \"walking\", \"xref\": \"x1\", \"yref\": \"y1\", \"font\": {\"color\": \"#000000\"}, \"showarrow\": false}, {\"text\": \"7.72\", \"x\": \"car\", \"y\": \"walking\", \"xref\": \"x1\", \"yref\": \"y1\", \"font\": {\"color\": \"#FFFFFF\"}, \"showarrow\": false}, {\"text\": \"0.0\", \"x\": \"bike\", \"y\": \"walking\", \"xref\": \"x1\", \"yref\": \"y1\", \"font\": {\"color\": \"#FFFFFF\"}, \"showarrow\": false}, {\"text\": \"9.56\", \"x\": \"upstairs\", \"y\": \"walking\", \"xref\": \"x1\", \"yref\": \"y1\", \"font\": {\"color\": \"#FFFFFF\"}, \"showarrow\": false}, {\"text\": \"0.0\", \"x\": \"downstairs\", \"y\": \"walking\", \"xref\": \"x1\", \"yref\": \"y1\", \"font\": {\"color\": \"#FFFFFF\"}, \"showarrow\": false}, {\"text\": \"0.72\", \"x\": \"running\", \"y\": \"car\", \"xref\": \"x1\", \"yref\": \"y1\", \"font\": {\"color\": \"#FFFFFF\"}, \"showarrow\": false}, {\"text\": \"1.69\", \"x\": \"walking\", \"y\": \"car\", \"xref\": \"x1\", \"yref\": \"y1\", \"font\": {\"color\": \"#FFFFFF\"}, \"showarrow\": false}, {\"text\": \"95.9\", \"x\": \"car\", \"y\": \"car\", \"xref\": \"x1\", \"yref\": \"y1\", \"font\": {\"color\": \"#000000\"}, \"showarrow\": false}, {\"text\": \"0.72\", \"x\": \"bike\", \"y\": \"car\", \"xref\": \"x1\", \"yref\": \"y1\", \"font\": {\"color\": \"#FFFFFF\"}, \"showarrow\": false}, {\"text\": \"0.96\", \"x\": \"upstairs\", \"y\": \"car\", \"xref\": \"x1\", \"yref\": \"y1\", \"font\": {\"color\": \"#FFFFFF\"}, \"showarrow\": false}, {\"text\": \"0.0\", \"x\": \"downstairs\", \"y\": \"car\", \"xref\": \"x1\", \"yref\": \"y1\", \"font\": {\"color\": \"#FFFFFF\"}, \"showarrow\": false}, {\"text\": \"17.65\", \"x\": \"running\", \"y\": \"bike\", \"xref\": \"x1\", \"yref\": \"y1\", \"font\": {\"color\": \"#FFFFFF\"}, \"showarrow\": false}, {\"text\": \"41.18\", \"x\": \"walking\", \"y\": \"bike\", \"xref\": \"x1\", \"yref\": \"y1\", \"font\": {\"color\": \"#FFFFFF\"}, \"showarrow\": false}, {\"text\": \"29.41\", \"x\": \"car\", \"y\": \"bike\", \"xref\": \"x1\", \"yref\": \"y1\", \"font\": {\"color\": \"#FFFFFF\"}, \"showarrow\": false}, {\"text\": \"0.0\", \"x\": \"bike\", \"y\": \"bike\", \"xref\": \"x1\", \"yref\": \"y1\", \"font\": {\"color\": \"#FFFFFF\"}, \"showarrow\": false}, {\"text\": \"11.76\", \"x\": \"upstairs\", \"y\": \"bike\", \"xref\": \"x1\", \"yref\": \"y1\", \"font\": {\"color\": \"#FFFFFF\"}, \"showarrow\": false}, {\"text\": \"0.0\", \"x\": \"downstairs\", \"y\": \"bike\", \"xref\": \"x1\", \"yref\": \"y1\", \"font\": {\"color\": \"#FFFFFF\"}, \"showarrow\": false}, {\"text\": \"6.94\", \"x\": \"running\", \"y\": \"upstairs\", \"xref\": \"x1\", \"yref\": \"y1\", \"font\": {\"color\": \"#FFFFFF\"}, \"showarrow\": false}, {\"text\": \"15.28\", \"x\": \"walking\", \"y\": \"upstairs\", \"xref\": \"x1\", \"yref\": \"y1\", \"font\": {\"color\": \"#FFFFFF\"}, \"showarrow\": false}, {\"text\": \"19.44\", \"x\": \"car\", \"y\": \"upstairs\", \"xref\": \"x1\", \"yref\": \"y1\", \"font\": {\"color\": \"#FFFFFF\"}, \"showarrow\": false}, {\"text\": \"0.0\", \"x\": \"bike\", \"y\": \"upstairs\", \"xref\": \"x1\", \"yref\": \"y1\", \"font\": {\"color\": \"#FFFFFF\"}, \"showarrow\": false}, {\"text\": \"58.33\", \"x\": \"upstairs\", \"y\": \"upstairs\", \"xref\": \"x1\", \"yref\": \"y1\", \"font\": {\"color\": \"#000000\"}, \"showarrow\": false}, {\"text\": \"0.0\", \"x\": \"downstairs\", \"y\": \"upstairs\", \"xref\": \"x1\", \"yref\": \"y1\", \"font\": {\"color\": \"#FFFFFF\"}, \"showarrow\": false}, {\"text\": \"3.23\", \"x\": \"running\", \"y\": \"downstairs\", \"xref\": \"x1\", \"yref\": \"y1\", \"font\": {\"color\": \"#FFFFFF\"}, \"showarrow\": false}, {\"text\": \"38.71\", \"x\": \"walking\", \"y\": \"downstairs\", \"xref\": \"x1\", \"yref\": \"y1\", \"font\": {\"color\": \"#FFFFFF\"}, \"showarrow\": false}, {\"text\": \"12.9\", \"x\": \"car\", \"y\": \"downstairs\", \"xref\": \"x1\", \"yref\": \"y1\", \"font\": {\"color\": \"#FFFFFF\"}, \"showarrow\": false}, {\"text\": \"0.0\", \"x\": \"bike\", \"y\": \"downstairs\", \"xref\": \"x1\", \"yref\": \"y1\", \"font\": {\"color\": \"#FFFFFF\"}, \"showarrow\": false}, {\"text\": \"45.16\", \"x\": \"upstairs\", \"y\": \"downstairs\", \"xref\": \"x1\", \"yref\": \"y1\", \"font\": {\"color\": \"#FFFFFF\"}, \"showarrow\": false}, {\"text\": \"0.0\", \"x\": \"downstairs\", \"y\": \"downstairs\", \"xref\": \"x1\", \"yref\": \"y1\", \"font\": {\"color\": \"#FFFFFF\"}, \"showarrow\": false}], \"xaxis\": {\"ticks\": \"\", \"dtick\": 1, \"side\": \"top\", \"gridcolor\": \"rgb(0, 0, 0)\"}, \"yaxis\": {\"ticks\": \"\", \"dtick\": 1, \"ticksuffix\": \"  \"}, \"title\": \"MLP - overall accuracy: 82.32%\"}, {\"showLink\": true, \"linkText\": \"Export to plot.ly\"})});</script>"
      ]
     },
     "metadata": {},
     "output_type": "display_data"
    },
    {
     "data": {
      "application/vnd.plotly.v1+json": {
       "data": [
        {
         "colorscale": "RdBu",
         "showscale": false,
         "type": "heatmap",
         "x": [
          "running",
          "walking",
          "car",
          "bike",
          "upstairs",
          "downstairs"
         ],
         "y": [
          "running",
          "walking",
          "car",
          "bike",
          "upstairs",
          "downstairs"
         ],
         "z": [
          [
           94.69,
           4.08,
           0.41,
           0,
           0,
           0.82
          ],
          [
           8.46,
           88.6,
           1.84,
           0,
           0.74,
           0.37
          ],
          [
           6.75,
           7.47,
           83.86,
           0,
           1.45,
           0.48
          ],
          [
           29.41,
           29.41,
           11.76,
           23.53,
           0,
           5.88
          ],
          [
           16.67,
           36.11,
           4.17,
           0,
           43.06,
           0
          ],
          [
           35.48,
           45.16,
           0,
           0,
           6.45,
           12.9
          ]
         ]
        }
       ],
       "layout": {
        "annotations": [
         {
          "font": {
           "color": "#000000"
          },
          "showarrow": false,
          "text": "94.69",
          "x": "running",
          "xref": "x1",
          "y": "running",
          "yref": "y1"
         },
         {
          "font": {
           "color": "#FFFFFF"
          },
          "showarrow": false,
          "text": "4.08",
          "x": "walking",
          "xref": "x1",
          "y": "running",
          "yref": "y1"
         },
         {
          "font": {
           "color": "#FFFFFF"
          },
          "showarrow": false,
          "text": "0.41",
          "x": "car",
          "xref": "x1",
          "y": "running",
          "yref": "y1"
         },
         {
          "font": {
           "color": "#FFFFFF"
          },
          "showarrow": false,
          "text": "0.0",
          "x": "bike",
          "xref": "x1",
          "y": "running",
          "yref": "y1"
         },
         {
          "font": {
           "color": "#FFFFFF"
          },
          "showarrow": false,
          "text": "0.0",
          "x": "upstairs",
          "xref": "x1",
          "y": "running",
          "yref": "y1"
         },
         {
          "font": {
           "color": "#FFFFFF"
          },
          "showarrow": false,
          "text": "0.82",
          "x": "downstairs",
          "xref": "x1",
          "y": "running",
          "yref": "y1"
         },
         {
          "font": {
           "color": "#FFFFFF"
          },
          "showarrow": false,
          "text": "8.46",
          "x": "running",
          "xref": "x1",
          "y": "walking",
          "yref": "y1"
         },
         {
          "font": {
           "color": "#000000"
          },
          "showarrow": false,
          "text": "88.6",
          "x": "walking",
          "xref": "x1",
          "y": "walking",
          "yref": "y1"
         },
         {
          "font": {
           "color": "#FFFFFF"
          },
          "showarrow": false,
          "text": "1.84",
          "x": "car",
          "xref": "x1",
          "y": "walking",
          "yref": "y1"
         },
         {
          "font": {
           "color": "#FFFFFF"
          },
          "showarrow": false,
          "text": "0.0",
          "x": "bike",
          "xref": "x1",
          "y": "walking",
          "yref": "y1"
         },
         {
          "font": {
           "color": "#FFFFFF"
          },
          "showarrow": false,
          "text": "0.74",
          "x": "upstairs",
          "xref": "x1",
          "y": "walking",
          "yref": "y1"
         },
         {
          "font": {
           "color": "#FFFFFF"
          },
          "showarrow": false,
          "text": "0.37",
          "x": "downstairs",
          "xref": "x1",
          "y": "walking",
          "yref": "y1"
         },
         {
          "font": {
           "color": "#FFFFFF"
          },
          "showarrow": false,
          "text": "6.75",
          "x": "running",
          "xref": "x1",
          "y": "car",
          "yref": "y1"
         },
         {
          "font": {
           "color": "#FFFFFF"
          },
          "showarrow": false,
          "text": "7.47",
          "x": "walking",
          "xref": "x1",
          "y": "car",
          "yref": "y1"
         },
         {
          "font": {
           "color": "#000000"
          },
          "showarrow": false,
          "text": "83.86",
          "x": "car",
          "xref": "x1",
          "y": "car",
          "yref": "y1"
         },
         {
          "font": {
           "color": "#FFFFFF"
          },
          "showarrow": false,
          "text": "0.0",
          "x": "bike",
          "xref": "x1",
          "y": "car",
          "yref": "y1"
         },
         {
          "font": {
           "color": "#FFFFFF"
          },
          "showarrow": false,
          "text": "1.45",
          "x": "upstairs",
          "xref": "x1",
          "y": "car",
          "yref": "y1"
         },
         {
          "font": {
           "color": "#FFFFFF"
          },
          "showarrow": false,
          "text": "0.48",
          "x": "downstairs",
          "xref": "x1",
          "y": "car",
          "yref": "y1"
         },
         {
          "font": {
           "color": "#FFFFFF"
          },
          "showarrow": false,
          "text": "29.41",
          "x": "running",
          "xref": "x1",
          "y": "bike",
          "yref": "y1"
         },
         {
          "font": {
           "color": "#FFFFFF"
          },
          "showarrow": false,
          "text": "29.41",
          "x": "walking",
          "xref": "x1",
          "y": "bike",
          "yref": "y1"
         },
         {
          "font": {
           "color": "#FFFFFF"
          },
          "showarrow": false,
          "text": "11.76",
          "x": "car",
          "xref": "x1",
          "y": "bike",
          "yref": "y1"
         },
         {
          "font": {
           "color": "#FFFFFF"
          },
          "showarrow": false,
          "text": "23.53",
          "x": "bike",
          "xref": "x1",
          "y": "bike",
          "yref": "y1"
         },
         {
          "font": {
           "color": "#FFFFFF"
          },
          "showarrow": false,
          "text": "0.0",
          "x": "upstairs",
          "xref": "x1",
          "y": "bike",
          "yref": "y1"
         },
         {
          "font": {
           "color": "#FFFFFF"
          },
          "showarrow": false,
          "text": "5.88",
          "x": "downstairs",
          "xref": "x1",
          "y": "bike",
          "yref": "y1"
         },
         {
          "font": {
           "color": "#FFFFFF"
          },
          "showarrow": false,
          "text": "16.67",
          "x": "running",
          "xref": "x1",
          "y": "upstairs",
          "yref": "y1"
         },
         {
          "font": {
           "color": "#FFFFFF"
          },
          "showarrow": false,
          "text": "36.11",
          "x": "walking",
          "xref": "x1",
          "y": "upstairs",
          "yref": "y1"
         },
         {
          "font": {
           "color": "#FFFFFF"
          },
          "showarrow": false,
          "text": "4.17",
          "x": "car",
          "xref": "x1",
          "y": "upstairs",
          "yref": "y1"
         },
         {
          "font": {
           "color": "#FFFFFF"
          },
          "showarrow": false,
          "text": "0.0",
          "x": "bike",
          "xref": "x1",
          "y": "upstairs",
          "yref": "y1"
         },
         {
          "font": {
           "color": "#FFFFFF"
          },
          "showarrow": false,
          "text": "43.06",
          "x": "upstairs",
          "xref": "x1",
          "y": "upstairs",
          "yref": "y1"
         },
         {
          "font": {
           "color": "#FFFFFF"
          },
          "showarrow": false,
          "text": "0.0",
          "x": "downstairs",
          "xref": "x1",
          "y": "upstairs",
          "yref": "y1"
         },
         {
          "font": {
           "color": "#FFFFFF"
          },
          "showarrow": false,
          "text": "35.48",
          "x": "running",
          "xref": "x1",
          "y": "downstairs",
          "yref": "y1"
         },
         {
          "font": {
           "color": "#FFFFFF"
          },
          "showarrow": false,
          "text": "45.16",
          "x": "walking",
          "xref": "x1",
          "y": "downstairs",
          "yref": "y1"
         },
         {
          "font": {
           "color": "#FFFFFF"
          },
          "showarrow": false,
          "text": "0.0",
          "x": "car",
          "xref": "x1",
          "y": "downstairs",
          "yref": "y1"
         },
         {
          "font": {
           "color": "#FFFFFF"
          },
          "showarrow": false,
          "text": "0.0",
          "x": "bike",
          "xref": "x1",
          "y": "downstairs",
          "yref": "y1"
         },
         {
          "font": {
           "color": "#FFFFFF"
          },
          "showarrow": false,
          "text": "6.45",
          "x": "upstairs",
          "xref": "x1",
          "y": "downstairs",
          "yref": "y1"
         },
         {
          "font": {
           "color": "#FFFFFF"
          },
          "showarrow": false,
          "text": "12.9",
          "x": "downstairs",
          "xref": "x1",
          "y": "downstairs",
          "yref": "y1"
         }
        ],
        "title": "KNN - overall accuracy: 81.75%",
        "xaxis": {
         "dtick": 1,
         "gridcolor": "rgb(0, 0, 0)",
         "side": "top",
         "ticks": ""
        },
        "yaxis": {
         "dtick": 1,
         "ticks": "",
         "ticksuffix": "  "
        }
       }
      },
      "text/html": [
       "<div id=\"cca5fbaf-8582-4c07-a744-20915fc06e22\" style=\"height: 525px; width: 100%;\" class=\"plotly-graph-div\"></div><script type=\"text/javascript\">require([\"plotly\"], function(Plotly) { window.PLOTLYENV=window.PLOTLYENV || {};window.PLOTLYENV.BASE_URL=\"https://plot.ly\";Plotly.newPlot(\"cca5fbaf-8582-4c07-a744-20915fc06e22\", [{\"type\": \"heatmap\", \"z\": [[94.69, 4.08, 0.41, 0.0, 0.0, 0.82], [8.46, 88.6, 1.84, 0.0, 0.74, 0.37], [6.75, 7.47, 83.86, 0.0, 1.45, 0.48], [29.41, 29.41, 11.76, 23.53, 0.0, 5.88], [16.67, 36.11, 4.17, 0.0, 43.06, 0.0], [35.48, 45.16, 0.0, 0.0, 6.45, 12.9]], \"x\": [\"running\", \"walking\", \"car\", \"bike\", \"upstairs\", \"downstairs\"], \"y\": [\"running\", \"walking\", \"car\", \"bike\", \"upstairs\", \"downstairs\"], \"colorscale\": \"RdBu\", \"showscale\": false}], {\"annotations\": [{\"text\": \"94.69\", \"x\": \"running\", \"y\": \"running\", \"xref\": \"x1\", \"yref\": \"y1\", \"font\": {\"color\": \"#000000\"}, \"showarrow\": false}, {\"text\": \"4.08\", \"x\": \"walking\", \"y\": \"running\", \"xref\": \"x1\", \"yref\": \"y1\", \"font\": {\"color\": \"#FFFFFF\"}, \"showarrow\": false}, {\"text\": \"0.41\", \"x\": \"car\", \"y\": \"running\", \"xref\": \"x1\", \"yref\": \"y1\", \"font\": {\"color\": \"#FFFFFF\"}, \"showarrow\": false}, {\"text\": \"0.0\", \"x\": \"bike\", \"y\": \"running\", \"xref\": \"x1\", \"yref\": \"y1\", \"font\": {\"color\": \"#FFFFFF\"}, \"showarrow\": false}, {\"text\": \"0.0\", \"x\": \"upstairs\", \"y\": \"running\", \"xref\": \"x1\", \"yref\": \"y1\", \"font\": {\"color\": \"#FFFFFF\"}, \"showarrow\": false}, {\"text\": \"0.82\", \"x\": \"downstairs\", \"y\": \"running\", \"xref\": \"x1\", \"yref\": \"y1\", \"font\": {\"color\": \"#FFFFFF\"}, \"showarrow\": false}, {\"text\": \"8.46\", \"x\": \"running\", \"y\": \"walking\", \"xref\": \"x1\", \"yref\": \"y1\", \"font\": {\"color\": \"#FFFFFF\"}, \"showarrow\": false}, {\"text\": \"88.6\", \"x\": \"walking\", \"y\": \"walking\", \"xref\": \"x1\", \"yref\": \"y1\", \"font\": {\"color\": \"#000000\"}, \"showarrow\": false}, {\"text\": \"1.84\", \"x\": \"car\", \"y\": \"walking\", \"xref\": \"x1\", \"yref\": \"y1\", \"font\": {\"color\": \"#FFFFFF\"}, \"showarrow\": false}, {\"text\": \"0.0\", \"x\": \"bike\", \"y\": \"walking\", \"xref\": \"x1\", \"yref\": \"y1\", \"font\": {\"color\": \"#FFFFFF\"}, \"showarrow\": false}, {\"text\": \"0.74\", \"x\": \"upstairs\", \"y\": \"walking\", \"xref\": \"x1\", \"yref\": \"y1\", \"font\": {\"color\": \"#FFFFFF\"}, \"showarrow\": false}, {\"text\": \"0.37\", \"x\": \"downstairs\", \"y\": \"walking\", \"xref\": \"x1\", \"yref\": \"y1\", \"font\": {\"color\": \"#FFFFFF\"}, \"showarrow\": false}, {\"text\": \"6.75\", \"x\": \"running\", \"y\": \"car\", \"xref\": \"x1\", \"yref\": \"y1\", \"font\": {\"color\": \"#FFFFFF\"}, \"showarrow\": false}, {\"text\": \"7.47\", \"x\": \"walking\", \"y\": \"car\", \"xref\": \"x1\", \"yref\": \"y1\", \"font\": {\"color\": \"#FFFFFF\"}, \"showarrow\": false}, {\"text\": \"83.86\", \"x\": \"car\", \"y\": \"car\", \"xref\": \"x1\", \"yref\": \"y1\", \"font\": {\"color\": \"#000000\"}, \"showarrow\": false}, {\"text\": \"0.0\", \"x\": \"bike\", \"y\": \"car\", \"xref\": \"x1\", \"yref\": \"y1\", \"font\": {\"color\": \"#FFFFFF\"}, \"showarrow\": false}, {\"text\": \"1.45\", \"x\": \"upstairs\", \"y\": \"car\", \"xref\": \"x1\", \"yref\": \"y1\", \"font\": {\"color\": \"#FFFFFF\"}, \"showarrow\": false}, {\"text\": \"0.48\", \"x\": \"downstairs\", \"y\": \"car\", \"xref\": \"x1\", \"yref\": \"y1\", \"font\": {\"color\": \"#FFFFFF\"}, \"showarrow\": false}, {\"text\": \"29.41\", \"x\": \"running\", \"y\": \"bike\", \"xref\": \"x1\", \"yref\": \"y1\", \"font\": {\"color\": \"#FFFFFF\"}, \"showarrow\": false}, {\"text\": \"29.41\", \"x\": \"walking\", \"y\": \"bike\", \"xref\": \"x1\", \"yref\": \"y1\", \"font\": {\"color\": \"#FFFFFF\"}, \"showarrow\": false}, {\"text\": \"11.76\", \"x\": \"car\", \"y\": \"bike\", \"xref\": \"x1\", \"yref\": \"y1\", \"font\": {\"color\": \"#FFFFFF\"}, \"showarrow\": false}, {\"text\": \"23.53\", \"x\": \"bike\", \"y\": \"bike\", \"xref\": \"x1\", \"yref\": \"y1\", \"font\": {\"color\": \"#FFFFFF\"}, \"showarrow\": false}, {\"text\": \"0.0\", \"x\": \"upstairs\", \"y\": \"bike\", \"xref\": \"x1\", \"yref\": \"y1\", \"font\": {\"color\": \"#FFFFFF\"}, \"showarrow\": false}, {\"text\": \"5.88\", \"x\": \"downstairs\", \"y\": \"bike\", \"xref\": \"x1\", \"yref\": \"y1\", \"font\": {\"color\": \"#FFFFFF\"}, \"showarrow\": false}, {\"text\": \"16.67\", \"x\": \"running\", \"y\": \"upstairs\", \"xref\": \"x1\", \"yref\": \"y1\", \"font\": {\"color\": \"#FFFFFF\"}, \"showarrow\": false}, {\"text\": \"36.11\", \"x\": \"walking\", \"y\": \"upstairs\", \"xref\": \"x1\", \"yref\": \"y1\", \"font\": {\"color\": \"#FFFFFF\"}, \"showarrow\": false}, {\"text\": \"4.17\", \"x\": \"car\", \"y\": \"upstairs\", \"xref\": \"x1\", \"yref\": \"y1\", \"font\": {\"color\": \"#FFFFFF\"}, \"showarrow\": false}, {\"text\": \"0.0\", \"x\": \"bike\", \"y\": \"upstairs\", \"xref\": \"x1\", \"yref\": \"y1\", \"font\": {\"color\": \"#FFFFFF\"}, \"showarrow\": false}, {\"text\": \"43.06\", \"x\": \"upstairs\", \"y\": \"upstairs\", \"xref\": \"x1\", \"yref\": \"y1\", \"font\": {\"color\": \"#FFFFFF\"}, \"showarrow\": false}, {\"text\": \"0.0\", \"x\": \"downstairs\", \"y\": \"upstairs\", \"xref\": \"x1\", \"yref\": \"y1\", \"font\": {\"color\": \"#FFFFFF\"}, \"showarrow\": false}, {\"text\": \"35.48\", \"x\": \"running\", \"y\": \"downstairs\", \"xref\": \"x1\", \"yref\": \"y1\", \"font\": {\"color\": \"#FFFFFF\"}, \"showarrow\": false}, {\"text\": \"45.16\", \"x\": \"walking\", \"y\": \"downstairs\", \"xref\": \"x1\", \"yref\": \"y1\", \"font\": {\"color\": \"#FFFFFF\"}, \"showarrow\": false}, {\"text\": \"0.0\", \"x\": \"car\", \"y\": \"downstairs\", \"xref\": \"x1\", \"yref\": \"y1\", \"font\": {\"color\": \"#FFFFFF\"}, \"showarrow\": false}, {\"text\": \"0.0\", \"x\": \"bike\", \"y\": \"downstairs\", \"xref\": \"x1\", \"yref\": \"y1\", \"font\": {\"color\": \"#FFFFFF\"}, \"showarrow\": false}, {\"text\": \"6.45\", \"x\": \"upstairs\", \"y\": \"downstairs\", \"xref\": \"x1\", \"yref\": \"y1\", \"font\": {\"color\": \"#FFFFFF\"}, \"showarrow\": false}, {\"text\": \"12.9\", \"x\": \"downstairs\", \"y\": \"downstairs\", \"xref\": \"x1\", \"yref\": \"y1\", \"font\": {\"color\": \"#FFFFFF\"}, \"showarrow\": false}], \"xaxis\": {\"ticks\": \"\", \"dtick\": 1, \"side\": \"top\", \"gridcolor\": \"rgb(0, 0, 0)\"}, \"yaxis\": {\"ticks\": \"\", \"dtick\": 1, \"ticksuffix\": \"  \"}, \"title\": \"KNN - overall accuracy: 81.75%\"}, {\"showLink\": true, \"linkText\": \"Export to plot.ly\"})});</script>"
      ],
      "text/vnd.plotly.v1+html": [
       "<div id=\"cca5fbaf-8582-4c07-a744-20915fc06e22\" style=\"height: 525px; width: 100%;\" class=\"plotly-graph-div\"></div><script type=\"text/javascript\">require([\"plotly\"], function(Plotly) { window.PLOTLYENV=window.PLOTLYENV || {};window.PLOTLYENV.BASE_URL=\"https://plot.ly\";Plotly.newPlot(\"cca5fbaf-8582-4c07-a744-20915fc06e22\", [{\"type\": \"heatmap\", \"z\": [[94.69, 4.08, 0.41, 0.0, 0.0, 0.82], [8.46, 88.6, 1.84, 0.0, 0.74, 0.37], [6.75, 7.47, 83.86, 0.0, 1.45, 0.48], [29.41, 29.41, 11.76, 23.53, 0.0, 5.88], [16.67, 36.11, 4.17, 0.0, 43.06, 0.0], [35.48, 45.16, 0.0, 0.0, 6.45, 12.9]], \"x\": [\"running\", \"walking\", \"car\", \"bike\", \"upstairs\", \"downstairs\"], \"y\": [\"running\", \"walking\", \"car\", \"bike\", \"upstairs\", \"downstairs\"], \"colorscale\": \"RdBu\", \"showscale\": false}], {\"annotations\": [{\"text\": \"94.69\", \"x\": \"running\", \"y\": \"running\", \"xref\": \"x1\", \"yref\": \"y1\", \"font\": {\"color\": \"#000000\"}, \"showarrow\": false}, {\"text\": \"4.08\", \"x\": \"walking\", \"y\": \"running\", \"xref\": \"x1\", \"yref\": \"y1\", \"font\": {\"color\": \"#FFFFFF\"}, \"showarrow\": false}, {\"text\": \"0.41\", \"x\": \"car\", \"y\": \"running\", \"xref\": \"x1\", \"yref\": \"y1\", \"font\": {\"color\": \"#FFFFFF\"}, \"showarrow\": false}, {\"text\": \"0.0\", \"x\": \"bike\", \"y\": \"running\", \"xref\": \"x1\", \"yref\": \"y1\", \"font\": {\"color\": \"#FFFFFF\"}, \"showarrow\": false}, {\"text\": \"0.0\", \"x\": \"upstairs\", \"y\": \"running\", \"xref\": \"x1\", \"yref\": \"y1\", \"font\": {\"color\": \"#FFFFFF\"}, \"showarrow\": false}, {\"text\": \"0.82\", \"x\": \"downstairs\", \"y\": \"running\", \"xref\": \"x1\", \"yref\": \"y1\", \"font\": {\"color\": \"#FFFFFF\"}, \"showarrow\": false}, {\"text\": \"8.46\", \"x\": \"running\", \"y\": \"walking\", \"xref\": \"x1\", \"yref\": \"y1\", \"font\": {\"color\": \"#FFFFFF\"}, \"showarrow\": false}, {\"text\": \"88.6\", \"x\": \"walking\", \"y\": \"walking\", \"xref\": \"x1\", \"yref\": \"y1\", \"font\": {\"color\": \"#000000\"}, \"showarrow\": false}, {\"text\": \"1.84\", \"x\": \"car\", \"y\": \"walking\", \"xref\": \"x1\", \"yref\": \"y1\", \"font\": {\"color\": \"#FFFFFF\"}, \"showarrow\": false}, {\"text\": \"0.0\", \"x\": \"bike\", \"y\": \"walking\", \"xref\": \"x1\", \"yref\": \"y1\", \"font\": {\"color\": \"#FFFFFF\"}, \"showarrow\": false}, {\"text\": \"0.74\", \"x\": \"upstairs\", \"y\": \"walking\", \"xref\": \"x1\", \"yref\": \"y1\", \"font\": {\"color\": \"#FFFFFF\"}, \"showarrow\": false}, {\"text\": \"0.37\", \"x\": \"downstairs\", \"y\": \"walking\", \"xref\": \"x1\", \"yref\": \"y1\", \"font\": {\"color\": \"#FFFFFF\"}, \"showarrow\": false}, {\"text\": \"6.75\", \"x\": \"running\", \"y\": \"car\", \"xref\": \"x1\", \"yref\": \"y1\", \"font\": {\"color\": \"#FFFFFF\"}, \"showarrow\": false}, {\"text\": \"7.47\", \"x\": \"walking\", \"y\": \"car\", \"xref\": \"x1\", \"yref\": \"y1\", \"font\": {\"color\": \"#FFFFFF\"}, \"showarrow\": false}, {\"text\": \"83.86\", \"x\": \"car\", \"y\": \"car\", \"xref\": \"x1\", \"yref\": \"y1\", \"font\": {\"color\": \"#000000\"}, \"showarrow\": false}, {\"text\": \"0.0\", \"x\": \"bike\", \"y\": \"car\", \"xref\": \"x1\", \"yref\": \"y1\", \"font\": {\"color\": \"#FFFFFF\"}, \"showarrow\": false}, {\"text\": \"1.45\", \"x\": \"upstairs\", \"y\": \"car\", \"xref\": \"x1\", \"yref\": \"y1\", \"font\": {\"color\": \"#FFFFFF\"}, \"showarrow\": false}, {\"text\": \"0.48\", \"x\": \"downstairs\", \"y\": \"car\", \"xref\": \"x1\", \"yref\": \"y1\", \"font\": {\"color\": \"#FFFFFF\"}, \"showarrow\": false}, {\"text\": \"29.41\", \"x\": \"running\", \"y\": \"bike\", \"xref\": \"x1\", \"yref\": \"y1\", \"font\": {\"color\": \"#FFFFFF\"}, \"showarrow\": false}, {\"text\": \"29.41\", \"x\": \"walking\", \"y\": \"bike\", \"xref\": \"x1\", \"yref\": \"y1\", \"font\": {\"color\": \"#FFFFFF\"}, \"showarrow\": false}, {\"text\": \"11.76\", \"x\": \"car\", \"y\": \"bike\", \"xref\": \"x1\", \"yref\": \"y1\", \"font\": {\"color\": \"#FFFFFF\"}, \"showarrow\": false}, {\"text\": \"23.53\", \"x\": \"bike\", \"y\": \"bike\", \"xref\": \"x1\", \"yref\": \"y1\", \"font\": {\"color\": \"#FFFFFF\"}, \"showarrow\": false}, {\"text\": \"0.0\", \"x\": \"upstairs\", \"y\": \"bike\", \"xref\": \"x1\", \"yref\": \"y1\", \"font\": {\"color\": \"#FFFFFF\"}, \"showarrow\": false}, {\"text\": \"5.88\", \"x\": \"downstairs\", \"y\": \"bike\", \"xref\": \"x1\", \"yref\": \"y1\", \"font\": {\"color\": \"#FFFFFF\"}, \"showarrow\": false}, {\"text\": \"16.67\", \"x\": \"running\", \"y\": \"upstairs\", \"xref\": \"x1\", \"yref\": \"y1\", \"font\": {\"color\": \"#FFFFFF\"}, \"showarrow\": false}, {\"text\": \"36.11\", \"x\": \"walking\", \"y\": \"upstairs\", \"xref\": \"x1\", \"yref\": \"y1\", \"font\": {\"color\": \"#FFFFFF\"}, \"showarrow\": false}, {\"text\": \"4.17\", \"x\": \"car\", \"y\": \"upstairs\", \"xref\": \"x1\", \"yref\": \"y1\", \"font\": {\"color\": \"#FFFFFF\"}, \"showarrow\": false}, {\"text\": \"0.0\", \"x\": \"bike\", \"y\": \"upstairs\", \"xref\": \"x1\", \"yref\": \"y1\", \"font\": {\"color\": \"#FFFFFF\"}, \"showarrow\": false}, {\"text\": \"43.06\", \"x\": \"upstairs\", \"y\": \"upstairs\", \"xref\": \"x1\", \"yref\": \"y1\", \"font\": {\"color\": \"#FFFFFF\"}, \"showarrow\": false}, {\"text\": \"0.0\", \"x\": \"downstairs\", \"y\": \"upstairs\", \"xref\": \"x1\", \"yref\": \"y1\", \"font\": {\"color\": \"#FFFFFF\"}, \"showarrow\": false}, {\"text\": \"35.48\", \"x\": \"running\", \"y\": \"downstairs\", \"xref\": \"x1\", \"yref\": \"y1\", \"font\": {\"color\": \"#FFFFFF\"}, \"showarrow\": false}, {\"text\": \"45.16\", \"x\": \"walking\", \"y\": \"downstairs\", \"xref\": \"x1\", \"yref\": \"y1\", \"font\": {\"color\": \"#FFFFFF\"}, \"showarrow\": false}, {\"text\": \"0.0\", \"x\": \"car\", \"y\": \"downstairs\", \"xref\": \"x1\", \"yref\": \"y1\", \"font\": {\"color\": \"#FFFFFF\"}, \"showarrow\": false}, {\"text\": \"0.0\", \"x\": \"bike\", \"y\": \"downstairs\", \"xref\": \"x1\", \"yref\": \"y1\", \"font\": {\"color\": \"#FFFFFF\"}, \"showarrow\": false}, {\"text\": \"6.45\", \"x\": \"upstairs\", \"y\": \"downstairs\", \"xref\": \"x1\", \"yref\": \"y1\", \"font\": {\"color\": \"#FFFFFF\"}, \"showarrow\": false}, {\"text\": \"12.9\", \"x\": \"downstairs\", \"y\": \"downstairs\", \"xref\": \"x1\", \"yref\": \"y1\", \"font\": {\"color\": \"#FFFFFF\"}, \"showarrow\": false}], \"xaxis\": {\"ticks\": \"\", \"dtick\": 1, \"side\": \"top\", \"gridcolor\": \"rgb(0, 0, 0)\"}, \"yaxis\": {\"ticks\": \"\", \"dtick\": 1, \"ticksuffix\": \"  \"}, \"title\": \"KNN - overall accuracy: 81.75%\"}, {\"showLink\": true, \"linkText\": \"Export to plot.ly\"})});</script>"
      ]
     },
     "metadata": {},
     "output_type": "display_data"
    },
    {
     "data": {
      "application/vnd.plotly.v1+json": {
       "data": [
        {
         "colorscale": "RdBu",
         "showscale": false,
         "type": "heatmap",
         "x": [
          "running",
          "walking",
          "car",
          "bike",
          "upstairs",
          "downstairs"
         ],
         "y": [
          "running",
          "walking",
          "car",
          "bike",
          "upstairs",
          "downstairs"
         ],
         "z": [
          [
           91.84,
           6.53,
           0.82,
           0,
           0.82,
           0
          ],
          [
           8.46,
           83.09,
           7.35,
           0,
           1.1,
           0
          ],
          [
           3.86,
           1.69,
           93.01,
           0.24,
           0.96,
           0.24
          ],
          [
           23.53,
           11.76,
           41.18,
           23.53,
           0,
           0
          ],
          [
           15.28,
           23.61,
           18.06,
           0,
           41.67,
           1.39
          ],
          [
           25.81,
           41.94,
           19.35,
           0,
           9.68,
           3.23
          ]
         ]
        }
       ],
       "layout": {
        "annotations": [
         {
          "font": {
           "color": "#000000"
          },
          "showarrow": false,
          "text": "91.84",
          "x": "running",
          "xref": "x1",
          "y": "running",
          "yref": "y1"
         },
         {
          "font": {
           "color": "#FFFFFF"
          },
          "showarrow": false,
          "text": "6.53",
          "x": "walking",
          "xref": "x1",
          "y": "running",
          "yref": "y1"
         },
         {
          "font": {
           "color": "#FFFFFF"
          },
          "showarrow": false,
          "text": "0.82",
          "x": "car",
          "xref": "x1",
          "y": "running",
          "yref": "y1"
         },
         {
          "font": {
           "color": "#FFFFFF"
          },
          "showarrow": false,
          "text": "0.0",
          "x": "bike",
          "xref": "x1",
          "y": "running",
          "yref": "y1"
         },
         {
          "font": {
           "color": "#FFFFFF"
          },
          "showarrow": false,
          "text": "0.82",
          "x": "upstairs",
          "xref": "x1",
          "y": "running",
          "yref": "y1"
         },
         {
          "font": {
           "color": "#FFFFFF"
          },
          "showarrow": false,
          "text": "0.0",
          "x": "downstairs",
          "xref": "x1",
          "y": "running",
          "yref": "y1"
         },
         {
          "font": {
           "color": "#FFFFFF"
          },
          "showarrow": false,
          "text": "8.46",
          "x": "running",
          "xref": "x1",
          "y": "walking",
          "yref": "y1"
         },
         {
          "font": {
           "color": "#000000"
          },
          "showarrow": false,
          "text": "83.09",
          "x": "walking",
          "xref": "x1",
          "y": "walking",
          "yref": "y1"
         },
         {
          "font": {
           "color": "#FFFFFF"
          },
          "showarrow": false,
          "text": "7.35",
          "x": "car",
          "xref": "x1",
          "y": "walking",
          "yref": "y1"
         },
         {
          "font": {
           "color": "#FFFFFF"
          },
          "showarrow": false,
          "text": "0.0",
          "x": "bike",
          "xref": "x1",
          "y": "walking",
          "yref": "y1"
         },
         {
          "font": {
           "color": "#FFFFFF"
          },
          "showarrow": false,
          "text": "1.1",
          "x": "upstairs",
          "xref": "x1",
          "y": "walking",
          "yref": "y1"
         },
         {
          "font": {
           "color": "#FFFFFF"
          },
          "showarrow": false,
          "text": "0.0",
          "x": "downstairs",
          "xref": "x1",
          "y": "walking",
          "yref": "y1"
         },
         {
          "font": {
           "color": "#FFFFFF"
          },
          "showarrow": false,
          "text": "3.86",
          "x": "running",
          "xref": "x1",
          "y": "car",
          "yref": "y1"
         },
         {
          "font": {
           "color": "#FFFFFF"
          },
          "showarrow": false,
          "text": "1.69",
          "x": "walking",
          "xref": "x1",
          "y": "car",
          "yref": "y1"
         },
         {
          "font": {
           "color": "#000000"
          },
          "showarrow": false,
          "text": "93.01",
          "x": "car",
          "xref": "x1",
          "y": "car",
          "yref": "y1"
         },
         {
          "font": {
           "color": "#FFFFFF"
          },
          "showarrow": false,
          "text": "0.24",
          "x": "bike",
          "xref": "x1",
          "y": "car",
          "yref": "y1"
         },
         {
          "font": {
           "color": "#FFFFFF"
          },
          "showarrow": false,
          "text": "0.96",
          "x": "upstairs",
          "xref": "x1",
          "y": "car",
          "yref": "y1"
         },
         {
          "font": {
           "color": "#FFFFFF"
          },
          "showarrow": false,
          "text": "0.24",
          "x": "downstairs",
          "xref": "x1",
          "y": "car",
          "yref": "y1"
         },
         {
          "font": {
           "color": "#FFFFFF"
          },
          "showarrow": false,
          "text": "23.53",
          "x": "running",
          "xref": "x1",
          "y": "bike",
          "yref": "y1"
         },
         {
          "font": {
           "color": "#FFFFFF"
          },
          "showarrow": false,
          "text": "11.76",
          "x": "walking",
          "xref": "x1",
          "y": "bike",
          "yref": "y1"
         },
         {
          "font": {
           "color": "#FFFFFF"
          },
          "showarrow": false,
          "text": "41.18",
          "x": "car",
          "xref": "x1",
          "y": "bike",
          "yref": "y1"
         },
         {
          "font": {
           "color": "#FFFFFF"
          },
          "showarrow": false,
          "text": "23.53",
          "x": "bike",
          "xref": "x1",
          "y": "bike",
          "yref": "y1"
         },
         {
          "font": {
           "color": "#FFFFFF"
          },
          "showarrow": false,
          "text": "0.0",
          "x": "upstairs",
          "xref": "x1",
          "y": "bike",
          "yref": "y1"
         },
         {
          "font": {
           "color": "#FFFFFF"
          },
          "showarrow": false,
          "text": "0.0",
          "x": "downstairs",
          "xref": "x1",
          "y": "bike",
          "yref": "y1"
         },
         {
          "font": {
           "color": "#FFFFFF"
          },
          "showarrow": false,
          "text": "15.28",
          "x": "running",
          "xref": "x1",
          "y": "upstairs",
          "yref": "y1"
         },
         {
          "font": {
           "color": "#FFFFFF"
          },
          "showarrow": false,
          "text": "23.61",
          "x": "walking",
          "xref": "x1",
          "y": "upstairs",
          "yref": "y1"
         },
         {
          "font": {
           "color": "#FFFFFF"
          },
          "showarrow": false,
          "text": "18.06",
          "x": "car",
          "xref": "x1",
          "y": "upstairs",
          "yref": "y1"
         },
         {
          "font": {
           "color": "#FFFFFF"
          },
          "showarrow": false,
          "text": "0.0",
          "x": "bike",
          "xref": "x1",
          "y": "upstairs",
          "yref": "y1"
         },
         {
          "font": {
           "color": "#FFFFFF"
          },
          "showarrow": false,
          "text": "41.67",
          "x": "upstairs",
          "xref": "x1",
          "y": "upstairs",
          "yref": "y1"
         },
         {
          "font": {
           "color": "#FFFFFF"
          },
          "showarrow": false,
          "text": "1.39",
          "x": "downstairs",
          "xref": "x1",
          "y": "upstairs",
          "yref": "y1"
         },
         {
          "font": {
           "color": "#FFFFFF"
          },
          "showarrow": false,
          "text": "25.81",
          "x": "running",
          "xref": "x1",
          "y": "downstairs",
          "yref": "y1"
         },
         {
          "font": {
           "color": "#FFFFFF"
          },
          "showarrow": false,
          "text": "41.94",
          "x": "walking",
          "xref": "x1",
          "y": "downstairs",
          "yref": "y1"
         },
         {
          "font": {
           "color": "#FFFFFF"
          },
          "showarrow": false,
          "text": "19.35",
          "x": "car",
          "xref": "x1",
          "y": "downstairs",
          "yref": "y1"
         },
         {
          "font": {
           "color": "#FFFFFF"
          },
          "showarrow": false,
          "text": "0.0",
          "x": "bike",
          "xref": "x1",
          "y": "downstairs",
          "yref": "y1"
         },
         {
          "font": {
           "color": "#FFFFFF"
          },
          "showarrow": false,
          "text": "9.68",
          "x": "upstairs",
          "xref": "x1",
          "y": "downstairs",
          "yref": "y1"
         },
         {
          "font": {
           "color": "#FFFFFF"
          },
          "showarrow": false,
          "text": "3.23",
          "x": "downstairs",
          "xref": "x1",
          "y": "downstairs",
          "yref": "y1"
         }
        ],
        "title": "RF - overall accuracy: 82.89%",
        "xaxis": {
         "dtick": 1,
         "gridcolor": "rgb(0, 0, 0)",
         "side": "top",
         "ticks": ""
        },
        "yaxis": {
         "dtick": 1,
         "ticks": "",
         "ticksuffix": "  "
        }
       }
      },
      "text/html": [
       "<div id=\"1009491f-f4bc-43fe-a420-260d97777972\" style=\"height: 525px; width: 100%;\" class=\"plotly-graph-div\"></div><script type=\"text/javascript\">require([\"plotly\"], function(Plotly) { window.PLOTLYENV=window.PLOTLYENV || {};window.PLOTLYENV.BASE_URL=\"https://plot.ly\";Plotly.newPlot(\"1009491f-f4bc-43fe-a420-260d97777972\", [{\"type\": \"heatmap\", \"z\": [[91.84, 6.53, 0.82, 0.0, 0.82, 0.0], [8.46, 83.09, 7.35, 0.0, 1.1, 0.0], [3.86, 1.69, 93.01, 0.24, 0.96, 0.24], [23.53, 11.76, 41.18, 23.53, 0.0, 0.0], [15.28, 23.61, 18.06, 0.0, 41.67, 1.39], [25.81, 41.94, 19.35, 0.0, 9.68, 3.23]], \"x\": [\"running\", \"walking\", \"car\", \"bike\", \"upstairs\", \"downstairs\"], \"y\": [\"running\", \"walking\", \"car\", \"bike\", \"upstairs\", \"downstairs\"], \"colorscale\": \"RdBu\", \"showscale\": false}], {\"annotations\": [{\"text\": \"91.84\", \"x\": \"running\", \"y\": \"running\", \"xref\": \"x1\", \"yref\": \"y1\", \"font\": {\"color\": \"#000000\"}, \"showarrow\": false}, {\"text\": \"6.53\", \"x\": \"walking\", \"y\": \"running\", \"xref\": \"x1\", \"yref\": \"y1\", \"font\": {\"color\": \"#FFFFFF\"}, \"showarrow\": false}, {\"text\": \"0.82\", \"x\": \"car\", \"y\": \"running\", \"xref\": \"x1\", \"yref\": \"y1\", \"font\": {\"color\": \"#FFFFFF\"}, \"showarrow\": false}, {\"text\": \"0.0\", \"x\": \"bike\", \"y\": \"running\", \"xref\": \"x1\", \"yref\": \"y1\", \"font\": {\"color\": \"#FFFFFF\"}, \"showarrow\": false}, {\"text\": \"0.82\", \"x\": \"upstairs\", \"y\": \"running\", \"xref\": \"x1\", \"yref\": \"y1\", \"font\": {\"color\": \"#FFFFFF\"}, \"showarrow\": false}, {\"text\": \"0.0\", \"x\": \"downstairs\", \"y\": \"running\", \"xref\": \"x1\", \"yref\": \"y1\", \"font\": {\"color\": \"#FFFFFF\"}, \"showarrow\": false}, {\"text\": \"8.46\", \"x\": \"running\", \"y\": \"walking\", \"xref\": \"x1\", \"yref\": \"y1\", \"font\": {\"color\": \"#FFFFFF\"}, \"showarrow\": false}, {\"text\": \"83.09\", \"x\": \"walking\", \"y\": \"walking\", \"xref\": \"x1\", \"yref\": \"y1\", \"font\": {\"color\": \"#000000\"}, \"showarrow\": false}, {\"text\": \"7.35\", \"x\": \"car\", \"y\": \"walking\", \"xref\": \"x1\", \"yref\": \"y1\", \"font\": {\"color\": \"#FFFFFF\"}, \"showarrow\": false}, {\"text\": \"0.0\", \"x\": \"bike\", \"y\": \"walking\", \"xref\": \"x1\", \"yref\": \"y1\", \"font\": {\"color\": \"#FFFFFF\"}, \"showarrow\": false}, {\"text\": \"1.1\", \"x\": \"upstairs\", \"y\": \"walking\", \"xref\": \"x1\", \"yref\": \"y1\", \"font\": {\"color\": \"#FFFFFF\"}, \"showarrow\": false}, {\"text\": \"0.0\", \"x\": \"downstairs\", \"y\": \"walking\", \"xref\": \"x1\", \"yref\": \"y1\", \"font\": {\"color\": \"#FFFFFF\"}, \"showarrow\": false}, {\"text\": \"3.86\", \"x\": \"running\", \"y\": \"car\", \"xref\": \"x1\", \"yref\": \"y1\", \"font\": {\"color\": \"#FFFFFF\"}, \"showarrow\": false}, {\"text\": \"1.69\", \"x\": \"walking\", \"y\": \"car\", \"xref\": \"x1\", \"yref\": \"y1\", \"font\": {\"color\": \"#FFFFFF\"}, \"showarrow\": false}, {\"text\": \"93.01\", \"x\": \"car\", \"y\": \"car\", \"xref\": \"x1\", \"yref\": \"y1\", \"font\": {\"color\": \"#000000\"}, \"showarrow\": false}, {\"text\": \"0.24\", \"x\": \"bike\", \"y\": \"car\", \"xref\": \"x1\", \"yref\": \"y1\", \"font\": {\"color\": \"#FFFFFF\"}, \"showarrow\": false}, {\"text\": \"0.96\", \"x\": \"upstairs\", \"y\": \"car\", \"xref\": \"x1\", \"yref\": \"y1\", \"font\": {\"color\": \"#FFFFFF\"}, \"showarrow\": false}, {\"text\": \"0.24\", \"x\": \"downstairs\", \"y\": \"car\", \"xref\": \"x1\", \"yref\": \"y1\", \"font\": {\"color\": \"#FFFFFF\"}, \"showarrow\": false}, {\"text\": \"23.53\", \"x\": \"running\", \"y\": \"bike\", \"xref\": \"x1\", \"yref\": \"y1\", \"font\": {\"color\": \"#FFFFFF\"}, \"showarrow\": false}, {\"text\": \"11.76\", \"x\": \"walking\", \"y\": \"bike\", \"xref\": \"x1\", \"yref\": \"y1\", \"font\": {\"color\": \"#FFFFFF\"}, \"showarrow\": false}, {\"text\": \"41.18\", \"x\": \"car\", \"y\": \"bike\", \"xref\": \"x1\", \"yref\": \"y1\", \"font\": {\"color\": \"#FFFFFF\"}, \"showarrow\": false}, {\"text\": \"23.53\", \"x\": \"bike\", \"y\": \"bike\", \"xref\": \"x1\", \"yref\": \"y1\", \"font\": {\"color\": \"#FFFFFF\"}, \"showarrow\": false}, {\"text\": \"0.0\", \"x\": \"upstairs\", \"y\": \"bike\", \"xref\": \"x1\", \"yref\": \"y1\", \"font\": {\"color\": \"#FFFFFF\"}, \"showarrow\": false}, {\"text\": \"0.0\", \"x\": \"downstairs\", \"y\": \"bike\", \"xref\": \"x1\", \"yref\": \"y1\", \"font\": {\"color\": \"#FFFFFF\"}, \"showarrow\": false}, {\"text\": \"15.28\", \"x\": \"running\", \"y\": \"upstairs\", \"xref\": \"x1\", \"yref\": \"y1\", \"font\": {\"color\": \"#FFFFFF\"}, \"showarrow\": false}, {\"text\": \"23.61\", \"x\": \"walking\", \"y\": \"upstairs\", \"xref\": \"x1\", \"yref\": \"y1\", \"font\": {\"color\": \"#FFFFFF\"}, \"showarrow\": false}, {\"text\": \"18.06\", \"x\": \"car\", \"y\": \"upstairs\", \"xref\": \"x1\", \"yref\": \"y1\", \"font\": {\"color\": \"#FFFFFF\"}, \"showarrow\": false}, {\"text\": \"0.0\", \"x\": \"bike\", \"y\": \"upstairs\", \"xref\": \"x1\", \"yref\": \"y1\", \"font\": {\"color\": \"#FFFFFF\"}, \"showarrow\": false}, {\"text\": \"41.67\", \"x\": \"upstairs\", \"y\": \"upstairs\", \"xref\": \"x1\", \"yref\": \"y1\", \"font\": {\"color\": \"#FFFFFF\"}, \"showarrow\": false}, {\"text\": \"1.39\", \"x\": \"downstairs\", \"y\": \"upstairs\", \"xref\": \"x1\", \"yref\": \"y1\", \"font\": {\"color\": \"#FFFFFF\"}, \"showarrow\": false}, {\"text\": \"25.81\", \"x\": \"running\", \"y\": \"downstairs\", \"xref\": \"x1\", \"yref\": \"y1\", \"font\": {\"color\": \"#FFFFFF\"}, \"showarrow\": false}, {\"text\": \"41.94\", \"x\": \"walking\", \"y\": \"downstairs\", \"xref\": \"x1\", \"yref\": \"y1\", \"font\": {\"color\": \"#FFFFFF\"}, \"showarrow\": false}, {\"text\": \"19.35\", \"x\": \"car\", \"y\": \"downstairs\", \"xref\": \"x1\", \"yref\": \"y1\", \"font\": {\"color\": \"#FFFFFF\"}, \"showarrow\": false}, {\"text\": \"0.0\", \"x\": \"bike\", \"y\": \"downstairs\", \"xref\": \"x1\", \"yref\": \"y1\", \"font\": {\"color\": \"#FFFFFF\"}, \"showarrow\": false}, {\"text\": \"9.68\", \"x\": \"upstairs\", \"y\": \"downstairs\", \"xref\": \"x1\", \"yref\": \"y1\", \"font\": {\"color\": \"#FFFFFF\"}, \"showarrow\": false}, {\"text\": \"3.23\", \"x\": \"downstairs\", \"y\": \"downstairs\", \"xref\": \"x1\", \"yref\": \"y1\", \"font\": {\"color\": \"#FFFFFF\"}, \"showarrow\": false}], \"xaxis\": {\"ticks\": \"\", \"dtick\": 1, \"side\": \"top\", \"gridcolor\": \"rgb(0, 0, 0)\"}, \"yaxis\": {\"ticks\": \"\", \"dtick\": 1, \"ticksuffix\": \"  \"}, \"title\": \"RF - overall accuracy: 82.89%\"}, {\"showLink\": true, \"linkText\": \"Export to plot.ly\"})});</script>"
      ],
      "text/vnd.plotly.v1+html": [
       "<div id=\"1009491f-f4bc-43fe-a420-260d97777972\" style=\"height: 525px; width: 100%;\" class=\"plotly-graph-div\"></div><script type=\"text/javascript\">require([\"plotly\"], function(Plotly) { window.PLOTLYENV=window.PLOTLYENV || {};window.PLOTLYENV.BASE_URL=\"https://plot.ly\";Plotly.newPlot(\"1009491f-f4bc-43fe-a420-260d97777972\", [{\"type\": \"heatmap\", \"z\": [[91.84, 6.53, 0.82, 0.0, 0.82, 0.0], [8.46, 83.09, 7.35, 0.0, 1.1, 0.0], [3.86, 1.69, 93.01, 0.24, 0.96, 0.24], [23.53, 11.76, 41.18, 23.53, 0.0, 0.0], [15.28, 23.61, 18.06, 0.0, 41.67, 1.39], [25.81, 41.94, 19.35, 0.0, 9.68, 3.23]], \"x\": [\"running\", \"walking\", \"car\", \"bike\", \"upstairs\", \"downstairs\"], \"y\": [\"running\", \"walking\", \"car\", \"bike\", \"upstairs\", \"downstairs\"], \"colorscale\": \"RdBu\", \"showscale\": false}], {\"annotations\": [{\"text\": \"91.84\", \"x\": \"running\", \"y\": \"running\", \"xref\": \"x1\", \"yref\": \"y1\", \"font\": {\"color\": \"#000000\"}, \"showarrow\": false}, {\"text\": \"6.53\", \"x\": \"walking\", \"y\": \"running\", \"xref\": \"x1\", \"yref\": \"y1\", \"font\": {\"color\": \"#FFFFFF\"}, \"showarrow\": false}, {\"text\": \"0.82\", \"x\": \"car\", \"y\": \"running\", \"xref\": \"x1\", \"yref\": \"y1\", \"font\": {\"color\": \"#FFFFFF\"}, \"showarrow\": false}, {\"text\": \"0.0\", \"x\": \"bike\", \"y\": \"running\", \"xref\": \"x1\", \"yref\": \"y1\", \"font\": {\"color\": \"#FFFFFF\"}, \"showarrow\": false}, {\"text\": \"0.82\", \"x\": \"upstairs\", \"y\": \"running\", \"xref\": \"x1\", \"yref\": \"y1\", \"font\": {\"color\": \"#FFFFFF\"}, \"showarrow\": false}, {\"text\": \"0.0\", \"x\": \"downstairs\", \"y\": \"running\", \"xref\": \"x1\", \"yref\": \"y1\", \"font\": {\"color\": \"#FFFFFF\"}, \"showarrow\": false}, {\"text\": \"8.46\", \"x\": \"running\", \"y\": \"walking\", \"xref\": \"x1\", \"yref\": \"y1\", \"font\": {\"color\": \"#FFFFFF\"}, \"showarrow\": false}, {\"text\": \"83.09\", \"x\": \"walking\", \"y\": \"walking\", \"xref\": \"x1\", \"yref\": \"y1\", \"font\": {\"color\": \"#000000\"}, \"showarrow\": false}, {\"text\": \"7.35\", \"x\": \"car\", \"y\": \"walking\", \"xref\": \"x1\", \"yref\": \"y1\", \"font\": {\"color\": \"#FFFFFF\"}, \"showarrow\": false}, {\"text\": \"0.0\", \"x\": \"bike\", \"y\": \"walking\", \"xref\": \"x1\", \"yref\": \"y1\", \"font\": {\"color\": \"#FFFFFF\"}, \"showarrow\": false}, {\"text\": \"1.1\", \"x\": \"upstairs\", \"y\": \"walking\", \"xref\": \"x1\", \"yref\": \"y1\", \"font\": {\"color\": \"#FFFFFF\"}, \"showarrow\": false}, {\"text\": \"0.0\", \"x\": \"downstairs\", \"y\": \"walking\", \"xref\": \"x1\", \"yref\": \"y1\", \"font\": {\"color\": \"#FFFFFF\"}, \"showarrow\": false}, {\"text\": \"3.86\", \"x\": \"running\", \"y\": \"car\", \"xref\": \"x1\", \"yref\": \"y1\", \"font\": {\"color\": \"#FFFFFF\"}, \"showarrow\": false}, {\"text\": \"1.69\", \"x\": \"walking\", \"y\": \"car\", \"xref\": \"x1\", \"yref\": \"y1\", \"font\": {\"color\": \"#FFFFFF\"}, \"showarrow\": false}, {\"text\": \"93.01\", \"x\": \"car\", \"y\": \"car\", \"xref\": \"x1\", \"yref\": \"y1\", \"font\": {\"color\": \"#000000\"}, \"showarrow\": false}, {\"text\": \"0.24\", \"x\": \"bike\", \"y\": \"car\", \"xref\": \"x1\", \"yref\": \"y1\", \"font\": {\"color\": \"#FFFFFF\"}, \"showarrow\": false}, {\"text\": \"0.96\", \"x\": \"upstairs\", \"y\": \"car\", \"xref\": \"x1\", \"yref\": \"y1\", \"font\": {\"color\": \"#FFFFFF\"}, \"showarrow\": false}, {\"text\": \"0.24\", \"x\": \"downstairs\", \"y\": \"car\", \"xref\": \"x1\", \"yref\": \"y1\", \"font\": {\"color\": \"#FFFFFF\"}, \"showarrow\": false}, {\"text\": \"23.53\", \"x\": \"running\", \"y\": \"bike\", \"xref\": \"x1\", \"yref\": \"y1\", \"font\": {\"color\": \"#FFFFFF\"}, \"showarrow\": false}, {\"text\": \"11.76\", \"x\": \"walking\", \"y\": \"bike\", \"xref\": \"x1\", \"yref\": \"y1\", \"font\": {\"color\": \"#FFFFFF\"}, \"showarrow\": false}, {\"text\": \"41.18\", \"x\": \"car\", \"y\": \"bike\", \"xref\": \"x1\", \"yref\": \"y1\", \"font\": {\"color\": \"#FFFFFF\"}, \"showarrow\": false}, {\"text\": \"23.53\", \"x\": \"bike\", \"y\": \"bike\", \"xref\": \"x1\", \"yref\": \"y1\", \"font\": {\"color\": \"#FFFFFF\"}, \"showarrow\": false}, {\"text\": \"0.0\", \"x\": \"upstairs\", \"y\": \"bike\", \"xref\": \"x1\", \"yref\": \"y1\", \"font\": {\"color\": \"#FFFFFF\"}, \"showarrow\": false}, {\"text\": \"0.0\", \"x\": \"downstairs\", \"y\": \"bike\", \"xref\": \"x1\", \"yref\": \"y1\", \"font\": {\"color\": \"#FFFFFF\"}, \"showarrow\": false}, {\"text\": \"15.28\", \"x\": \"running\", \"y\": \"upstairs\", \"xref\": \"x1\", \"yref\": \"y1\", \"font\": {\"color\": \"#FFFFFF\"}, \"showarrow\": false}, {\"text\": \"23.61\", \"x\": \"walking\", \"y\": \"upstairs\", \"xref\": \"x1\", \"yref\": \"y1\", \"font\": {\"color\": \"#FFFFFF\"}, \"showarrow\": false}, {\"text\": \"18.06\", \"x\": \"car\", \"y\": \"upstairs\", \"xref\": \"x1\", \"yref\": \"y1\", \"font\": {\"color\": \"#FFFFFF\"}, \"showarrow\": false}, {\"text\": \"0.0\", \"x\": \"bike\", \"y\": \"upstairs\", \"xref\": \"x1\", \"yref\": \"y1\", \"font\": {\"color\": \"#FFFFFF\"}, \"showarrow\": false}, {\"text\": \"41.67\", \"x\": \"upstairs\", \"y\": \"upstairs\", \"xref\": \"x1\", \"yref\": \"y1\", \"font\": {\"color\": \"#FFFFFF\"}, \"showarrow\": false}, {\"text\": \"1.39\", \"x\": \"downstairs\", \"y\": \"upstairs\", \"xref\": \"x1\", \"yref\": \"y1\", \"font\": {\"color\": \"#FFFFFF\"}, \"showarrow\": false}, {\"text\": \"25.81\", \"x\": \"running\", \"y\": \"downstairs\", \"xref\": \"x1\", \"yref\": \"y1\", \"font\": {\"color\": \"#FFFFFF\"}, \"showarrow\": false}, {\"text\": \"41.94\", \"x\": \"walking\", \"y\": \"downstairs\", \"xref\": \"x1\", \"yref\": \"y1\", \"font\": {\"color\": \"#FFFFFF\"}, \"showarrow\": false}, {\"text\": \"19.35\", \"x\": \"car\", \"y\": \"downstairs\", \"xref\": \"x1\", \"yref\": \"y1\", \"font\": {\"color\": \"#FFFFFF\"}, \"showarrow\": false}, {\"text\": \"0.0\", \"x\": \"bike\", \"y\": \"downstairs\", \"xref\": \"x1\", \"yref\": \"y1\", \"font\": {\"color\": \"#FFFFFF\"}, \"showarrow\": false}, {\"text\": \"9.68\", \"x\": \"upstairs\", \"y\": \"downstairs\", \"xref\": \"x1\", \"yref\": \"y1\", \"font\": {\"color\": \"#FFFFFF\"}, \"showarrow\": false}, {\"text\": \"3.23\", \"x\": \"downstairs\", \"y\": \"downstairs\", \"xref\": \"x1\", \"yref\": \"y1\", \"font\": {\"color\": \"#FFFFFF\"}, \"showarrow\": false}], \"xaxis\": {\"ticks\": \"\", \"dtick\": 1, \"side\": \"top\", \"gridcolor\": \"rgb(0, 0, 0)\"}, \"yaxis\": {\"ticks\": \"\", \"dtick\": 1, \"ticksuffix\": \"  \"}, \"title\": \"RF - overall accuracy: 82.89%\"}, {\"showLink\": true, \"linkText\": \"Export to plot.ly\"})});</script>"
      ]
     },
     "metadata": {},
     "output_type": "display_data"
    }
   ],
   "source": [
    "# Każdy klasyfikator uczymy i testujemy, a następnie rysujemy heatmap z wynikami\n",
    "for clsf in classifiers:\n",
    "    # Uczenie klasyfikatora\n",
    "    clsf[\"cls\"].fit(X, y)\n",
    "    # Sprawdzenie dla danych testowych\n",
    "    predictions = clsf[\"cls\"].predict(X_test)\n",
    "    # Zapis wyniku\n",
    "    acc = accuracy_score(y_test, predictions)\n",
    "    \n",
    "    # Znormalizowana macierz\n",
    "    c_matrix = confusion_matrix(y_test, predictions, labels = [11,22,33,44,55,66])\n",
    "    c_matrix = c_matrix.astype('float') / c_matrix.sum(axis=1)[:, np.newaxis]\n",
    "    c_matrix = c_matrix*100.0\n",
    "    c_matrix = c_matrix.round(2)\n",
    "    \n",
    "    # Tytuły wykresów\n",
    "    title = clsf[\"name\"] + \" - overall accuracy: \" + str(round(acc*100,2)) + \"%\"\n",
    "    labels = [\"running\", \"walking\", \"car\", \"bike\", \"upstairs\", \"downstairs\"]\n",
    "    \n",
    "    fig = ff.create_annotated_heatmap(z=c_matrix, x=labels, y=labels)\n",
    "    fig.layout.update({\"title\": title})\n",
    "    iplot(fig)\n"
   ]
  },
  {
   "cell_type": "code",
   "execution_count": 28,
   "metadata": {},
   "outputs": [
    {
     "data": {
      "text/plain": [
       "(2453, 25)"
      ]
     },
     "execution_count": 28,
     "metadata": {},
     "output_type": "execute_result"
    }
   ],
   "source": [
    "X.shape"
   ]
  },
  {
   "cell_type": "code",
   "execution_count": 9,
   "metadata": {},
   "outputs": [],
   "source": [
    "# # clf = SVC()\n",
    "# clf = MLPClassifier(solver='lbfgs', alpha=1e-7, hidden_layer_sizes=(26, 10, 6), random_state=1, max_iter=700)\n",
    "# # clf = KNeighborsClassifier(n_neighbors=7)\n",
    "# # clf = SGDClassifier(loss=\"log\")\n",
    "# clf.fit(X,y)\n",
    "\n",
    "# predictions = clf.predict(X_test)\n",
    "# acc = accuracy_score(y_test, predictions)\n",
    "# print(\"Accuracy: \" + str(round(acc*100,2)) + \"%\")"
   ]
  },
  {
   "cell_type": "code",
   "execution_count": 10,
   "metadata": {},
   "outputs": [],
   "source": [
    "# tsne = manifold.TSNE(n_components=2, init='pca', random_state=0)\n",
    "# Y = tsne.fit_transform(X_test)"
   ]
  },
  {
   "cell_type": "code",
   "execution_count": 11,
   "metadata": {},
   "outputs": [],
   "source": [
    "# plt.scatter(Y[:, 0], Y[:, 1], c=y_test, cmap=plt.cm.get_cmap(\"jet\", len(list(set(y_test)))))\n",
    "# plt.colorbar(ticks=range(len(list(set(y_test)))))\n",
    "\n",
    "# plt.show()"
   ]
  },
  {
   "cell_type": "code",
   "execution_count": null,
   "metadata": {},
   "outputs": [],
   "source": []
  }
 ],
 "metadata": {
  "kernelspec": {
   "display_name": "Python 3",
   "language": "python",
   "name": "python3"
  },
  "language_info": {
   "codemirror_mode": {
    "name": "ipython",
    "version": 3
   },
   "file_extension": ".py",
   "mimetype": "text/x-python",
   "name": "python",
   "nbconvert_exporter": "python",
   "pygments_lexer": "ipython3",
   "version": "3.6.4"
  }
 },
 "nbformat": 4,
 "nbformat_minor": 2
}

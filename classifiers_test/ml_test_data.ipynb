{
 "cells": [
  {
   "cell_type": "code",
   "execution_count": 1,
   "metadata": {},
   "outputs": [
    {
     "data": {
      "text/html": [
       "<script>requirejs.config({paths: { 'plotly': ['https://cdn.plot.ly/plotly-latest.min']},});if(!window.Plotly) {{require(['plotly'],function(plotly) {window.Plotly=plotly;});}}</script>"
      ],
      "text/vnd.plotly.v1+html": [
       "<script>requirejs.config({paths: { 'plotly': ['https://cdn.plot.ly/plotly-latest.min']},});if(!window.Plotly) {{require(['plotly'],function(plotly) {window.Plotly=plotly;});}}</script>"
      ]
     },
     "metadata": {},
     "output_type": "display_data"
    }
   ],
   "source": [
    "import pandas as pd\n",
    "import sklearn\n",
    "from sklearn.svm import SVC\n",
    "from sklearn.neighbors import KNeighborsClassifier\n",
    "from sklearn.neural_network import MLPClassifier\n",
    "from sklearn.linear_model import SGDClassifier\n",
    "from sklearn.ensemble import RandomForestClassifier\n",
    "from sklearn.metrics import accuracy_score, confusion_matrix\n",
    "from sklearn import manifold\n",
    "from sklearn.preprocessing import StandardScaler\n",
    "import matplotlib.pyplot as plt\n",
    "\n",
    "import plotly.plotly as py\n",
    "import plotly.graph_objs as go\n",
    "import plotly.figure_factory as ff\n",
    "import numpy as np\n",
    "from plotly.offline import download_plotlyjs, init_notebook_mode, plot, iplot\n",
    "\n",
    "from sklearn.model_selection import cross_val_score\n",
    "\n",
    "init_notebook_mode(connected=True)\n",
    "\n",
    "# Jaki procent całego zbioru ma być wykorzystany do uczenia\n",
    "TRAIN_DATASET_PRECENTAGE = 0.85\n",
    "\n",
    "##\n",
    "## 11 - running\n",
    "## 22 - walking\n",
    "## 33 - car\n",
    "## 44 - bike\n",
    "## 55 - upstairs\n",
    "## 66 - downstairs"
   ]
  },
  {
   "cell_type": "code",
   "execution_count": 2,
   "metadata": {},
   "outputs": [
    {
     "name": "stdout",
     "output_type": "stream",
     "text": [
      "11 (844, 26)\n",
      "22 (880, 26)\n",
      "33 (1377, 26)\n",
      "44 (53, 26)\n",
      "55 (404, 26)\n",
      "66 (220, 26)\n"
     ]
    }
   ],
   "source": [
    "# Załadowanie zbioru cech z csv\n",
    "dataset = pd.read_csv(\"features_fixed.csv\", index_col=None)\n",
    "\n",
    "# Stworzenie kolumn dla wektora cech. Nazwy to liczby od 1 do 25.\n",
    "cols = [str(x) for x in range(1, 26)]\n",
    "#Ostatnia kolumna to etykieta aktywności\n",
    "cols.append(\"label\")\n",
    "\n",
    "dataset.columns = cols\n",
    "\n",
    "\n",
    "for label in (11,22,33,44,55,66):\n",
    "    print(label, dataset.loc[dataset[\"label\"] == label].shape)\n",
    "\n",
    "## 11 - running\n",
    "## 22 - walking\n",
    "## 33 - car\n",
    "## 44 - bike\n",
    "## 55 - upstairs\n",
    "## 66 - downstairs"
   ]
  },
  {
   "cell_type": "code",
   "execution_count": 3,
   "metadata": {},
   "outputs": [],
   "source": [
    "# Mieszamy wczytane wiersze tak, żeby kolejność cech nie miała wpływu na trenowanie i testowanie\n",
    "dataset = sklearn.utils.shuffle(dataset)"
   ]
  },
  {
   "cell_type": "code",
   "execution_count": 4,
   "metadata": {},
   "outputs": [],
   "source": [
    "# Obliczenie liczby wektorów cech potrzebynch do uczenia\n",
    "train_size = int(len(dataset)*TRAIN_DATASET_PRECENTAGE)\n",
    "\n",
    "#Podział na zbiór uczący i testowy\n",
    "train_dataset = dataset[:train_size]\n",
    "test_dataset = dataset[train_size:]\n",
    "\n",
    "# Oddzielamy cechy od etykiety i przypisujemy do X - zbioru danych uczących\n",
    "feature_cols = dataset.columns[:-1]\n",
    "X = train_dataset.loc[:, feature_cols]\n",
    "\n",
    "# Zbiór poprawnych etykiet dla zbioru uczącego\n",
    "y = train_dataset.label"
   ]
  },
  {
   "cell_type": "code",
   "execution_count": 5,
   "metadata": {},
   "outputs": [],
   "source": [
    "# Skalowanie wektora cech\n",
    "scaler = StandardScaler()\n",
    "scaler.fit(X)\n",
    "\n",
    "X = scaler.transform(X)"
   ]
  },
  {
   "cell_type": "code",
   "execution_count": 6,
   "metadata": {},
   "outputs": [],
   "source": [
    "# Podział na X i y dla danych testowych\n",
    "X_test = test_dataset.loc[:, feature_cols]\n",
    "X_test = scaler.transform(X_test)\n",
    "y_test = test_dataset.label"
   ]
  },
  {
   "cell_type": "code",
   "execution_count": 7,
   "metadata": {},
   "outputs": [],
   "source": [
    "# Tworzymy listę klasyfikatorów które testujemy\n",
    "classifiers = []\n",
    "\n",
    "classifiers.append({\"name\":\"SVM\", \"cls\":SVC(C=110.0104698904004, tol=0.005103440905884713, gamma=0.06389136736841583)})\n",
    "classifiers.append({\"name\":\"MLP\", \"cls\":MLPClassifier(solver='adam', alpha=1e-5,\n",
    "                                                      hidden_layer_sizes=(200,200), \n",
    "                                                      max_iter=500, shuffle=True)})\n",
    "classifiers.append({\"name\":\"KNN\", \"cls\":KNeighborsClassifier(n_neighbors=3)})\n",
    "classifiers.append({\"name\":\"RF\", \"cls\":RandomForestClassifier()})"
   ]
  },
  {
   "cell_type": "code",
   "execution_count": 8,
   "metadata": {},
   "outputs": [
    {
     "name": "stdout",
     "output_type": "stream",
     "text": [
      "Cross validation folds=2\n",
      "SVM: 81.10%\n",
      "[0.81957672 0.80243644]\n",
      "MLP: 83.32%\n",
      "[0.84074074 0.82574153]\n",
      "KNN: 76.15%\n",
      "[0.76243386 0.76059322]\n",
      "RF: 76.50%\n",
      "[0.76666667 0.76324153]\n"
     ]
    }
   ],
   "source": [
    "# Cross validate\n",
    "\n",
    "X_cv = np.concatenate((X, X_test))\n",
    "y_cv = np.concatenate((y, y_test))\n",
    "\n",
    "cv = 2\n",
    "\n",
    "print(\"Cross validation folds=%d\" % (cv))\n",
    "\n",
    "for clsf in classifiers:\n",
    "    scores = cross_val_score(clsf[\"cls\"], X_cv, y_cv, cv=cv)\n",
    "    print(clsf[\"name\"] + \": %0.2f\" % (scores.mean()*100) + \"%\")\n",
    "    print(scores)"
   ]
  },
  {
   "cell_type": "code",
   "execution_count": 9,
   "metadata": {
    "scrolled": false
   },
   "outputs": [
    {
     "data": {
      "application/vnd.plotly.v1+json": {
       "data": [
        {
         "colorscale": "RdBu",
         "showscale": false,
         "type": "heatmap",
         "x": [
          "running",
          "walking",
          "car",
          "bike",
          "upstairs",
          "downstairs"
         ],
         "y": [
          "running",
          "walking",
          "car",
          "bike",
          "upstairs",
          "downstairs"
         ],
         "z": [
          [
           89.47,
           2.63,
           4.39,
           0,
           0.88,
           2.63
          ],
          [
           0.84,
           91.6,
           5.88,
           0,
           0.84,
           0.84
          ],
          [
           1.83,
           3.2,
           89.95,
           0.91,
           3.2,
           0.91
          ],
          [
           14.29,
           14.29,
           28.57,
           42.86,
           0,
           0
          ],
          [
           7.46,
           19.4,
           8.96,
           0,
           61.19,
           2.99
          ],
          [
           19.51,
           24.39,
           14.63,
           0,
           12.2,
           29.27
          ]
         ]
        }
       ],
       "layout": {
        "annotations": [
         {
          "font": {
           "color": "#000000"
          },
          "showarrow": false,
          "text": "89.47",
          "x": "running",
          "xref": "x1",
          "y": "running",
          "yref": "y1"
         },
         {
          "font": {
           "color": "#FFFFFF"
          },
          "showarrow": false,
          "text": "2.63",
          "x": "walking",
          "xref": "x1",
          "y": "running",
          "yref": "y1"
         },
         {
          "font": {
           "color": "#FFFFFF"
          },
          "showarrow": false,
          "text": "4.39",
          "x": "car",
          "xref": "x1",
          "y": "running",
          "yref": "y1"
         },
         {
          "font": {
           "color": "#FFFFFF"
          },
          "showarrow": false,
          "text": "0.0",
          "x": "bike",
          "xref": "x1",
          "y": "running",
          "yref": "y1"
         },
         {
          "font": {
           "color": "#FFFFFF"
          },
          "showarrow": false,
          "text": "0.88",
          "x": "upstairs",
          "xref": "x1",
          "y": "running",
          "yref": "y1"
         },
         {
          "font": {
           "color": "#FFFFFF"
          },
          "showarrow": false,
          "text": "2.63",
          "x": "downstairs",
          "xref": "x1",
          "y": "running",
          "yref": "y1"
         },
         {
          "font": {
           "color": "#FFFFFF"
          },
          "showarrow": false,
          "text": "0.84",
          "x": "running",
          "xref": "x1",
          "y": "walking",
          "yref": "y1"
         },
         {
          "font": {
           "color": "#000000"
          },
          "showarrow": false,
          "text": "91.6",
          "x": "walking",
          "xref": "x1",
          "y": "walking",
          "yref": "y1"
         },
         {
          "font": {
           "color": "#FFFFFF"
          },
          "showarrow": false,
          "text": "5.88",
          "x": "car",
          "xref": "x1",
          "y": "walking",
          "yref": "y1"
         },
         {
          "font": {
           "color": "#FFFFFF"
          },
          "showarrow": false,
          "text": "0.0",
          "x": "bike",
          "xref": "x1",
          "y": "walking",
          "yref": "y1"
         },
         {
          "font": {
           "color": "#FFFFFF"
          },
          "showarrow": false,
          "text": "0.84",
          "x": "upstairs",
          "xref": "x1",
          "y": "walking",
          "yref": "y1"
         },
         {
          "font": {
           "color": "#FFFFFF"
          },
          "showarrow": false,
          "text": "0.84",
          "x": "downstairs",
          "xref": "x1",
          "y": "walking",
          "yref": "y1"
         },
         {
          "font": {
           "color": "#FFFFFF"
          },
          "showarrow": false,
          "text": "1.83",
          "x": "running",
          "xref": "x1",
          "y": "car",
          "yref": "y1"
         },
         {
          "font": {
           "color": "#FFFFFF"
          },
          "showarrow": false,
          "text": "3.2",
          "x": "walking",
          "xref": "x1",
          "y": "car",
          "yref": "y1"
         },
         {
          "font": {
           "color": "#000000"
          },
          "showarrow": false,
          "text": "89.95",
          "x": "car",
          "xref": "x1",
          "y": "car",
          "yref": "y1"
         },
         {
          "font": {
           "color": "#FFFFFF"
          },
          "showarrow": false,
          "text": "0.91",
          "x": "bike",
          "xref": "x1",
          "y": "car",
          "yref": "y1"
         },
         {
          "font": {
           "color": "#FFFFFF"
          },
          "showarrow": false,
          "text": "3.2",
          "x": "upstairs",
          "xref": "x1",
          "y": "car",
          "yref": "y1"
         },
         {
          "font": {
           "color": "#FFFFFF"
          },
          "showarrow": false,
          "text": "0.91",
          "x": "downstairs",
          "xref": "x1",
          "y": "car",
          "yref": "y1"
         },
         {
          "font": {
           "color": "#FFFFFF"
          },
          "showarrow": false,
          "text": "14.29",
          "x": "running",
          "xref": "x1",
          "y": "bike",
          "yref": "y1"
         },
         {
          "font": {
           "color": "#FFFFFF"
          },
          "showarrow": false,
          "text": "14.29",
          "x": "walking",
          "xref": "x1",
          "y": "bike",
          "yref": "y1"
         },
         {
          "font": {
           "color": "#FFFFFF"
          },
          "showarrow": false,
          "text": "28.57",
          "x": "car",
          "xref": "x1",
          "y": "bike",
          "yref": "y1"
         },
         {
          "font": {
           "color": "#FFFFFF"
          },
          "showarrow": false,
          "text": "42.86",
          "x": "bike",
          "xref": "x1",
          "y": "bike",
          "yref": "y1"
         },
         {
          "font": {
           "color": "#FFFFFF"
          },
          "showarrow": false,
          "text": "0.0",
          "x": "upstairs",
          "xref": "x1",
          "y": "bike",
          "yref": "y1"
         },
         {
          "font": {
           "color": "#FFFFFF"
          },
          "showarrow": false,
          "text": "0.0",
          "x": "downstairs",
          "xref": "x1",
          "y": "bike",
          "yref": "y1"
         },
         {
          "font": {
           "color": "#FFFFFF"
          },
          "showarrow": false,
          "text": "7.46",
          "x": "running",
          "xref": "x1",
          "y": "upstairs",
          "yref": "y1"
         },
         {
          "font": {
           "color": "#FFFFFF"
          },
          "showarrow": false,
          "text": "19.4",
          "x": "walking",
          "xref": "x1",
          "y": "upstairs",
          "yref": "y1"
         },
         {
          "font": {
           "color": "#FFFFFF"
          },
          "showarrow": false,
          "text": "8.96",
          "x": "car",
          "xref": "x1",
          "y": "upstairs",
          "yref": "y1"
         },
         {
          "font": {
           "color": "#FFFFFF"
          },
          "showarrow": false,
          "text": "0.0",
          "x": "bike",
          "xref": "x1",
          "y": "upstairs",
          "yref": "y1"
         },
         {
          "font": {
           "color": "#000000"
          },
          "showarrow": false,
          "text": "61.19",
          "x": "upstairs",
          "xref": "x1",
          "y": "upstairs",
          "yref": "y1"
         },
         {
          "font": {
           "color": "#FFFFFF"
          },
          "showarrow": false,
          "text": "2.99",
          "x": "downstairs",
          "xref": "x1",
          "y": "upstairs",
          "yref": "y1"
         },
         {
          "font": {
           "color": "#FFFFFF"
          },
          "showarrow": false,
          "text": "19.51",
          "x": "running",
          "xref": "x1",
          "y": "downstairs",
          "yref": "y1"
         },
         {
          "font": {
           "color": "#FFFFFF"
          },
          "showarrow": false,
          "text": "24.39",
          "x": "walking",
          "xref": "x1",
          "y": "downstairs",
          "yref": "y1"
         },
         {
          "font": {
           "color": "#FFFFFF"
          },
          "showarrow": false,
          "text": "14.63",
          "x": "car",
          "xref": "x1",
          "y": "downstairs",
          "yref": "y1"
         },
         {
          "font": {
           "color": "#FFFFFF"
          },
          "showarrow": false,
          "text": "0.0",
          "x": "bike",
          "xref": "x1",
          "y": "downstairs",
          "yref": "y1"
         },
         {
          "font": {
           "color": "#FFFFFF"
          },
          "showarrow": false,
          "text": "12.2",
          "x": "upstairs",
          "xref": "x1",
          "y": "downstairs",
          "yref": "y1"
         },
         {
          "font": {
           "color": "#FFFFFF"
          },
          "showarrow": false,
          "text": "29.27",
          "x": "downstairs",
          "xref": "x1",
          "y": "downstairs",
          "yref": "y1"
         }
        ],
        "title": "SVM - overall accuracy: 81.83%",
        "xaxis": {
         "dtick": 1,
         "gridcolor": "rgb(0, 0, 0)",
         "side": "top",
         "ticks": ""
        },
        "yaxis": {
         "autorange": "reversed",
         "dtick": 1,
         "ticks": "",
         "ticksuffix": "  "
        }
       }
      },
      "text/html": [
       "<div id=\"33716c39-4991-487a-9de1-2700d425beda\" style=\"height: 525px; width: 100%;\" class=\"plotly-graph-div\"></div><script type=\"text/javascript\">require([\"plotly\"], function(Plotly) { window.PLOTLYENV=window.PLOTLYENV || {};window.PLOTLYENV.BASE_URL=\"https://plot.ly\";Plotly.newPlot(\"33716c39-4991-487a-9de1-2700d425beda\", [{\"type\": \"heatmap\", \"z\": [[89.47, 2.63, 4.39, 0.0, 0.88, 2.63], [0.84, 91.6, 5.88, 0.0, 0.84, 0.84], [1.83, 3.2, 89.95, 0.91, 3.2, 0.91], [14.29, 14.29, 28.57, 42.86, 0.0, 0.0], [7.46, 19.4, 8.96, 0.0, 61.19, 2.99], [19.51, 24.39, 14.63, 0.0, 12.2, 29.27]], \"x\": [\"running\", \"walking\", \"car\", \"bike\", \"upstairs\", \"downstairs\"], \"y\": [\"running\", \"walking\", \"car\", \"bike\", \"upstairs\", \"downstairs\"], \"colorscale\": \"RdBu\", \"showscale\": false}], {\"annotations\": [{\"text\": \"89.47\", \"x\": \"running\", \"y\": \"running\", \"xref\": \"x1\", \"yref\": \"y1\", \"font\": {\"color\": \"#000000\"}, \"showarrow\": false}, {\"text\": \"2.63\", \"x\": \"walking\", \"y\": \"running\", \"xref\": \"x1\", \"yref\": \"y1\", \"font\": {\"color\": \"#FFFFFF\"}, \"showarrow\": false}, {\"text\": \"4.39\", \"x\": \"car\", \"y\": \"running\", \"xref\": \"x1\", \"yref\": \"y1\", \"font\": {\"color\": \"#FFFFFF\"}, \"showarrow\": false}, {\"text\": \"0.0\", \"x\": \"bike\", \"y\": \"running\", \"xref\": \"x1\", \"yref\": \"y1\", \"font\": {\"color\": \"#FFFFFF\"}, \"showarrow\": false}, {\"text\": \"0.88\", \"x\": \"upstairs\", \"y\": \"running\", \"xref\": \"x1\", \"yref\": \"y1\", \"font\": {\"color\": \"#FFFFFF\"}, \"showarrow\": false}, {\"text\": \"2.63\", \"x\": \"downstairs\", \"y\": \"running\", \"xref\": \"x1\", \"yref\": \"y1\", \"font\": {\"color\": \"#FFFFFF\"}, \"showarrow\": false}, {\"text\": \"0.84\", \"x\": \"running\", \"y\": \"walking\", \"xref\": \"x1\", \"yref\": \"y1\", \"font\": {\"color\": \"#FFFFFF\"}, \"showarrow\": false}, {\"text\": \"91.6\", \"x\": \"walking\", \"y\": \"walking\", \"xref\": \"x1\", \"yref\": \"y1\", \"font\": {\"color\": \"#000000\"}, \"showarrow\": false}, {\"text\": \"5.88\", \"x\": \"car\", \"y\": \"walking\", \"xref\": \"x1\", \"yref\": \"y1\", \"font\": {\"color\": \"#FFFFFF\"}, \"showarrow\": false}, {\"text\": \"0.0\", \"x\": \"bike\", \"y\": \"walking\", \"xref\": \"x1\", \"yref\": \"y1\", \"font\": {\"color\": \"#FFFFFF\"}, \"showarrow\": false}, {\"text\": \"0.84\", \"x\": \"upstairs\", \"y\": \"walking\", \"xref\": \"x1\", \"yref\": \"y1\", \"font\": {\"color\": \"#FFFFFF\"}, \"showarrow\": false}, {\"text\": \"0.84\", \"x\": \"downstairs\", \"y\": \"walking\", \"xref\": \"x1\", \"yref\": \"y1\", \"font\": {\"color\": \"#FFFFFF\"}, \"showarrow\": false}, {\"text\": \"1.83\", \"x\": \"running\", \"y\": \"car\", \"xref\": \"x1\", \"yref\": \"y1\", \"font\": {\"color\": \"#FFFFFF\"}, \"showarrow\": false}, {\"text\": \"3.2\", \"x\": \"walking\", \"y\": \"car\", \"xref\": \"x1\", \"yref\": \"y1\", \"font\": {\"color\": \"#FFFFFF\"}, \"showarrow\": false}, {\"text\": \"89.95\", \"x\": \"car\", \"y\": \"car\", \"xref\": \"x1\", \"yref\": \"y1\", \"font\": {\"color\": \"#000000\"}, \"showarrow\": false}, {\"text\": \"0.91\", \"x\": \"bike\", \"y\": \"car\", \"xref\": \"x1\", \"yref\": \"y1\", \"font\": {\"color\": \"#FFFFFF\"}, \"showarrow\": false}, {\"text\": \"3.2\", \"x\": \"upstairs\", \"y\": \"car\", \"xref\": \"x1\", \"yref\": \"y1\", \"font\": {\"color\": \"#FFFFFF\"}, \"showarrow\": false}, {\"text\": \"0.91\", \"x\": \"downstairs\", \"y\": \"car\", \"xref\": \"x1\", \"yref\": \"y1\", \"font\": {\"color\": \"#FFFFFF\"}, \"showarrow\": false}, {\"text\": \"14.29\", \"x\": \"running\", \"y\": \"bike\", \"xref\": \"x1\", \"yref\": \"y1\", \"font\": {\"color\": \"#FFFFFF\"}, \"showarrow\": false}, {\"text\": \"14.29\", \"x\": \"walking\", \"y\": \"bike\", \"xref\": \"x1\", \"yref\": \"y1\", \"font\": {\"color\": \"#FFFFFF\"}, \"showarrow\": false}, {\"text\": \"28.57\", \"x\": \"car\", \"y\": \"bike\", \"xref\": \"x1\", \"yref\": \"y1\", \"font\": {\"color\": \"#FFFFFF\"}, \"showarrow\": false}, {\"text\": \"42.86\", \"x\": \"bike\", \"y\": \"bike\", \"xref\": \"x1\", \"yref\": \"y1\", \"font\": {\"color\": \"#FFFFFF\"}, \"showarrow\": false}, {\"text\": \"0.0\", \"x\": \"upstairs\", \"y\": \"bike\", \"xref\": \"x1\", \"yref\": \"y1\", \"font\": {\"color\": \"#FFFFFF\"}, \"showarrow\": false}, {\"text\": \"0.0\", \"x\": \"downstairs\", \"y\": \"bike\", \"xref\": \"x1\", \"yref\": \"y1\", \"font\": {\"color\": \"#FFFFFF\"}, \"showarrow\": false}, {\"text\": \"7.46\", \"x\": \"running\", \"y\": \"upstairs\", \"xref\": \"x1\", \"yref\": \"y1\", \"font\": {\"color\": \"#FFFFFF\"}, \"showarrow\": false}, {\"text\": \"19.4\", \"x\": \"walking\", \"y\": \"upstairs\", \"xref\": \"x1\", \"yref\": \"y1\", \"font\": {\"color\": \"#FFFFFF\"}, \"showarrow\": false}, {\"text\": \"8.96\", \"x\": \"car\", \"y\": \"upstairs\", \"xref\": \"x1\", \"yref\": \"y1\", \"font\": {\"color\": \"#FFFFFF\"}, \"showarrow\": false}, {\"text\": \"0.0\", \"x\": \"bike\", \"y\": \"upstairs\", \"xref\": \"x1\", \"yref\": \"y1\", \"font\": {\"color\": \"#FFFFFF\"}, \"showarrow\": false}, {\"text\": \"61.19\", \"x\": \"upstairs\", \"y\": \"upstairs\", \"xref\": \"x1\", \"yref\": \"y1\", \"font\": {\"color\": \"#000000\"}, \"showarrow\": false}, {\"text\": \"2.99\", \"x\": \"downstairs\", \"y\": \"upstairs\", \"xref\": \"x1\", \"yref\": \"y1\", \"font\": {\"color\": \"#FFFFFF\"}, \"showarrow\": false}, {\"text\": \"19.51\", \"x\": \"running\", \"y\": \"downstairs\", \"xref\": \"x1\", \"yref\": \"y1\", \"font\": {\"color\": \"#FFFFFF\"}, \"showarrow\": false}, {\"text\": \"24.39\", \"x\": \"walking\", \"y\": \"downstairs\", \"xref\": \"x1\", \"yref\": \"y1\", \"font\": {\"color\": \"#FFFFFF\"}, \"showarrow\": false}, {\"text\": \"14.63\", \"x\": \"car\", \"y\": \"downstairs\", \"xref\": \"x1\", \"yref\": \"y1\", \"font\": {\"color\": \"#FFFFFF\"}, \"showarrow\": false}, {\"text\": \"0.0\", \"x\": \"bike\", \"y\": \"downstairs\", \"xref\": \"x1\", \"yref\": \"y1\", \"font\": {\"color\": \"#FFFFFF\"}, \"showarrow\": false}, {\"text\": \"12.2\", \"x\": \"upstairs\", \"y\": \"downstairs\", \"xref\": \"x1\", \"yref\": \"y1\", \"font\": {\"color\": \"#FFFFFF\"}, \"showarrow\": false}, {\"text\": \"29.27\", \"x\": \"downstairs\", \"y\": \"downstairs\", \"xref\": \"x1\", \"yref\": \"y1\", \"font\": {\"color\": \"#FFFFFF\"}, \"showarrow\": false}], \"xaxis\": {\"ticks\": \"\", \"dtick\": 1, \"side\": \"top\", \"gridcolor\": \"rgb(0, 0, 0)\"}, \"yaxis\": {\"ticks\": \"\", \"dtick\": 1, \"ticksuffix\": \"  \", \"autorange\": \"reversed\"}, \"title\": \"SVM - overall accuracy: 81.83%\"}, {\"showLink\": true, \"linkText\": \"Export to plot.ly\"})});</script>"
      ],
      "text/vnd.plotly.v1+html": [
       "<div id=\"33716c39-4991-487a-9de1-2700d425beda\" style=\"height: 525px; width: 100%;\" class=\"plotly-graph-div\"></div><script type=\"text/javascript\">require([\"plotly\"], function(Plotly) { window.PLOTLYENV=window.PLOTLYENV || {};window.PLOTLYENV.BASE_URL=\"https://plot.ly\";Plotly.newPlot(\"33716c39-4991-487a-9de1-2700d425beda\", [{\"type\": \"heatmap\", \"z\": [[89.47, 2.63, 4.39, 0.0, 0.88, 2.63], [0.84, 91.6, 5.88, 0.0, 0.84, 0.84], [1.83, 3.2, 89.95, 0.91, 3.2, 0.91], [14.29, 14.29, 28.57, 42.86, 0.0, 0.0], [7.46, 19.4, 8.96, 0.0, 61.19, 2.99], [19.51, 24.39, 14.63, 0.0, 12.2, 29.27]], \"x\": [\"running\", \"walking\", \"car\", \"bike\", \"upstairs\", \"downstairs\"], \"y\": [\"running\", \"walking\", \"car\", \"bike\", \"upstairs\", \"downstairs\"], \"colorscale\": \"RdBu\", \"showscale\": false}], {\"annotations\": [{\"text\": \"89.47\", \"x\": \"running\", \"y\": \"running\", \"xref\": \"x1\", \"yref\": \"y1\", \"font\": {\"color\": \"#000000\"}, \"showarrow\": false}, {\"text\": \"2.63\", \"x\": \"walking\", \"y\": \"running\", \"xref\": \"x1\", \"yref\": \"y1\", \"font\": {\"color\": \"#FFFFFF\"}, \"showarrow\": false}, {\"text\": \"4.39\", \"x\": \"car\", \"y\": \"running\", \"xref\": \"x1\", \"yref\": \"y1\", \"font\": {\"color\": \"#FFFFFF\"}, \"showarrow\": false}, {\"text\": \"0.0\", \"x\": \"bike\", \"y\": \"running\", \"xref\": \"x1\", \"yref\": \"y1\", \"font\": {\"color\": \"#FFFFFF\"}, \"showarrow\": false}, {\"text\": \"0.88\", \"x\": \"upstairs\", \"y\": \"running\", \"xref\": \"x1\", \"yref\": \"y1\", \"font\": {\"color\": \"#FFFFFF\"}, \"showarrow\": false}, {\"text\": \"2.63\", \"x\": \"downstairs\", \"y\": \"running\", \"xref\": \"x1\", \"yref\": \"y1\", \"font\": {\"color\": \"#FFFFFF\"}, \"showarrow\": false}, {\"text\": \"0.84\", \"x\": \"running\", \"y\": \"walking\", \"xref\": \"x1\", \"yref\": \"y1\", \"font\": {\"color\": \"#FFFFFF\"}, \"showarrow\": false}, {\"text\": \"91.6\", \"x\": \"walking\", \"y\": \"walking\", \"xref\": \"x1\", \"yref\": \"y1\", \"font\": {\"color\": \"#000000\"}, \"showarrow\": false}, {\"text\": \"5.88\", \"x\": \"car\", \"y\": \"walking\", \"xref\": \"x1\", \"yref\": \"y1\", \"font\": {\"color\": \"#FFFFFF\"}, \"showarrow\": false}, {\"text\": \"0.0\", \"x\": \"bike\", \"y\": \"walking\", \"xref\": \"x1\", \"yref\": \"y1\", \"font\": {\"color\": \"#FFFFFF\"}, \"showarrow\": false}, {\"text\": \"0.84\", \"x\": \"upstairs\", \"y\": \"walking\", \"xref\": \"x1\", \"yref\": \"y1\", \"font\": {\"color\": \"#FFFFFF\"}, \"showarrow\": false}, {\"text\": \"0.84\", \"x\": \"downstairs\", \"y\": \"walking\", \"xref\": \"x1\", \"yref\": \"y1\", \"font\": {\"color\": \"#FFFFFF\"}, \"showarrow\": false}, {\"text\": \"1.83\", \"x\": \"running\", \"y\": \"car\", \"xref\": \"x1\", \"yref\": \"y1\", \"font\": {\"color\": \"#FFFFFF\"}, \"showarrow\": false}, {\"text\": \"3.2\", \"x\": \"walking\", \"y\": \"car\", \"xref\": \"x1\", \"yref\": \"y1\", \"font\": {\"color\": \"#FFFFFF\"}, \"showarrow\": false}, {\"text\": \"89.95\", \"x\": \"car\", \"y\": \"car\", \"xref\": \"x1\", \"yref\": \"y1\", \"font\": {\"color\": \"#000000\"}, \"showarrow\": false}, {\"text\": \"0.91\", \"x\": \"bike\", \"y\": \"car\", \"xref\": \"x1\", \"yref\": \"y1\", \"font\": {\"color\": \"#FFFFFF\"}, \"showarrow\": false}, {\"text\": \"3.2\", \"x\": \"upstairs\", \"y\": \"car\", \"xref\": \"x1\", \"yref\": \"y1\", \"font\": {\"color\": \"#FFFFFF\"}, \"showarrow\": false}, {\"text\": \"0.91\", \"x\": \"downstairs\", \"y\": \"car\", \"xref\": \"x1\", \"yref\": \"y1\", \"font\": {\"color\": \"#FFFFFF\"}, \"showarrow\": false}, {\"text\": \"14.29\", \"x\": \"running\", \"y\": \"bike\", \"xref\": \"x1\", \"yref\": \"y1\", \"font\": {\"color\": \"#FFFFFF\"}, \"showarrow\": false}, {\"text\": \"14.29\", \"x\": \"walking\", \"y\": \"bike\", \"xref\": \"x1\", \"yref\": \"y1\", \"font\": {\"color\": \"#FFFFFF\"}, \"showarrow\": false}, {\"text\": \"28.57\", \"x\": \"car\", \"y\": \"bike\", \"xref\": \"x1\", \"yref\": \"y1\", \"font\": {\"color\": \"#FFFFFF\"}, \"showarrow\": false}, {\"text\": \"42.86\", \"x\": \"bike\", \"y\": \"bike\", \"xref\": \"x1\", \"yref\": \"y1\", \"font\": {\"color\": \"#FFFFFF\"}, \"showarrow\": false}, {\"text\": \"0.0\", \"x\": \"upstairs\", \"y\": \"bike\", \"xref\": \"x1\", \"yref\": \"y1\", \"font\": {\"color\": \"#FFFFFF\"}, \"showarrow\": false}, {\"text\": \"0.0\", \"x\": \"downstairs\", \"y\": \"bike\", \"xref\": \"x1\", \"yref\": \"y1\", \"font\": {\"color\": \"#FFFFFF\"}, \"showarrow\": false}, {\"text\": \"7.46\", \"x\": \"running\", \"y\": \"upstairs\", \"xref\": \"x1\", \"yref\": \"y1\", \"font\": {\"color\": \"#FFFFFF\"}, \"showarrow\": false}, {\"text\": \"19.4\", \"x\": \"walking\", \"y\": \"upstairs\", \"xref\": \"x1\", \"yref\": \"y1\", \"font\": {\"color\": \"#FFFFFF\"}, \"showarrow\": false}, {\"text\": \"8.96\", \"x\": \"car\", \"y\": \"upstairs\", \"xref\": \"x1\", \"yref\": \"y1\", \"font\": {\"color\": \"#FFFFFF\"}, \"showarrow\": false}, {\"text\": \"0.0\", \"x\": \"bike\", \"y\": \"upstairs\", \"xref\": \"x1\", \"yref\": \"y1\", \"font\": {\"color\": \"#FFFFFF\"}, \"showarrow\": false}, {\"text\": \"61.19\", \"x\": \"upstairs\", \"y\": \"upstairs\", \"xref\": \"x1\", \"yref\": \"y1\", \"font\": {\"color\": \"#000000\"}, \"showarrow\": false}, {\"text\": \"2.99\", \"x\": \"downstairs\", \"y\": \"upstairs\", \"xref\": \"x1\", \"yref\": \"y1\", \"font\": {\"color\": \"#FFFFFF\"}, \"showarrow\": false}, {\"text\": \"19.51\", \"x\": \"running\", \"y\": \"downstairs\", \"xref\": \"x1\", \"yref\": \"y1\", \"font\": {\"color\": \"#FFFFFF\"}, \"showarrow\": false}, {\"text\": \"24.39\", \"x\": \"walking\", \"y\": \"downstairs\", \"xref\": \"x1\", \"yref\": \"y1\", \"font\": {\"color\": \"#FFFFFF\"}, \"showarrow\": false}, {\"text\": \"14.63\", \"x\": \"car\", \"y\": \"downstairs\", \"xref\": \"x1\", \"yref\": \"y1\", \"font\": {\"color\": \"#FFFFFF\"}, \"showarrow\": false}, {\"text\": \"0.0\", \"x\": \"bike\", \"y\": \"downstairs\", \"xref\": \"x1\", \"yref\": \"y1\", \"font\": {\"color\": \"#FFFFFF\"}, \"showarrow\": false}, {\"text\": \"12.2\", \"x\": \"upstairs\", \"y\": \"downstairs\", \"xref\": \"x1\", \"yref\": \"y1\", \"font\": {\"color\": \"#FFFFFF\"}, \"showarrow\": false}, {\"text\": \"29.27\", \"x\": \"downstairs\", \"y\": \"downstairs\", \"xref\": \"x1\", \"yref\": \"y1\", \"font\": {\"color\": \"#FFFFFF\"}, \"showarrow\": false}], \"xaxis\": {\"ticks\": \"\", \"dtick\": 1, \"side\": \"top\", \"gridcolor\": \"rgb(0, 0, 0)\"}, \"yaxis\": {\"ticks\": \"\", \"dtick\": 1, \"ticksuffix\": \"  \", \"autorange\": \"reversed\"}, \"title\": \"SVM - overall accuracy: 81.83%\"}, {\"showLink\": true, \"linkText\": \"Export to plot.ly\"})});</script>"
      ]
     },
     "metadata": {},
     "output_type": "display_data"
    },
    {
     "data": {
      "application/vnd.plotly.v1+json": {
       "data": [
        {
         "colorscale": "RdBu",
         "showscale": false,
         "type": "heatmap",
         "x": [
          "running",
          "walking",
          "car",
          "bike",
          "upstairs",
          "downstairs"
         ],
         "y": [
          "running",
          "walking",
          "car",
          "bike",
          "upstairs",
          "downstairs"
         ],
         "z": [
          [
           89.47,
           5.26,
           1.75,
           0,
           1.75,
           1.75
          ],
          [
           0,
           93.28,
           4.2,
           0,
           1.68,
           0.84
          ],
          [
           1.37,
           2.74,
           90.41,
           0,
           3.2,
           2.28
          ],
          [
           0,
           14.29,
           14.29,
           71.43,
           0,
           0
          ],
          [
           7.46,
           19.4,
           7.46,
           0,
           58.21,
           7.46
          ],
          [
           4.88,
           26.83,
           9.76,
           2.44,
           19.51,
           36.59
          ]
         ]
        }
       ],
       "layout": {
        "annotations": [
         {
          "font": {
           "color": "#000000"
          },
          "showarrow": false,
          "text": "89.47",
          "x": "running",
          "xref": "x1",
          "y": "running",
          "yref": "y1"
         },
         {
          "font": {
           "color": "#FFFFFF"
          },
          "showarrow": false,
          "text": "5.26",
          "x": "walking",
          "xref": "x1",
          "y": "running",
          "yref": "y1"
         },
         {
          "font": {
           "color": "#FFFFFF"
          },
          "showarrow": false,
          "text": "1.75",
          "x": "car",
          "xref": "x1",
          "y": "running",
          "yref": "y1"
         },
         {
          "font": {
           "color": "#FFFFFF"
          },
          "showarrow": false,
          "text": "0.0",
          "x": "bike",
          "xref": "x1",
          "y": "running",
          "yref": "y1"
         },
         {
          "font": {
           "color": "#FFFFFF"
          },
          "showarrow": false,
          "text": "1.75",
          "x": "upstairs",
          "xref": "x1",
          "y": "running",
          "yref": "y1"
         },
         {
          "font": {
           "color": "#FFFFFF"
          },
          "showarrow": false,
          "text": "1.75",
          "x": "downstairs",
          "xref": "x1",
          "y": "running",
          "yref": "y1"
         },
         {
          "font": {
           "color": "#FFFFFF"
          },
          "showarrow": false,
          "text": "0.0",
          "x": "running",
          "xref": "x1",
          "y": "walking",
          "yref": "y1"
         },
         {
          "font": {
           "color": "#000000"
          },
          "showarrow": false,
          "text": "93.28",
          "x": "walking",
          "xref": "x1",
          "y": "walking",
          "yref": "y1"
         },
         {
          "font": {
           "color": "#FFFFFF"
          },
          "showarrow": false,
          "text": "4.2",
          "x": "car",
          "xref": "x1",
          "y": "walking",
          "yref": "y1"
         },
         {
          "font": {
           "color": "#FFFFFF"
          },
          "showarrow": false,
          "text": "0.0",
          "x": "bike",
          "xref": "x1",
          "y": "walking",
          "yref": "y1"
         },
         {
          "font": {
           "color": "#FFFFFF"
          },
          "showarrow": false,
          "text": "1.68",
          "x": "upstairs",
          "xref": "x1",
          "y": "walking",
          "yref": "y1"
         },
         {
          "font": {
           "color": "#FFFFFF"
          },
          "showarrow": false,
          "text": "0.84",
          "x": "downstairs",
          "xref": "x1",
          "y": "walking",
          "yref": "y1"
         },
         {
          "font": {
           "color": "#FFFFFF"
          },
          "showarrow": false,
          "text": "1.37",
          "x": "running",
          "xref": "x1",
          "y": "car",
          "yref": "y1"
         },
         {
          "font": {
           "color": "#FFFFFF"
          },
          "showarrow": false,
          "text": "2.74",
          "x": "walking",
          "xref": "x1",
          "y": "car",
          "yref": "y1"
         },
         {
          "font": {
           "color": "#000000"
          },
          "showarrow": false,
          "text": "90.41",
          "x": "car",
          "xref": "x1",
          "y": "car",
          "yref": "y1"
         },
         {
          "font": {
           "color": "#FFFFFF"
          },
          "showarrow": false,
          "text": "0.0",
          "x": "bike",
          "xref": "x1",
          "y": "car",
          "yref": "y1"
         },
         {
          "font": {
           "color": "#FFFFFF"
          },
          "showarrow": false,
          "text": "3.2",
          "x": "upstairs",
          "xref": "x1",
          "y": "car",
          "yref": "y1"
         },
         {
          "font": {
           "color": "#FFFFFF"
          },
          "showarrow": false,
          "text": "2.28",
          "x": "downstairs",
          "xref": "x1",
          "y": "car",
          "yref": "y1"
         },
         {
          "font": {
           "color": "#FFFFFF"
          },
          "showarrow": false,
          "text": "0.0",
          "x": "running",
          "xref": "x1",
          "y": "bike",
          "yref": "y1"
         },
         {
          "font": {
           "color": "#FFFFFF"
          },
          "showarrow": false,
          "text": "14.29",
          "x": "walking",
          "xref": "x1",
          "y": "bike",
          "yref": "y1"
         },
         {
          "font": {
           "color": "#FFFFFF"
          },
          "showarrow": false,
          "text": "14.29",
          "x": "car",
          "xref": "x1",
          "y": "bike",
          "yref": "y1"
         },
         {
          "font": {
           "color": "#000000"
          },
          "showarrow": false,
          "text": "71.43",
          "x": "bike",
          "xref": "x1",
          "y": "bike",
          "yref": "y1"
         },
         {
          "font": {
           "color": "#FFFFFF"
          },
          "showarrow": false,
          "text": "0.0",
          "x": "upstairs",
          "xref": "x1",
          "y": "bike",
          "yref": "y1"
         },
         {
          "font": {
           "color": "#FFFFFF"
          },
          "showarrow": false,
          "text": "0.0",
          "x": "downstairs",
          "xref": "x1",
          "y": "bike",
          "yref": "y1"
         },
         {
          "font": {
           "color": "#FFFFFF"
          },
          "showarrow": false,
          "text": "7.46",
          "x": "running",
          "xref": "x1",
          "y": "upstairs",
          "yref": "y1"
         },
         {
          "font": {
           "color": "#FFFFFF"
          },
          "showarrow": false,
          "text": "19.4",
          "x": "walking",
          "xref": "x1",
          "y": "upstairs",
          "yref": "y1"
         },
         {
          "font": {
           "color": "#FFFFFF"
          },
          "showarrow": false,
          "text": "7.46",
          "x": "car",
          "xref": "x1",
          "y": "upstairs",
          "yref": "y1"
         },
         {
          "font": {
           "color": "#FFFFFF"
          },
          "showarrow": false,
          "text": "0.0",
          "x": "bike",
          "xref": "x1",
          "y": "upstairs",
          "yref": "y1"
         },
         {
          "font": {
           "color": "#000000"
          },
          "showarrow": false,
          "text": "58.21",
          "x": "upstairs",
          "xref": "x1",
          "y": "upstairs",
          "yref": "y1"
         },
         {
          "font": {
           "color": "#FFFFFF"
          },
          "showarrow": false,
          "text": "7.46",
          "x": "downstairs",
          "xref": "x1",
          "y": "upstairs",
          "yref": "y1"
         },
         {
          "font": {
           "color": "#FFFFFF"
          },
          "showarrow": false,
          "text": "4.88",
          "x": "running",
          "xref": "x1",
          "y": "downstairs",
          "yref": "y1"
         },
         {
          "font": {
           "color": "#FFFFFF"
          },
          "showarrow": false,
          "text": "26.83",
          "x": "walking",
          "xref": "x1",
          "y": "downstairs",
          "yref": "y1"
         },
         {
          "font": {
           "color": "#FFFFFF"
          },
          "showarrow": false,
          "text": "9.76",
          "x": "car",
          "xref": "x1",
          "y": "downstairs",
          "yref": "y1"
         },
         {
          "font": {
           "color": "#FFFFFF"
          },
          "showarrow": false,
          "text": "2.44",
          "x": "bike",
          "xref": "x1",
          "y": "downstairs",
          "yref": "y1"
         },
         {
          "font": {
           "color": "#FFFFFF"
          },
          "showarrow": false,
          "text": "19.51",
          "x": "upstairs",
          "xref": "x1",
          "y": "downstairs",
          "yref": "y1"
         },
         {
          "font": {
           "color": "#FFFFFF"
          },
          "showarrow": false,
          "text": "36.59",
          "x": "downstairs",
          "xref": "x1",
          "y": "downstairs",
          "yref": "y1"
         }
        ],
        "title": "MLP - overall accuracy: 82.89%",
        "xaxis": {
         "dtick": 1,
         "gridcolor": "rgb(0, 0, 0)",
         "side": "top",
         "ticks": ""
        },
        "yaxis": {
         "autorange": "reversed",
         "dtick": 1,
         "ticks": "",
         "ticksuffix": "  "
        }
       }
      },
      "text/html": [
       "<div id=\"97875beb-c9b3-453c-89e7-7b00f14e03f0\" style=\"height: 525px; width: 100%;\" class=\"plotly-graph-div\"></div><script type=\"text/javascript\">require([\"plotly\"], function(Plotly) { window.PLOTLYENV=window.PLOTLYENV || {};window.PLOTLYENV.BASE_URL=\"https://plot.ly\";Plotly.newPlot(\"97875beb-c9b3-453c-89e7-7b00f14e03f0\", [{\"type\": \"heatmap\", \"z\": [[89.47, 5.26, 1.75, 0.0, 1.75, 1.75], [0.0, 93.28, 4.2, 0.0, 1.68, 0.84], [1.37, 2.74, 90.41, 0.0, 3.2, 2.28], [0.0, 14.29, 14.29, 71.43, 0.0, 0.0], [7.46, 19.4, 7.46, 0.0, 58.21, 7.46], [4.88, 26.83, 9.76, 2.44, 19.51, 36.59]], \"x\": [\"running\", \"walking\", \"car\", \"bike\", \"upstairs\", \"downstairs\"], \"y\": [\"running\", \"walking\", \"car\", \"bike\", \"upstairs\", \"downstairs\"], \"colorscale\": \"RdBu\", \"showscale\": false}], {\"annotations\": [{\"text\": \"89.47\", \"x\": \"running\", \"y\": \"running\", \"xref\": \"x1\", \"yref\": \"y1\", \"font\": {\"color\": \"#000000\"}, \"showarrow\": false}, {\"text\": \"5.26\", \"x\": \"walking\", \"y\": \"running\", \"xref\": \"x1\", \"yref\": \"y1\", \"font\": {\"color\": \"#FFFFFF\"}, \"showarrow\": false}, {\"text\": \"1.75\", \"x\": \"car\", \"y\": \"running\", \"xref\": \"x1\", \"yref\": \"y1\", \"font\": {\"color\": \"#FFFFFF\"}, \"showarrow\": false}, {\"text\": \"0.0\", \"x\": \"bike\", \"y\": \"running\", \"xref\": \"x1\", \"yref\": \"y1\", \"font\": {\"color\": \"#FFFFFF\"}, \"showarrow\": false}, {\"text\": \"1.75\", \"x\": \"upstairs\", \"y\": \"running\", \"xref\": \"x1\", \"yref\": \"y1\", \"font\": {\"color\": \"#FFFFFF\"}, \"showarrow\": false}, {\"text\": \"1.75\", \"x\": \"downstairs\", \"y\": \"running\", \"xref\": \"x1\", \"yref\": \"y1\", \"font\": {\"color\": \"#FFFFFF\"}, \"showarrow\": false}, {\"text\": \"0.0\", \"x\": \"running\", \"y\": \"walking\", \"xref\": \"x1\", \"yref\": \"y1\", \"font\": {\"color\": \"#FFFFFF\"}, \"showarrow\": false}, {\"text\": \"93.28\", \"x\": \"walking\", \"y\": \"walking\", \"xref\": \"x1\", \"yref\": \"y1\", \"font\": {\"color\": \"#000000\"}, \"showarrow\": false}, {\"text\": \"4.2\", \"x\": \"car\", \"y\": \"walking\", \"xref\": \"x1\", \"yref\": \"y1\", \"font\": {\"color\": \"#FFFFFF\"}, \"showarrow\": false}, {\"text\": \"0.0\", \"x\": \"bike\", \"y\": \"walking\", \"xref\": \"x1\", \"yref\": \"y1\", \"font\": {\"color\": \"#FFFFFF\"}, \"showarrow\": false}, {\"text\": \"1.68\", \"x\": \"upstairs\", \"y\": \"walking\", \"xref\": \"x1\", \"yref\": \"y1\", \"font\": {\"color\": \"#FFFFFF\"}, \"showarrow\": false}, {\"text\": \"0.84\", \"x\": \"downstairs\", \"y\": \"walking\", \"xref\": \"x1\", \"yref\": \"y1\", \"font\": {\"color\": \"#FFFFFF\"}, \"showarrow\": false}, {\"text\": \"1.37\", \"x\": \"running\", \"y\": \"car\", \"xref\": \"x1\", \"yref\": \"y1\", \"font\": {\"color\": \"#FFFFFF\"}, \"showarrow\": false}, {\"text\": \"2.74\", \"x\": \"walking\", \"y\": \"car\", \"xref\": \"x1\", \"yref\": \"y1\", \"font\": {\"color\": \"#FFFFFF\"}, \"showarrow\": false}, {\"text\": \"90.41\", \"x\": \"car\", \"y\": \"car\", \"xref\": \"x1\", \"yref\": \"y1\", \"font\": {\"color\": \"#000000\"}, \"showarrow\": false}, {\"text\": \"0.0\", \"x\": \"bike\", \"y\": \"car\", \"xref\": \"x1\", \"yref\": \"y1\", \"font\": {\"color\": \"#FFFFFF\"}, \"showarrow\": false}, {\"text\": \"3.2\", \"x\": \"upstairs\", \"y\": \"car\", \"xref\": \"x1\", \"yref\": \"y1\", \"font\": {\"color\": \"#FFFFFF\"}, \"showarrow\": false}, {\"text\": \"2.28\", \"x\": \"downstairs\", \"y\": \"car\", \"xref\": \"x1\", \"yref\": \"y1\", \"font\": {\"color\": \"#FFFFFF\"}, \"showarrow\": false}, {\"text\": \"0.0\", \"x\": \"running\", \"y\": \"bike\", \"xref\": \"x1\", \"yref\": \"y1\", \"font\": {\"color\": \"#FFFFFF\"}, \"showarrow\": false}, {\"text\": \"14.29\", \"x\": \"walking\", \"y\": \"bike\", \"xref\": \"x1\", \"yref\": \"y1\", \"font\": {\"color\": \"#FFFFFF\"}, \"showarrow\": false}, {\"text\": \"14.29\", \"x\": \"car\", \"y\": \"bike\", \"xref\": \"x1\", \"yref\": \"y1\", \"font\": {\"color\": \"#FFFFFF\"}, \"showarrow\": false}, {\"text\": \"71.43\", \"x\": \"bike\", \"y\": \"bike\", \"xref\": \"x1\", \"yref\": \"y1\", \"font\": {\"color\": \"#000000\"}, \"showarrow\": false}, {\"text\": \"0.0\", \"x\": \"upstairs\", \"y\": \"bike\", \"xref\": \"x1\", \"yref\": \"y1\", \"font\": {\"color\": \"#FFFFFF\"}, \"showarrow\": false}, {\"text\": \"0.0\", \"x\": \"downstairs\", \"y\": \"bike\", \"xref\": \"x1\", \"yref\": \"y1\", \"font\": {\"color\": \"#FFFFFF\"}, \"showarrow\": false}, {\"text\": \"7.46\", \"x\": \"running\", \"y\": \"upstairs\", \"xref\": \"x1\", \"yref\": \"y1\", \"font\": {\"color\": \"#FFFFFF\"}, \"showarrow\": false}, {\"text\": \"19.4\", \"x\": \"walking\", \"y\": \"upstairs\", \"xref\": \"x1\", \"yref\": \"y1\", \"font\": {\"color\": \"#FFFFFF\"}, \"showarrow\": false}, {\"text\": \"7.46\", \"x\": \"car\", \"y\": \"upstairs\", \"xref\": \"x1\", \"yref\": \"y1\", \"font\": {\"color\": \"#FFFFFF\"}, \"showarrow\": false}, {\"text\": \"0.0\", \"x\": \"bike\", \"y\": \"upstairs\", \"xref\": \"x1\", \"yref\": \"y1\", \"font\": {\"color\": \"#FFFFFF\"}, \"showarrow\": false}, {\"text\": \"58.21\", \"x\": \"upstairs\", \"y\": \"upstairs\", \"xref\": \"x1\", \"yref\": \"y1\", \"font\": {\"color\": \"#000000\"}, \"showarrow\": false}, {\"text\": \"7.46\", \"x\": \"downstairs\", \"y\": \"upstairs\", \"xref\": \"x1\", \"yref\": \"y1\", \"font\": {\"color\": \"#FFFFFF\"}, \"showarrow\": false}, {\"text\": \"4.88\", \"x\": \"running\", \"y\": \"downstairs\", \"xref\": \"x1\", \"yref\": \"y1\", \"font\": {\"color\": \"#FFFFFF\"}, \"showarrow\": false}, {\"text\": \"26.83\", \"x\": \"walking\", \"y\": \"downstairs\", \"xref\": \"x1\", \"yref\": \"y1\", \"font\": {\"color\": \"#FFFFFF\"}, \"showarrow\": false}, {\"text\": \"9.76\", \"x\": \"car\", \"y\": \"downstairs\", \"xref\": \"x1\", \"yref\": \"y1\", \"font\": {\"color\": \"#FFFFFF\"}, \"showarrow\": false}, {\"text\": \"2.44\", \"x\": \"bike\", \"y\": \"downstairs\", \"xref\": \"x1\", \"yref\": \"y1\", \"font\": {\"color\": \"#FFFFFF\"}, \"showarrow\": false}, {\"text\": \"19.51\", \"x\": \"upstairs\", \"y\": \"downstairs\", \"xref\": \"x1\", \"yref\": \"y1\", \"font\": {\"color\": \"#FFFFFF\"}, \"showarrow\": false}, {\"text\": \"36.59\", \"x\": \"downstairs\", \"y\": \"downstairs\", \"xref\": \"x1\", \"yref\": \"y1\", \"font\": {\"color\": \"#FFFFFF\"}, \"showarrow\": false}], \"xaxis\": {\"ticks\": \"\", \"dtick\": 1, \"side\": \"top\", \"gridcolor\": \"rgb(0, 0, 0)\"}, \"yaxis\": {\"ticks\": \"\", \"dtick\": 1, \"ticksuffix\": \"  \", \"autorange\": \"reversed\"}, \"title\": \"MLP - overall accuracy: 82.89%\"}, {\"showLink\": true, \"linkText\": \"Export to plot.ly\"})});</script>"
      ],
      "text/vnd.plotly.v1+html": [
       "<div id=\"97875beb-c9b3-453c-89e7-7b00f14e03f0\" style=\"height: 525px; width: 100%;\" class=\"plotly-graph-div\"></div><script type=\"text/javascript\">require([\"plotly\"], function(Plotly) { window.PLOTLYENV=window.PLOTLYENV || {};window.PLOTLYENV.BASE_URL=\"https://plot.ly\";Plotly.newPlot(\"97875beb-c9b3-453c-89e7-7b00f14e03f0\", [{\"type\": \"heatmap\", \"z\": [[89.47, 5.26, 1.75, 0.0, 1.75, 1.75], [0.0, 93.28, 4.2, 0.0, 1.68, 0.84], [1.37, 2.74, 90.41, 0.0, 3.2, 2.28], [0.0, 14.29, 14.29, 71.43, 0.0, 0.0], [7.46, 19.4, 7.46, 0.0, 58.21, 7.46], [4.88, 26.83, 9.76, 2.44, 19.51, 36.59]], \"x\": [\"running\", \"walking\", \"car\", \"bike\", \"upstairs\", \"downstairs\"], \"y\": [\"running\", \"walking\", \"car\", \"bike\", \"upstairs\", \"downstairs\"], \"colorscale\": \"RdBu\", \"showscale\": false}], {\"annotations\": [{\"text\": \"89.47\", \"x\": \"running\", \"y\": \"running\", \"xref\": \"x1\", \"yref\": \"y1\", \"font\": {\"color\": \"#000000\"}, \"showarrow\": false}, {\"text\": \"5.26\", \"x\": \"walking\", \"y\": \"running\", \"xref\": \"x1\", \"yref\": \"y1\", \"font\": {\"color\": \"#FFFFFF\"}, \"showarrow\": false}, {\"text\": \"1.75\", \"x\": \"car\", \"y\": \"running\", \"xref\": \"x1\", \"yref\": \"y1\", \"font\": {\"color\": \"#FFFFFF\"}, \"showarrow\": false}, {\"text\": \"0.0\", \"x\": \"bike\", \"y\": \"running\", \"xref\": \"x1\", \"yref\": \"y1\", \"font\": {\"color\": \"#FFFFFF\"}, \"showarrow\": false}, {\"text\": \"1.75\", \"x\": \"upstairs\", \"y\": \"running\", \"xref\": \"x1\", \"yref\": \"y1\", \"font\": {\"color\": \"#FFFFFF\"}, \"showarrow\": false}, {\"text\": \"1.75\", \"x\": \"downstairs\", \"y\": \"running\", \"xref\": \"x1\", \"yref\": \"y1\", \"font\": {\"color\": \"#FFFFFF\"}, \"showarrow\": false}, {\"text\": \"0.0\", \"x\": \"running\", \"y\": \"walking\", \"xref\": \"x1\", \"yref\": \"y1\", \"font\": {\"color\": \"#FFFFFF\"}, \"showarrow\": false}, {\"text\": \"93.28\", \"x\": \"walking\", \"y\": \"walking\", \"xref\": \"x1\", \"yref\": \"y1\", \"font\": {\"color\": \"#000000\"}, \"showarrow\": false}, {\"text\": \"4.2\", \"x\": \"car\", \"y\": \"walking\", \"xref\": \"x1\", \"yref\": \"y1\", \"font\": {\"color\": \"#FFFFFF\"}, \"showarrow\": false}, {\"text\": \"0.0\", \"x\": \"bike\", \"y\": \"walking\", \"xref\": \"x1\", \"yref\": \"y1\", \"font\": {\"color\": \"#FFFFFF\"}, \"showarrow\": false}, {\"text\": \"1.68\", \"x\": \"upstairs\", \"y\": \"walking\", \"xref\": \"x1\", \"yref\": \"y1\", \"font\": {\"color\": \"#FFFFFF\"}, \"showarrow\": false}, {\"text\": \"0.84\", \"x\": \"downstairs\", \"y\": \"walking\", \"xref\": \"x1\", \"yref\": \"y1\", \"font\": {\"color\": \"#FFFFFF\"}, \"showarrow\": false}, {\"text\": \"1.37\", \"x\": \"running\", \"y\": \"car\", \"xref\": \"x1\", \"yref\": \"y1\", \"font\": {\"color\": \"#FFFFFF\"}, \"showarrow\": false}, {\"text\": \"2.74\", \"x\": \"walking\", \"y\": \"car\", \"xref\": \"x1\", \"yref\": \"y1\", \"font\": {\"color\": \"#FFFFFF\"}, \"showarrow\": false}, {\"text\": \"90.41\", \"x\": \"car\", \"y\": \"car\", \"xref\": \"x1\", \"yref\": \"y1\", \"font\": {\"color\": \"#000000\"}, \"showarrow\": false}, {\"text\": \"0.0\", \"x\": \"bike\", \"y\": \"car\", \"xref\": \"x1\", \"yref\": \"y1\", \"font\": {\"color\": \"#FFFFFF\"}, \"showarrow\": false}, {\"text\": \"3.2\", \"x\": \"upstairs\", \"y\": \"car\", \"xref\": \"x1\", \"yref\": \"y1\", \"font\": {\"color\": \"#FFFFFF\"}, \"showarrow\": false}, {\"text\": \"2.28\", \"x\": \"downstairs\", \"y\": \"car\", \"xref\": \"x1\", \"yref\": \"y1\", \"font\": {\"color\": \"#FFFFFF\"}, \"showarrow\": false}, {\"text\": \"0.0\", \"x\": \"running\", \"y\": \"bike\", \"xref\": \"x1\", \"yref\": \"y1\", \"font\": {\"color\": \"#FFFFFF\"}, \"showarrow\": false}, {\"text\": \"14.29\", \"x\": \"walking\", \"y\": \"bike\", \"xref\": \"x1\", \"yref\": \"y1\", \"font\": {\"color\": \"#FFFFFF\"}, \"showarrow\": false}, {\"text\": \"14.29\", \"x\": \"car\", \"y\": \"bike\", \"xref\": \"x1\", \"yref\": \"y1\", \"font\": {\"color\": \"#FFFFFF\"}, \"showarrow\": false}, {\"text\": \"71.43\", \"x\": \"bike\", \"y\": \"bike\", \"xref\": \"x1\", \"yref\": \"y1\", \"font\": {\"color\": \"#000000\"}, \"showarrow\": false}, {\"text\": \"0.0\", \"x\": \"upstairs\", \"y\": \"bike\", \"xref\": \"x1\", \"yref\": \"y1\", \"font\": {\"color\": \"#FFFFFF\"}, \"showarrow\": false}, {\"text\": \"0.0\", \"x\": \"downstairs\", \"y\": \"bike\", \"xref\": \"x1\", \"yref\": \"y1\", \"font\": {\"color\": \"#FFFFFF\"}, \"showarrow\": false}, {\"text\": \"7.46\", \"x\": \"running\", \"y\": \"upstairs\", \"xref\": \"x1\", \"yref\": \"y1\", \"font\": {\"color\": \"#FFFFFF\"}, \"showarrow\": false}, {\"text\": \"19.4\", \"x\": \"walking\", \"y\": \"upstairs\", \"xref\": \"x1\", \"yref\": \"y1\", \"font\": {\"color\": \"#FFFFFF\"}, \"showarrow\": false}, {\"text\": \"7.46\", \"x\": \"car\", \"y\": \"upstairs\", \"xref\": \"x1\", \"yref\": \"y1\", \"font\": {\"color\": \"#FFFFFF\"}, \"showarrow\": false}, {\"text\": \"0.0\", \"x\": \"bike\", \"y\": \"upstairs\", \"xref\": \"x1\", \"yref\": \"y1\", \"font\": {\"color\": \"#FFFFFF\"}, \"showarrow\": false}, {\"text\": \"58.21\", \"x\": \"upstairs\", \"y\": \"upstairs\", \"xref\": \"x1\", \"yref\": \"y1\", \"font\": {\"color\": \"#000000\"}, \"showarrow\": false}, {\"text\": \"7.46\", \"x\": \"downstairs\", \"y\": \"upstairs\", \"xref\": \"x1\", \"yref\": \"y1\", \"font\": {\"color\": \"#FFFFFF\"}, \"showarrow\": false}, {\"text\": \"4.88\", \"x\": \"running\", \"y\": \"downstairs\", \"xref\": \"x1\", \"yref\": \"y1\", \"font\": {\"color\": \"#FFFFFF\"}, \"showarrow\": false}, {\"text\": \"26.83\", \"x\": \"walking\", \"y\": \"downstairs\", \"xref\": \"x1\", \"yref\": \"y1\", \"font\": {\"color\": \"#FFFFFF\"}, \"showarrow\": false}, {\"text\": \"9.76\", \"x\": \"car\", \"y\": \"downstairs\", \"xref\": \"x1\", \"yref\": \"y1\", \"font\": {\"color\": \"#FFFFFF\"}, \"showarrow\": false}, {\"text\": \"2.44\", \"x\": \"bike\", \"y\": \"downstairs\", \"xref\": \"x1\", \"yref\": \"y1\", \"font\": {\"color\": \"#FFFFFF\"}, \"showarrow\": false}, {\"text\": \"19.51\", \"x\": \"upstairs\", \"y\": \"downstairs\", \"xref\": \"x1\", \"yref\": \"y1\", \"font\": {\"color\": \"#FFFFFF\"}, \"showarrow\": false}, {\"text\": \"36.59\", \"x\": \"downstairs\", \"y\": \"downstairs\", \"xref\": \"x1\", \"yref\": \"y1\", \"font\": {\"color\": \"#FFFFFF\"}, \"showarrow\": false}], \"xaxis\": {\"ticks\": \"\", \"dtick\": 1, \"side\": \"top\", \"gridcolor\": \"rgb(0, 0, 0)\"}, \"yaxis\": {\"ticks\": \"\", \"dtick\": 1, \"ticksuffix\": \"  \", \"autorange\": \"reversed\"}, \"title\": \"MLP - overall accuracy: 82.89%\"}, {\"showLink\": true, \"linkText\": \"Export to plot.ly\"})});</script>"
      ]
     },
     "metadata": {},
     "output_type": "display_data"
    },
    {
     "data": {
      "application/vnd.plotly.v1+json": {
       "data": [
        {
         "colorscale": "RdBu",
         "showscale": false,
         "type": "heatmap",
         "x": [
          "running",
          "walking",
          "car",
          "bike",
          "upstairs",
          "downstairs"
         ],
         "y": [
          "running",
          "walking",
          "car",
          "bike",
          "upstairs",
          "downstairs"
         ],
         "z": [
          [
           92.11,
           7.02,
           0,
           0,
           0,
           0.88
          ],
          [
           4.2,
           93.28,
           1.68,
           0,
           0.84,
           0
          ],
          [
           6.39,
           7.76,
           81.28,
           0.91,
           2.28,
           1.37
          ],
          [
           14.29,
           28.57,
           14.29,
           42.86,
           0,
           0
          ],
          [
           23.88,
           17.91,
           2.99,
           0,
           53.73,
           1.49
          ],
          [
           29.27,
           41.46,
           7.32,
           0,
           2.44,
           19.51
          ]
         ]
        }
       ],
       "layout": {
        "annotations": [
         {
          "font": {
           "color": "#000000"
          },
          "showarrow": false,
          "text": "92.11",
          "x": "running",
          "xref": "x1",
          "y": "running",
          "yref": "y1"
         },
         {
          "font": {
           "color": "#FFFFFF"
          },
          "showarrow": false,
          "text": "7.02",
          "x": "walking",
          "xref": "x1",
          "y": "running",
          "yref": "y1"
         },
         {
          "font": {
           "color": "#FFFFFF"
          },
          "showarrow": false,
          "text": "0.0",
          "x": "car",
          "xref": "x1",
          "y": "running",
          "yref": "y1"
         },
         {
          "font": {
           "color": "#FFFFFF"
          },
          "showarrow": false,
          "text": "0.0",
          "x": "bike",
          "xref": "x1",
          "y": "running",
          "yref": "y1"
         },
         {
          "font": {
           "color": "#FFFFFF"
          },
          "showarrow": false,
          "text": "0.0",
          "x": "upstairs",
          "xref": "x1",
          "y": "running",
          "yref": "y1"
         },
         {
          "font": {
           "color": "#FFFFFF"
          },
          "showarrow": false,
          "text": "0.88",
          "x": "downstairs",
          "xref": "x1",
          "y": "running",
          "yref": "y1"
         },
         {
          "font": {
           "color": "#FFFFFF"
          },
          "showarrow": false,
          "text": "4.2",
          "x": "running",
          "xref": "x1",
          "y": "walking",
          "yref": "y1"
         },
         {
          "font": {
           "color": "#000000"
          },
          "showarrow": false,
          "text": "93.28",
          "x": "walking",
          "xref": "x1",
          "y": "walking",
          "yref": "y1"
         },
         {
          "font": {
           "color": "#FFFFFF"
          },
          "showarrow": false,
          "text": "1.68",
          "x": "car",
          "xref": "x1",
          "y": "walking",
          "yref": "y1"
         },
         {
          "font": {
           "color": "#FFFFFF"
          },
          "showarrow": false,
          "text": "0.0",
          "x": "bike",
          "xref": "x1",
          "y": "walking",
          "yref": "y1"
         },
         {
          "font": {
           "color": "#FFFFFF"
          },
          "showarrow": false,
          "text": "0.84",
          "x": "upstairs",
          "xref": "x1",
          "y": "walking",
          "yref": "y1"
         },
         {
          "font": {
           "color": "#FFFFFF"
          },
          "showarrow": false,
          "text": "0.0",
          "x": "downstairs",
          "xref": "x1",
          "y": "walking",
          "yref": "y1"
         },
         {
          "font": {
           "color": "#FFFFFF"
          },
          "showarrow": false,
          "text": "6.39",
          "x": "running",
          "xref": "x1",
          "y": "car",
          "yref": "y1"
         },
         {
          "font": {
           "color": "#FFFFFF"
          },
          "showarrow": false,
          "text": "7.76",
          "x": "walking",
          "xref": "x1",
          "y": "car",
          "yref": "y1"
         },
         {
          "font": {
           "color": "#000000"
          },
          "showarrow": false,
          "text": "81.28",
          "x": "car",
          "xref": "x1",
          "y": "car",
          "yref": "y1"
         },
         {
          "font": {
           "color": "#FFFFFF"
          },
          "showarrow": false,
          "text": "0.91",
          "x": "bike",
          "xref": "x1",
          "y": "car",
          "yref": "y1"
         },
         {
          "font": {
           "color": "#FFFFFF"
          },
          "showarrow": false,
          "text": "2.28",
          "x": "upstairs",
          "xref": "x1",
          "y": "car",
          "yref": "y1"
         },
         {
          "font": {
           "color": "#FFFFFF"
          },
          "showarrow": false,
          "text": "1.37",
          "x": "downstairs",
          "xref": "x1",
          "y": "car",
          "yref": "y1"
         },
         {
          "font": {
           "color": "#FFFFFF"
          },
          "showarrow": false,
          "text": "14.29",
          "x": "running",
          "xref": "x1",
          "y": "bike",
          "yref": "y1"
         },
         {
          "font": {
           "color": "#FFFFFF"
          },
          "showarrow": false,
          "text": "28.57",
          "x": "walking",
          "xref": "x1",
          "y": "bike",
          "yref": "y1"
         },
         {
          "font": {
           "color": "#FFFFFF"
          },
          "showarrow": false,
          "text": "14.29",
          "x": "car",
          "xref": "x1",
          "y": "bike",
          "yref": "y1"
         },
         {
          "font": {
           "color": "#FFFFFF"
          },
          "showarrow": false,
          "text": "42.86",
          "x": "bike",
          "xref": "x1",
          "y": "bike",
          "yref": "y1"
         },
         {
          "font": {
           "color": "#FFFFFF"
          },
          "showarrow": false,
          "text": "0.0",
          "x": "upstairs",
          "xref": "x1",
          "y": "bike",
          "yref": "y1"
         },
         {
          "font": {
           "color": "#FFFFFF"
          },
          "showarrow": false,
          "text": "0.0",
          "x": "downstairs",
          "xref": "x1",
          "y": "bike",
          "yref": "y1"
         },
         {
          "font": {
           "color": "#FFFFFF"
          },
          "showarrow": false,
          "text": "23.88",
          "x": "running",
          "xref": "x1",
          "y": "upstairs",
          "yref": "y1"
         },
         {
          "font": {
           "color": "#FFFFFF"
          },
          "showarrow": false,
          "text": "17.91",
          "x": "walking",
          "xref": "x1",
          "y": "upstairs",
          "yref": "y1"
         },
         {
          "font": {
           "color": "#FFFFFF"
          },
          "showarrow": false,
          "text": "2.99",
          "x": "car",
          "xref": "x1",
          "y": "upstairs",
          "yref": "y1"
         },
         {
          "font": {
           "color": "#FFFFFF"
          },
          "showarrow": false,
          "text": "0.0",
          "x": "bike",
          "xref": "x1",
          "y": "upstairs",
          "yref": "y1"
         },
         {
          "font": {
           "color": "#000000"
          },
          "showarrow": false,
          "text": "53.73",
          "x": "upstairs",
          "xref": "x1",
          "y": "upstairs",
          "yref": "y1"
         },
         {
          "font": {
           "color": "#FFFFFF"
          },
          "showarrow": false,
          "text": "1.49",
          "x": "downstairs",
          "xref": "x1",
          "y": "upstairs",
          "yref": "y1"
         },
         {
          "font": {
           "color": "#FFFFFF"
          },
          "showarrow": false,
          "text": "29.27",
          "x": "running",
          "xref": "x1",
          "y": "downstairs",
          "yref": "y1"
         },
         {
          "font": {
           "color": "#FFFFFF"
          },
          "showarrow": false,
          "text": "41.46",
          "x": "walking",
          "xref": "x1",
          "y": "downstairs",
          "yref": "y1"
         },
         {
          "font": {
           "color": "#FFFFFF"
          },
          "showarrow": false,
          "text": "7.32",
          "x": "car",
          "xref": "x1",
          "y": "downstairs",
          "yref": "y1"
         },
         {
          "font": {
           "color": "#FFFFFF"
          },
          "showarrow": false,
          "text": "0.0",
          "x": "bike",
          "xref": "x1",
          "y": "downstairs",
          "yref": "y1"
         },
         {
          "font": {
           "color": "#FFFFFF"
          },
          "showarrow": false,
          "text": "2.44",
          "x": "upstairs",
          "xref": "x1",
          "y": "downstairs",
          "yref": "y1"
         },
         {
          "font": {
           "color": "#FFFFFF"
          },
          "showarrow": false,
          "text": "19.51",
          "x": "downstairs",
          "xref": "x1",
          "y": "downstairs",
          "yref": "y1"
         }
        ],
        "title": "KNN - overall accuracy: 77.78%",
        "xaxis": {
         "dtick": 1,
         "gridcolor": "rgb(0, 0, 0)",
         "side": "top",
         "ticks": ""
        },
        "yaxis": {
         "autorange": "reversed",
         "dtick": 1,
         "ticks": "",
         "ticksuffix": "  "
        }
       }
      },
      "text/html": [
       "<div id=\"ec88b799-4617-4873-9bfe-221fb5a7c3e6\" style=\"height: 525px; width: 100%;\" class=\"plotly-graph-div\"></div><script type=\"text/javascript\">require([\"plotly\"], function(Plotly) { window.PLOTLYENV=window.PLOTLYENV || {};window.PLOTLYENV.BASE_URL=\"https://plot.ly\";Plotly.newPlot(\"ec88b799-4617-4873-9bfe-221fb5a7c3e6\", [{\"type\": \"heatmap\", \"z\": [[92.11, 7.02, 0.0, 0.0, 0.0, 0.88], [4.2, 93.28, 1.68, 0.0, 0.84, 0.0], [6.39, 7.76, 81.28, 0.91, 2.28, 1.37], [14.29, 28.57, 14.29, 42.86, 0.0, 0.0], [23.88, 17.91, 2.99, 0.0, 53.73, 1.49], [29.27, 41.46, 7.32, 0.0, 2.44, 19.51]], \"x\": [\"running\", \"walking\", \"car\", \"bike\", \"upstairs\", \"downstairs\"], \"y\": [\"running\", \"walking\", \"car\", \"bike\", \"upstairs\", \"downstairs\"], \"colorscale\": \"RdBu\", \"showscale\": false}], {\"annotations\": [{\"text\": \"92.11\", \"x\": \"running\", \"y\": \"running\", \"xref\": \"x1\", \"yref\": \"y1\", \"font\": {\"color\": \"#000000\"}, \"showarrow\": false}, {\"text\": \"7.02\", \"x\": \"walking\", \"y\": \"running\", \"xref\": \"x1\", \"yref\": \"y1\", \"font\": {\"color\": \"#FFFFFF\"}, \"showarrow\": false}, {\"text\": \"0.0\", \"x\": \"car\", \"y\": \"running\", \"xref\": \"x1\", \"yref\": \"y1\", \"font\": {\"color\": \"#FFFFFF\"}, \"showarrow\": false}, {\"text\": \"0.0\", \"x\": \"bike\", \"y\": \"running\", \"xref\": \"x1\", \"yref\": \"y1\", \"font\": {\"color\": \"#FFFFFF\"}, \"showarrow\": false}, {\"text\": \"0.0\", \"x\": \"upstairs\", \"y\": \"running\", \"xref\": \"x1\", \"yref\": \"y1\", \"font\": {\"color\": \"#FFFFFF\"}, \"showarrow\": false}, {\"text\": \"0.88\", \"x\": \"downstairs\", \"y\": \"running\", \"xref\": \"x1\", \"yref\": \"y1\", \"font\": {\"color\": \"#FFFFFF\"}, \"showarrow\": false}, {\"text\": \"4.2\", \"x\": \"running\", \"y\": \"walking\", \"xref\": \"x1\", \"yref\": \"y1\", \"font\": {\"color\": \"#FFFFFF\"}, \"showarrow\": false}, {\"text\": \"93.28\", \"x\": \"walking\", \"y\": \"walking\", \"xref\": \"x1\", \"yref\": \"y1\", \"font\": {\"color\": \"#000000\"}, \"showarrow\": false}, {\"text\": \"1.68\", \"x\": \"car\", \"y\": \"walking\", \"xref\": \"x1\", \"yref\": \"y1\", \"font\": {\"color\": \"#FFFFFF\"}, \"showarrow\": false}, {\"text\": \"0.0\", \"x\": \"bike\", \"y\": \"walking\", \"xref\": \"x1\", \"yref\": \"y1\", \"font\": {\"color\": \"#FFFFFF\"}, \"showarrow\": false}, {\"text\": \"0.84\", \"x\": \"upstairs\", \"y\": \"walking\", \"xref\": \"x1\", \"yref\": \"y1\", \"font\": {\"color\": \"#FFFFFF\"}, \"showarrow\": false}, {\"text\": \"0.0\", \"x\": \"downstairs\", \"y\": \"walking\", \"xref\": \"x1\", \"yref\": \"y1\", \"font\": {\"color\": \"#FFFFFF\"}, \"showarrow\": false}, {\"text\": \"6.39\", \"x\": \"running\", \"y\": \"car\", \"xref\": \"x1\", \"yref\": \"y1\", \"font\": {\"color\": \"#FFFFFF\"}, \"showarrow\": false}, {\"text\": \"7.76\", \"x\": \"walking\", \"y\": \"car\", \"xref\": \"x1\", \"yref\": \"y1\", \"font\": {\"color\": \"#FFFFFF\"}, \"showarrow\": false}, {\"text\": \"81.28\", \"x\": \"car\", \"y\": \"car\", \"xref\": \"x1\", \"yref\": \"y1\", \"font\": {\"color\": \"#000000\"}, \"showarrow\": false}, {\"text\": \"0.91\", \"x\": \"bike\", \"y\": \"car\", \"xref\": \"x1\", \"yref\": \"y1\", \"font\": {\"color\": \"#FFFFFF\"}, \"showarrow\": false}, {\"text\": \"2.28\", \"x\": \"upstairs\", \"y\": \"car\", \"xref\": \"x1\", \"yref\": \"y1\", \"font\": {\"color\": \"#FFFFFF\"}, \"showarrow\": false}, {\"text\": \"1.37\", \"x\": \"downstairs\", \"y\": \"car\", \"xref\": \"x1\", \"yref\": \"y1\", \"font\": {\"color\": \"#FFFFFF\"}, \"showarrow\": false}, {\"text\": \"14.29\", \"x\": \"running\", \"y\": \"bike\", \"xref\": \"x1\", \"yref\": \"y1\", \"font\": {\"color\": \"#FFFFFF\"}, \"showarrow\": false}, {\"text\": \"28.57\", \"x\": \"walking\", \"y\": \"bike\", \"xref\": \"x1\", \"yref\": \"y1\", \"font\": {\"color\": \"#FFFFFF\"}, \"showarrow\": false}, {\"text\": \"14.29\", \"x\": \"car\", \"y\": \"bike\", \"xref\": \"x1\", \"yref\": \"y1\", \"font\": {\"color\": \"#FFFFFF\"}, \"showarrow\": false}, {\"text\": \"42.86\", \"x\": \"bike\", \"y\": \"bike\", \"xref\": \"x1\", \"yref\": \"y1\", \"font\": {\"color\": \"#FFFFFF\"}, \"showarrow\": false}, {\"text\": \"0.0\", \"x\": \"upstairs\", \"y\": \"bike\", \"xref\": \"x1\", \"yref\": \"y1\", \"font\": {\"color\": \"#FFFFFF\"}, \"showarrow\": false}, {\"text\": \"0.0\", \"x\": \"downstairs\", \"y\": \"bike\", \"xref\": \"x1\", \"yref\": \"y1\", \"font\": {\"color\": \"#FFFFFF\"}, \"showarrow\": false}, {\"text\": \"23.88\", \"x\": \"running\", \"y\": \"upstairs\", \"xref\": \"x1\", \"yref\": \"y1\", \"font\": {\"color\": \"#FFFFFF\"}, \"showarrow\": false}, {\"text\": \"17.91\", \"x\": \"walking\", \"y\": \"upstairs\", \"xref\": \"x1\", \"yref\": \"y1\", \"font\": {\"color\": \"#FFFFFF\"}, \"showarrow\": false}, {\"text\": \"2.99\", \"x\": \"car\", \"y\": \"upstairs\", \"xref\": \"x1\", \"yref\": \"y1\", \"font\": {\"color\": \"#FFFFFF\"}, \"showarrow\": false}, {\"text\": \"0.0\", \"x\": \"bike\", \"y\": \"upstairs\", \"xref\": \"x1\", \"yref\": \"y1\", \"font\": {\"color\": \"#FFFFFF\"}, \"showarrow\": false}, {\"text\": \"53.73\", \"x\": \"upstairs\", \"y\": \"upstairs\", \"xref\": \"x1\", \"yref\": \"y1\", \"font\": {\"color\": \"#000000\"}, \"showarrow\": false}, {\"text\": \"1.49\", \"x\": \"downstairs\", \"y\": \"upstairs\", \"xref\": \"x1\", \"yref\": \"y1\", \"font\": {\"color\": \"#FFFFFF\"}, \"showarrow\": false}, {\"text\": \"29.27\", \"x\": \"running\", \"y\": \"downstairs\", \"xref\": \"x1\", \"yref\": \"y1\", \"font\": {\"color\": \"#FFFFFF\"}, \"showarrow\": false}, {\"text\": \"41.46\", \"x\": \"walking\", \"y\": \"downstairs\", \"xref\": \"x1\", \"yref\": \"y1\", \"font\": {\"color\": \"#FFFFFF\"}, \"showarrow\": false}, {\"text\": \"7.32\", \"x\": \"car\", \"y\": \"downstairs\", \"xref\": \"x1\", \"yref\": \"y1\", \"font\": {\"color\": \"#FFFFFF\"}, \"showarrow\": false}, {\"text\": \"0.0\", \"x\": \"bike\", \"y\": \"downstairs\", \"xref\": \"x1\", \"yref\": \"y1\", \"font\": {\"color\": \"#FFFFFF\"}, \"showarrow\": false}, {\"text\": \"2.44\", \"x\": \"upstairs\", \"y\": \"downstairs\", \"xref\": \"x1\", \"yref\": \"y1\", \"font\": {\"color\": \"#FFFFFF\"}, \"showarrow\": false}, {\"text\": \"19.51\", \"x\": \"downstairs\", \"y\": \"downstairs\", \"xref\": \"x1\", \"yref\": \"y1\", \"font\": {\"color\": \"#FFFFFF\"}, \"showarrow\": false}], \"xaxis\": {\"ticks\": \"\", \"dtick\": 1, \"side\": \"top\", \"gridcolor\": \"rgb(0, 0, 0)\"}, \"yaxis\": {\"ticks\": \"\", \"dtick\": 1, \"ticksuffix\": \"  \", \"autorange\": \"reversed\"}, \"title\": \"KNN - overall accuracy: 77.78%\"}, {\"showLink\": true, \"linkText\": \"Export to plot.ly\"})});</script>"
      ],
      "text/vnd.plotly.v1+html": [
       "<div id=\"ec88b799-4617-4873-9bfe-221fb5a7c3e6\" style=\"height: 525px; width: 100%;\" class=\"plotly-graph-div\"></div><script type=\"text/javascript\">require([\"plotly\"], function(Plotly) { window.PLOTLYENV=window.PLOTLYENV || {};window.PLOTLYENV.BASE_URL=\"https://plot.ly\";Plotly.newPlot(\"ec88b799-4617-4873-9bfe-221fb5a7c3e6\", [{\"type\": \"heatmap\", \"z\": [[92.11, 7.02, 0.0, 0.0, 0.0, 0.88], [4.2, 93.28, 1.68, 0.0, 0.84, 0.0], [6.39, 7.76, 81.28, 0.91, 2.28, 1.37], [14.29, 28.57, 14.29, 42.86, 0.0, 0.0], [23.88, 17.91, 2.99, 0.0, 53.73, 1.49], [29.27, 41.46, 7.32, 0.0, 2.44, 19.51]], \"x\": [\"running\", \"walking\", \"car\", \"bike\", \"upstairs\", \"downstairs\"], \"y\": [\"running\", \"walking\", \"car\", \"bike\", \"upstairs\", \"downstairs\"], \"colorscale\": \"RdBu\", \"showscale\": false}], {\"annotations\": [{\"text\": \"92.11\", \"x\": \"running\", \"y\": \"running\", \"xref\": \"x1\", \"yref\": \"y1\", \"font\": {\"color\": \"#000000\"}, \"showarrow\": false}, {\"text\": \"7.02\", \"x\": \"walking\", \"y\": \"running\", \"xref\": \"x1\", \"yref\": \"y1\", \"font\": {\"color\": \"#FFFFFF\"}, \"showarrow\": false}, {\"text\": \"0.0\", \"x\": \"car\", \"y\": \"running\", \"xref\": \"x1\", \"yref\": \"y1\", \"font\": {\"color\": \"#FFFFFF\"}, \"showarrow\": false}, {\"text\": \"0.0\", \"x\": \"bike\", \"y\": \"running\", \"xref\": \"x1\", \"yref\": \"y1\", \"font\": {\"color\": \"#FFFFFF\"}, \"showarrow\": false}, {\"text\": \"0.0\", \"x\": \"upstairs\", \"y\": \"running\", \"xref\": \"x1\", \"yref\": \"y1\", \"font\": {\"color\": \"#FFFFFF\"}, \"showarrow\": false}, {\"text\": \"0.88\", \"x\": \"downstairs\", \"y\": \"running\", \"xref\": \"x1\", \"yref\": \"y1\", \"font\": {\"color\": \"#FFFFFF\"}, \"showarrow\": false}, {\"text\": \"4.2\", \"x\": \"running\", \"y\": \"walking\", \"xref\": \"x1\", \"yref\": \"y1\", \"font\": {\"color\": \"#FFFFFF\"}, \"showarrow\": false}, {\"text\": \"93.28\", \"x\": \"walking\", \"y\": \"walking\", \"xref\": \"x1\", \"yref\": \"y1\", \"font\": {\"color\": \"#000000\"}, \"showarrow\": false}, {\"text\": \"1.68\", \"x\": \"car\", \"y\": \"walking\", \"xref\": \"x1\", \"yref\": \"y1\", \"font\": {\"color\": \"#FFFFFF\"}, \"showarrow\": false}, {\"text\": \"0.0\", \"x\": \"bike\", \"y\": \"walking\", \"xref\": \"x1\", \"yref\": \"y1\", \"font\": {\"color\": \"#FFFFFF\"}, \"showarrow\": false}, {\"text\": \"0.84\", \"x\": \"upstairs\", \"y\": \"walking\", \"xref\": \"x1\", \"yref\": \"y1\", \"font\": {\"color\": \"#FFFFFF\"}, \"showarrow\": false}, {\"text\": \"0.0\", \"x\": \"downstairs\", \"y\": \"walking\", \"xref\": \"x1\", \"yref\": \"y1\", \"font\": {\"color\": \"#FFFFFF\"}, \"showarrow\": false}, {\"text\": \"6.39\", \"x\": \"running\", \"y\": \"car\", \"xref\": \"x1\", \"yref\": \"y1\", \"font\": {\"color\": \"#FFFFFF\"}, \"showarrow\": false}, {\"text\": \"7.76\", \"x\": \"walking\", \"y\": \"car\", \"xref\": \"x1\", \"yref\": \"y1\", \"font\": {\"color\": \"#FFFFFF\"}, \"showarrow\": false}, {\"text\": \"81.28\", \"x\": \"car\", \"y\": \"car\", \"xref\": \"x1\", \"yref\": \"y1\", \"font\": {\"color\": \"#000000\"}, \"showarrow\": false}, {\"text\": \"0.91\", \"x\": \"bike\", \"y\": \"car\", \"xref\": \"x1\", \"yref\": \"y1\", \"font\": {\"color\": \"#FFFFFF\"}, \"showarrow\": false}, {\"text\": \"2.28\", \"x\": \"upstairs\", \"y\": \"car\", \"xref\": \"x1\", \"yref\": \"y1\", \"font\": {\"color\": \"#FFFFFF\"}, \"showarrow\": false}, {\"text\": \"1.37\", \"x\": \"downstairs\", \"y\": \"car\", \"xref\": \"x1\", \"yref\": \"y1\", \"font\": {\"color\": \"#FFFFFF\"}, \"showarrow\": false}, {\"text\": \"14.29\", \"x\": \"running\", \"y\": \"bike\", \"xref\": \"x1\", \"yref\": \"y1\", \"font\": {\"color\": \"#FFFFFF\"}, \"showarrow\": false}, {\"text\": \"28.57\", \"x\": \"walking\", \"y\": \"bike\", \"xref\": \"x1\", \"yref\": \"y1\", \"font\": {\"color\": \"#FFFFFF\"}, \"showarrow\": false}, {\"text\": \"14.29\", \"x\": \"car\", \"y\": \"bike\", \"xref\": \"x1\", \"yref\": \"y1\", \"font\": {\"color\": \"#FFFFFF\"}, \"showarrow\": false}, {\"text\": \"42.86\", \"x\": \"bike\", \"y\": \"bike\", \"xref\": \"x1\", \"yref\": \"y1\", \"font\": {\"color\": \"#FFFFFF\"}, \"showarrow\": false}, {\"text\": \"0.0\", \"x\": \"upstairs\", \"y\": \"bike\", \"xref\": \"x1\", \"yref\": \"y1\", \"font\": {\"color\": \"#FFFFFF\"}, \"showarrow\": false}, {\"text\": \"0.0\", \"x\": \"downstairs\", \"y\": \"bike\", \"xref\": \"x1\", \"yref\": \"y1\", \"font\": {\"color\": \"#FFFFFF\"}, \"showarrow\": false}, {\"text\": \"23.88\", \"x\": \"running\", \"y\": \"upstairs\", \"xref\": \"x1\", \"yref\": \"y1\", \"font\": {\"color\": \"#FFFFFF\"}, \"showarrow\": false}, {\"text\": \"17.91\", \"x\": \"walking\", \"y\": \"upstairs\", \"xref\": \"x1\", \"yref\": \"y1\", \"font\": {\"color\": \"#FFFFFF\"}, \"showarrow\": false}, {\"text\": \"2.99\", \"x\": \"car\", \"y\": \"upstairs\", \"xref\": \"x1\", \"yref\": \"y1\", \"font\": {\"color\": \"#FFFFFF\"}, \"showarrow\": false}, {\"text\": \"0.0\", \"x\": \"bike\", \"y\": \"upstairs\", \"xref\": \"x1\", \"yref\": \"y1\", \"font\": {\"color\": \"#FFFFFF\"}, \"showarrow\": false}, {\"text\": \"53.73\", \"x\": \"upstairs\", \"y\": \"upstairs\", \"xref\": \"x1\", \"yref\": \"y1\", \"font\": {\"color\": \"#000000\"}, \"showarrow\": false}, {\"text\": \"1.49\", \"x\": \"downstairs\", \"y\": \"upstairs\", \"xref\": \"x1\", \"yref\": \"y1\", \"font\": {\"color\": \"#FFFFFF\"}, \"showarrow\": false}, {\"text\": \"29.27\", \"x\": \"running\", \"y\": \"downstairs\", \"xref\": \"x1\", \"yref\": \"y1\", \"font\": {\"color\": \"#FFFFFF\"}, \"showarrow\": false}, {\"text\": \"41.46\", \"x\": \"walking\", \"y\": \"downstairs\", \"xref\": \"x1\", \"yref\": \"y1\", \"font\": {\"color\": \"#FFFFFF\"}, \"showarrow\": false}, {\"text\": \"7.32\", \"x\": \"car\", \"y\": \"downstairs\", \"xref\": \"x1\", \"yref\": \"y1\", \"font\": {\"color\": \"#FFFFFF\"}, \"showarrow\": false}, {\"text\": \"0.0\", \"x\": \"bike\", \"y\": \"downstairs\", \"xref\": \"x1\", \"yref\": \"y1\", \"font\": {\"color\": \"#FFFFFF\"}, \"showarrow\": false}, {\"text\": \"2.44\", \"x\": \"upstairs\", \"y\": \"downstairs\", \"xref\": \"x1\", \"yref\": \"y1\", \"font\": {\"color\": \"#FFFFFF\"}, \"showarrow\": false}, {\"text\": \"19.51\", \"x\": \"downstairs\", \"y\": \"downstairs\", \"xref\": \"x1\", \"yref\": \"y1\", \"font\": {\"color\": \"#FFFFFF\"}, \"showarrow\": false}], \"xaxis\": {\"ticks\": \"\", \"dtick\": 1, \"side\": \"top\", \"gridcolor\": \"rgb(0, 0, 0)\"}, \"yaxis\": {\"ticks\": \"\", \"dtick\": 1, \"ticksuffix\": \"  \", \"autorange\": \"reversed\"}, \"title\": \"KNN - overall accuracy: 77.78%\"}, {\"showLink\": true, \"linkText\": \"Export to plot.ly\"})});</script>"
      ]
     },
     "metadata": {},
     "output_type": "display_data"
    },
    {
     "data": {
      "application/vnd.plotly.v1+json": {
       "data": [
        {
         "colorscale": "RdBu",
         "showscale": false,
         "type": "heatmap",
         "x": [
          "running",
          "walking",
          "car",
          "bike",
          "upstairs",
          "downstairs"
         ],
         "y": [
          "running",
          "walking",
          "car",
          "bike",
          "upstairs",
          "downstairs"
         ],
         "z": [
          [
           91.23,
           6.14,
           1.75,
           0,
           0.88,
           0
          ],
          [
           5.04,
           87.39,
           3.36,
           0,
           4.2,
           0
          ],
          [
           3.2,
           3.65,
           88.58,
           0,
           3.65,
           0.91
          ],
          [
           14.29,
           71.43,
           14.29,
           0,
           0,
           0
          ],
          [
           13.43,
           25.37,
           5.97,
           0,
           55.22,
           0
          ],
          [
           17.07,
           39.02,
           12.2,
           2.44,
           17.07,
           12.2
          ]
         ]
        }
       ],
       "layout": {
        "annotations": [
         {
          "font": {
           "color": "#000000"
          },
          "showarrow": false,
          "text": "91.23",
          "x": "running",
          "xref": "x1",
          "y": "running",
          "yref": "y1"
         },
         {
          "font": {
           "color": "#FFFFFF"
          },
          "showarrow": false,
          "text": "6.14",
          "x": "walking",
          "xref": "x1",
          "y": "running",
          "yref": "y1"
         },
         {
          "font": {
           "color": "#FFFFFF"
          },
          "showarrow": false,
          "text": "1.75",
          "x": "car",
          "xref": "x1",
          "y": "running",
          "yref": "y1"
         },
         {
          "font": {
           "color": "#FFFFFF"
          },
          "showarrow": false,
          "text": "0.0",
          "x": "bike",
          "xref": "x1",
          "y": "running",
          "yref": "y1"
         },
         {
          "font": {
           "color": "#FFFFFF"
          },
          "showarrow": false,
          "text": "0.88",
          "x": "upstairs",
          "xref": "x1",
          "y": "running",
          "yref": "y1"
         },
         {
          "font": {
           "color": "#FFFFFF"
          },
          "showarrow": false,
          "text": "0.0",
          "x": "downstairs",
          "xref": "x1",
          "y": "running",
          "yref": "y1"
         },
         {
          "font": {
           "color": "#FFFFFF"
          },
          "showarrow": false,
          "text": "5.04",
          "x": "running",
          "xref": "x1",
          "y": "walking",
          "yref": "y1"
         },
         {
          "font": {
           "color": "#000000"
          },
          "showarrow": false,
          "text": "87.39",
          "x": "walking",
          "xref": "x1",
          "y": "walking",
          "yref": "y1"
         },
         {
          "font": {
           "color": "#FFFFFF"
          },
          "showarrow": false,
          "text": "3.36",
          "x": "car",
          "xref": "x1",
          "y": "walking",
          "yref": "y1"
         },
         {
          "font": {
           "color": "#FFFFFF"
          },
          "showarrow": false,
          "text": "0.0",
          "x": "bike",
          "xref": "x1",
          "y": "walking",
          "yref": "y1"
         },
         {
          "font": {
           "color": "#FFFFFF"
          },
          "showarrow": false,
          "text": "4.2",
          "x": "upstairs",
          "xref": "x1",
          "y": "walking",
          "yref": "y1"
         },
         {
          "font": {
           "color": "#FFFFFF"
          },
          "showarrow": false,
          "text": "0.0",
          "x": "downstairs",
          "xref": "x1",
          "y": "walking",
          "yref": "y1"
         },
         {
          "font": {
           "color": "#FFFFFF"
          },
          "showarrow": false,
          "text": "3.2",
          "x": "running",
          "xref": "x1",
          "y": "car",
          "yref": "y1"
         },
         {
          "font": {
           "color": "#FFFFFF"
          },
          "showarrow": false,
          "text": "3.65",
          "x": "walking",
          "xref": "x1",
          "y": "car",
          "yref": "y1"
         },
         {
          "font": {
           "color": "#000000"
          },
          "showarrow": false,
          "text": "88.58",
          "x": "car",
          "xref": "x1",
          "y": "car",
          "yref": "y1"
         },
         {
          "font": {
           "color": "#FFFFFF"
          },
          "showarrow": false,
          "text": "0.0",
          "x": "bike",
          "xref": "x1",
          "y": "car",
          "yref": "y1"
         },
         {
          "font": {
           "color": "#FFFFFF"
          },
          "showarrow": false,
          "text": "3.65",
          "x": "upstairs",
          "xref": "x1",
          "y": "car",
          "yref": "y1"
         },
         {
          "font": {
           "color": "#FFFFFF"
          },
          "showarrow": false,
          "text": "0.91",
          "x": "downstairs",
          "xref": "x1",
          "y": "car",
          "yref": "y1"
         },
         {
          "font": {
           "color": "#FFFFFF"
          },
          "showarrow": false,
          "text": "14.29",
          "x": "running",
          "xref": "x1",
          "y": "bike",
          "yref": "y1"
         },
         {
          "font": {
           "color": "#000000"
          },
          "showarrow": false,
          "text": "71.43",
          "x": "walking",
          "xref": "x1",
          "y": "bike",
          "yref": "y1"
         },
         {
          "font": {
           "color": "#FFFFFF"
          },
          "showarrow": false,
          "text": "14.29",
          "x": "car",
          "xref": "x1",
          "y": "bike",
          "yref": "y1"
         },
         {
          "font": {
           "color": "#FFFFFF"
          },
          "showarrow": false,
          "text": "0.0",
          "x": "bike",
          "xref": "x1",
          "y": "bike",
          "yref": "y1"
         },
         {
          "font": {
           "color": "#FFFFFF"
          },
          "showarrow": false,
          "text": "0.0",
          "x": "upstairs",
          "xref": "x1",
          "y": "bike",
          "yref": "y1"
         },
         {
          "font": {
           "color": "#FFFFFF"
          },
          "showarrow": false,
          "text": "0.0",
          "x": "downstairs",
          "xref": "x1",
          "y": "bike",
          "yref": "y1"
         },
         {
          "font": {
           "color": "#FFFFFF"
          },
          "showarrow": false,
          "text": "13.43",
          "x": "running",
          "xref": "x1",
          "y": "upstairs",
          "yref": "y1"
         },
         {
          "font": {
           "color": "#FFFFFF"
          },
          "showarrow": false,
          "text": "25.37",
          "x": "walking",
          "xref": "x1",
          "y": "upstairs",
          "yref": "y1"
         },
         {
          "font": {
           "color": "#FFFFFF"
          },
          "showarrow": false,
          "text": "5.97",
          "x": "car",
          "xref": "x1",
          "y": "upstairs",
          "yref": "y1"
         },
         {
          "font": {
           "color": "#FFFFFF"
          },
          "showarrow": false,
          "text": "0.0",
          "x": "bike",
          "xref": "x1",
          "y": "upstairs",
          "yref": "y1"
         },
         {
          "font": {
           "color": "#000000"
          },
          "showarrow": false,
          "text": "55.22",
          "x": "upstairs",
          "xref": "x1",
          "y": "upstairs",
          "yref": "y1"
         },
         {
          "font": {
           "color": "#FFFFFF"
          },
          "showarrow": false,
          "text": "0.0",
          "x": "downstairs",
          "xref": "x1",
          "y": "upstairs",
          "yref": "y1"
         },
         {
          "font": {
           "color": "#FFFFFF"
          },
          "showarrow": false,
          "text": "17.07",
          "x": "running",
          "xref": "x1",
          "y": "downstairs",
          "yref": "y1"
         },
         {
          "font": {
           "color": "#FFFFFF"
          },
          "showarrow": false,
          "text": "39.02",
          "x": "walking",
          "xref": "x1",
          "y": "downstairs",
          "yref": "y1"
         },
         {
          "font": {
           "color": "#FFFFFF"
          },
          "showarrow": false,
          "text": "12.2",
          "x": "car",
          "xref": "x1",
          "y": "downstairs",
          "yref": "y1"
         },
         {
          "font": {
           "color": "#FFFFFF"
          },
          "showarrow": false,
          "text": "2.44",
          "x": "bike",
          "xref": "x1",
          "y": "downstairs",
          "yref": "y1"
         },
         {
          "font": {
           "color": "#FFFFFF"
          },
          "showarrow": false,
          "text": "17.07",
          "x": "upstairs",
          "xref": "x1",
          "y": "downstairs",
          "yref": "y1"
         },
         {
          "font": {
           "color": "#FFFFFF"
          },
          "showarrow": false,
          "text": "12.2",
          "x": "downstairs",
          "xref": "x1",
          "y": "downstairs",
          "yref": "y1"
         }
        ],
        "title": "RF - overall accuracy: 78.31%",
        "xaxis": {
         "dtick": 1,
         "gridcolor": "rgb(0, 0, 0)",
         "side": "top",
         "ticks": ""
        },
        "yaxis": {
         "autorange": "reversed",
         "dtick": 1,
         "ticks": "",
         "ticksuffix": "  "
        }
       }
      },
      "text/html": [
       "<div id=\"5530d9d2-395b-4709-aa99-4bace6d05b5f\" style=\"height: 525px; width: 100%;\" class=\"plotly-graph-div\"></div><script type=\"text/javascript\">require([\"plotly\"], function(Plotly) { window.PLOTLYENV=window.PLOTLYENV || {};window.PLOTLYENV.BASE_URL=\"https://plot.ly\";Plotly.newPlot(\"5530d9d2-395b-4709-aa99-4bace6d05b5f\", [{\"type\": \"heatmap\", \"z\": [[91.23, 6.14, 1.75, 0.0, 0.88, 0.0], [5.04, 87.39, 3.36, 0.0, 4.2, 0.0], [3.2, 3.65, 88.58, 0.0, 3.65, 0.91], [14.29, 71.43, 14.29, 0.0, 0.0, 0.0], [13.43, 25.37, 5.97, 0.0, 55.22, 0.0], [17.07, 39.02, 12.2, 2.44, 17.07, 12.2]], \"x\": [\"running\", \"walking\", \"car\", \"bike\", \"upstairs\", \"downstairs\"], \"y\": [\"running\", \"walking\", \"car\", \"bike\", \"upstairs\", \"downstairs\"], \"colorscale\": \"RdBu\", \"showscale\": false}], {\"annotations\": [{\"text\": \"91.23\", \"x\": \"running\", \"y\": \"running\", \"xref\": \"x1\", \"yref\": \"y1\", \"font\": {\"color\": \"#000000\"}, \"showarrow\": false}, {\"text\": \"6.14\", \"x\": \"walking\", \"y\": \"running\", \"xref\": \"x1\", \"yref\": \"y1\", \"font\": {\"color\": \"#FFFFFF\"}, \"showarrow\": false}, {\"text\": \"1.75\", \"x\": \"car\", \"y\": \"running\", \"xref\": \"x1\", \"yref\": \"y1\", \"font\": {\"color\": \"#FFFFFF\"}, \"showarrow\": false}, {\"text\": \"0.0\", \"x\": \"bike\", \"y\": \"running\", \"xref\": \"x1\", \"yref\": \"y1\", \"font\": {\"color\": \"#FFFFFF\"}, \"showarrow\": false}, {\"text\": \"0.88\", \"x\": \"upstairs\", \"y\": \"running\", \"xref\": \"x1\", \"yref\": \"y1\", \"font\": {\"color\": \"#FFFFFF\"}, \"showarrow\": false}, {\"text\": \"0.0\", \"x\": \"downstairs\", \"y\": \"running\", \"xref\": \"x1\", \"yref\": \"y1\", \"font\": {\"color\": \"#FFFFFF\"}, \"showarrow\": false}, {\"text\": \"5.04\", \"x\": \"running\", \"y\": \"walking\", \"xref\": \"x1\", \"yref\": \"y1\", \"font\": {\"color\": \"#FFFFFF\"}, \"showarrow\": false}, {\"text\": \"87.39\", \"x\": \"walking\", \"y\": \"walking\", \"xref\": \"x1\", \"yref\": \"y1\", \"font\": {\"color\": \"#000000\"}, \"showarrow\": false}, {\"text\": \"3.36\", \"x\": \"car\", \"y\": \"walking\", \"xref\": \"x1\", \"yref\": \"y1\", \"font\": {\"color\": \"#FFFFFF\"}, \"showarrow\": false}, {\"text\": \"0.0\", \"x\": \"bike\", \"y\": \"walking\", \"xref\": \"x1\", \"yref\": \"y1\", \"font\": {\"color\": \"#FFFFFF\"}, \"showarrow\": false}, {\"text\": \"4.2\", \"x\": \"upstairs\", \"y\": \"walking\", \"xref\": \"x1\", \"yref\": \"y1\", \"font\": {\"color\": \"#FFFFFF\"}, \"showarrow\": false}, {\"text\": \"0.0\", \"x\": \"downstairs\", \"y\": \"walking\", \"xref\": \"x1\", \"yref\": \"y1\", \"font\": {\"color\": \"#FFFFFF\"}, \"showarrow\": false}, {\"text\": \"3.2\", \"x\": \"running\", \"y\": \"car\", \"xref\": \"x1\", \"yref\": \"y1\", \"font\": {\"color\": \"#FFFFFF\"}, \"showarrow\": false}, {\"text\": \"3.65\", \"x\": \"walking\", \"y\": \"car\", \"xref\": \"x1\", \"yref\": \"y1\", \"font\": {\"color\": \"#FFFFFF\"}, \"showarrow\": false}, {\"text\": \"88.58\", \"x\": \"car\", \"y\": \"car\", \"xref\": \"x1\", \"yref\": \"y1\", \"font\": {\"color\": \"#000000\"}, \"showarrow\": false}, {\"text\": \"0.0\", \"x\": \"bike\", \"y\": \"car\", \"xref\": \"x1\", \"yref\": \"y1\", \"font\": {\"color\": \"#FFFFFF\"}, \"showarrow\": false}, {\"text\": \"3.65\", \"x\": \"upstairs\", \"y\": \"car\", \"xref\": \"x1\", \"yref\": \"y1\", \"font\": {\"color\": \"#FFFFFF\"}, \"showarrow\": false}, {\"text\": \"0.91\", \"x\": \"downstairs\", \"y\": \"car\", \"xref\": \"x1\", \"yref\": \"y1\", \"font\": {\"color\": \"#FFFFFF\"}, \"showarrow\": false}, {\"text\": \"14.29\", \"x\": \"running\", \"y\": \"bike\", \"xref\": \"x1\", \"yref\": \"y1\", \"font\": {\"color\": \"#FFFFFF\"}, \"showarrow\": false}, {\"text\": \"71.43\", \"x\": \"walking\", \"y\": \"bike\", \"xref\": \"x1\", \"yref\": \"y1\", \"font\": {\"color\": \"#000000\"}, \"showarrow\": false}, {\"text\": \"14.29\", \"x\": \"car\", \"y\": \"bike\", \"xref\": \"x1\", \"yref\": \"y1\", \"font\": {\"color\": \"#FFFFFF\"}, \"showarrow\": false}, {\"text\": \"0.0\", \"x\": \"bike\", \"y\": \"bike\", \"xref\": \"x1\", \"yref\": \"y1\", \"font\": {\"color\": \"#FFFFFF\"}, \"showarrow\": false}, {\"text\": \"0.0\", \"x\": \"upstairs\", \"y\": \"bike\", \"xref\": \"x1\", \"yref\": \"y1\", \"font\": {\"color\": \"#FFFFFF\"}, \"showarrow\": false}, {\"text\": \"0.0\", \"x\": \"downstairs\", \"y\": \"bike\", \"xref\": \"x1\", \"yref\": \"y1\", \"font\": {\"color\": \"#FFFFFF\"}, \"showarrow\": false}, {\"text\": \"13.43\", \"x\": \"running\", \"y\": \"upstairs\", \"xref\": \"x1\", \"yref\": \"y1\", \"font\": {\"color\": \"#FFFFFF\"}, \"showarrow\": false}, {\"text\": \"25.37\", \"x\": \"walking\", \"y\": \"upstairs\", \"xref\": \"x1\", \"yref\": \"y1\", \"font\": {\"color\": \"#FFFFFF\"}, \"showarrow\": false}, {\"text\": \"5.97\", \"x\": \"car\", \"y\": \"upstairs\", \"xref\": \"x1\", \"yref\": \"y1\", \"font\": {\"color\": \"#FFFFFF\"}, \"showarrow\": false}, {\"text\": \"0.0\", \"x\": \"bike\", \"y\": \"upstairs\", \"xref\": \"x1\", \"yref\": \"y1\", \"font\": {\"color\": \"#FFFFFF\"}, \"showarrow\": false}, {\"text\": \"55.22\", \"x\": \"upstairs\", \"y\": \"upstairs\", \"xref\": \"x1\", \"yref\": \"y1\", \"font\": {\"color\": \"#000000\"}, \"showarrow\": false}, {\"text\": \"0.0\", \"x\": \"downstairs\", \"y\": \"upstairs\", \"xref\": \"x1\", \"yref\": \"y1\", \"font\": {\"color\": \"#FFFFFF\"}, \"showarrow\": false}, {\"text\": \"17.07\", \"x\": \"running\", \"y\": \"downstairs\", \"xref\": \"x1\", \"yref\": \"y1\", \"font\": {\"color\": \"#FFFFFF\"}, \"showarrow\": false}, {\"text\": \"39.02\", \"x\": \"walking\", \"y\": \"downstairs\", \"xref\": \"x1\", \"yref\": \"y1\", \"font\": {\"color\": \"#FFFFFF\"}, \"showarrow\": false}, {\"text\": \"12.2\", \"x\": \"car\", \"y\": \"downstairs\", \"xref\": \"x1\", \"yref\": \"y1\", \"font\": {\"color\": \"#FFFFFF\"}, \"showarrow\": false}, {\"text\": \"2.44\", \"x\": \"bike\", \"y\": \"downstairs\", \"xref\": \"x1\", \"yref\": \"y1\", \"font\": {\"color\": \"#FFFFFF\"}, \"showarrow\": false}, {\"text\": \"17.07\", \"x\": \"upstairs\", \"y\": \"downstairs\", \"xref\": \"x1\", \"yref\": \"y1\", \"font\": {\"color\": \"#FFFFFF\"}, \"showarrow\": false}, {\"text\": \"12.2\", \"x\": \"downstairs\", \"y\": \"downstairs\", \"xref\": \"x1\", \"yref\": \"y1\", \"font\": {\"color\": \"#FFFFFF\"}, \"showarrow\": false}], \"xaxis\": {\"ticks\": \"\", \"dtick\": 1, \"side\": \"top\", \"gridcolor\": \"rgb(0, 0, 0)\"}, \"yaxis\": {\"ticks\": \"\", \"dtick\": 1, \"ticksuffix\": \"  \", \"autorange\": \"reversed\"}, \"title\": \"RF - overall accuracy: 78.31%\"}, {\"showLink\": true, \"linkText\": \"Export to plot.ly\"})});</script>"
      ],
      "text/vnd.plotly.v1+html": [
       "<div id=\"5530d9d2-395b-4709-aa99-4bace6d05b5f\" style=\"height: 525px; width: 100%;\" class=\"plotly-graph-div\"></div><script type=\"text/javascript\">require([\"plotly\"], function(Plotly) { window.PLOTLYENV=window.PLOTLYENV || {};window.PLOTLYENV.BASE_URL=\"https://plot.ly\";Plotly.newPlot(\"5530d9d2-395b-4709-aa99-4bace6d05b5f\", [{\"type\": \"heatmap\", \"z\": [[91.23, 6.14, 1.75, 0.0, 0.88, 0.0], [5.04, 87.39, 3.36, 0.0, 4.2, 0.0], [3.2, 3.65, 88.58, 0.0, 3.65, 0.91], [14.29, 71.43, 14.29, 0.0, 0.0, 0.0], [13.43, 25.37, 5.97, 0.0, 55.22, 0.0], [17.07, 39.02, 12.2, 2.44, 17.07, 12.2]], \"x\": [\"running\", \"walking\", \"car\", \"bike\", \"upstairs\", \"downstairs\"], \"y\": [\"running\", \"walking\", \"car\", \"bike\", \"upstairs\", \"downstairs\"], \"colorscale\": \"RdBu\", \"showscale\": false}], {\"annotations\": [{\"text\": \"91.23\", \"x\": \"running\", \"y\": \"running\", \"xref\": \"x1\", \"yref\": \"y1\", \"font\": {\"color\": \"#000000\"}, \"showarrow\": false}, {\"text\": \"6.14\", \"x\": \"walking\", \"y\": \"running\", \"xref\": \"x1\", \"yref\": \"y1\", \"font\": {\"color\": \"#FFFFFF\"}, \"showarrow\": false}, {\"text\": \"1.75\", \"x\": \"car\", \"y\": \"running\", \"xref\": \"x1\", \"yref\": \"y1\", \"font\": {\"color\": \"#FFFFFF\"}, \"showarrow\": false}, {\"text\": \"0.0\", \"x\": \"bike\", \"y\": \"running\", \"xref\": \"x1\", \"yref\": \"y1\", \"font\": {\"color\": \"#FFFFFF\"}, \"showarrow\": false}, {\"text\": \"0.88\", \"x\": \"upstairs\", \"y\": \"running\", \"xref\": \"x1\", \"yref\": \"y1\", \"font\": {\"color\": \"#FFFFFF\"}, \"showarrow\": false}, {\"text\": \"0.0\", \"x\": \"downstairs\", \"y\": \"running\", \"xref\": \"x1\", \"yref\": \"y1\", \"font\": {\"color\": \"#FFFFFF\"}, \"showarrow\": false}, {\"text\": \"5.04\", \"x\": \"running\", \"y\": \"walking\", \"xref\": \"x1\", \"yref\": \"y1\", \"font\": {\"color\": \"#FFFFFF\"}, \"showarrow\": false}, {\"text\": \"87.39\", \"x\": \"walking\", \"y\": \"walking\", \"xref\": \"x1\", \"yref\": \"y1\", \"font\": {\"color\": \"#000000\"}, \"showarrow\": false}, {\"text\": \"3.36\", \"x\": \"car\", \"y\": \"walking\", \"xref\": \"x1\", \"yref\": \"y1\", \"font\": {\"color\": \"#FFFFFF\"}, \"showarrow\": false}, {\"text\": \"0.0\", \"x\": \"bike\", \"y\": \"walking\", \"xref\": \"x1\", \"yref\": \"y1\", \"font\": {\"color\": \"#FFFFFF\"}, \"showarrow\": false}, {\"text\": \"4.2\", \"x\": \"upstairs\", \"y\": \"walking\", \"xref\": \"x1\", \"yref\": \"y1\", \"font\": {\"color\": \"#FFFFFF\"}, \"showarrow\": false}, {\"text\": \"0.0\", \"x\": \"downstairs\", \"y\": \"walking\", \"xref\": \"x1\", \"yref\": \"y1\", \"font\": {\"color\": \"#FFFFFF\"}, \"showarrow\": false}, {\"text\": \"3.2\", \"x\": \"running\", \"y\": \"car\", \"xref\": \"x1\", \"yref\": \"y1\", \"font\": {\"color\": \"#FFFFFF\"}, \"showarrow\": false}, {\"text\": \"3.65\", \"x\": \"walking\", \"y\": \"car\", \"xref\": \"x1\", \"yref\": \"y1\", \"font\": {\"color\": \"#FFFFFF\"}, \"showarrow\": false}, {\"text\": \"88.58\", \"x\": \"car\", \"y\": \"car\", \"xref\": \"x1\", \"yref\": \"y1\", \"font\": {\"color\": \"#000000\"}, \"showarrow\": false}, {\"text\": \"0.0\", \"x\": \"bike\", \"y\": \"car\", \"xref\": \"x1\", \"yref\": \"y1\", \"font\": {\"color\": \"#FFFFFF\"}, \"showarrow\": false}, {\"text\": \"3.65\", \"x\": \"upstairs\", \"y\": \"car\", \"xref\": \"x1\", \"yref\": \"y1\", \"font\": {\"color\": \"#FFFFFF\"}, \"showarrow\": false}, {\"text\": \"0.91\", \"x\": \"downstairs\", \"y\": \"car\", \"xref\": \"x1\", \"yref\": \"y1\", \"font\": {\"color\": \"#FFFFFF\"}, \"showarrow\": false}, {\"text\": \"14.29\", \"x\": \"running\", \"y\": \"bike\", \"xref\": \"x1\", \"yref\": \"y1\", \"font\": {\"color\": \"#FFFFFF\"}, \"showarrow\": false}, {\"text\": \"71.43\", \"x\": \"walking\", \"y\": \"bike\", \"xref\": \"x1\", \"yref\": \"y1\", \"font\": {\"color\": \"#000000\"}, \"showarrow\": false}, {\"text\": \"14.29\", \"x\": \"car\", \"y\": \"bike\", \"xref\": \"x1\", \"yref\": \"y1\", \"font\": {\"color\": \"#FFFFFF\"}, \"showarrow\": false}, {\"text\": \"0.0\", \"x\": \"bike\", \"y\": \"bike\", \"xref\": \"x1\", \"yref\": \"y1\", \"font\": {\"color\": \"#FFFFFF\"}, \"showarrow\": false}, {\"text\": \"0.0\", \"x\": \"upstairs\", \"y\": \"bike\", \"xref\": \"x1\", \"yref\": \"y1\", \"font\": {\"color\": \"#FFFFFF\"}, \"showarrow\": false}, {\"text\": \"0.0\", \"x\": \"downstairs\", \"y\": \"bike\", \"xref\": \"x1\", \"yref\": \"y1\", \"font\": {\"color\": \"#FFFFFF\"}, \"showarrow\": false}, {\"text\": \"13.43\", \"x\": \"running\", \"y\": \"upstairs\", \"xref\": \"x1\", \"yref\": \"y1\", \"font\": {\"color\": \"#FFFFFF\"}, \"showarrow\": false}, {\"text\": \"25.37\", \"x\": \"walking\", \"y\": \"upstairs\", \"xref\": \"x1\", \"yref\": \"y1\", \"font\": {\"color\": \"#FFFFFF\"}, \"showarrow\": false}, {\"text\": \"5.97\", \"x\": \"car\", \"y\": \"upstairs\", \"xref\": \"x1\", \"yref\": \"y1\", \"font\": {\"color\": \"#FFFFFF\"}, \"showarrow\": false}, {\"text\": \"0.0\", \"x\": \"bike\", \"y\": \"upstairs\", \"xref\": \"x1\", \"yref\": \"y1\", \"font\": {\"color\": \"#FFFFFF\"}, \"showarrow\": false}, {\"text\": \"55.22\", \"x\": \"upstairs\", \"y\": \"upstairs\", \"xref\": \"x1\", \"yref\": \"y1\", \"font\": {\"color\": \"#000000\"}, \"showarrow\": false}, {\"text\": \"0.0\", \"x\": \"downstairs\", \"y\": \"upstairs\", \"xref\": \"x1\", \"yref\": \"y1\", \"font\": {\"color\": \"#FFFFFF\"}, \"showarrow\": false}, {\"text\": \"17.07\", \"x\": \"running\", \"y\": \"downstairs\", \"xref\": \"x1\", \"yref\": \"y1\", \"font\": {\"color\": \"#FFFFFF\"}, \"showarrow\": false}, {\"text\": \"39.02\", \"x\": \"walking\", \"y\": \"downstairs\", \"xref\": \"x1\", \"yref\": \"y1\", \"font\": {\"color\": \"#FFFFFF\"}, \"showarrow\": false}, {\"text\": \"12.2\", \"x\": \"car\", \"y\": \"downstairs\", \"xref\": \"x1\", \"yref\": \"y1\", \"font\": {\"color\": \"#FFFFFF\"}, \"showarrow\": false}, {\"text\": \"2.44\", \"x\": \"bike\", \"y\": \"downstairs\", \"xref\": \"x1\", \"yref\": \"y1\", \"font\": {\"color\": \"#FFFFFF\"}, \"showarrow\": false}, {\"text\": \"17.07\", \"x\": \"upstairs\", \"y\": \"downstairs\", \"xref\": \"x1\", \"yref\": \"y1\", \"font\": {\"color\": \"#FFFFFF\"}, \"showarrow\": false}, {\"text\": \"12.2\", \"x\": \"downstairs\", \"y\": \"downstairs\", \"xref\": \"x1\", \"yref\": \"y1\", \"font\": {\"color\": \"#FFFFFF\"}, \"showarrow\": false}], \"xaxis\": {\"ticks\": \"\", \"dtick\": 1, \"side\": \"top\", \"gridcolor\": \"rgb(0, 0, 0)\"}, \"yaxis\": {\"ticks\": \"\", \"dtick\": 1, \"ticksuffix\": \"  \", \"autorange\": \"reversed\"}, \"title\": \"RF - overall accuracy: 78.31%\"}, {\"showLink\": true, \"linkText\": \"Export to plot.ly\"})});</script>"
      ]
     },
     "metadata": {},
     "output_type": "display_data"
    }
   ],
   "source": [
    "# Każdy klasyfikator uczymy i testujemy, a następnie rysujemy heatmap z wynikami\n",
    "for clsf in classifiers:\n",
    "    # Uczenie klasyfikatora\n",
    "    clsf[\"cls\"].fit(X, y)\n",
    "    # Sprawdzenie dla danych testowych\n",
    "    predictions = clsf[\"cls\"].predict(X_test)\n",
    "    # Zapis wyniku\n",
    "    acc = accuracy_score(y_test, predictions)\n",
    "    \n",
    "    # Znormalizowana macierz\n",
    "    c_matrix = confusion_matrix(y_test, predictions, labels = [11,22,33,44,55,66])\n",
    "    c_matrix = c_matrix.astype('float') / c_matrix.sum(axis=1)[:, np.newaxis]\n",
    "    c_matrix = c_matrix*100.0\n",
    "    c_matrix = c_matrix.round(2)\n",
    "    \n",
    "    # Tytuły wykresów\n",
    "    title = clsf[\"name\"] + \" - overall accuracy: \" + str(round(acc*100,2)) + \"%\"\n",
    "    labels = [\"running\", \"walking\", \"car\", \"bike\", \"upstairs\", \"downstairs\"]\n",
    "    \n",
    "    fig = ff.create_annotated_heatmap(z=c_matrix, x=labels, y=labels)\n",
    "    fig.layout.update({\"title\": title})\n",
    "    \n",
    "    fig.layout.update({\"yaxis\":dict(autorange='reversed')})\n",
    "    \n",
    "    iplot(fig)\n"
   ]
  },
  {
   "cell_type": "code",
   "execution_count": 10,
   "metadata": {},
   "outputs": [],
   "source": [
    "# # clf = SVC()\n",
    "# clf = MLPClassifier(solver='lbfgs', alpha=1e-7, hidden_layer_sizes=(26, 10, 6), random_state=1, max_iter=700)\n",
    "# # clf = KNeighborsClassifier(n_neighbors=7)\n",
    "# # clf = SGDClassifier(loss=\"log\")\n",
    "# clf.fit(X,y)\n",
    "\n",
    "# predictions = clf.predict(X_test)\n",
    "# acc = accuracy_score(y_test, predictions)\n",
    "# print(\"Accuracy: \" + str(round(acc*100,2)) + \"%\")"
   ]
  },
  {
   "cell_type": "code",
   "execution_count": 11,
   "metadata": {},
   "outputs": [],
   "source": [
    "# tsne = manifold.TSNE(n_components=2, init='pca', random_state=0)\n",
    "# Y = tsne.fit_transform(X_test)"
   ]
  },
  {
   "cell_type": "code",
   "execution_count": 12,
   "metadata": {},
   "outputs": [],
   "source": [
    "# plt.scatter(Y[:, 0], Y[:, 1], c=y_test, cmap=plt.cm.get_cmap(\"jet\", len(list(set(y_test)))))\n",
    "# plt.colorbar(ticks=range(len(list(set(y_test)))))\n",
    "\n",
    "# plt.show()"
   ]
  },
  {
   "cell_type": "code",
   "execution_count": 13,
   "metadata": {},
   "outputs": [],
   "source": [
    "# import autosklearn.classification\n",
    "# automl = autosklearn.classification.AutoSklearnClassifier(\n",
    "#     include_estimators=[\"libsvm_svc\", ], exclude_estimators=None,\n",
    "#     include_preprocessors=[\"no_preprocessing\", ], exclude_preprocessors=None)\n",
    "\n",
    "# automl.fit(X.copy(),y.copy())\n"
   ]
  },
  {
   "cell_type": "code",
   "execution_count": 14,
   "metadata": {},
   "outputs": [],
   "source": [
    "# # automl.show_models()\n",
    "# from sklearn.externals import joblib\n",
    "# automl = joblib.load(\".pkl\")"
   ]
  },
  {
   "cell_type": "code",
   "execution_count": 15,
   "metadata": {},
   "outputs": [],
   "source": [
    "# predictions = automl.predict(X_test)\n",
    "# acc = accuracy_score(y_test, predictions)\n",
    "# print(\"Accuracy: \" + str(round(acc*100,2)) + \"%\")"
   ]
  },
  {
   "cell_type": "code",
   "execution_count": null,
   "metadata": {},
   "outputs": [],
   "source": []
  }
 ],
 "metadata": {
  "kernelspec": {
   "display_name": "Python 3",
   "language": "python",
   "name": "python3"
  },
  "language_info": {
   "codemirror_mode": {
    "name": "ipython",
    "version": 3
   },
   "file_extension": ".py",
   "mimetype": "text/x-python",
   "name": "python",
   "nbconvert_exporter": "python",
   "pygments_lexer": "ipython3",
   "version": "3.6.4"
  }
 },
 "nbformat": 4,
 "nbformat_minor": 2
}

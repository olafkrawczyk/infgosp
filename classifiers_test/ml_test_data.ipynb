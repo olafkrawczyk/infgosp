{
 "cells": [
  {
   "cell_type": "code",
   "execution_count": 1,
   "metadata": {},
   "outputs": [
    {
     "data": {
      "text/html": [
       "<script>requirejs.config({paths: { 'plotly': ['https://cdn.plot.ly/plotly-latest.min']},});if(!window.Plotly) {{require(['plotly'],function(plotly) {window.Plotly=plotly;});}}</script>"
      ],
      "text/vnd.plotly.v1+html": [
       "<script>requirejs.config({paths: { 'plotly': ['https://cdn.plot.ly/plotly-latest.min']},});if(!window.Plotly) {{require(['plotly'],function(plotly) {window.Plotly=plotly;});}}</script>"
      ]
     },
     "metadata": {},
     "output_type": "display_data"
    }
   ],
   "source": [
    "import pandas as pd\n",
    "import sklearn\n",
    "from sklearn.svm import SVC\n",
    "from sklearn.neighbors import KNeighborsClassifier\n",
    "from sklearn.neural_network import MLPClassifier\n",
    "from sklearn.linear_model import SGDClassifier\n",
    "from sklearn.ensemble import RandomForestClassifier\n",
    "from sklearn.metrics import accuracy_score, confusion_matrix\n",
    "from sklearn import manifold\n",
    "from sklearn.preprocessing import StandardScaler\n",
    "import matplotlib.pyplot as plt\n",
    "\n",
    "import plotly.plotly as py\n",
    "import plotly.graph_objs as go\n",
    "import plotly.figure_factory as ff\n",
    "import numpy as np\n",
    "from plotly.offline import download_plotlyjs, init_notebook_mode, plot, iplot\n",
    "\n",
    "from sklearn.model_selection import cross_val_score\n",
    "\n",
    "init_notebook_mode(connected=True)\n",
    "\n",
    "# Jaki procent całego zbioru ma być wykorzystany do uczenia\n",
    "TRAIN_DATASET_PRECENTAGE = 0.85\n",
    "\n",
    "##\n",
    "## 11 - running\n",
    "## 22 - walking\n",
    "## 33 - car\n",
    "## 44 - bike\n",
    "## 55 - upstairs\n",
    "## 66 - downstairs"
   ]
  },
  {
   "cell_type": "code",
   "execution_count": 2,
   "metadata": {},
   "outputs": [
    {
     "name": "stdout",
     "output_type": "stream",
     "text": [
      "11 (844, 26)\n",
      "22 (880, 26)\n",
      "33 (1377, 26)\n",
      "44 (53, 26)\n",
      "55 (404, 26)\n",
      "66 (220, 26)\n"
     ]
    }
   ],
   "source": [
    "# Załadowanie zbioru cech z csv\n",
    "dataset = pd.read_csv(\"f_new.csv\", index_col=None)\n",
    "\n",
    "# Stworzenie kolumn dla wektora cech. Nazwy to liczby od 1 do 25.\n",
    "cols = [str(x) for x in range(1, 26)]\n",
    "#Ostatnia kolumna to etykieta aktywności\n",
    "cols.append(\"label\")\n",
    "\n",
    "dataset.columns = cols\n",
    "\n",
    "\n",
    "for label in (11,22,33,44,55,66):\n",
    "    print(label, dataset.loc[dataset[\"label\"] == label].shape)\n",
    "\n",
    "## 11 - running\n",
    "## 22 - walking\n",
    "## 33 - car\n",
    "## 44 - bike\n",
    "## 55 - upstairs\n",
    "## 66 - downstairs"
   ]
  },
  {
   "cell_type": "code",
   "execution_count": 3,
   "metadata": {},
   "outputs": [],
   "source": [
    "# Mieszamy wczytane wiersze tak, żeby kolejność cech nie miała wpływu na trenowanie i testowanie\n",
    "dataset = sklearn.utils.shuffle(dataset)"
   ]
  },
  {
   "cell_type": "code",
   "execution_count": 4,
   "metadata": {},
   "outputs": [],
   "source": [
    "# Obliczenie liczby wektorów cech potrzebynch do uczenia\n",
    "train_size = int(len(dataset)*TRAIN_DATASET_PRECENTAGE)\n",
    "\n",
    "#Podział na zbiór uczący i testowy\n",
    "train_dataset = dataset[:train_size]\n",
    "test_dataset = dataset[train_size:]\n",
    "\n",
    "# Oddzielamy cechy od etykiety i przypisujemy do X - zbioru danych uczących\n",
    "feature_cols = dataset.columns[:-1]\n",
    "X = train_dataset.loc[:, feature_cols]\n",
    "\n",
    "# Zbiór poprawnych etykiet dla zbioru uczącego\n",
    "y = train_dataset.label"
   ]
  },
  {
   "cell_type": "code",
   "execution_count": 5,
   "metadata": {},
   "outputs": [],
   "source": [
    "# Skalowanie wektora cech\n",
    "scaler = StandardScaler()\n",
    "scaler.fit(X)\n",
    "\n",
    "X = scaler.transform(X)"
   ]
  },
  {
   "cell_type": "code",
   "execution_count": 6,
   "metadata": {},
   "outputs": [],
   "source": [
    "# Podział na X i y dla danych testowych\n",
    "X_test = test_dataset.loc[:, feature_cols]\n",
    "X_test = scaler.transform(X_test)\n",
    "y_test = test_dataset.label"
   ]
  },
  {
   "cell_type": "code",
   "execution_count": 7,
   "metadata": {},
   "outputs": [],
   "source": [
    "# Tworzymy listę klasyfikatorów które testujemy\n",
    "classifiers = []\n",
    "\n",
    "classifiers.append({\"name\":\"SVM\", \"cls\":SVC(C=1101.0104698904004, tol=0.005103440905884713, gamma=0.06389136736841583)})\n",
    "classifiers.append({\"name\":\"MLP\", \"cls\":MLPClassifier(solver='adam', alpha=1e-5,\n",
    "                                                      hidden_layer_sizes=(200,200), \n",
    "                                                      max_iter=500, shuffle=True)})\n",
    "classifiers.append({\"name\":\"KNN\", \"cls\":KNeighborsClassifier(n_neighbors=3)})\n",
    "classifiers.append({\"name\":\"RF\", \"cls\":RandomForestClassifier()})"
   ]
  },
  {
   "cell_type": "code",
   "execution_count": 8,
   "metadata": {},
   "outputs": [
    {
     "name": "stdout",
     "output_type": "stream",
     "text": [
      "Cross validation folds=2\n",
      "SVM: 81.05%\n",
      "[0.7962963 0.8246822]\n",
      "MLP: 83.51%\n",
      "[0.83068783 0.83951271]\n",
      "KNN: 76.92%\n",
      "[0.76402116 0.77436441]\n",
      "RF: 76.65%\n",
      "[0.76878307 0.76430085]\n"
     ]
    }
   ],
   "source": [
    "# Cross validate\n",
    "\n",
    "X_cv = np.concatenate((X, X_test))\n",
    "y_cv = np.concatenate((y, y_test))\n",
    "\n",
    "cv = 2\n",
    "\n",
    "print(\"Cross validation folds=%d\" % (cv))\n",
    "\n",
    "for clsf in classifiers:\n",
    "    scores = cross_val_score(clsf[\"cls\"], X_cv, y_cv, cv=cv)\n",
    "    print(clsf[\"name\"] + \": %0.2f\" % (scores.mean()*100) + \"%\")\n",
    "    print(scores)"
   ]
  },
  {
   "cell_type": "code",
   "execution_count": 9,
   "metadata": {
    "scrolled": false
   },
   "outputs": [
    {
     "data": {
      "application/vnd.plotly.v1+json": {
       "data": [
        {
         "colorscale": "RdBu",
         "showscale": false,
         "type": "heatmap",
         "x": [
          "running",
          "walking",
          "car",
          "bike",
          "upstairs",
          "downstairs"
         ],
         "y": [
          "running",
          "walking",
          "car",
          "bike",
          "upstairs",
          "downstairs"
         ],
         "z": [
          [
           92.31,
           0.77,
           3.08,
           0,
           1.54,
           2.31
          ],
          [
           0.75,
           88.06,
           5.22,
           0,
           5.22,
           0.75
          ],
          [
           0.5,
           1.49,
           96.02,
           0,
           1.99,
           0
          ],
          [
           0,
           15.38,
           7.69,
           69.23,
           7.69,
           0
          ],
          [
           1.75,
           12.28,
           14.04,
           0,
           61.4,
           10.53
          ],
          [
           25,
           12.5,
           18.75,
           0,
           9.38,
           34.38
          ]
         ]
        }
       ],
       "layout": {
        "annotations": [
         {
          "font": {
           "color": "#000000"
          },
          "showarrow": false,
          "text": "92.31",
          "x": "running",
          "xref": "x1",
          "y": "running",
          "yref": "y1"
         },
         {
          "font": {
           "color": "#FFFFFF"
          },
          "showarrow": false,
          "text": "0.77",
          "x": "walking",
          "xref": "x1",
          "y": "running",
          "yref": "y1"
         },
         {
          "font": {
           "color": "#FFFFFF"
          },
          "showarrow": false,
          "text": "3.08",
          "x": "car",
          "xref": "x1",
          "y": "running",
          "yref": "y1"
         },
         {
          "font": {
           "color": "#FFFFFF"
          },
          "showarrow": false,
          "text": "0.0",
          "x": "bike",
          "xref": "x1",
          "y": "running",
          "yref": "y1"
         },
         {
          "font": {
           "color": "#FFFFFF"
          },
          "showarrow": false,
          "text": "1.54",
          "x": "upstairs",
          "xref": "x1",
          "y": "running",
          "yref": "y1"
         },
         {
          "font": {
           "color": "#FFFFFF"
          },
          "showarrow": false,
          "text": "2.31",
          "x": "downstairs",
          "xref": "x1",
          "y": "running",
          "yref": "y1"
         },
         {
          "font": {
           "color": "#FFFFFF"
          },
          "showarrow": false,
          "text": "0.75",
          "x": "running",
          "xref": "x1",
          "y": "walking",
          "yref": "y1"
         },
         {
          "font": {
           "color": "#000000"
          },
          "showarrow": false,
          "text": "88.06",
          "x": "walking",
          "xref": "x1",
          "y": "walking",
          "yref": "y1"
         },
         {
          "font": {
           "color": "#FFFFFF"
          },
          "showarrow": false,
          "text": "5.22",
          "x": "car",
          "xref": "x1",
          "y": "walking",
          "yref": "y1"
         },
         {
          "font": {
           "color": "#FFFFFF"
          },
          "showarrow": false,
          "text": "0.0",
          "x": "bike",
          "xref": "x1",
          "y": "walking",
          "yref": "y1"
         },
         {
          "font": {
           "color": "#FFFFFF"
          },
          "showarrow": false,
          "text": "5.22",
          "x": "upstairs",
          "xref": "x1",
          "y": "walking",
          "yref": "y1"
         },
         {
          "font": {
           "color": "#FFFFFF"
          },
          "showarrow": false,
          "text": "0.75",
          "x": "downstairs",
          "xref": "x1",
          "y": "walking",
          "yref": "y1"
         },
         {
          "font": {
           "color": "#FFFFFF"
          },
          "showarrow": false,
          "text": "0.5",
          "x": "running",
          "xref": "x1",
          "y": "car",
          "yref": "y1"
         },
         {
          "font": {
           "color": "#FFFFFF"
          },
          "showarrow": false,
          "text": "1.49",
          "x": "walking",
          "xref": "x1",
          "y": "car",
          "yref": "y1"
         },
         {
          "font": {
           "color": "#000000"
          },
          "showarrow": false,
          "text": "96.02",
          "x": "car",
          "xref": "x1",
          "y": "car",
          "yref": "y1"
         },
         {
          "font": {
           "color": "#FFFFFF"
          },
          "showarrow": false,
          "text": "0.0",
          "x": "bike",
          "xref": "x1",
          "y": "car",
          "yref": "y1"
         },
         {
          "font": {
           "color": "#FFFFFF"
          },
          "showarrow": false,
          "text": "1.99",
          "x": "upstairs",
          "xref": "x1",
          "y": "car",
          "yref": "y1"
         },
         {
          "font": {
           "color": "#FFFFFF"
          },
          "showarrow": false,
          "text": "0.0",
          "x": "downstairs",
          "xref": "x1",
          "y": "car",
          "yref": "y1"
         },
         {
          "font": {
           "color": "#FFFFFF"
          },
          "showarrow": false,
          "text": "0.0",
          "x": "running",
          "xref": "x1",
          "y": "bike",
          "yref": "y1"
         },
         {
          "font": {
           "color": "#FFFFFF"
          },
          "showarrow": false,
          "text": "15.38",
          "x": "walking",
          "xref": "x1",
          "y": "bike",
          "yref": "y1"
         },
         {
          "font": {
           "color": "#FFFFFF"
          },
          "showarrow": false,
          "text": "7.69",
          "x": "car",
          "xref": "x1",
          "y": "bike",
          "yref": "y1"
         },
         {
          "font": {
           "color": "#000000"
          },
          "showarrow": false,
          "text": "69.23",
          "x": "bike",
          "xref": "x1",
          "y": "bike",
          "yref": "y1"
         },
         {
          "font": {
           "color": "#FFFFFF"
          },
          "showarrow": false,
          "text": "7.69",
          "x": "upstairs",
          "xref": "x1",
          "y": "bike",
          "yref": "y1"
         },
         {
          "font": {
           "color": "#FFFFFF"
          },
          "showarrow": false,
          "text": "0.0",
          "x": "downstairs",
          "xref": "x1",
          "y": "bike",
          "yref": "y1"
         },
         {
          "font": {
           "color": "#FFFFFF"
          },
          "showarrow": false,
          "text": "1.75",
          "x": "running",
          "xref": "x1",
          "y": "upstairs",
          "yref": "y1"
         },
         {
          "font": {
           "color": "#FFFFFF"
          },
          "showarrow": false,
          "text": "12.28",
          "x": "walking",
          "xref": "x1",
          "y": "upstairs",
          "yref": "y1"
         },
         {
          "font": {
           "color": "#FFFFFF"
          },
          "showarrow": false,
          "text": "14.04",
          "x": "car",
          "xref": "x1",
          "y": "upstairs",
          "yref": "y1"
         },
         {
          "font": {
           "color": "#FFFFFF"
          },
          "showarrow": false,
          "text": "0.0",
          "x": "bike",
          "xref": "x1",
          "y": "upstairs",
          "yref": "y1"
         },
         {
          "font": {
           "color": "#000000"
          },
          "showarrow": false,
          "text": "61.4",
          "x": "upstairs",
          "xref": "x1",
          "y": "upstairs",
          "yref": "y1"
         },
         {
          "font": {
           "color": "#FFFFFF"
          },
          "showarrow": false,
          "text": "10.53",
          "x": "downstairs",
          "xref": "x1",
          "y": "upstairs",
          "yref": "y1"
         },
         {
          "font": {
           "color": "#FFFFFF"
          },
          "showarrow": false,
          "text": "25.0",
          "x": "running",
          "xref": "x1",
          "y": "downstairs",
          "yref": "y1"
         },
         {
          "font": {
           "color": "#FFFFFF"
          },
          "showarrow": false,
          "text": "12.5",
          "x": "walking",
          "xref": "x1",
          "y": "downstairs",
          "yref": "y1"
         },
         {
          "font": {
           "color": "#FFFFFF"
          },
          "showarrow": false,
          "text": "18.75",
          "x": "car",
          "xref": "x1",
          "y": "downstairs",
          "yref": "y1"
         },
         {
          "font": {
           "color": "#FFFFFF"
          },
          "showarrow": false,
          "text": "0.0",
          "x": "bike",
          "xref": "x1",
          "y": "downstairs",
          "yref": "y1"
         },
         {
          "font": {
           "color": "#FFFFFF"
          },
          "showarrow": false,
          "text": "9.38",
          "x": "upstairs",
          "xref": "x1",
          "y": "downstairs",
          "yref": "y1"
         },
         {
          "font": {
           "color": "#FFFFFF"
          },
          "showarrow": false,
          "text": "34.38",
          "x": "downstairs",
          "xref": "x1",
          "y": "downstairs",
          "yref": "y1"
         }
        ],
        "title": "SVM - overall accuracy: 85.71%",
        "xaxis": {
         "dtick": 1,
         "gridcolor": "rgb(0, 0, 0)",
         "side": "top",
         "ticks": ""
        },
        "yaxis": {
         "autorange": "reversed",
         "dtick": 1,
         "ticks": "",
         "ticksuffix": "  "
        }
       }
      },
      "text/html": [
       "<div id=\"efa373c0-d17e-460b-8010-c2547a33e27c\" style=\"height: 525px; width: 100%;\" class=\"plotly-graph-div\"></div><script type=\"text/javascript\">require([\"plotly\"], function(Plotly) { window.PLOTLYENV=window.PLOTLYENV || {};window.PLOTLYENV.BASE_URL=\"https://plot.ly\";Plotly.newPlot(\"efa373c0-d17e-460b-8010-c2547a33e27c\", [{\"type\": \"heatmap\", \"showscale\": false, \"y\": [\"running\", \"walking\", \"car\", \"bike\", \"upstairs\", \"downstairs\"], \"z\": [[92.31, 0.77, 3.08, 0.0, 1.54, 2.31], [0.75, 88.06, 5.22, 0.0, 5.22, 0.75], [0.5, 1.49, 96.02, 0.0, 1.99, 0.0], [0.0, 15.38, 7.69, 69.23, 7.69, 0.0], [1.75, 12.28, 14.04, 0.0, 61.4, 10.53], [25.0, 12.5, 18.75, 0.0, 9.38, 34.38]], \"colorscale\": \"RdBu\", \"x\": [\"running\", \"walking\", \"car\", \"bike\", \"upstairs\", \"downstairs\"]}], {\"title\": \"SVM - overall accuracy: 85.71%\", \"xaxis\": {\"gridcolor\": \"rgb(0, 0, 0)\", \"ticks\": \"\", \"side\": \"top\", \"dtick\": 1}, \"annotations\": [{\"xref\": \"x1\", \"x\": \"running\", \"font\": {\"color\": \"#000000\"}, \"yref\": \"y1\", \"text\": \"92.31\", \"showarrow\": false, \"y\": \"running\"}, {\"xref\": \"x1\", \"x\": \"walking\", \"font\": {\"color\": \"#FFFFFF\"}, \"yref\": \"y1\", \"text\": \"0.77\", \"showarrow\": false, \"y\": \"running\"}, {\"xref\": \"x1\", \"x\": \"car\", \"font\": {\"color\": \"#FFFFFF\"}, \"yref\": \"y1\", \"text\": \"3.08\", \"showarrow\": false, \"y\": \"running\"}, {\"xref\": \"x1\", \"x\": \"bike\", \"font\": {\"color\": \"#FFFFFF\"}, \"yref\": \"y1\", \"text\": \"0.0\", \"showarrow\": false, \"y\": \"running\"}, {\"xref\": \"x1\", \"x\": \"upstairs\", \"font\": {\"color\": \"#FFFFFF\"}, \"yref\": \"y1\", \"text\": \"1.54\", \"showarrow\": false, \"y\": \"running\"}, {\"xref\": \"x1\", \"x\": \"downstairs\", \"font\": {\"color\": \"#FFFFFF\"}, \"yref\": \"y1\", \"text\": \"2.31\", \"showarrow\": false, \"y\": \"running\"}, {\"xref\": \"x1\", \"x\": \"running\", \"font\": {\"color\": \"#FFFFFF\"}, \"yref\": \"y1\", \"text\": \"0.75\", \"showarrow\": false, \"y\": \"walking\"}, {\"xref\": \"x1\", \"x\": \"walking\", \"font\": {\"color\": \"#000000\"}, \"yref\": \"y1\", \"text\": \"88.06\", \"showarrow\": false, \"y\": \"walking\"}, {\"xref\": \"x1\", \"x\": \"car\", \"font\": {\"color\": \"#FFFFFF\"}, \"yref\": \"y1\", \"text\": \"5.22\", \"showarrow\": false, \"y\": \"walking\"}, {\"xref\": \"x1\", \"x\": \"bike\", \"font\": {\"color\": \"#FFFFFF\"}, \"yref\": \"y1\", \"text\": \"0.0\", \"showarrow\": false, \"y\": \"walking\"}, {\"xref\": \"x1\", \"x\": \"upstairs\", \"font\": {\"color\": \"#FFFFFF\"}, \"yref\": \"y1\", \"text\": \"5.22\", \"showarrow\": false, \"y\": \"walking\"}, {\"xref\": \"x1\", \"x\": \"downstairs\", \"font\": {\"color\": \"#FFFFFF\"}, \"yref\": \"y1\", \"text\": \"0.75\", \"showarrow\": false, \"y\": \"walking\"}, {\"xref\": \"x1\", \"x\": \"running\", \"font\": {\"color\": \"#FFFFFF\"}, \"yref\": \"y1\", \"text\": \"0.5\", \"showarrow\": false, \"y\": \"car\"}, {\"xref\": \"x1\", \"x\": \"walking\", \"font\": {\"color\": \"#FFFFFF\"}, \"yref\": \"y1\", \"text\": \"1.49\", \"showarrow\": false, \"y\": \"car\"}, {\"xref\": \"x1\", \"x\": \"car\", \"font\": {\"color\": \"#000000\"}, \"yref\": \"y1\", \"text\": \"96.02\", \"showarrow\": false, \"y\": \"car\"}, {\"xref\": \"x1\", \"x\": \"bike\", \"font\": {\"color\": \"#FFFFFF\"}, \"yref\": \"y1\", \"text\": \"0.0\", \"showarrow\": false, \"y\": \"car\"}, {\"xref\": \"x1\", \"x\": \"upstairs\", \"font\": {\"color\": \"#FFFFFF\"}, \"yref\": \"y1\", \"text\": \"1.99\", \"showarrow\": false, \"y\": \"car\"}, {\"xref\": \"x1\", \"x\": \"downstairs\", \"font\": {\"color\": \"#FFFFFF\"}, \"yref\": \"y1\", \"text\": \"0.0\", \"showarrow\": false, \"y\": \"car\"}, {\"xref\": \"x1\", \"x\": \"running\", \"font\": {\"color\": \"#FFFFFF\"}, \"yref\": \"y1\", \"text\": \"0.0\", \"showarrow\": false, \"y\": \"bike\"}, {\"xref\": \"x1\", \"x\": \"walking\", \"font\": {\"color\": \"#FFFFFF\"}, \"yref\": \"y1\", \"text\": \"15.38\", \"showarrow\": false, \"y\": \"bike\"}, {\"xref\": \"x1\", \"x\": \"car\", \"font\": {\"color\": \"#FFFFFF\"}, \"yref\": \"y1\", \"text\": \"7.69\", \"showarrow\": false, \"y\": \"bike\"}, {\"xref\": \"x1\", \"x\": \"bike\", \"font\": {\"color\": \"#000000\"}, \"yref\": \"y1\", \"text\": \"69.23\", \"showarrow\": false, \"y\": \"bike\"}, {\"xref\": \"x1\", \"x\": \"upstairs\", \"font\": {\"color\": \"#FFFFFF\"}, \"yref\": \"y1\", \"text\": \"7.69\", \"showarrow\": false, \"y\": \"bike\"}, {\"xref\": \"x1\", \"x\": \"downstairs\", \"font\": {\"color\": \"#FFFFFF\"}, \"yref\": \"y1\", \"text\": \"0.0\", \"showarrow\": false, \"y\": \"bike\"}, {\"xref\": \"x1\", \"x\": \"running\", \"font\": {\"color\": \"#FFFFFF\"}, \"yref\": \"y1\", \"text\": \"1.75\", \"showarrow\": false, \"y\": \"upstairs\"}, {\"xref\": \"x1\", \"x\": \"walking\", \"font\": {\"color\": \"#FFFFFF\"}, \"yref\": \"y1\", \"text\": \"12.28\", \"showarrow\": false, \"y\": \"upstairs\"}, {\"xref\": \"x1\", \"x\": \"car\", \"font\": {\"color\": \"#FFFFFF\"}, \"yref\": \"y1\", \"text\": \"14.04\", \"showarrow\": false, \"y\": \"upstairs\"}, {\"xref\": \"x1\", \"x\": \"bike\", \"font\": {\"color\": \"#FFFFFF\"}, \"yref\": \"y1\", \"text\": \"0.0\", \"showarrow\": false, \"y\": \"upstairs\"}, {\"xref\": \"x1\", \"x\": \"upstairs\", \"font\": {\"color\": \"#000000\"}, \"yref\": \"y1\", \"text\": \"61.4\", \"showarrow\": false, \"y\": \"upstairs\"}, {\"xref\": \"x1\", \"x\": \"downstairs\", \"font\": {\"color\": \"#FFFFFF\"}, \"yref\": \"y1\", \"text\": \"10.53\", \"showarrow\": false, \"y\": \"upstairs\"}, {\"xref\": \"x1\", \"x\": \"running\", \"font\": {\"color\": \"#FFFFFF\"}, \"yref\": \"y1\", \"text\": \"25.0\", \"showarrow\": false, \"y\": \"downstairs\"}, {\"xref\": \"x1\", \"x\": \"walking\", \"font\": {\"color\": \"#FFFFFF\"}, \"yref\": \"y1\", \"text\": \"12.5\", \"showarrow\": false, \"y\": \"downstairs\"}, {\"xref\": \"x1\", \"x\": \"car\", \"font\": {\"color\": \"#FFFFFF\"}, \"yref\": \"y1\", \"text\": \"18.75\", \"showarrow\": false, \"y\": \"downstairs\"}, {\"xref\": \"x1\", \"x\": \"bike\", \"font\": {\"color\": \"#FFFFFF\"}, \"yref\": \"y1\", \"text\": \"0.0\", \"showarrow\": false, \"y\": \"downstairs\"}, {\"xref\": \"x1\", \"x\": \"upstairs\", \"font\": {\"color\": \"#FFFFFF\"}, \"yref\": \"y1\", \"text\": \"9.38\", \"showarrow\": false, \"y\": \"downstairs\"}, {\"xref\": \"x1\", \"x\": \"downstairs\", \"font\": {\"color\": \"#FFFFFF\"}, \"yref\": \"y1\", \"text\": \"34.38\", \"showarrow\": false, \"y\": \"downstairs\"}], \"yaxis\": {\"dtick\": 1, \"ticks\": \"\", \"ticksuffix\": \"  \", \"autorange\": \"reversed\"}}, {\"linkText\": \"Export to plot.ly\", \"showLink\": true})});</script>"
      ],
      "text/vnd.plotly.v1+html": [
       "<div id=\"efa373c0-d17e-460b-8010-c2547a33e27c\" style=\"height: 525px; width: 100%;\" class=\"plotly-graph-div\"></div><script type=\"text/javascript\">require([\"plotly\"], function(Plotly) { window.PLOTLYENV=window.PLOTLYENV || {};window.PLOTLYENV.BASE_URL=\"https://plot.ly\";Plotly.newPlot(\"efa373c0-d17e-460b-8010-c2547a33e27c\", [{\"type\": \"heatmap\", \"showscale\": false, \"y\": [\"running\", \"walking\", \"car\", \"bike\", \"upstairs\", \"downstairs\"], \"z\": [[92.31, 0.77, 3.08, 0.0, 1.54, 2.31], [0.75, 88.06, 5.22, 0.0, 5.22, 0.75], [0.5, 1.49, 96.02, 0.0, 1.99, 0.0], [0.0, 15.38, 7.69, 69.23, 7.69, 0.0], [1.75, 12.28, 14.04, 0.0, 61.4, 10.53], [25.0, 12.5, 18.75, 0.0, 9.38, 34.38]], \"colorscale\": \"RdBu\", \"x\": [\"running\", \"walking\", \"car\", \"bike\", \"upstairs\", \"downstairs\"]}], {\"title\": \"SVM - overall accuracy: 85.71%\", \"xaxis\": {\"gridcolor\": \"rgb(0, 0, 0)\", \"ticks\": \"\", \"side\": \"top\", \"dtick\": 1}, \"annotations\": [{\"xref\": \"x1\", \"x\": \"running\", \"font\": {\"color\": \"#000000\"}, \"yref\": \"y1\", \"text\": \"92.31\", \"showarrow\": false, \"y\": \"running\"}, {\"xref\": \"x1\", \"x\": \"walking\", \"font\": {\"color\": \"#FFFFFF\"}, \"yref\": \"y1\", \"text\": \"0.77\", \"showarrow\": false, \"y\": \"running\"}, {\"xref\": \"x1\", \"x\": \"car\", \"font\": {\"color\": \"#FFFFFF\"}, \"yref\": \"y1\", \"text\": \"3.08\", \"showarrow\": false, \"y\": \"running\"}, {\"xref\": \"x1\", \"x\": \"bike\", \"font\": {\"color\": \"#FFFFFF\"}, \"yref\": \"y1\", \"text\": \"0.0\", \"showarrow\": false, \"y\": \"running\"}, {\"xref\": \"x1\", \"x\": \"upstairs\", \"font\": {\"color\": \"#FFFFFF\"}, \"yref\": \"y1\", \"text\": \"1.54\", \"showarrow\": false, \"y\": \"running\"}, {\"xref\": \"x1\", \"x\": \"downstairs\", \"font\": {\"color\": \"#FFFFFF\"}, \"yref\": \"y1\", \"text\": \"2.31\", \"showarrow\": false, \"y\": \"running\"}, {\"xref\": \"x1\", \"x\": \"running\", \"font\": {\"color\": \"#FFFFFF\"}, \"yref\": \"y1\", \"text\": \"0.75\", \"showarrow\": false, \"y\": \"walking\"}, {\"xref\": \"x1\", \"x\": \"walking\", \"font\": {\"color\": \"#000000\"}, \"yref\": \"y1\", \"text\": \"88.06\", \"showarrow\": false, \"y\": \"walking\"}, {\"xref\": \"x1\", \"x\": \"car\", \"font\": {\"color\": \"#FFFFFF\"}, \"yref\": \"y1\", \"text\": \"5.22\", \"showarrow\": false, \"y\": \"walking\"}, {\"xref\": \"x1\", \"x\": \"bike\", \"font\": {\"color\": \"#FFFFFF\"}, \"yref\": \"y1\", \"text\": \"0.0\", \"showarrow\": false, \"y\": \"walking\"}, {\"xref\": \"x1\", \"x\": \"upstairs\", \"font\": {\"color\": \"#FFFFFF\"}, \"yref\": \"y1\", \"text\": \"5.22\", \"showarrow\": false, \"y\": \"walking\"}, {\"xref\": \"x1\", \"x\": \"downstairs\", \"font\": {\"color\": \"#FFFFFF\"}, \"yref\": \"y1\", \"text\": \"0.75\", \"showarrow\": false, \"y\": \"walking\"}, {\"xref\": \"x1\", \"x\": \"running\", \"font\": {\"color\": \"#FFFFFF\"}, \"yref\": \"y1\", \"text\": \"0.5\", \"showarrow\": false, \"y\": \"car\"}, {\"xref\": \"x1\", \"x\": \"walking\", \"font\": {\"color\": \"#FFFFFF\"}, \"yref\": \"y1\", \"text\": \"1.49\", \"showarrow\": false, \"y\": \"car\"}, {\"xref\": \"x1\", \"x\": \"car\", \"font\": {\"color\": \"#000000\"}, \"yref\": \"y1\", \"text\": \"96.02\", \"showarrow\": false, \"y\": \"car\"}, {\"xref\": \"x1\", \"x\": \"bike\", \"font\": {\"color\": \"#FFFFFF\"}, \"yref\": \"y1\", \"text\": \"0.0\", \"showarrow\": false, \"y\": \"car\"}, {\"xref\": \"x1\", \"x\": \"upstairs\", \"font\": {\"color\": \"#FFFFFF\"}, \"yref\": \"y1\", \"text\": \"1.99\", \"showarrow\": false, \"y\": \"car\"}, {\"xref\": \"x1\", \"x\": \"downstairs\", \"font\": {\"color\": \"#FFFFFF\"}, \"yref\": \"y1\", \"text\": \"0.0\", \"showarrow\": false, \"y\": \"car\"}, {\"xref\": \"x1\", \"x\": \"running\", \"font\": {\"color\": \"#FFFFFF\"}, \"yref\": \"y1\", \"text\": \"0.0\", \"showarrow\": false, \"y\": \"bike\"}, {\"xref\": \"x1\", \"x\": \"walking\", \"font\": {\"color\": \"#FFFFFF\"}, \"yref\": \"y1\", \"text\": \"15.38\", \"showarrow\": false, \"y\": \"bike\"}, {\"xref\": \"x1\", \"x\": \"car\", \"font\": {\"color\": \"#FFFFFF\"}, \"yref\": \"y1\", \"text\": \"7.69\", \"showarrow\": false, \"y\": \"bike\"}, {\"xref\": \"x1\", \"x\": \"bike\", \"font\": {\"color\": \"#000000\"}, \"yref\": \"y1\", \"text\": \"69.23\", \"showarrow\": false, \"y\": \"bike\"}, {\"xref\": \"x1\", \"x\": \"upstairs\", \"font\": {\"color\": \"#FFFFFF\"}, \"yref\": \"y1\", \"text\": \"7.69\", \"showarrow\": false, \"y\": \"bike\"}, {\"xref\": \"x1\", \"x\": \"downstairs\", \"font\": {\"color\": \"#FFFFFF\"}, \"yref\": \"y1\", \"text\": \"0.0\", \"showarrow\": false, \"y\": \"bike\"}, {\"xref\": \"x1\", \"x\": \"running\", \"font\": {\"color\": \"#FFFFFF\"}, \"yref\": \"y1\", \"text\": \"1.75\", \"showarrow\": false, \"y\": \"upstairs\"}, {\"xref\": \"x1\", \"x\": \"walking\", \"font\": {\"color\": \"#FFFFFF\"}, \"yref\": \"y1\", \"text\": \"12.28\", \"showarrow\": false, \"y\": \"upstairs\"}, {\"xref\": \"x1\", \"x\": \"car\", \"font\": {\"color\": \"#FFFFFF\"}, \"yref\": \"y1\", \"text\": \"14.04\", \"showarrow\": false, \"y\": \"upstairs\"}, {\"xref\": \"x1\", \"x\": \"bike\", \"font\": {\"color\": \"#FFFFFF\"}, \"yref\": \"y1\", \"text\": \"0.0\", \"showarrow\": false, \"y\": \"upstairs\"}, {\"xref\": \"x1\", \"x\": \"upstairs\", \"font\": {\"color\": \"#000000\"}, \"yref\": \"y1\", \"text\": \"61.4\", \"showarrow\": false, \"y\": \"upstairs\"}, {\"xref\": \"x1\", \"x\": \"downstairs\", \"font\": {\"color\": \"#FFFFFF\"}, \"yref\": \"y1\", \"text\": \"10.53\", \"showarrow\": false, \"y\": \"upstairs\"}, {\"xref\": \"x1\", \"x\": \"running\", \"font\": {\"color\": \"#FFFFFF\"}, \"yref\": \"y1\", \"text\": \"25.0\", \"showarrow\": false, \"y\": \"downstairs\"}, {\"xref\": \"x1\", \"x\": \"walking\", \"font\": {\"color\": \"#FFFFFF\"}, \"yref\": \"y1\", \"text\": \"12.5\", \"showarrow\": false, \"y\": \"downstairs\"}, {\"xref\": \"x1\", \"x\": \"car\", \"font\": {\"color\": \"#FFFFFF\"}, \"yref\": \"y1\", \"text\": \"18.75\", \"showarrow\": false, \"y\": \"downstairs\"}, {\"xref\": \"x1\", \"x\": \"bike\", \"font\": {\"color\": \"#FFFFFF\"}, \"yref\": \"y1\", \"text\": \"0.0\", \"showarrow\": false, \"y\": \"downstairs\"}, {\"xref\": \"x1\", \"x\": \"upstairs\", \"font\": {\"color\": \"#FFFFFF\"}, \"yref\": \"y1\", \"text\": \"9.38\", \"showarrow\": false, \"y\": \"downstairs\"}, {\"xref\": \"x1\", \"x\": \"downstairs\", \"font\": {\"color\": \"#FFFFFF\"}, \"yref\": \"y1\", \"text\": \"34.38\", \"showarrow\": false, \"y\": \"downstairs\"}], \"yaxis\": {\"dtick\": 1, \"ticks\": \"\", \"ticksuffix\": \"  \", \"autorange\": \"reversed\"}}, {\"linkText\": \"Export to plot.ly\", \"showLink\": true})});</script>"
      ]
     },
     "metadata": {},
     "output_type": "display_data"
    },
    {
     "data": {
      "application/vnd.plotly.v1+json": {
       "data": [
        {
         "colorscale": "RdBu",
         "showscale": false,
         "type": "heatmap",
         "x": [
          "running",
          "walking",
          "car",
          "bike",
          "upstairs",
          "downstairs"
         ],
         "y": [
          "running",
          "walking",
          "car",
          "bike",
          "upstairs",
          "downstairs"
         ],
         "z": [
          [
           93.08,
           3.08,
           1.54,
           0,
           0.77,
           1.54
          ],
          [
           0.75,
           87.31,
           5.97,
           0,
           5.97,
           0
          ],
          [
           0.5,
           1,
           94.53,
           0,
           2.99,
           1
          ],
          [
           0,
           23.08,
           7.69,
           69.23,
           0,
           0
          ],
          [
           0,
           14.04,
           8.77,
           0,
           71.93,
           5.26
          ],
          [
           3.12,
           15.62,
           21.88,
           0,
           6.25,
           53.12
          ]
         ]
        }
       ],
       "layout": {
        "annotations": [
         {
          "font": {
           "color": "#000000"
          },
          "showarrow": false,
          "text": "93.08",
          "x": "running",
          "xref": "x1",
          "y": "running",
          "yref": "y1"
         },
         {
          "font": {
           "color": "#FFFFFF"
          },
          "showarrow": false,
          "text": "3.08",
          "x": "walking",
          "xref": "x1",
          "y": "running",
          "yref": "y1"
         },
         {
          "font": {
           "color": "#FFFFFF"
          },
          "showarrow": false,
          "text": "1.54",
          "x": "car",
          "xref": "x1",
          "y": "running",
          "yref": "y1"
         },
         {
          "font": {
           "color": "#FFFFFF"
          },
          "showarrow": false,
          "text": "0.0",
          "x": "bike",
          "xref": "x1",
          "y": "running",
          "yref": "y1"
         },
         {
          "font": {
           "color": "#FFFFFF"
          },
          "showarrow": false,
          "text": "0.77",
          "x": "upstairs",
          "xref": "x1",
          "y": "running",
          "yref": "y1"
         },
         {
          "font": {
           "color": "#FFFFFF"
          },
          "showarrow": false,
          "text": "1.54",
          "x": "downstairs",
          "xref": "x1",
          "y": "running",
          "yref": "y1"
         },
         {
          "font": {
           "color": "#FFFFFF"
          },
          "showarrow": false,
          "text": "0.75",
          "x": "running",
          "xref": "x1",
          "y": "walking",
          "yref": "y1"
         },
         {
          "font": {
           "color": "#000000"
          },
          "showarrow": false,
          "text": "87.31",
          "x": "walking",
          "xref": "x1",
          "y": "walking",
          "yref": "y1"
         },
         {
          "font": {
           "color": "#FFFFFF"
          },
          "showarrow": false,
          "text": "5.97",
          "x": "car",
          "xref": "x1",
          "y": "walking",
          "yref": "y1"
         },
         {
          "font": {
           "color": "#FFFFFF"
          },
          "showarrow": false,
          "text": "0.0",
          "x": "bike",
          "xref": "x1",
          "y": "walking",
          "yref": "y1"
         },
         {
          "font": {
           "color": "#FFFFFF"
          },
          "showarrow": false,
          "text": "5.97",
          "x": "upstairs",
          "xref": "x1",
          "y": "walking",
          "yref": "y1"
         },
         {
          "font": {
           "color": "#FFFFFF"
          },
          "showarrow": false,
          "text": "0.0",
          "x": "downstairs",
          "xref": "x1",
          "y": "walking",
          "yref": "y1"
         },
         {
          "font": {
           "color": "#FFFFFF"
          },
          "showarrow": false,
          "text": "0.5",
          "x": "running",
          "xref": "x1",
          "y": "car",
          "yref": "y1"
         },
         {
          "font": {
           "color": "#FFFFFF"
          },
          "showarrow": false,
          "text": "1.0",
          "x": "walking",
          "xref": "x1",
          "y": "car",
          "yref": "y1"
         },
         {
          "font": {
           "color": "#000000"
          },
          "showarrow": false,
          "text": "94.53",
          "x": "car",
          "xref": "x1",
          "y": "car",
          "yref": "y1"
         },
         {
          "font": {
           "color": "#FFFFFF"
          },
          "showarrow": false,
          "text": "0.0",
          "x": "bike",
          "xref": "x1",
          "y": "car",
          "yref": "y1"
         },
         {
          "font": {
           "color": "#FFFFFF"
          },
          "showarrow": false,
          "text": "2.99",
          "x": "upstairs",
          "xref": "x1",
          "y": "car",
          "yref": "y1"
         },
         {
          "font": {
           "color": "#FFFFFF"
          },
          "showarrow": false,
          "text": "1.0",
          "x": "downstairs",
          "xref": "x1",
          "y": "car",
          "yref": "y1"
         },
         {
          "font": {
           "color": "#FFFFFF"
          },
          "showarrow": false,
          "text": "0.0",
          "x": "running",
          "xref": "x1",
          "y": "bike",
          "yref": "y1"
         },
         {
          "font": {
           "color": "#FFFFFF"
          },
          "showarrow": false,
          "text": "23.08",
          "x": "walking",
          "xref": "x1",
          "y": "bike",
          "yref": "y1"
         },
         {
          "font": {
           "color": "#FFFFFF"
          },
          "showarrow": false,
          "text": "7.69",
          "x": "car",
          "xref": "x1",
          "y": "bike",
          "yref": "y1"
         },
         {
          "font": {
           "color": "#000000"
          },
          "showarrow": false,
          "text": "69.23",
          "x": "bike",
          "xref": "x1",
          "y": "bike",
          "yref": "y1"
         },
         {
          "font": {
           "color": "#FFFFFF"
          },
          "showarrow": false,
          "text": "0.0",
          "x": "upstairs",
          "xref": "x1",
          "y": "bike",
          "yref": "y1"
         },
         {
          "font": {
           "color": "#FFFFFF"
          },
          "showarrow": false,
          "text": "0.0",
          "x": "downstairs",
          "xref": "x1",
          "y": "bike",
          "yref": "y1"
         },
         {
          "font": {
           "color": "#FFFFFF"
          },
          "showarrow": false,
          "text": "0.0",
          "x": "running",
          "xref": "x1",
          "y": "upstairs",
          "yref": "y1"
         },
         {
          "font": {
           "color": "#FFFFFF"
          },
          "showarrow": false,
          "text": "14.04",
          "x": "walking",
          "xref": "x1",
          "y": "upstairs",
          "yref": "y1"
         },
         {
          "font": {
           "color": "#FFFFFF"
          },
          "showarrow": false,
          "text": "8.77",
          "x": "car",
          "xref": "x1",
          "y": "upstairs",
          "yref": "y1"
         },
         {
          "font": {
           "color": "#FFFFFF"
          },
          "showarrow": false,
          "text": "0.0",
          "x": "bike",
          "xref": "x1",
          "y": "upstairs",
          "yref": "y1"
         },
         {
          "font": {
           "color": "#000000"
          },
          "showarrow": false,
          "text": "71.93",
          "x": "upstairs",
          "xref": "x1",
          "y": "upstairs",
          "yref": "y1"
         },
         {
          "font": {
           "color": "#FFFFFF"
          },
          "showarrow": false,
          "text": "5.26",
          "x": "downstairs",
          "xref": "x1",
          "y": "upstairs",
          "yref": "y1"
         },
         {
          "font": {
           "color": "#FFFFFF"
          },
          "showarrow": false,
          "text": "3.12",
          "x": "running",
          "xref": "x1",
          "y": "downstairs",
          "yref": "y1"
         },
         {
          "font": {
           "color": "#FFFFFF"
          },
          "showarrow": false,
          "text": "15.62",
          "x": "walking",
          "xref": "x1",
          "y": "downstairs",
          "yref": "y1"
         },
         {
          "font": {
           "color": "#FFFFFF"
          },
          "showarrow": false,
          "text": "21.88",
          "x": "car",
          "xref": "x1",
          "y": "downstairs",
          "yref": "y1"
         },
         {
          "font": {
           "color": "#FFFFFF"
          },
          "showarrow": false,
          "text": "0.0",
          "x": "bike",
          "xref": "x1",
          "y": "downstairs",
          "yref": "y1"
         },
         {
          "font": {
           "color": "#FFFFFF"
          },
          "showarrow": false,
          "text": "6.25",
          "x": "upstairs",
          "xref": "x1",
          "y": "downstairs",
          "yref": "y1"
         },
         {
          "font": {
           "color": "#000000"
          },
          "showarrow": false,
          "text": "53.12",
          "x": "downstairs",
          "xref": "x1",
          "y": "downstairs",
          "yref": "y1"
         }
        ],
        "title": "MLP - overall accuracy: 87.3%",
        "xaxis": {
         "dtick": 1,
         "gridcolor": "rgb(0, 0, 0)",
         "side": "top",
         "ticks": ""
        },
        "yaxis": {
         "autorange": "reversed",
         "dtick": 1,
         "ticks": "",
         "ticksuffix": "  "
        }
       }
      },
      "text/html": [
       "<div id=\"eb7fc438-ede7-4d17-b53c-4f7d069fa161\" style=\"height: 525px; width: 100%;\" class=\"plotly-graph-div\"></div><script type=\"text/javascript\">require([\"plotly\"], function(Plotly) { window.PLOTLYENV=window.PLOTLYENV || {};window.PLOTLYENV.BASE_URL=\"https://plot.ly\";Plotly.newPlot(\"eb7fc438-ede7-4d17-b53c-4f7d069fa161\", [{\"type\": \"heatmap\", \"showscale\": false, \"y\": [\"running\", \"walking\", \"car\", \"bike\", \"upstairs\", \"downstairs\"], \"z\": [[93.08, 3.08, 1.54, 0.0, 0.77, 1.54], [0.75, 87.31, 5.97, 0.0, 5.97, 0.0], [0.5, 1.0, 94.53, 0.0, 2.99, 1.0], [0.0, 23.08, 7.69, 69.23, 0.0, 0.0], [0.0, 14.04, 8.77, 0.0, 71.93, 5.26], [3.12, 15.62, 21.88, 0.0, 6.25, 53.12]], \"colorscale\": \"RdBu\", \"x\": [\"running\", \"walking\", \"car\", \"bike\", \"upstairs\", \"downstairs\"]}], {\"title\": \"MLP - overall accuracy: 87.3%\", \"xaxis\": {\"gridcolor\": \"rgb(0, 0, 0)\", \"ticks\": \"\", \"side\": \"top\", \"dtick\": 1}, \"annotations\": [{\"xref\": \"x1\", \"x\": \"running\", \"font\": {\"color\": \"#000000\"}, \"yref\": \"y1\", \"text\": \"93.08\", \"showarrow\": false, \"y\": \"running\"}, {\"xref\": \"x1\", \"x\": \"walking\", \"font\": {\"color\": \"#FFFFFF\"}, \"yref\": \"y1\", \"text\": \"3.08\", \"showarrow\": false, \"y\": \"running\"}, {\"xref\": \"x1\", \"x\": \"car\", \"font\": {\"color\": \"#FFFFFF\"}, \"yref\": \"y1\", \"text\": \"1.54\", \"showarrow\": false, \"y\": \"running\"}, {\"xref\": \"x1\", \"x\": \"bike\", \"font\": {\"color\": \"#FFFFFF\"}, \"yref\": \"y1\", \"text\": \"0.0\", \"showarrow\": false, \"y\": \"running\"}, {\"xref\": \"x1\", \"x\": \"upstairs\", \"font\": {\"color\": \"#FFFFFF\"}, \"yref\": \"y1\", \"text\": \"0.77\", \"showarrow\": false, \"y\": \"running\"}, {\"xref\": \"x1\", \"x\": \"downstairs\", \"font\": {\"color\": \"#FFFFFF\"}, \"yref\": \"y1\", \"text\": \"1.54\", \"showarrow\": false, \"y\": \"running\"}, {\"xref\": \"x1\", \"x\": \"running\", \"font\": {\"color\": \"#FFFFFF\"}, \"yref\": \"y1\", \"text\": \"0.75\", \"showarrow\": false, \"y\": \"walking\"}, {\"xref\": \"x1\", \"x\": \"walking\", \"font\": {\"color\": \"#000000\"}, \"yref\": \"y1\", \"text\": \"87.31\", \"showarrow\": false, \"y\": \"walking\"}, {\"xref\": \"x1\", \"x\": \"car\", \"font\": {\"color\": \"#FFFFFF\"}, \"yref\": \"y1\", \"text\": \"5.97\", \"showarrow\": false, \"y\": \"walking\"}, {\"xref\": \"x1\", \"x\": \"bike\", \"font\": {\"color\": \"#FFFFFF\"}, \"yref\": \"y1\", \"text\": \"0.0\", \"showarrow\": false, \"y\": \"walking\"}, {\"xref\": \"x1\", \"x\": \"upstairs\", \"font\": {\"color\": \"#FFFFFF\"}, \"yref\": \"y1\", \"text\": \"5.97\", \"showarrow\": false, \"y\": \"walking\"}, {\"xref\": \"x1\", \"x\": \"downstairs\", \"font\": {\"color\": \"#FFFFFF\"}, \"yref\": \"y1\", \"text\": \"0.0\", \"showarrow\": false, \"y\": \"walking\"}, {\"xref\": \"x1\", \"x\": \"running\", \"font\": {\"color\": \"#FFFFFF\"}, \"yref\": \"y1\", \"text\": \"0.5\", \"showarrow\": false, \"y\": \"car\"}, {\"xref\": \"x1\", \"x\": \"walking\", \"font\": {\"color\": \"#FFFFFF\"}, \"yref\": \"y1\", \"text\": \"1.0\", \"showarrow\": false, \"y\": \"car\"}, {\"xref\": \"x1\", \"x\": \"car\", \"font\": {\"color\": \"#000000\"}, \"yref\": \"y1\", \"text\": \"94.53\", \"showarrow\": false, \"y\": \"car\"}, {\"xref\": \"x1\", \"x\": \"bike\", \"font\": {\"color\": \"#FFFFFF\"}, \"yref\": \"y1\", \"text\": \"0.0\", \"showarrow\": false, \"y\": \"car\"}, {\"xref\": \"x1\", \"x\": \"upstairs\", \"font\": {\"color\": \"#FFFFFF\"}, \"yref\": \"y1\", \"text\": \"2.99\", \"showarrow\": false, \"y\": \"car\"}, {\"xref\": \"x1\", \"x\": \"downstairs\", \"font\": {\"color\": \"#FFFFFF\"}, \"yref\": \"y1\", \"text\": \"1.0\", \"showarrow\": false, \"y\": \"car\"}, {\"xref\": \"x1\", \"x\": \"running\", \"font\": {\"color\": \"#FFFFFF\"}, \"yref\": \"y1\", \"text\": \"0.0\", \"showarrow\": false, \"y\": \"bike\"}, {\"xref\": \"x1\", \"x\": \"walking\", \"font\": {\"color\": \"#FFFFFF\"}, \"yref\": \"y1\", \"text\": \"23.08\", \"showarrow\": false, \"y\": \"bike\"}, {\"xref\": \"x1\", \"x\": \"car\", \"font\": {\"color\": \"#FFFFFF\"}, \"yref\": \"y1\", \"text\": \"7.69\", \"showarrow\": false, \"y\": \"bike\"}, {\"xref\": \"x1\", \"x\": \"bike\", \"font\": {\"color\": \"#000000\"}, \"yref\": \"y1\", \"text\": \"69.23\", \"showarrow\": false, \"y\": \"bike\"}, {\"xref\": \"x1\", \"x\": \"upstairs\", \"font\": {\"color\": \"#FFFFFF\"}, \"yref\": \"y1\", \"text\": \"0.0\", \"showarrow\": false, \"y\": \"bike\"}, {\"xref\": \"x1\", \"x\": \"downstairs\", \"font\": {\"color\": \"#FFFFFF\"}, \"yref\": \"y1\", \"text\": \"0.0\", \"showarrow\": false, \"y\": \"bike\"}, {\"xref\": \"x1\", \"x\": \"running\", \"font\": {\"color\": \"#FFFFFF\"}, \"yref\": \"y1\", \"text\": \"0.0\", \"showarrow\": false, \"y\": \"upstairs\"}, {\"xref\": \"x1\", \"x\": \"walking\", \"font\": {\"color\": \"#FFFFFF\"}, \"yref\": \"y1\", \"text\": \"14.04\", \"showarrow\": false, \"y\": \"upstairs\"}, {\"xref\": \"x1\", \"x\": \"car\", \"font\": {\"color\": \"#FFFFFF\"}, \"yref\": \"y1\", \"text\": \"8.77\", \"showarrow\": false, \"y\": \"upstairs\"}, {\"xref\": \"x1\", \"x\": \"bike\", \"font\": {\"color\": \"#FFFFFF\"}, \"yref\": \"y1\", \"text\": \"0.0\", \"showarrow\": false, \"y\": \"upstairs\"}, {\"xref\": \"x1\", \"x\": \"upstairs\", \"font\": {\"color\": \"#000000\"}, \"yref\": \"y1\", \"text\": \"71.93\", \"showarrow\": false, \"y\": \"upstairs\"}, {\"xref\": \"x1\", \"x\": \"downstairs\", \"font\": {\"color\": \"#FFFFFF\"}, \"yref\": \"y1\", \"text\": \"5.26\", \"showarrow\": false, \"y\": \"upstairs\"}, {\"xref\": \"x1\", \"x\": \"running\", \"font\": {\"color\": \"#FFFFFF\"}, \"yref\": \"y1\", \"text\": \"3.12\", \"showarrow\": false, \"y\": \"downstairs\"}, {\"xref\": \"x1\", \"x\": \"walking\", \"font\": {\"color\": \"#FFFFFF\"}, \"yref\": \"y1\", \"text\": \"15.62\", \"showarrow\": false, \"y\": \"downstairs\"}, {\"xref\": \"x1\", \"x\": \"car\", \"font\": {\"color\": \"#FFFFFF\"}, \"yref\": \"y1\", \"text\": \"21.88\", \"showarrow\": false, \"y\": \"downstairs\"}, {\"xref\": \"x1\", \"x\": \"bike\", \"font\": {\"color\": \"#FFFFFF\"}, \"yref\": \"y1\", \"text\": \"0.0\", \"showarrow\": false, \"y\": \"downstairs\"}, {\"xref\": \"x1\", \"x\": \"upstairs\", \"font\": {\"color\": \"#FFFFFF\"}, \"yref\": \"y1\", \"text\": \"6.25\", \"showarrow\": false, \"y\": \"downstairs\"}, {\"xref\": \"x1\", \"x\": \"downstairs\", \"font\": {\"color\": \"#000000\"}, \"yref\": \"y1\", \"text\": \"53.12\", \"showarrow\": false, \"y\": \"downstairs\"}], \"yaxis\": {\"dtick\": 1, \"ticks\": \"\", \"ticksuffix\": \"  \", \"autorange\": \"reversed\"}}, {\"linkText\": \"Export to plot.ly\", \"showLink\": true})});</script>"
      ],
      "text/vnd.plotly.v1+html": [
       "<div id=\"eb7fc438-ede7-4d17-b53c-4f7d069fa161\" style=\"height: 525px; width: 100%;\" class=\"plotly-graph-div\"></div><script type=\"text/javascript\">require([\"plotly\"], function(Plotly) { window.PLOTLYENV=window.PLOTLYENV || {};window.PLOTLYENV.BASE_URL=\"https://plot.ly\";Plotly.newPlot(\"eb7fc438-ede7-4d17-b53c-4f7d069fa161\", [{\"type\": \"heatmap\", \"showscale\": false, \"y\": [\"running\", \"walking\", \"car\", \"bike\", \"upstairs\", \"downstairs\"], \"z\": [[93.08, 3.08, 1.54, 0.0, 0.77, 1.54], [0.75, 87.31, 5.97, 0.0, 5.97, 0.0], [0.5, 1.0, 94.53, 0.0, 2.99, 1.0], [0.0, 23.08, 7.69, 69.23, 0.0, 0.0], [0.0, 14.04, 8.77, 0.0, 71.93, 5.26], [3.12, 15.62, 21.88, 0.0, 6.25, 53.12]], \"colorscale\": \"RdBu\", \"x\": [\"running\", \"walking\", \"car\", \"bike\", \"upstairs\", \"downstairs\"]}], {\"title\": \"MLP - overall accuracy: 87.3%\", \"xaxis\": {\"gridcolor\": \"rgb(0, 0, 0)\", \"ticks\": \"\", \"side\": \"top\", \"dtick\": 1}, \"annotations\": [{\"xref\": \"x1\", \"x\": \"running\", \"font\": {\"color\": \"#000000\"}, \"yref\": \"y1\", \"text\": \"93.08\", \"showarrow\": false, \"y\": \"running\"}, {\"xref\": \"x1\", \"x\": \"walking\", \"font\": {\"color\": \"#FFFFFF\"}, \"yref\": \"y1\", \"text\": \"3.08\", \"showarrow\": false, \"y\": \"running\"}, {\"xref\": \"x1\", \"x\": \"car\", \"font\": {\"color\": \"#FFFFFF\"}, \"yref\": \"y1\", \"text\": \"1.54\", \"showarrow\": false, \"y\": \"running\"}, {\"xref\": \"x1\", \"x\": \"bike\", \"font\": {\"color\": \"#FFFFFF\"}, \"yref\": \"y1\", \"text\": \"0.0\", \"showarrow\": false, \"y\": \"running\"}, {\"xref\": \"x1\", \"x\": \"upstairs\", \"font\": {\"color\": \"#FFFFFF\"}, \"yref\": \"y1\", \"text\": \"0.77\", \"showarrow\": false, \"y\": \"running\"}, {\"xref\": \"x1\", \"x\": \"downstairs\", \"font\": {\"color\": \"#FFFFFF\"}, \"yref\": \"y1\", \"text\": \"1.54\", \"showarrow\": false, \"y\": \"running\"}, {\"xref\": \"x1\", \"x\": \"running\", \"font\": {\"color\": \"#FFFFFF\"}, \"yref\": \"y1\", \"text\": \"0.75\", \"showarrow\": false, \"y\": \"walking\"}, {\"xref\": \"x1\", \"x\": \"walking\", \"font\": {\"color\": \"#000000\"}, \"yref\": \"y1\", \"text\": \"87.31\", \"showarrow\": false, \"y\": \"walking\"}, {\"xref\": \"x1\", \"x\": \"car\", \"font\": {\"color\": \"#FFFFFF\"}, \"yref\": \"y1\", \"text\": \"5.97\", \"showarrow\": false, \"y\": \"walking\"}, {\"xref\": \"x1\", \"x\": \"bike\", \"font\": {\"color\": \"#FFFFFF\"}, \"yref\": \"y1\", \"text\": \"0.0\", \"showarrow\": false, \"y\": \"walking\"}, {\"xref\": \"x1\", \"x\": \"upstairs\", \"font\": {\"color\": \"#FFFFFF\"}, \"yref\": \"y1\", \"text\": \"5.97\", \"showarrow\": false, \"y\": \"walking\"}, {\"xref\": \"x1\", \"x\": \"downstairs\", \"font\": {\"color\": \"#FFFFFF\"}, \"yref\": \"y1\", \"text\": \"0.0\", \"showarrow\": false, \"y\": \"walking\"}, {\"xref\": \"x1\", \"x\": \"running\", \"font\": {\"color\": \"#FFFFFF\"}, \"yref\": \"y1\", \"text\": \"0.5\", \"showarrow\": false, \"y\": \"car\"}, {\"xref\": \"x1\", \"x\": \"walking\", \"font\": {\"color\": \"#FFFFFF\"}, \"yref\": \"y1\", \"text\": \"1.0\", \"showarrow\": false, \"y\": \"car\"}, {\"xref\": \"x1\", \"x\": \"car\", \"font\": {\"color\": \"#000000\"}, \"yref\": \"y1\", \"text\": \"94.53\", \"showarrow\": false, \"y\": \"car\"}, {\"xref\": \"x1\", \"x\": \"bike\", \"font\": {\"color\": \"#FFFFFF\"}, \"yref\": \"y1\", \"text\": \"0.0\", \"showarrow\": false, \"y\": \"car\"}, {\"xref\": \"x1\", \"x\": \"upstairs\", \"font\": {\"color\": \"#FFFFFF\"}, \"yref\": \"y1\", \"text\": \"2.99\", \"showarrow\": false, \"y\": \"car\"}, {\"xref\": \"x1\", \"x\": \"downstairs\", \"font\": {\"color\": \"#FFFFFF\"}, \"yref\": \"y1\", \"text\": \"1.0\", \"showarrow\": false, \"y\": \"car\"}, {\"xref\": \"x1\", \"x\": \"running\", \"font\": {\"color\": \"#FFFFFF\"}, \"yref\": \"y1\", \"text\": \"0.0\", \"showarrow\": false, \"y\": \"bike\"}, {\"xref\": \"x1\", \"x\": \"walking\", \"font\": {\"color\": \"#FFFFFF\"}, \"yref\": \"y1\", \"text\": \"23.08\", \"showarrow\": false, \"y\": \"bike\"}, {\"xref\": \"x1\", \"x\": \"car\", \"font\": {\"color\": \"#FFFFFF\"}, \"yref\": \"y1\", \"text\": \"7.69\", \"showarrow\": false, \"y\": \"bike\"}, {\"xref\": \"x1\", \"x\": \"bike\", \"font\": {\"color\": \"#000000\"}, \"yref\": \"y1\", \"text\": \"69.23\", \"showarrow\": false, \"y\": \"bike\"}, {\"xref\": \"x1\", \"x\": \"upstairs\", \"font\": {\"color\": \"#FFFFFF\"}, \"yref\": \"y1\", \"text\": \"0.0\", \"showarrow\": false, \"y\": \"bike\"}, {\"xref\": \"x1\", \"x\": \"downstairs\", \"font\": {\"color\": \"#FFFFFF\"}, \"yref\": \"y1\", \"text\": \"0.0\", \"showarrow\": false, \"y\": \"bike\"}, {\"xref\": \"x1\", \"x\": \"running\", \"font\": {\"color\": \"#FFFFFF\"}, \"yref\": \"y1\", \"text\": \"0.0\", \"showarrow\": false, \"y\": \"upstairs\"}, {\"xref\": \"x1\", \"x\": \"walking\", \"font\": {\"color\": \"#FFFFFF\"}, \"yref\": \"y1\", \"text\": \"14.04\", \"showarrow\": false, \"y\": \"upstairs\"}, {\"xref\": \"x1\", \"x\": \"car\", \"font\": {\"color\": \"#FFFFFF\"}, \"yref\": \"y1\", \"text\": \"8.77\", \"showarrow\": false, \"y\": \"upstairs\"}, {\"xref\": \"x1\", \"x\": \"bike\", \"font\": {\"color\": \"#FFFFFF\"}, \"yref\": \"y1\", \"text\": \"0.0\", \"showarrow\": false, \"y\": \"upstairs\"}, {\"xref\": \"x1\", \"x\": \"upstairs\", \"font\": {\"color\": \"#000000\"}, \"yref\": \"y1\", \"text\": \"71.93\", \"showarrow\": false, \"y\": \"upstairs\"}, {\"xref\": \"x1\", \"x\": \"downstairs\", \"font\": {\"color\": \"#FFFFFF\"}, \"yref\": \"y1\", \"text\": \"5.26\", \"showarrow\": false, \"y\": \"upstairs\"}, {\"xref\": \"x1\", \"x\": \"running\", \"font\": {\"color\": \"#FFFFFF\"}, \"yref\": \"y1\", \"text\": \"3.12\", \"showarrow\": false, \"y\": \"downstairs\"}, {\"xref\": \"x1\", \"x\": \"walking\", \"font\": {\"color\": \"#FFFFFF\"}, \"yref\": \"y1\", \"text\": \"15.62\", \"showarrow\": false, \"y\": \"downstairs\"}, {\"xref\": \"x1\", \"x\": \"car\", \"font\": {\"color\": \"#FFFFFF\"}, \"yref\": \"y1\", \"text\": \"21.88\", \"showarrow\": false, \"y\": \"downstairs\"}, {\"xref\": \"x1\", \"x\": \"bike\", \"font\": {\"color\": \"#FFFFFF\"}, \"yref\": \"y1\", \"text\": \"0.0\", \"showarrow\": false, \"y\": \"downstairs\"}, {\"xref\": \"x1\", \"x\": \"upstairs\", \"font\": {\"color\": \"#FFFFFF\"}, \"yref\": \"y1\", \"text\": \"6.25\", \"showarrow\": false, \"y\": \"downstairs\"}, {\"xref\": \"x1\", \"x\": \"downstairs\", \"font\": {\"color\": \"#000000\"}, \"yref\": \"y1\", \"text\": \"53.12\", \"showarrow\": false, \"y\": \"downstairs\"}], \"yaxis\": {\"dtick\": 1, \"ticks\": \"\", \"ticksuffix\": \"  \", \"autorange\": \"reversed\"}}, {\"linkText\": \"Export to plot.ly\", \"showLink\": true})});</script>"
      ]
     },
     "metadata": {},
     "output_type": "display_data"
    },
    {
     "data": {
      "application/vnd.plotly.v1+json": {
       "data": [
        {
         "colorscale": "RdBu",
         "showscale": false,
         "type": "heatmap",
         "x": [
          "running",
          "walking",
          "car",
          "bike",
          "upstairs",
          "downstairs"
         ],
         "y": [
          "running",
          "walking",
          "car",
          "bike",
          "upstairs",
          "downstairs"
         ],
         "z": [
          [
           92.31,
           4.62,
           0,
           0,
           1.54,
           1.54
          ],
          [
           6.72,
           88.06,
           2.24,
           0,
           2.24,
           0.75
          ],
          [
           4.48,
           4.98,
           87.06,
           0,
           2.99,
           0.5
          ],
          [
           15.38,
           23.08,
           0,
           53.85,
           0,
           7.69
          ],
          [
           10.53,
           24.56,
           3.51,
           0,
           57.89,
           3.51
          ],
          [
           34.38,
           28.12,
           9.38,
           0,
           9.38,
           18.75
          ]
         ]
        }
       ],
       "layout": {
        "annotations": [
         {
          "font": {
           "color": "#000000"
          },
          "showarrow": false,
          "text": "92.31",
          "x": "running",
          "xref": "x1",
          "y": "running",
          "yref": "y1"
         },
         {
          "font": {
           "color": "#FFFFFF"
          },
          "showarrow": false,
          "text": "4.62",
          "x": "walking",
          "xref": "x1",
          "y": "running",
          "yref": "y1"
         },
         {
          "font": {
           "color": "#FFFFFF"
          },
          "showarrow": false,
          "text": "0.0",
          "x": "car",
          "xref": "x1",
          "y": "running",
          "yref": "y1"
         },
         {
          "font": {
           "color": "#FFFFFF"
          },
          "showarrow": false,
          "text": "0.0",
          "x": "bike",
          "xref": "x1",
          "y": "running",
          "yref": "y1"
         },
         {
          "font": {
           "color": "#FFFFFF"
          },
          "showarrow": false,
          "text": "1.54",
          "x": "upstairs",
          "xref": "x1",
          "y": "running",
          "yref": "y1"
         },
         {
          "font": {
           "color": "#FFFFFF"
          },
          "showarrow": false,
          "text": "1.54",
          "x": "downstairs",
          "xref": "x1",
          "y": "running",
          "yref": "y1"
         },
         {
          "font": {
           "color": "#FFFFFF"
          },
          "showarrow": false,
          "text": "6.72",
          "x": "running",
          "xref": "x1",
          "y": "walking",
          "yref": "y1"
         },
         {
          "font": {
           "color": "#000000"
          },
          "showarrow": false,
          "text": "88.06",
          "x": "walking",
          "xref": "x1",
          "y": "walking",
          "yref": "y1"
         },
         {
          "font": {
           "color": "#FFFFFF"
          },
          "showarrow": false,
          "text": "2.24",
          "x": "car",
          "xref": "x1",
          "y": "walking",
          "yref": "y1"
         },
         {
          "font": {
           "color": "#FFFFFF"
          },
          "showarrow": false,
          "text": "0.0",
          "x": "bike",
          "xref": "x1",
          "y": "walking",
          "yref": "y1"
         },
         {
          "font": {
           "color": "#FFFFFF"
          },
          "showarrow": false,
          "text": "2.24",
          "x": "upstairs",
          "xref": "x1",
          "y": "walking",
          "yref": "y1"
         },
         {
          "font": {
           "color": "#FFFFFF"
          },
          "showarrow": false,
          "text": "0.75",
          "x": "downstairs",
          "xref": "x1",
          "y": "walking",
          "yref": "y1"
         },
         {
          "font": {
           "color": "#FFFFFF"
          },
          "showarrow": false,
          "text": "4.48",
          "x": "running",
          "xref": "x1",
          "y": "car",
          "yref": "y1"
         },
         {
          "font": {
           "color": "#FFFFFF"
          },
          "showarrow": false,
          "text": "4.98",
          "x": "walking",
          "xref": "x1",
          "y": "car",
          "yref": "y1"
         },
         {
          "font": {
           "color": "#000000"
          },
          "showarrow": false,
          "text": "87.06",
          "x": "car",
          "xref": "x1",
          "y": "car",
          "yref": "y1"
         },
         {
          "font": {
           "color": "#FFFFFF"
          },
          "showarrow": false,
          "text": "0.0",
          "x": "bike",
          "xref": "x1",
          "y": "car",
          "yref": "y1"
         },
         {
          "font": {
           "color": "#FFFFFF"
          },
          "showarrow": false,
          "text": "2.99",
          "x": "upstairs",
          "xref": "x1",
          "y": "car",
          "yref": "y1"
         },
         {
          "font": {
           "color": "#FFFFFF"
          },
          "showarrow": false,
          "text": "0.5",
          "x": "downstairs",
          "xref": "x1",
          "y": "car",
          "yref": "y1"
         },
         {
          "font": {
           "color": "#FFFFFF"
          },
          "showarrow": false,
          "text": "15.38",
          "x": "running",
          "xref": "x1",
          "y": "bike",
          "yref": "y1"
         },
         {
          "font": {
           "color": "#FFFFFF"
          },
          "showarrow": false,
          "text": "23.08",
          "x": "walking",
          "xref": "x1",
          "y": "bike",
          "yref": "y1"
         },
         {
          "font": {
           "color": "#FFFFFF"
          },
          "showarrow": false,
          "text": "0.0",
          "x": "car",
          "xref": "x1",
          "y": "bike",
          "yref": "y1"
         },
         {
          "font": {
           "color": "#000000"
          },
          "showarrow": false,
          "text": "53.85",
          "x": "bike",
          "xref": "x1",
          "y": "bike",
          "yref": "y1"
         },
         {
          "font": {
           "color": "#FFFFFF"
          },
          "showarrow": false,
          "text": "0.0",
          "x": "upstairs",
          "xref": "x1",
          "y": "bike",
          "yref": "y1"
         },
         {
          "font": {
           "color": "#FFFFFF"
          },
          "showarrow": false,
          "text": "7.69",
          "x": "downstairs",
          "xref": "x1",
          "y": "bike",
          "yref": "y1"
         },
         {
          "font": {
           "color": "#FFFFFF"
          },
          "showarrow": false,
          "text": "10.53",
          "x": "running",
          "xref": "x1",
          "y": "upstairs",
          "yref": "y1"
         },
         {
          "font": {
           "color": "#FFFFFF"
          },
          "showarrow": false,
          "text": "24.56",
          "x": "walking",
          "xref": "x1",
          "y": "upstairs",
          "yref": "y1"
         },
         {
          "font": {
           "color": "#FFFFFF"
          },
          "showarrow": false,
          "text": "3.51",
          "x": "car",
          "xref": "x1",
          "y": "upstairs",
          "yref": "y1"
         },
         {
          "font": {
           "color": "#FFFFFF"
          },
          "showarrow": false,
          "text": "0.0",
          "x": "bike",
          "xref": "x1",
          "y": "upstairs",
          "yref": "y1"
         },
         {
          "font": {
           "color": "#000000"
          },
          "showarrow": false,
          "text": "57.89",
          "x": "upstairs",
          "xref": "x1",
          "y": "upstairs",
          "yref": "y1"
         },
         {
          "font": {
           "color": "#FFFFFF"
          },
          "showarrow": false,
          "text": "3.51",
          "x": "downstairs",
          "xref": "x1",
          "y": "upstairs",
          "yref": "y1"
         },
         {
          "font": {
           "color": "#FFFFFF"
          },
          "showarrow": false,
          "text": "34.38",
          "x": "running",
          "xref": "x1",
          "y": "downstairs",
          "yref": "y1"
         },
         {
          "font": {
           "color": "#FFFFFF"
          },
          "showarrow": false,
          "text": "28.12",
          "x": "walking",
          "xref": "x1",
          "y": "downstairs",
          "yref": "y1"
         },
         {
          "font": {
           "color": "#FFFFFF"
          },
          "showarrow": false,
          "text": "9.38",
          "x": "car",
          "xref": "x1",
          "y": "downstairs",
          "yref": "y1"
         },
         {
          "font": {
           "color": "#FFFFFF"
          },
          "showarrow": false,
          "text": "0.0",
          "x": "bike",
          "xref": "x1",
          "y": "downstairs",
          "yref": "y1"
         },
         {
          "font": {
           "color": "#FFFFFF"
          },
          "showarrow": false,
          "text": "9.38",
          "x": "upstairs",
          "xref": "x1",
          "y": "downstairs",
          "yref": "y1"
         },
         {
          "font": {
           "color": "#FFFFFF"
          },
          "showarrow": false,
          "text": "18.75",
          "x": "downstairs",
          "xref": "x1",
          "y": "downstairs",
          "yref": "y1"
         }
        ],
        "title": "KNN - overall accuracy: 80.95%",
        "xaxis": {
         "dtick": 1,
         "gridcolor": "rgb(0, 0, 0)",
         "side": "top",
         "ticks": ""
        },
        "yaxis": {
         "autorange": "reversed",
         "dtick": 1,
         "ticks": "",
         "ticksuffix": "  "
        }
       }
      },
      "text/html": [
       "<div id=\"0db882c7-d49a-4104-bb15-0678581dc6aa\" style=\"height: 525px; width: 100%;\" class=\"plotly-graph-div\"></div><script type=\"text/javascript\">require([\"plotly\"], function(Plotly) { window.PLOTLYENV=window.PLOTLYENV || {};window.PLOTLYENV.BASE_URL=\"https://plot.ly\";Plotly.newPlot(\"0db882c7-d49a-4104-bb15-0678581dc6aa\", [{\"type\": \"heatmap\", \"showscale\": false, \"y\": [\"running\", \"walking\", \"car\", \"bike\", \"upstairs\", \"downstairs\"], \"z\": [[92.31, 4.62, 0.0, 0.0, 1.54, 1.54], [6.72, 88.06, 2.24, 0.0, 2.24, 0.75], [4.48, 4.98, 87.06, 0.0, 2.99, 0.5], [15.38, 23.08, 0.0, 53.85, 0.0, 7.69], [10.53, 24.56, 3.51, 0.0, 57.89, 3.51], [34.38, 28.12, 9.38, 0.0, 9.38, 18.75]], \"colorscale\": \"RdBu\", \"x\": [\"running\", \"walking\", \"car\", \"bike\", \"upstairs\", \"downstairs\"]}], {\"title\": \"KNN - overall accuracy: 80.95%\", \"xaxis\": {\"gridcolor\": \"rgb(0, 0, 0)\", \"ticks\": \"\", \"side\": \"top\", \"dtick\": 1}, \"annotations\": [{\"xref\": \"x1\", \"x\": \"running\", \"font\": {\"color\": \"#000000\"}, \"yref\": \"y1\", \"text\": \"92.31\", \"showarrow\": false, \"y\": \"running\"}, {\"xref\": \"x1\", \"x\": \"walking\", \"font\": {\"color\": \"#FFFFFF\"}, \"yref\": \"y1\", \"text\": \"4.62\", \"showarrow\": false, \"y\": \"running\"}, {\"xref\": \"x1\", \"x\": \"car\", \"font\": {\"color\": \"#FFFFFF\"}, \"yref\": \"y1\", \"text\": \"0.0\", \"showarrow\": false, \"y\": \"running\"}, {\"xref\": \"x1\", \"x\": \"bike\", \"font\": {\"color\": \"#FFFFFF\"}, \"yref\": \"y1\", \"text\": \"0.0\", \"showarrow\": false, \"y\": \"running\"}, {\"xref\": \"x1\", \"x\": \"upstairs\", \"font\": {\"color\": \"#FFFFFF\"}, \"yref\": \"y1\", \"text\": \"1.54\", \"showarrow\": false, \"y\": \"running\"}, {\"xref\": \"x1\", \"x\": \"downstairs\", \"font\": {\"color\": \"#FFFFFF\"}, \"yref\": \"y1\", \"text\": \"1.54\", \"showarrow\": false, \"y\": \"running\"}, {\"xref\": \"x1\", \"x\": \"running\", \"font\": {\"color\": \"#FFFFFF\"}, \"yref\": \"y1\", \"text\": \"6.72\", \"showarrow\": false, \"y\": \"walking\"}, {\"xref\": \"x1\", \"x\": \"walking\", \"font\": {\"color\": \"#000000\"}, \"yref\": \"y1\", \"text\": \"88.06\", \"showarrow\": false, \"y\": \"walking\"}, {\"xref\": \"x1\", \"x\": \"car\", \"font\": {\"color\": \"#FFFFFF\"}, \"yref\": \"y1\", \"text\": \"2.24\", \"showarrow\": false, \"y\": \"walking\"}, {\"xref\": \"x1\", \"x\": \"bike\", \"font\": {\"color\": \"#FFFFFF\"}, \"yref\": \"y1\", \"text\": \"0.0\", \"showarrow\": false, \"y\": \"walking\"}, {\"xref\": \"x1\", \"x\": \"upstairs\", \"font\": {\"color\": \"#FFFFFF\"}, \"yref\": \"y1\", \"text\": \"2.24\", \"showarrow\": false, \"y\": \"walking\"}, {\"xref\": \"x1\", \"x\": \"downstairs\", \"font\": {\"color\": \"#FFFFFF\"}, \"yref\": \"y1\", \"text\": \"0.75\", \"showarrow\": false, \"y\": \"walking\"}, {\"xref\": \"x1\", \"x\": \"running\", \"font\": {\"color\": \"#FFFFFF\"}, \"yref\": \"y1\", \"text\": \"4.48\", \"showarrow\": false, \"y\": \"car\"}, {\"xref\": \"x1\", \"x\": \"walking\", \"font\": {\"color\": \"#FFFFFF\"}, \"yref\": \"y1\", \"text\": \"4.98\", \"showarrow\": false, \"y\": \"car\"}, {\"xref\": \"x1\", \"x\": \"car\", \"font\": {\"color\": \"#000000\"}, \"yref\": \"y1\", \"text\": \"87.06\", \"showarrow\": false, \"y\": \"car\"}, {\"xref\": \"x1\", \"x\": \"bike\", \"font\": {\"color\": \"#FFFFFF\"}, \"yref\": \"y1\", \"text\": \"0.0\", \"showarrow\": false, \"y\": \"car\"}, {\"xref\": \"x1\", \"x\": \"upstairs\", \"font\": {\"color\": \"#FFFFFF\"}, \"yref\": \"y1\", \"text\": \"2.99\", \"showarrow\": false, \"y\": \"car\"}, {\"xref\": \"x1\", \"x\": \"downstairs\", \"font\": {\"color\": \"#FFFFFF\"}, \"yref\": \"y1\", \"text\": \"0.5\", \"showarrow\": false, \"y\": \"car\"}, {\"xref\": \"x1\", \"x\": \"running\", \"font\": {\"color\": \"#FFFFFF\"}, \"yref\": \"y1\", \"text\": \"15.38\", \"showarrow\": false, \"y\": \"bike\"}, {\"xref\": \"x1\", \"x\": \"walking\", \"font\": {\"color\": \"#FFFFFF\"}, \"yref\": \"y1\", \"text\": \"23.08\", \"showarrow\": false, \"y\": \"bike\"}, {\"xref\": \"x1\", \"x\": \"car\", \"font\": {\"color\": \"#FFFFFF\"}, \"yref\": \"y1\", \"text\": \"0.0\", \"showarrow\": false, \"y\": \"bike\"}, {\"xref\": \"x1\", \"x\": \"bike\", \"font\": {\"color\": \"#000000\"}, \"yref\": \"y1\", \"text\": \"53.85\", \"showarrow\": false, \"y\": \"bike\"}, {\"xref\": \"x1\", \"x\": \"upstairs\", \"font\": {\"color\": \"#FFFFFF\"}, \"yref\": \"y1\", \"text\": \"0.0\", \"showarrow\": false, \"y\": \"bike\"}, {\"xref\": \"x1\", \"x\": \"downstairs\", \"font\": {\"color\": \"#FFFFFF\"}, \"yref\": \"y1\", \"text\": \"7.69\", \"showarrow\": false, \"y\": \"bike\"}, {\"xref\": \"x1\", \"x\": \"running\", \"font\": {\"color\": \"#FFFFFF\"}, \"yref\": \"y1\", \"text\": \"10.53\", \"showarrow\": false, \"y\": \"upstairs\"}, {\"xref\": \"x1\", \"x\": \"walking\", \"font\": {\"color\": \"#FFFFFF\"}, \"yref\": \"y1\", \"text\": \"24.56\", \"showarrow\": false, \"y\": \"upstairs\"}, {\"xref\": \"x1\", \"x\": \"car\", \"font\": {\"color\": \"#FFFFFF\"}, \"yref\": \"y1\", \"text\": \"3.51\", \"showarrow\": false, \"y\": \"upstairs\"}, {\"xref\": \"x1\", \"x\": \"bike\", \"font\": {\"color\": \"#FFFFFF\"}, \"yref\": \"y1\", \"text\": \"0.0\", \"showarrow\": false, \"y\": \"upstairs\"}, {\"xref\": \"x1\", \"x\": \"upstairs\", \"font\": {\"color\": \"#000000\"}, \"yref\": \"y1\", \"text\": \"57.89\", \"showarrow\": false, \"y\": \"upstairs\"}, {\"xref\": \"x1\", \"x\": \"downstairs\", \"font\": {\"color\": \"#FFFFFF\"}, \"yref\": \"y1\", \"text\": \"3.51\", \"showarrow\": false, \"y\": \"upstairs\"}, {\"xref\": \"x1\", \"x\": \"running\", \"font\": {\"color\": \"#FFFFFF\"}, \"yref\": \"y1\", \"text\": \"34.38\", \"showarrow\": false, \"y\": \"downstairs\"}, {\"xref\": \"x1\", \"x\": \"walking\", \"font\": {\"color\": \"#FFFFFF\"}, \"yref\": \"y1\", \"text\": \"28.12\", \"showarrow\": false, \"y\": \"downstairs\"}, {\"xref\": \"x1\", \"x\": \"car\", \"font\": {\"color\": \"#FFFFFF\"}, \"yref\": \"y1\", \"text\": \"9.38\", \"showarrow\": false, \"y\": \"downstairs\"}, {\"xref\": \"x1\", \"x\": \"bike\", \"font\": {\"color\": \"#FFFFFF\"}, \"yref\": \"y1\", \"text\": \"0.0\", \"showarrow\": false, \"y\": \"downstairs\"}, {\"xref\": \"x1\", \"x\": \"upstairs\", \"font\": {\"color\": \"#FFFFFF\"}, \"yref\": \"y1\", \"text\": \"9.38\", \"showarrow\": false, \"y\": \"downstairs\"}, {\"xref\": \"x1\", \"x\": \"downstairs\", \"font\": {\"color\": \"#FFFFFF\"}, \"yref\": \"y1\", \"text\": \"18.75\", \"showarrow\": false, \"y\": \"downstairs\"}], \"yaxis\": {\"dtick\": 1, \"ticks\": \"\", \"ticksuffix\": \"  \", \"autorange\": \"reversed\"}}, {\"linkText\": \"Export to plot.ly\", \"showLink\": true})});</script>"
      ],
      "text/vnd.plotly.v1+html": [
       "<div id=\"0db882c7-d49a-4104-bb15-0678581dc6aa\" style=\"height: 525px; width: 100%;\" class=\"plotly-graph-div\"></div><script type=\"text/javascript\">require([\"plotly\"], function(Plotly) { window.PLOTLYENV=window.PLOTLYENV || {};window.PLOTLYENV.BASE_URL=\"https://plot.ly\";Plotly.newPlot(\"0db882c7-d49a-4104-bb15-0678581dc6aa\", [{\"type\": \"heatmap\", \"showscale\": false, \"y\": [\"running\", \"walking\", \"car\", \"bike\", \"upstairs\", \"downstairs\"], \"z\": [[92.31, 4.62, 0.0, 0.0, 1.54, 1.54], [6.72, 88.06, 2.24, 0.0, 2.24, 0.75], [4.48, 4.98, 87.06, 0.0, 2.99, 0.5], [15.38, 23.08, 0.0, 53.85, 0.0, 7.69], [10.53, 24.56, 3.51, 0.0, 57.89, 3.51], [34.38, 28.12, 9.38, 0.0, 9.38, 18.75]], \"colorscale\": \"RdBu\", \"x\": [\"running\", \"walking\", \"car\", \"bike\", \"upstairs\", \"downstairs\"]}], {\"title\": \"KNN - overall accuracy: 80.95%\", \"xaxis\": {\"gridcolor\": \"rgb(0, 0, 0)\", \"ticks\": \"\", \"side\": \"top\", \"dtick\": 1}, \"annotations\": [{\"xref\": \"x1\", \"x\": \"running\", \"font\": {\"color\": \"#000000\"}, \"yref\": \"y1\", \"text\": \"92.31\", \"showarrow\": false, \"y\": \"running\"}, {\"xref\": \"x1\", \"x\": \"walking\", \"font\": {\"color\": \"#FFFFFF\"}, \"yref\": \"y1\", \"text\": \"4.62\", \"showarrow\": false, \"y\": \"running\"}, {\"xref\": \"x1\", \"x\": \"car\", \"font\": {\"color\": \"#FFFFFF\"}, \"yref\": \"y1\", \"text\": \"0.0\", \"showarrow\": false, \"y\": \"running\"}, {\"xref\": \"x1\", \"x\": \"bike\", \"font\": {\"color\": \"#FFFFFF\"}, \"yref\": \"y1\", \"text\": \"0.0\", \"showarrow\": false, \"y\": \"running\"}, {\"xref\": \"x1\", \"x\": \"upstairs\", \"font\": {\"color\": \"#FFFFFF\"}, \"yref\": \"y1\", \"text\": \"1.54\", \"showarrow\": false, \"y\": \"running\"}, {\"xref\": \"x1\", \"x\": \"downstairs\", \"font\": {\"color\": \"#FFFFFF\"}, \"yref\": \"y1\", \"text\": \"1.54\", \"showarrow\": false, \"y\": \"running\"}, {\"xref\": \"x1\", \"x\": \"running\", \"font\": {\"color\": \"#FFFFFF\"}, \"yref\": \"y1\", \"text\": \"6.72\", \"showarrow\": false, \"y\": \"walking\"}, {\"xref\": \"x1\", \"x\": \"walking\", \"font\": {\"color\": \"#000000\"}, \"yref\": \"y1\", \"text\": \"88.06\", \"showarrow\": false, \"y\": \"walking\"}, {\"xref\": \"x1\", \"x\": \"car\", \"font\": {\"color\": \"#FFFFFF\"}, \"yref\": \"y1\", \"text\": \"2.24\", \"showarrow\": false, \"y\": \"walking\"}, {\"xref\": \"x1\", \"x\": \"bike\", \"font\": {\"color\": \"#FFFFFF\"}, \"yref\": \"y1\", \"text\": \"0.0\", \"showarrow\": false, \"y\": \"walking\"}, {\"xref\": \"x1\", \"x\": \"upstairs\", \"font\": {\"color\": \"#FFFFFF\"}, \"yref\": \"y1\", \"text\": \"2.24\", \"showarrow\": false, \"y\": \"walking\"}, {\"xref\": \"x1\", \"x\": \"downstairs\", \"font\": {\"color\": \"#FFFFFF\"}, \"yref\": \"y1\", \"text\": \"0.75\", \"showarrow\": false, \"y\": \"walking\"}, {\"xref\": \"x1\", \"x\": \"running\", \"font\": {\"color\": \"#FFFFFF\"}, \"yref\": \"y1\", \"text\": \"4.48\", \"showarrow\": false, \"y\": \"car\"}, {\"xref\": \"x1\", \"x\": \"walking\", \"font\": {\"color\": \"#FFFFFF\"}, \"yref\": \"y1\", \"text\": \"4.98\", \"showarrow\": false, \"y\": \"car\"}, {\"xref\": \"x1\", \"x\": \"car\", \"font\": {\"color\": \"#000000\"}, \"yref\": \"y1\", \"text\": \"87.06\", \"showarrow\": false, \"y\": \"car\"}, {\"xref\": \"x1\", \"x\": \"bike\", \"font\": {\"color\": \"#FFFFFF\"}, \"yref\": \"y1\", \"text\": \"0.0\", \"showarrow\": false, \"y\": \"car\"}, {\"xref\": \"x1\", \"x\": \"upstairs\", \"font\": {\"color\": \"#FFFFFF\"}, \"yref\": \"y1\", \"text\": \"2.99\", \"showarrow\": false, \"y\": \"car\"}, {\"xref\": \"x1\", \"x\": \"downstairs\", \"font\": {\"color\": \"#FFFFFF\"}, \"yref\": \"y1\", \"text\": \"0.5\", \"showarrow\": false, \"y\": \"car\"}, {\"xref\": \"x1\", \"x\": \"running\", \"font\": {\"color\": \"#FFFFFF\"}, \"yref\": \"y1\", \"text\": \"15.38\", \"showarrow\": false, \"y\": \"bike\"}, {\"xref\": \"x1\", \"x\": \"walking\", \"font\": {\"color\": \"#FFFFFF\"}, \"yref\": \"y1\", \"text\": \"23.08\", \"showarrow\": false, \"y\": \"bike\"}, {\"xref\": \"x1\", \"x\": \"car\", \"font\": {\"color\": \"#FFFFFF\"}, \"yref\": \"y1\", \"text\": \"0.0\", \"showarrow\": false, \"y\": \"bike\"}, {\"xref\": \"x1\", \"x\": \"bike\", \"font\": {\"color\": \"#000000\"}, \"yref\": \"y1\", \"text\": \"53.85\", \"showarrow\": false, \"y\": \"bike\"}, {\"xref\": \"x1\", \"x\": \"upstairs\", \"font\": {\"color\": \"#FFFFFF\"}, \"yref\": \"y1\", \"text\": \"0.0\", \"showarrow\": false, \"y\": \"bike\"}, {\"xref\": \"x1\", \"x\": \"downstairs\", \"font\": {\"color\": \"#FFFFFF\"}, \"yref\": \"y1\", \"text\": \"7.69\", \"showarrow\": false, \"y\": \"bike\"}, {\"xref\": \"x1\", \"x\": \"running\", \"font\": {\"color\": \"#FFFFFF\"}, \"yref\": \"y1\", \"text\": \"10.53\", \"showarrow\": false, \"y\": \"upstairs\"}, {\"xref\": \"x1\", \"x\": \"walking\", \"font\": {\"color\": \"#FFFFFF\"}, \"yref\": \"y1\", \"text\": \"24.56\", \"showarrow\": false, \"y\": \"upstairs\"}, {\"xref\": \"x1\", \"x\": \"car\", \"font\": {\"color\": \"#FFFFFF\"}, \"yref\": \"y1\", \"text\": \"3.51\", \"showarrow\": false, \"y\": \"upstairs\"}, {\"xref\": \"x1\", \"x\": \"bike\", \"font\": {\"color\": \"#FFFFFF\"}, \"yref\": \"y1\", \"text\": \"0.0\", \"showarrow\": false, \"y\": \"upstairs\"}, {\"xref\": \"x1\", \"x\": \"upstairs\", \"font\": {\"color\": \"#000000\"}, \"yref\": \"y1\", \"text\": \"57.89\", \"showarrow\": false, \"y\": \"upstairs\"}, {\"xref\": \"x1\", \"x\": \"downstairs\", \"font\": {\"color\": \"#FFFFFF\"}, \"yref\": \"y1\", \"text\": \"3.51\", \"showarrow\": false, \"y\": \"upstairs\"}, {\"xref\": \"x1\", \"x\": \"running\", \"font\": {\"color\": \"#FFFFFF\"}, \"yref\": \"y1\", \"text\": \"34.38\", \"showarrow\": false, \"y\": \"downstairs\"}, {\"xref\": \"x1\", \"x\": \"walking\", \"font\": {\"color\": \"#FFFFFF\"}, \"yref\": \"y1\", \"text\": \"28.12\", \"showarrow\": false, \"y\": \"downstairs\"}, {\"xref\": \"x1\", \"x\": \"car\", \"font\": {\"color\": \"#FFFFFF\"}, \"yref\": \"y1\", \"text\": \"9.38\", \"showarrow\": false, \"y\": \"downstairs\"}, {\"xref\": \"x1\", \"x\": \"bike\", \"font\": {\"color\": \"#FFFFFF\"}, \"yref\": \"y1\", \"text\": \"0.0\", \"showarrow\": false, \"y\": \"downstairs\"}, {\"xref\": \"x1\", \"x\": \"upstairs\", \"font\": {\"color\": \"#FFFFFF\"}, \"yref\": \"y1\", \"text\": \"9.38\", \"showarrow\": false, \"y\": \"downstairs\"}, {\"xref\": \"x1\", \"x\": \"downstairs\", \"font\": {\"color\": \"#FFFFFF\"}, \"yref\": \"y1\", \"text\": \"18.75\", \"showarrow\": false, \"y\": \"downstairs\"}], \"yaxis\": {\"dtick\": 1, \"ticks\": \"\", \"ticksuffix\": \"  \", \"autorange\": \"reversed\"}}, {\"linkText\": \"Export to plot.ly\", \"showLink\": true})});</script>"
      ]
     },
     "metadata": {},
     "output_type": "display_data"
    },
    {
     "data": {
      "application/vnd.plotly.v1+json": {
       "data": [
        {
         "colorscale": "RdBu",
         "showscale": false,
         "type": "heatmap",
         "x": [
          "running",
          "walking",
          "car",
          "bike",
          "upstairs",
          "downstairs"
         ],
         "y": [
          "running",
          "walking",
          "car",
          "bike",
          "upstairs",
          "downstairs"
         ],
         "z": [
          [
           86.15,
           9.23,
           0.77,
           0,
           2.31,
           1.54
          ],
          [
           1.49,
           88.06,
           6.72,
           0,
           2.24,
           1.49
          ],
          [
           2.99,
           2.49,
           91.04,
           0,
           2.99,
           0.5
          ],
          [
           23.08,
           15.38,
           30.77,
           30.77,
           0,
           0
          ],
          [
           7.02,
           26.32,
           26.32,
           0,
           40.35,
           0
          ],
          [
           21.88,
           28.12,
           25,
           0,
           12.5,
           12.5
          ]
         ]
        }
       ],
       "layout": {
        "annotations": [
         {
          "font": {
           "color": "#000000"
          },
          "showarrow": false,
          "text": "86.15",
          "x": "running",
          "xref": "x1",
          "y": "running",
          "yref": "y1"
         },
         {
          "font": {
           "color": "#FFFFFF"
          },
          "showarrow": false,
          "text": "9.23",
          "x": "walking",
          "xref": "x1",
          "y": "running",
          "yref": "y1"
         },
         {
          "font": {
           "color": "#FFFFFF"
          },
          "showarrow": false,
          "text": "0.77",
          "x": "car",
          "xref": "x1",
          "y": "running",
          "yref": "y1"
         },
         {
          "font": {
           "color": "#FFFFFF"
          },
          "showarrow": false,
          "text": "0.0",
          "x": "bike",
          "xref": "x1",
          "y": "running",
          "yref": "y1"
         },
         {
          "font": {
           "color": "#FFFFFF"
          },
          "showarrow": false,
          "text": "2.31",
          "x": "upstairs",
          "xref": "x1",
          "y": "running",
          "yref": "y1"
         },
         {
          "font": {
           "color": "#FFFFFF"
          },
          "showarrow": false,
          "text": "1.54",
          "x": "downstairs",
          "xref": "x1",
          "y": "running",
          "yref": "y1"
         },
         {
          "font": {
           "color": "#FFFFFF"
          },
          "showarrow": false,
          "text": "1.49",
          "x": "running",
          "xref": "x1",
          "y": "walking",
          "yref": "y1"
         },
         {
          "font": {
           "color": "#000000"
          },
          "showarrow": false,
          "text": "88.06",
          "x": "walking",
          "xref": "x1",
          "y": "walking",
          "yref": "y1"
         },
         {
          "font": {
           "color": "#FFFFFF"
          },
          "showarrow": false,
          "text": "6.72",
          "x": "car",
          "xref": "x1",
          "y": "walking",
          "yref": "y1"
         },
         {
          "font": {
           "color": "#FFFFFF"
          },
          "showarrow": false,
          "text": "0.0",
          "x": "bike",
          "xref": "x1",
          "y": "walking",
          "yref": "y1"
         },
         {
          "font": {
           "color": "#FFFFFF"
          },
          "showarrow": false,
          "text": "2.24",
          "x": "upstairs",
          "xref": "x1",
          "y": "walking",
          "yref": "y1"
         },
         {
          "font": {
           "color": "#FFFFFF"
          },
          "showarrow": false,
          "text": "1.49",
          "x": "downstairs",
          "xref": "x1",
          "y": "walking",
          "yref": "y1"
         },
         {
          "font": {
           "color": "#FFFFFF"
          },
          "showarrow": false,
          "text": "2.99",
          "x": "running",
          "xref": "x1",
          "y": "car",
          "yref": "y1"
         },
         {
          "font": {
           "color": "#FFFFFF"
          },
          "showarrow": false,
          "text": "2.49",
          "x": "walking",
          "xref": "x1",
          "y": "car",
          "yref": "y1"
         },
         {
          "font": {
           "color": "#000000"
          },
          "showarrow": false,
          "text": "91.04",
          "x": "car",
          "xref": "x1",
          "y": "car",
          "yref": "y1"
         },
         {
          "font": {
           "color": "#FFFFFF"
          },
          "showarrow": false,
          "text": "0.0",
          "x": "bike",
          "xref": "x1",
          "y": "car",
          "yref": "y1"
         },
         {
          "font": {
           "color": "#FFFFFF"
          },
          "showarrow": false,
          "text": "2.99",
          "x": "upstairs",
          "xref": "x1",
          "y": "car",
          "yref": "y1"
         },
         {
          "font": {
           "color": "#FFFFFF"
          },
          "showarrow": false,
          "text": "0.5",
          "x": "downstairs",
          "xref": "x1",
          "y": "car",
          "yref": "y1"
         },
         {
          "font": {
           "color": "#FFFFFF"
          },
          "showarrow": false,
          "text": "23.08",
          "x": "running",
          "xref": "x1",
          "y": "bike",
          "yref": "y1"
         },
         {
          "font": {
           "color": "#FFFFFF"
          },
          "showarrow": false,
          "text": "15.38",
          "x": "walking",
          "xref": "x1",
          "y": "bike",
          "yref": "y1"
         },
         {
          "font": {
           "color": "#FFFFFF"
          },
          "showarrow": false,
          "text": "30.77",
          "x": "car",
          "xref": "x1",
          "y": "bike",
          "yref": "y1"
         },
         {
          "font": {
           "color": "#FFFFFF"
          },
          "showarrow": false,
          "text": "30.77",
          "x": "bike",
          "xref": "x1",
          "y": "bike",
          "yref": "y1"
         },
         {
          "font": {
           "color": "#FFFFFF"
          },
          "showarrow": false,
          "text": "0.0",
          "x": "upstairs",
          "xref": "x1",
          "y": "bike",
          "yref": "y1"
         },
         {
          "font": {
           "color": "#FFFFFF"
          },
          "showarrow": false,
          "text": "0.0",
          "x": "downstairs",
          "xref": "x1",
          "y": "bike",
          "yref": "y1"
         },
         {
          "font": {
           "color": "#FFFFFF"
          },
          "showarrow": false,
          "text": "7.02",
          "x": "running",
          "xref": "x1",
          "y": "upstairs",
          "yref": "y1"
         },
         {
          "font": {
           "color": "#FFFFFF"
          },
          "showarrow": false,
          "text": "26.32",
          "x": "walking",
          "xref": "x1",
          "y": "upstairs",
          "yref": "y1"
         },
         {
          "font": {
           "color": "#FFFFFF"
          },
          "showarrow": false,
          "text": "26.32",
          "x": "car",
          "xref": "x1",
          "y": "upstairs",
          "yref": "y1"
         },
         {
          "font": {
           "color": "#FFFFFF"
          },
          "showarrow": false,
          "text": "0.0",
          "x": "bike",
          "xref": "x1",
          "y": "upstairs",
          "yref": "y1"
         },
         {
          "font": {
           "color": "#FFFFFF"
          },
          "showarrow": false,
          "text": "40.35",
          "x": "upstairs",
          "xref": "x1",
          "y": "upstairs",
          "yref": "y1"
         },
         {
          "font": {
           "color": "#FFFFFF"
          },
          "showarrow": false,
          "text": "0.0",
          "x": "downstairs",
          "xref": "x1",
          "y": "upstairs",
          "yref": "y1"
         },
         {
          "font": {
           "color": "#FFFFFF"
          },
          "showarrow": false,
          "text": "21.88",
          "x": "running",
          "xref": "x1",
          "y": "downstairs",
          "yref": "y1"
         },
         {
          "font": {
           "color": "#FFFFFF"
          },
          "showarrow": false,
          "text": "28.12",
          "x": "walking",
          "xref": "x1",
          "y": "downstairs",
          "yref": "y1"
         },
         {
          "font": {
           "color": "#FFFFFF"
          },
          "showarrow": false,
          "text": "25.0",
          "x": "car",
          "xref": "x1",
          "y": "downstairs",
          "yref": "y1"
         },
         {
          "font": {
           "color": "#FFFFFF"
          },
          "showarrow": false,
          "text": "0.0",
          "x": "bike",
          "xref": "x1",
          "y": "downstairs",
          "yref": "y1"
         },
         {
          "font": {
           "color": "#FFFFFF"
          },
          "showarrow": false,
          "text": "12.5",
          "x": "upstairs",
          "xref": "x1",
          "y": "downstairs",
          "yref": "y1"
         },
         {
          "font": {
           "color": "#FFFFFF"
          },
          "showarrow": false,
          "text": "12.5",
          "x": "downstairs",
          "xref": "x1",
          "y": "downstairs",
          "yref": "y1"
         }
        ],
        "title": "RF - overall accuracy: 78.31%",
        "xaxis": {
         "dtick": 1,
         "gridcolor": "rgb(0, 0, 0)",
         "side": "top",
         "ticks": ""
        },
        "yaxis": {
         "autorange": "reversed",
         "dtick": 1,
         "ticks": "",
         "ticksuffix": "  "
        }
       }
      },
      "text/html": [
       "<div id=\"a7f511a0-0f18-419e-af50-99f603ba5bf3\" style=\"height: 525px; width: 100%;\" class=\"plotly-graph-div\"></div><script type=\"text/javascript\">require([\"plotly\"], function(Plotly) { window.PLOTLYENV=window.PLOTLYENV || {};window.PLOTLYENV.BASE_URL=\"https://plot.ly\";Plotly.newPlot(\"a7f511a0-0f18-419e-af50-99f603ba5bf3\", [{\"type\": \"heatmap\", \"showscale\": false, \"y\": [\"running\", \"walking\", \"car\", \"bike\", \"upstairs\", \"downstairs\"], \"z\": [[86.15, 9.23, 0.77, 0.0, 2.31, 1.54], [1.49, 88.06, 6.72, 0.0, 2.24, 1.49], [2.99, 2.49, 91.04, 0.0, 2.99, 0.5], [23.08, 15.38, 30.77, 30.77, 0.0, 0.0], [7.02, 26.32, 26.32, 0.0, 40.35, 0.0], [21.88, 28.12, 25.0, 0.0, 12.5, 12.5]], \"colorscale\": \"RdBu\", \"x\": [\"running\", \"walking\", \"car\", \"bike\", \"upstairs\", \"downstairs\"]}], {\"title\": \"RF - overall accuracy: 78.31%\", \"xaxis\": {\"gridcolor\": \"rgb(0, 0, 0)\", \"ticks\": \"\", \"side\": \"top\", \"dtick\": 1}, \"annotations\": [{\"xref\": \"x1\", \"x\": \"running\", \"font\": {\"color\": \"#000000\"}, \"yref\": \"y1\", \"text\": \"86.15\", \"showarrow\": false, \"y\": \"running\"}, {\"xref\": \"x1\", \"x\": \"walking\", \"font\": {\"color\": \"#FFFFFF\"}, \"yref\": \"y1\", \"text\": \"9.23\", \"showarrow\": false, \"y\": \"running\"}, {\"xref\": \"x1\", \"x\": \"car\", \"font\": {\"color\": \"#FFFFFF\"}, \"yref\": \"y1\", \"text\": \"0.77\", \"showarrow\": false, \"y\": \"running\"}, {\"xref\": \"x1\", \"x\": \"bike\", \"font\": {\"color\": \"#FFFFFF\"}, \"yref\": \"y1\", \"text\": \"0.0\", \"showarrow\": false, \"y\": \"running\"}, {\"xref\": \"x1\", \"x\": \"upstairs\", \"font\": {\"color\": \"#FFFFFF\"}, \"yref\": \"y1\", \"text\": \"2.31\", \"showarrow\": false, \"y\": \"running\"}, {\"xref\": \"x1\", \"x\": \"downstairs\", \"font\": {\"color\": \"#FFFFFF\"}, \"yref\": \"y1\", \"text\": \"1.54\", \"showarrow\": false, \"y\": \"running\"}, {\"xref\": \"x1\", \"x\": \"running\", \"font\": {\"color\": \"#FFFFFF\"}, \"yref\": \"y1\", \"text\": \"1.49\", \"showarrow\": false, \"y\": \"walking\"}, {\"xref\": \"x1\", \"x\": \"walking\", \"font\": {\"color\": \"#000000\"}, \"yref\": \"y1\", \"text\": \"88.06\", \"showarrow\": false, \"y\": \"walking\"}, {\"xref\": \"x1\", \"x\": \"car\", \"font\": {\"color\": \"#FFFFFF\"}, \"yref\": \"y1\", \"text\": \"6.72\", \"showarrow\": false, \"y\": \"walking\"}, {\"xref\": \"x1\", \"x\": \"bike\", \"font\": {\"color\": \"#FFFFFF\"}, \"yref\": \"y1\", \"text\": \"0.0\", \"showarrow\": false, \"y\": \"walking\"}, {\"xref\": \"x1\", \"x\": \"upstairs\", \"font\": {\"color\": \"#FFFFFF\"}, \"yref\": \"y1\", \"text\": \"2.24\", \"showarrow\": false, \"y\": \"walking\"}, {\"xref\": \"x1\", \"x\": \"downstairs\", \"font\": {\"color\": \"#FFFFFF\"}, \"yref\": \"y1\", \"text\": \"1.49\", \"showarrow\": false, \"y\": \"walking\"}, {\"xref\": \"x1\", \"x\": \"running\", \"font\": {\"color\": \"#FFFFFF\"}, \"yref\": \"y1\", \"text\": \"2.99\", \"showarrow\": false, \"y\": \"car\"}, {\"xref\": \"x1\", \"x\": \"walking\", \"font\": {\"color\": \"#FFFFFF\"}, \"yref\": \"y1\", \"text\": \"2.49\", \"showarrow\": false, \"y\": \"car\"}, {\"xref\": \"x1\", \"x\": \"car\", \"font\": {\"color\": \"#000000\"}, \"yref\": \"y1\", \"text\": \"91.04\", \"showarrow\": false, \"y\": \"car\"}, {\"xref\": \"x1\", \"x\": \"bike\", \"font\": {\"color\": \"#FFFFFF\"}, \"yref\": \"y1\", \"text\": \"0.0\", \"showarrow\": false, \"y\": \"car\"}, {\"xref\": \"x1\", \"x\": \"upstairs\", \"font\": {\"color\": \"#FFFFFF\"}, \"yref\": \"y1\", \"text\": \"2.99\", \"showarrow\": false, \"y\": \"car\"}, {\"xref\": \"x1\", \"x\": \"downstairs\", \"font\": {\"color\": \"#FFFFFF\"}, \"yref\": \"y1\", \"text\": \"0.5\", \"showarrow\": false, \"y\": \"car\"}, {\"xref\": \"x1\", \"x\": \"running\", \"font\": {\"color\": \"#FFFFFF\"}, \"yref\": \"y1\", \"text\": \"23.08\", \"showarrow\": false, \"y\": \"bike\"}, {\"xref\": \"x1\", \"x\": \"walking\", \"font\": {\"color\": \"#FFFFFF\"}, \"yref\": \"y1\", \"text\": \"15.38\", \"showarrow\": false, \"y\": \"bike\"}, {\"xref\": \"x1\", \"x\": \"car\", \"font\": {\"color\": \"#FFFFFF\"}, \"yref\": \"y1\", \"text\": \"30.77\", \"showarrow\": false, \"y\": \"bike\"}, {\"xref\": \"x1\", \"x\": \"bike\", \"font\": {\"color\": \"#FFFFFF\"}, \"yref\": \"y1\", \"text\": \"30.77\", \"showarrow\": false, \"y\": \"bike\"}, {\"xref\": \"x1\", \"x\": \"upstairs\", \"font\": {\"color\": \"#FFFFFF\"}, \"yref\": \"y1\", \"text\": \"0.0\", \"showarrow\": false, \"y\": \"bike\"}, {\"xref\": \"x1\", \"x\": \"downstairs\", \"font\": {\"color\": \"#FFFFFF\"}, \"yref\": \"y1\", \"text\": \"0.0\", \"showarrow\": false, \"y\": \"bike\"}, {\"xref\": \"x1\", \"x\": \"running\", \"font\": {\"color\": \"#FFFFFF\"}, \"yref\": \"y1\", \"text\": \"7.02\", \"showarrow\": false, \"y\": \"upstairs\"}, {\"xref\": \"x1\", \"x\": \"walking\", \"font\": {\"color\": \"#FFFFFF\"}, \"yref\": \"y1\", \"text\": \"26.32\", \"showarrow\": false, \"y\": \"upstairs\"}, {\"xref\": \"x1\", \"x\": \"car\", \"font\": {\"color\": \"#FFFFFF\"}, \"yref\": \"y1\", \"text\": \"26.32\", \"showarrow\": false, \"y\": \"upstairs\"}, {\"xref\": \"x1\", \"x\": \"bike\", \"font\": {\"color\": \"#FFFFFF\"}, \"yref\": \"y1\", \"text\": \"0.0\", \"showarrow\": false, \"y\": \"upstairs\"}, {\"xref\": \"x1\", \"x\": \"upstairs\", \"font\": {\"color\": \"#FFFFFF\"}, \"yref\": \"y1\", \"text\": \"40.35\", \"showarrow\": false, \"y\": \"upstairs\"}, {\"xref\": \"x1\", \"x\": \"downstairs\", \"font\": {\"color\": \"#FFFFFF\"}, \"yref\": \"y1\", \"text\": \"0.0\", \"showarrow\": false, \"y\": \"upstairs\"}, {\"xref\": \"x1\", \"x\": \"running\", \"font\": {\"color\": \"#FFFFFF\"}, \"yref\": \"y1\", \"text\": \"21.88\", \"showarrow\": false, \"y\": \"downstairs\"}, {\"xref\": \"x1\", \"x\": \"walking\", \"font\": {\"color\": \"#FFFFFF\"}, \"yref\": \"y1\", \"text\": \"28.12\", \"showarrow\": false, \"y\": \"downstairs\"}, {\"xref\": \"x1\", \"x\": \"car\", \"font\": {\"color\": \"#FFFFFF\"}, \"yref\": \"y1\", \"text\": \"25.0\", \"showarrow\": false, \"y\": \"downstairs\"}, {\"xref\": \"x1\", \"x\": \"bike\", \"font\": {\"color\": \"#FFFFFF\"}, \"yref\": \"y1\", \"text\": \"0.0\", \"showarrow\": false, \"y\": \"downstairs\"}, {\"xref\": \"x1\", \"x\": \"upstairs\", \"font\": {\"color\": \"#FFFFFF\"}, \"yref\": \"y1\", \"text\": \"12.5\", \"showarrow\": false, \"y\": \"downstairs\"}, {\"xref\": \"x1\", \"x\": \"downstairs\", \"font\": {\"color\": \"#FFFFFF\"}, \"yref\": \"y1\", \"text\": \"12.5\", \"showarrow\": false, \"y\": \"downstairs\"}], \"yaxis\": {\"dtick\": 1, \"ticks\": \"\", \"ticksuffix\": \"  \", \"autorange\": \"reversed\"}}, {\"linkText\": \"Export to plot.ly\", \"showLink\": true})});</script>"
      ],
      "text/vnd.plotly.v1+html": [
       "<div id=\"a7f511a0-0f18-419e-af50-99f603ba5bf3\" style=\"height: 525px; width: 100%;\" class=\"plotly-graph-div\"></div><script type=\"text/javascript\">require([\"plotly\"], function(Plotly) { window.PLOTLYENV=window.PLOTLYENV || {};window.PLOTLYENV.BASE_URL=\"https://plot.ly\";Plotly.newPlot(\"a7f511a0-0f18-419e-af50-99f603ba5bf3\", [{\"type\": \"heatmap\", \"showscale\": false, \"y\": [\"running\", \"walking\", \"car\", \"bike\", \"upstairs\", \"downstairs\"], \"z\": [[86.15, 9.23, 0.77, 0.0, 2.31, 1.54], [1.49, 88.06, 6.72, 0.0, 2.24, 1.49], [2.99, 2.49, 91.04, 0.0, 2.99, 0.5], [23.08, 15.38, 30.77, 30.77, 0.0, 0.0], [7.02, 26.32, 26.32, 0.0, 40.35, 0.0], [21.88, 28.12, 25.0, 0.0, 12.5, 12.5]], \"colorscale\": \"RdBu\", \"x\": [\"running\", \"walking\", \"car\", \"bike\", \"upstairs\", \"downstairs\"]}], {\"title\": \"RF - overall accuracy: 78.31%\", \"xaxis\": {\"gridcolor\": \"rgb(0, 0, 0)\", \"ticks\": \"\", \"side\": \"top\", \"dtick\": 1}, \"annotations\": [{\"xref\": \"x1\", \"x\": \"running\", \"font\": {\"color\": \"#000000\"}, \"yref\": \"y1\", \"text\": \"86.15\", \"showarrow\": false, \"y\": \"running\"}, {\"xref\": \"x1\", \"x\": \"walking\", \"font\": {\"color\": \"#FFFFFF\"}, \"yref\": \"y1\", \"text\": \"9.23\", \"showarrow\": false, \"y\": \"running\"}, {\"xref\": \"x1\", \"x\": \"car\", \"font\": {\"color\": \"#FFFFFF\"}, \"yref\": \"y1\", \"text\": \"0.77\", \"showarrow\": false, \"y\": \"running\"}, {\"xref\": \"x1\", \"x\": \"bike\", \"font\": {\"color\": \"#FFFFFF\"}, \"yref\": \"y1\", \"text\": \"0.0\", \"showarrow\": false, \"y\": \"running\"}, {\"xref\": \"x1\", \"x\": \"upstairs\", \"font\": {\"color\": \"#FFFFFF\"}, \"yref\": \"y1\", \"text\": \"2.31\", \"showarrow\": false, \"y\": \"running\"}, {\"xref\": \"x1\", \"x\": \"downstairs\", \"font\": {\"color\": \"#FFFFFF\"}, \"yref\": \"y1\", \"text\": \"1.54\", \"showarrow\": false, \"y\": \"running\"}, {\"xref\": \"x1\", \"x\": \"running\", \"font\": {\"color\": \"#FFFFFF\"}, \"yref\": \"y1\", \"text\": \"1.49\", \"showarrow\": false, \"y\": \"walking\"}, {\"xref\": \"x1\", \"x\": \"walking\", \"font\": {\"color\": \"#000000\"}, \"yref\": \"y1\", \"text\": \"88.06\", \"showarrow\": false, \"y\": \"walking\"}, {\"xref\": \"x1\", \"x\": \"car\", \"font\": {\"color\": \"#FFFFFF\"}, \"yref\": \"y1\", \"text\": \"6.72\", \"showarrow\": false, \"y\": \"walking\"}, {\"xref\": \"x1\", \"x\": \"bike\", \"font\": {\"color\": \"#FFFFFF\"}, \"yref\": \"y1\", \"text\": \"0.0\", \"showarrow\": false, \"y\": \"walking\"}, {\"xref\": \"x1\", \"x\": \"upstairs\", \"font\": {\"color\": \"#FFFFFF\"}, \"yref\": \"y1\", \"text\": \"2.24\", \"showarrow\": false, \"y\": \"walking\"}, {\"xref\": \"x1\", \"x\": \"downstairs\", \"font\": {\"color\": \"#FFFFFF\"}, \"yref\": \"y1\", \"text\": \"1.49\", \"showarrow\": false, \"y\": \"walking\"}, {\"xref\": \"x1\", \"x\": \"running\", \"font\": {\"color\": \"#FFFFFF\"}, \"yref\": \"y1\", \"text\": \"2.99\", \"showarrow\": false, \"y\": \"car\"}, {\"xref\": \"x1\", \"x\": \"walking\", \"font\": {\"color\": \"#FFFFFF\"}, \"yref\": \"y1\", \"text\": \"2.49\", \"showarrow\": false, \"y\": \"car\"}, {\"xref\": \"x1\", \"x\": \"car\", \"font\": {\"color\": \"#000000\"}, \"yref\": \"y1\", \"text\": \"91.04\", \"showarrow\": false, \"y\": \"car\"}, {\"xref\": \"x1\", \"x\": \"bike\", \"font\": {\"color\": \"#FFFFFF\"}, \"yref\": \"y1\", \"text\": \"0.0\", \"showarrow\": false, \"y\": \"car\"}, {\"xref\": \"x1\", \"x\": \"upstairs\", \"font\": {\"color\": \"#FFFFFF\"}, \"yref\": \"y1\", \"text\": \"2.99\", \"showarrow\": false, \"y\": \"car\"}, {\"xref\": \"x1\", \"x\": \"downstairs\", \"font\": {\"color\": \"#FFFFFF\"}, \"yref\": \"y1\", \"text\": \"0.5\", \"showarrow\": false, \"y\": \"car\"}, {\"xref\": \"x1\", \"x\": \"running\", \"font\": {\"color\": \"#FFFFFF\"}, \"yref\": \"y1\", \"text\": \"23.08\", \"showarrow\": false, \"y\": \"bike\"}, {\"xref\": \"x1\", \"x\": \"walking\", \"font\": {\"color\": \"#FFFFFF\"}, \"yref\": \"y1\", \"text\": \"15.38\", \"showarrow\": false, \"y\": \"bike\"}, {\"xref\": \"x1\", \"x\": \"car\", \"font\": {\"color\": \"#FFFFFF\"}, \"yref\": \"y1\", \"text\": \"30.77\", \"showarrow\": false, \"y\": \"bike\"}, {\"xref\": \"x1\", \"x\": \"bike\", \"font\": {\"color\": \"#FFFFFF\"}, \"yref\": \"y1\", \"text\": \"30.77\", \"showarrow\": false, \"y\": \"bike\"}, {\"xref\": \"x1\", \"x\": \"upstairs\", \"font\": {\"color\": \"#FFFFFF\"}, \"yref\": \"y1\", \"text\": \"0.0\", \"showarrow\": false, \"y\": \"bike\"}, {\"xref\": \"x1\", \"x\": \"downstairs\", \"font\": {\"color\": \"#FFFFFF\"}, \"yref\": \"y1\", \"text\": \"0.0\", \"showarrow\": false, \"y\": \"bike\"}, {\"xref\": \"x1\", \"x\": \"running\", \"font\": {\"color\": \"#FFFFFF\"}, \"yref\": \"y1\", \"text\": \"7.02\", \"showarrow\": false, \"y\": \"upstairs\"}, {\"xref\": \"x1\", \"x\": \"walking\", \"font\": {\"color\": \"#FFFFFF\"}, \"yref\": \"y1\", \"text\": \"26.32\", \"showarrow\": false, \"y\": \"upstairs\"}, {\"xref\": \"x1\", \"x\": \"car\", \"font\": {\"color\": \"#FFFFFF\"}, \"yref\": \"y1\", \"text\": \"26.32\", \"showarrow\": false, \"y\": \"upstairs\"}, {\"xref\": \"x1\", \"x\": \"bike\", \"font\": {\"color\": \"#FFFFFF\"}, \"yref\": \"y1\", \"text\": \"0.0\", \"showarrow\": false, \"y\": \"upstairs\"}, {\"xref\": \"x1\", \"x\": \"upstairs\", \"font\": {\"color\": \"#FFFFFF\"}, \"yref\": \"y1\", \"text\": \"40.35\", \"showarrow\": false, \"y\": \"upstairs\"}, {\"xref\": \"x1\", \"x\": \"downstairs\", \"font\": {\"color\": \"#FFFFFF\"}, \"yref\": \"y1\", \"text\": \"0.0\", \"showarrow\": false, \"y\": \"upstairs\"}, {\"xref\": \"x1\", \"x\": \"running\", \"font\": {\"color\": \"#FFFFFF\"}, \"yref\": \"y1\", \"text\": \"21.88\", \"showarrow\": false, \"y\": \"downstairs\"}, {\"xref\": \"x1\", \"x\": \"walking\", \"font\": {\"color\": \"#FFFFFF\"}, \"yref\": \"y1\", \"text\": \"28.12\", \"showarrow\": false, \"y\": \"downstairs\"}, {\"xref\": \"x1\", \"x\": \"car\", \"font\": {\"color\": \"#FFFFFF\"}, \"yref\": \"y1\", \"text\": \"25.0\", \"showarrow\": false, \"y\": \"downstairs\"}, {\"xref\": \"x1\", \"x\": \"bike\", \"font\": {\"color\": \"#FFFFFF\"}, \"yref\": \"y1\", \"text\": \"0.0\", \"showarrow\": false, \"y\": \"downstairs\"}, {\"xref\": \"x1\", \"x\": \"upstairs\", \"font\": {\"color\": \"#FFFFFF\"}, \"yref\": \"y1\", \"text\": \"12.5\", \"showarrow\": false, \"y\": \"downstairs\"}, {\"xref\": \"x1\", \"x\": \"downstairs\", \"font\": {\"color\": \"#FFFFFF\"}, \"yref\": \"y1\", \"text\": \"12.5\", \"showarrow\": false, \"y\": \"downstairs\"}], \"yaxis\": {\"dtick\": 1, \"ticks\": \"\", \"ticksuffix\": \"  \", \"autorange\": \"reversed\"}}, {\"linkText\": \"Export to plot.ly\", \"showLink\": true})});</script>"
      ]
     },
     "metadata": {},
     "output_type": "display_data"
    }
   ],
   "source": [
    "# Każdy klasyfikator uczymy i testujemy, a następnie rysujemy heatmap z wynikami\n",
    "for clsf in classifiers:\n",
    "    # Uczenie klasyfikatora\n",
    "    clsf[\"cls\"].fit(X, y)\n",
    "    # Sprawdzenie dla danych testowych\n",
    "    predictions = clsf[\"cls\"].predict(X_test)\n",
    "    # Zapis wyniku\n",
    "    acc = accuracy_score(y_test, predictions)\n",
    "    \n",
    "    # Znormalizowana macierz\n",
    "    c_matrix = confusion_matrix(y_test, predictions, labels = [11,22,33,44,55,66])\n",
    "    c_matrix = c_matrix.astype('float') / c_matrix.sum(axis=1)[:, np.newaxis]\n",
    "    c_matrix = c_matrix*100.0\n",
    "    c_matrix = c_matrix.round(2)\n",
    "    \n",
    "    # Tytuły wykresów\n",
    "    title = clsf[\"name\"] + \" - overall accuracy: \" + str(round(acc*100,2)) + \"%\"\n",
    "    labels = [\"running\", \"walking\", \"car\", \"bike\", \"upstairs\", \"downstairs\"]\n",
    "    \n",
    "    fig = ff.create_annotated_heatmap(z=c_matrix, x=labels, y=labels)\n",
    "    fig.layout.update({\"title\": title})\n",
    "    \n",
    "    fig.layout.update({\"yaxis\":dict(autorange='reversed')})\n",
    "    \n",
    "    iplot(fig)\n"
   ]
  },
  {
   "cell_type": "code",
   "execution_count": 10,
   "metadata": {},
   "outputs": [],
   "source": [
    "# # clf = SVC()\n",
    "# clf = MLPClassifier(solver='lbfgs', alpha=1e-7, hidden_layer_sizes=(26, 10, 6), random_state=1, max_iter=700)\n",
    "# # clf = KNeighborsClassifier(n_neighbors=7)\n",
    "# # clf = SGDClassifier(loss=\"log\")\n",
    "# clf.fit(X,y)\n",
    "\n",
    "# predictions = clf.predict(X_test)\n",
    "# acc = accuracy_score(y_test, predictions)\n",
    "# print(\"Accuracy: \" + str(round(acc*100,2)) + \"%\")"
   ]
  },
  {
   "cell_type": "code",
   "execution_count": 11,
   "metadata": {},
   "outputs": [],
   "source": [
    "# tsne = manifold.TSNE(n_components=2, init='pca', random_state=0)\n",
    "# Y = tsne.fit_transform(X_test)"
   ]
  },
  {
   "cell_type": "code",
   "execution_count": 12,
   "metadata": {},
   "outputs": [],
   "source": [
    "# plt.scatter(Y[:, 0], Y[:, 1], c=y_test, cmap=plt.cm.get_cmap(\"jet\", len(list(set(y_test)))))\n",
    "# plt.colorbar(ticks=range(len(list(set(y_test)))))\n",
    "\n",
    "# plt.show()"
   ]
  },
  {
   "cell_type": "code",
   "execution_count": 13,
   "metadata": {},
   "outputs": [],
   "source": [
    "# import autosklearn.classification\n",
    "# automl = autosklearn.classification.AutoSklearnClassifier(\n",
    "#     include_estimators=[\"libsvm_svc\", ], exclude_estimators=None,\n",
    "#     include_preprocessors=[\"no_preprocessing\", ], exclude_preprocessors=None)\n",
    "\n",
    "# automl.fit(X.copy(),y.copy())\n"
   ]
  },
  {
   "cell_type": "code",
   "execution_count": 14,
   "metadata": {},
   "outputs": [],
   "source": [
    "# # automl.show_models()\n",
    "# from sklearn.externals import joblib\n",
    "# automl = joblib.load(\".pkl\")"
   ]
  },
  {
   "cell_type": "code",
   "execution_count": 15,
   "metadata": {},
   "outputs": [],
   "source": [
    "# predictions = automl.predict(X_test)\n",
    "# acc = accuracy_score(y_test, predictions)\n",
    "# print(\"Accuracy: \" + str(round(acc*100,2)) + \"%\")"
   ]
  },
  {
   "cell_type": "code",
   "execution_count": null,
   "metadata": {},
   "outputs": [],
   "source": []
  }
 ],
 "metadata": {
  "kernelspec": {
   "display_name": "Python 3",
   "language": "python",
   "name": "python3"
  },
  "language_info": {
   "codemirror_mode": {
    "name": "ipython",
    "version": 3
   },
   "file_extension": ".py",
   "mimetype": "text/x-python",
   "name": "python",
   "nbconvert_exporter": "python",
   "pygments_lexer": "ipython3",
   "version": "3.5.2"
  }
 },
 "nbformat": 4,
 "nbformat_minor": 2
}

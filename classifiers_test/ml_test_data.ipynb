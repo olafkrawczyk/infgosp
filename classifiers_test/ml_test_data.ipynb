{
 "cells": [
  {
   "cell_type": "code",
   "execution_count": 1,
   "metadata": {},
   "outputs": [
    {
     "data": {
      "text/html": [
       "<script>requirejs.config({paths: { 'plotly': ['https://cdn.plot.ly/plotly-latest.min']},});if(!window.Plotly) {{require(['plotly'],function(plotly) {window.Plotly=plotly;});}}</script>"
      ],
      "text/vnd.plotly.v1+html": [
       "<script>requirejs.config({paths: { 'plotly': ['https://cdn.plot.ly/plotly-latest.min']},});if(!window.Plotly) {{require(['plotly'],function(plotly) {window.Plotly=plotly;});}}</script>"
      ]
     },
     "metadata": {},
     "output_type": "display_data"
    }
   ],
   "source": [
    "import pandas as pd\n",
    "import sklearn\n",
    "from sklearn.svm import SVC\n",
    "from sklearn.neighbors import KNeighborsClassifier\n",
    "from sklearn.neural_network import MLPClassifier\n",
    "from sklearn.linear_model import SGDClassifier\n",
    "from sklearn.ensemble import RandomForestClassifier\n",
    "from sklearn.metrics import accuracy_score, confusion_matrix\n",
    "from sklearn import manifold\n",
    "from sklearn.preprocessing import StandardScaler  \n",
    "import matplotlib.pyplot as plt\n",
    "\n",
    "import plotly.plotly as py\n",
    "import plotly.graph_objs as go\n",
    "import plotly.figure_factory as ff\n",
    "import numpy as np\n",
    "from plotly.offline import download_plotlyjs, init_notebook_mode, plot, iplot\n",
    "\n",
    "\n",
    "init_notebook_mode(connected=True)\n",
    "\n",
    "# Jaki procent całego zbioru ma być wykorzystany do uczenia\n",
    "TRAIN_DATASET_PRECENTAGE = 0.5"
   ]
  },
  {
   "cell_type": "code",
   "execution_count": 2,
   "metadata": {},
   "outputs": [],
   "source": [
    "# Załadowanie zbioru cech z csv\n",
    "dataset = pd.read_csv(\"features.csv\", index_col=None)\n",
    "\n",
    "# Stworzenie kolumn dla wektora cech. Nazwy to liczby od 1 do 25.\n",
    "cols = [str(x) for x in range(1, 26)]\n",
    "#Ostatnia kolumna to etykieta aktywności\n",
    "cols.append(\"label\")\n",
    "\n",
    "dataset.columns = cols"
   ]
  },
  {
   "cell_type": "code",
   "execution_count": 3,
   "metadata": {},
   "outputs": [],
   "source": [
    "# Mieszamy wczytane wiersze tak, żeby kolejność cech nie miała wpływu na trenowanie i testowanie\n",
    "dataset = sklearn.utils.shuffle(dataset)"
   ]
  },
  {
   "cell_type": "code",
   "execution_count": 4,
   "metadata": {},
   "outputs": [],
   "source": [
    "# Obliczenie liczby wektorów cech potrzebynch do uczenia\n",
    "train_size = int(len(dataset)*TRAIN_DATASET_PRECENTAGE)\n",
    "\n",
    "#Podział na zbiór uczący i testowy\n",
    "train_dataset = dataset[:train_size]\n",
    "test_dataset = dataset[train_size:]\n",
    "\n",
    "# Oddzielamy cechy od etykiety i przypisujemy do X - zbioru danych uczących\n",
    "feature_cols = dataset.columns[:-1]\n",
    "X = train_dataset.loc[:, feature_cols]\n",
    "\n",
    "# Zbiór poprawnych etykiet dla zbioru uczącego\n",
    "y = train_dataset.label"
   ]
  },
  {
   "cell_type": "code",
   "execution_count": 5,
   "metadata": {},
   "outputs": [],
   "source": [
    "# Skalowanie wektora cech\n",
    "scaler = StandardScaler()\n",
    "scaler.fit(X)\n",
    "\n",
    "X = scaler.transform(X)"
   ]
  },
  {
   "cell_type": "code",
   "execution_count": 6,
   "metadata": {},
   "outputs": [],
   "source": [
    "# Podział na X i y dla danych testowych\n",
    "X_test = test_dataset.loc[:, feature_cols]\n",
    "X_test = scaler.transform(X_test)\n",
    "y_test = test_dataset.label"
   ]
  },
  {
   "cell_type": "code",
   "execution_count": 7,
   "metadata": {},
   "outputs": [],
   "source": [
    "# Tworzymy listę klasyfikatorów które testujemy\n",
    "classifiers = []\n",
    "\n",
    "classifiers.append({\"name\":\"SVM\", \"cls\":SVC()})\n",
    "classifiers.append({\"name\":\"MLP\", \"cls\":MLPClassifier(solver='lbfgs', alpha=1e-7, hidden_layer_sizes=(26, 10, 6), random_state=1, max_iter=700)})\n",
    "classifiers.append({\"name\":\"KNN\", \"cls\":KNeighborsClassifier(n_neighbors=5)})\n",
    "classifiers.append({\"name\":\"RF\", \"cls\":RandomForestClassifier()})\n"
   ]
  },
  {
   "cell_type": "code",
   "execution_count": 15,
   "metadata": {
    "scrolled": false
   },
   "outputs": [
    {
     "data": {
      "application/vnd.plotly.v1+json": {
       "data": [
        {
         "colorscale": "RdBu",
         "showscale": false,
         "type": "heatmap",
         "x": [
          "running",
          "walking",
          "car",
          "bike",
          "upstairs",
          "downstairs"
         ],
         "y": [
          "running",
          "walking",
          "car",
          "bike",
          "upstairs",
          "downstairs"
         ],
         "z": [
          [
           87.85,
           9.58,
           2.57,
           0,
           0,
           0
          ],
          [
           6.34,
           86.85,
           6.34,
           0,
           0.47,
           0
          ],
          [
           2.4,
           4.94,
           92.23,
           0,
           0.42,
           0
          ],
          [
           16,
           64,
           20,
           0,
           0,
           0
          ],
          [
           9.09,
           32.23,
           11.57,
           0,
           47.11,
           0
          ],
          [
           15.56,
           68.89,
           15.56,
           0,
           0,
           0
          ]
         ]
        }
       ],
       "layout": {
        "annotations": [
         {
          "font": {
           "color": "#000000"
          },
          "showarrow": false,
          "text": "87.85",
          "x": "running",
          "xref": "x1",
          "y": "running",
          "yref": "y1"
         },
         {
          "font": {
           "color": "#FFFFFF"
          },
          "showarrow": false,
          "text": "9.58",
          "x": "walking",
          "xref": "x1",
          "y": "running",
          "yref": "y1"
         },
         {
          "font": {
           "color": "#FFFFFF"
          },
          "showarrow": false,
          "text": "2.57",
          "x": "car",
          "xref": "x1",
          "y": "running",
          "yref": "y1"
         },
         {
          "font": {
           "color": "#FFFFFF"
          },
          "showarrow": false,
          "text": "0.0",
          "x": "bike",
          "xref": "x1",
          "y": "running",
          "yref": "y1"
         },
         {
          "font": {
           "color": "#FFFFFF"
          },
          "showarrow": false,
          "text": "0.0",
          "x": "upstairs",
          "xref": "x1",
          "y": "running",
          "yref": "y1"
         },
         {
          "font": {
           "color": "#FFFFFF"
          },
          "showarrow": false,
          "text": "0.0",
          "x": "downstairs",
          "xref": "x1",
          "y": "running",
          "yref": "y1"
         },
         {
          "font": {
           "color": "#FFFFFF"
          },
          "showarrow": false,
          "text": "6.34",
          "x": "running",
          "xref": "x1",
          "y": "walking",
          "yref": "y1"
         },
         {
          "font": {
           "color": "#000000"
          },
          "showarrow": false,
          "text": "86.85",
          "x": "walking",
          "xref": "x1",
          "y": "walking",
          "yref": "y1"
         },
         {
          "font": {
           "color": "#FFFFFF"
          },
          "showarrow": false,
          "text": "6.34",
          "x": "car",
          "xref": "x1",
          "y": "walking",
          "yref": "y1"
         },
         {
          "font": {
           "color": "#FFFFFF"
          },
          "showarrow": false,
          "text": "0.0",
          "x": "bike",
          "xref": "x1",
          "y": "walking",
          "yref": "y1"
         },
         {
          "font": {
           "color": "#FFFFFF"
          },
          "showarrow": false,
          "text": "0.47",
          "x": "upstairs",
          "xref": "x1",
          "y": "walking",
          "yref": "y1"
         },
         {
          "font": {
           "color": "#FFFFFF"
          },
          "showarrow": false,
          "text": "0.0",
          "x": "downstairs",
          "xref": "x1",
          "y": "walking",
          "yref": "y1"
         },
         {
          "font": {
           "color": "#FFFFFF"
          },
          "showarrow": false,
          "text": "2.4",
          "x": "running",
          "xref": "x1",
          "y": "car",
          "yref": "y1"
         },
         {
          "font": {
           "color": "#FFFFFF"
          },
          "showarrow": false,
          "text": "4.94",
          "x": "walking",
          "xref": "x1",
          "y": "car",
          "yref": "y1"
         },
         {
          "font": {
           "color": "#000000"
          },
          "showarrow": false,
          "text": "92.23",
          "x": "car",
          "xref": "x1",
          "y": "car",
          "yref": "y1"
         },
         {
          "font": {
           "color": "#FFFFFF"
          },
          "showarrow": false,
          "text": "0.0",
          "x": "bike",
          "xref": "x1",
          "y": "car",
          "yref": "y1"
         },
         {
          "font": {
           "color": "#FFFFFF"
          },
          "showarrow": false,
          "text": "0.42",
          "x": "upstairs",
          "xref": "x1",
          "y": "car",
          "yref": "y1"
         },
         {
          "font": {
           "color": "#FFFFFF"
          },
          "showarrow": false,
          "text": "0.0",
          "x": "downstairs",
          "xref": "x1",
          "y": "car",
          "yref": "y1"
         },
         {
          "font": {
           "color": "#FFFFFF"
          },
          "showarrow": false,
          "text": "16.0",
          "x": "running",
          "xref": "x1",
          "y": "bike",
          "yref": "y1"
         },
         {
          "font": {
           "color": "#000000"
          },
          "showarrow": false,
          "text": "64.0",
          "x": "walking",
          "xref": "x1",
          "y": "bike",
          "yref": "y1"
         },
         {
          "font": {
           "color": "#FFFFFF"
          },
          "showarrow": false,
          "text": "20.0",
          "x": "car",
          "xref": "x1",
          "y": "bike",
          "yref": "y1"
         },
         {
          "font": {
           "color": "#FFFFFF"
          },
          "showarrow": false,
          "text": "0.0",
          "x": "bike",
          "xref": "x1",
          "y": "bike",
          "yref": "y1"
         },
         {
          "font": {
           "color": "#FFFFFF"
          },
          "showarrow": false,
          "text": "0.0",
          "x": "upstairs",
          "xref": "x1",
          "y": "bike",
          "yref": "y1"
         },
         {
          "font": {
           "color": "#FFFFFF"
          },
          "showarrow": false,
          "text": "0.0",
          "x": "downstairs",
          "xref": "x1",
          "y": "bike",
          "yref": "y1"
         },
         {
          "font": {
           "color": "#FFFFFF"
          },
          "showarrow": false,
          "text": "9.09",
          "x": "running",
          "xref": "x1",
          "y": "upstairs",
          "yref": "y1"
         },
         {
          "font": {
           "color": "#FFFFFF"
          },
          "showarrow": false,
          "text": "32.23",
          "x": "walking",
          "xref": "x1",
          "y": "upstairs",
          "yref": "y1"
         },
         {
          "font": {
           "color": "#FFFFFF"
          },
          "showarrow": false,
          "text": "11.57",
          "x": "car",
          "xref": "x1",
          "y": "upstairs",
          "yref": "y1"
         },
         {
          "font": {
           "color": "#FFFFFF"
          },
          "showarrow": false,
          "text": "0.0",
          "x": "bike",
          "xref": "x1",
          "y": "upstairs",
          "yref": "y1"
         },
         {
          "font": {
           "color": "#000000"
          },
          "showarrow": false,
          "text": "47.11",
          "x": "upstairs",
          "xref": "x1",
          "y": "upstairs",
          "yref": "y1"
         },
         {
          "font": {
           "color": "#FFFFFF"
          },
          "showarrow": false,
          "text": "0.0",
          "x": "downstairs",
          "xref": "x1",
          "y": "upstairs",
          "yref": "y1"
         },
         {
          "font": {
           "color": "#FFFFFF"
          },
          "showarrow": false,
          "text": "15.56",
          "x": "running",
          "xref": "x1",
          "y": "downstairs",
          "yref": "y1"
         },
         {
          "font": {
           "color": "#000000"
          },
          "showarrow": false,
          "text": "68.89",
          "x": "walking",
          "xref": "x1",
          "y": "downstairs",
          "yref": "y1"
         },
         {
          "font": {
           "color": "#FFFFFF"
          },
          "showarrow": false,
          "text": "15.56",
          "x": "car",
          "xref": "x1",
          "y": "downstairs",
          "yref": "y1"
         },
         {
          "font": {
           "color": "#FFFFFF"
          },
          "showarrow": false,
          "text": "0.0",
          "x": "bike",
          "xref": "x1",
          "y": "downstairs",
          "yref": "y1"
         },
         {
          "font": {
           "color": "#FFFFFF"
          },
          "showarrow": false,
          "text": "0.0",
          "x": "upstairs",
          "xref": "x1",
          "y": "downstairs",
          "yref": "y1"
         },
         {
          "font": {
           "color": "#FFFFFF"
          },
          "showarrow": false,
          "text": "0.0",
          "x": "downstairs",
          "xref": "x1",
          "y": "downstairs",
          "yref": "y1"
         }
        ],
        "title": "SVM - overall accuracy: 83.06%",
        "xaxis": {
         "dtick": 1,
         "gridcolor": "rgb(0, 0, 0)",
         "side": "top",
         "ticks": ""
        },
        "yaxis": {
         "dtick": 1,
         "ticks": "",
         "ticksuffix": "  "
        }
       }
      },
      "text/html": [
       "<div id=\"cab5b3c0-3e1e-4142-8319-93a9b50efe2d\" style=\"height: 525px; width: 100%;\" class=\"plotly-graph-div\"></div><script type=\"text/javascript\">require([\"plotly\"], function(Plotly) { window.PLOTLYENV=window.PLOTLYENV || {};window.PLOTLYENV.BASE_URL=\"https://plot.ly\";Plotly.newPlot(\"cab5b3c0-3e1e-4142-8319-93a9b50efe2d\", [{\"type\": \"heatmap\", \"z\": [[87.85, 9.58, 2.57, 0.0, 0.0, 0.0], [6.34, 86.85, 6.34, 0.0, 0.47, 0.0], [2.4, 4.94, 92.23, 0.0, 0.42, 0.0], [16.0, 64.0, 20.0, 0.0, 0.0, 0.0], [9.09, 32.23, 11.57, 0.0, 47.11, 0.0], [15.56, 68.89, 15.56, 0.0, 0.0, 0.0]], \"x\": [\"running\", \"walking\", \"car\", \"bike\", \"upstairs\", \"downstairs\"], \"y\": [\"running\", \"walking\", \"car\", \"bike\", \"upstairs\", \"downstairs\"], \"colorscale\": \"RdBu\", \"showscale\": false}], {\"annotations\": [{\"text\": \"87.85\", \"x\": \"running\", \"y\": \"running\", \"xref\": \"x1\", \"yref\": \"y1\", \"font\": {\"color\": \"#000000\"}, \"showarrow\": false}, {\"text\": \"9.58\", \"x\": \"walking\", \"y\": \"running\", \"xref\": \"x1\", \"yref\": \"y1\", \"font\": {\"color\": \"#FFFFFF\"}, \"showarrow\": false}, {\"text\": \"2.57\", \"x\": \"car\", \"y\": \"running\", \"xref\": \"x1\", \"yref\": \"y1\", \"font\": {\"color\": \"#FFFFFF\"}, \"showarrow\": false}, {\"text\": \"0.0\", \"x\": \"bike\", \"y\": \"running\", \"xref\": \"x1\", \"yref\": \"y1\", \"font\": {\"color\": \"#FFFFFF\"}, \"showarrow\": false}, {\"text\": \"0.0\", \"x\": \"upstairs\", \"y\": \"running\", \"xref\": \"x1\", \"yref\": \"y1\", \"font\": {\"color\": \"#FFFFFF\"}, \"showarrow\": false}, {\"text\": \"0.0\", \"x\": \"downstairs\", \"y\": \"running\", \"xref\": \"x1\", \"yref\": \"y1\", \"font\": {\"color\": \"#FFFFFF\"}, \"showarrow\": false}, {\"text\": \"6.34\", \"x\": \"running\", \"y\": \"walking\", \"xref\": \"x1\", \"yref\": \"y1\", \"font\": {\"color\": \"#FFFFFF\"}, \"showarrow\": false}, {\"text\": \"86.85\", \"x\": \"walking\", \"y\": \"walking\", \"xref\": \"x1\", \"yref\": \"y1\", \"font\": {\"color\": \"#000000\"}, \"showarrow\": false}, {\"text\": \"6.34\", \"x\": \"car\", \"y\": \"walking\", \"xref\": \"x1\", \"yref\": \"y1\", \"font\": {\"color\": \"#FFFFFF\"}, \"showarrow\": false}, {\"text\": \"0.0\", \"x\": \"bike\", \"y\": \"walking\", \"xref\": \"x1\", \"yref\": \"y1\", \"font\": {\"color\": \"#FFFFFF\"}, \"showarrow\": false}, {\"text\": \"0.47\", \"x\": \"upstairs\", \"y\": \"walking\", \"xref\": \"x1\", \"yref\": \"y1\", \"font\": {\"color\": \"#FFFFFF\"}, \"showarrow\": false}, {\"text\": \"0.0\", \"x\": \"downstairs\", \"y\": \"walking\", \"xref\": \"x1\", \"yref\": \"y1\", \"font\": {\"color\": \"#FFFFFF\"}, \"showarrow\": false}, {\"text\": \"2.4\", \"x\": \"running\", \"y\": \"car\", \"xref\": \"x1\", \"yref\": \"y1\", \"font\": {\"color\": \"#FFFFFF\"}, \"showarrow\": false}, {\"text\": \"4.94\", \"x\": \"walking\", \"y\": \"car\", \"xref\": \"x1\", \"yref\": \"y1\", \"font\": {\"color\": \"#FFFFFF\"}, \"showarrow\": false}, {\"text\": \"92.23\", \"x\": \"car\", \"y\": \"car\", \"xref\": \"x1\", \"yref\": \"y1\", \"font\": {\"color\": \"#000000\"}, \"showarrow\": false}, {\"text\": \"0.0\", \"x\": \"bike\", \"y\": \"car\", \"xref\": \"x1\", \"yref\": \"y1\", \"font\": {\"color\": \"#FFFFFF\"}, \"showarrow\": false}, {\"text\": \"0.42\", \"x\": \"upstairs\", \"y\": \"car\", \"xref\": \"x1\", \"yref\": \"y1\", \"font\": {\"color\": \"#FFFFFF\"}, \"showarrow\": false}, {\"text\": \"0.0\", \"x\": \"downstairs\", \"y\": \"car\", \"xref\": \"x1\", \"yref\": \"y1\", \"font\": {\"color\": \"#FFFFFF\"}, \"showarrow\": false}, {\"text\": \"16.0\", \"x\": \"running\", \"y\": \"bike\", \"xref\": \"x1\", \"yref\": \"y1\", \"font\": {\"color\": \"#FFFFFF\"}, \"showarrow\": false}, {\"text\": \"64.0\", \"x\": \"walking\", \"y\": \"bike\", \"xref\": \"x1\", \"yref\": \"y1\", \"font\": {\"color\": \"#000000\"}, \"showarrow\": false}, {\"text\": \"20.0\", \"x\": \"car\", \"y\": \"bike\", \"xref\": \"x1\", \"yref\": \"y1\", \"font\": {\"color\": \"#FFFFFF\"}, \"showarrow\": false}, {\"text\": \"0.0\", \"x\": \"bike\", \"y\": \"bike\", \"xref\": \"x1\", \"yref\": \"y1\", \"font\": {\"color\": \"#FFFFFF\"}, \"showarrow\": false}, {\"text\": \"0.0\", \"x\": \"upstairs\", \"y\": \"bike\", \"xref\": \"x1\", \"yref\": \"y1\", \"font\": {\"color\": \"#FFFFFF\"}, \"showarrow\": false}, {\"text\": \"0.0\", \"x\": \"downstairs\", \"y\": \"bike\", \"xref\": \"x1\", \"yref\": \"y1\", \"font\": {\"color\": \"#FFFFFF\"}, \"showarrow\": false}, {\"text\": \"9.09\", \"x\": \"running\", \"y\": \"upstairs\", \"xref\": \"x1\", \"yref\": \"y1\", \"font\": {\"color\": \"#FFFFFF\"}, \"showarrow\": false}, {\"text\": \"32.23\", \"x\": \"walking\", \"y\": \"upstairs\", \"xref\": \"x1\", \"yref\": \"y1\", \"font\": {\"color\": \"#FFFFFF\"}, \"showarrow\": false}, {\"text\": \"11.57\", \"x\": \"car\", \"y\": \"upstairs\", \"xref\": \"x1\", \"yref\": \"y1\", \"font\": {\"color\": \"#FFFFFF\"}, \"showarrow\": false}, {\"text\": \"0.0\", \"x\": \"bike\", \"y\": \"upstairs\", \"xref\": \"x1\", \"yref\": \"y1\", \"font\": {\"color\": \"#FFFFFF\"}, \"showarrow\": false}, {\"text\": \"47.11\", \"x\": \"upstairs\", \"y\": \"upstairs\", \"xref\": \"x1\", \"yref\": \"y1\", \"font\": {\"color\": \"#000000\"}, \"showarrow\": false}, {\"text\": \"0.0\", \"x\": \"downstairs\", \"y\": \"upstairs\", \"xref\": \"x1\", \"yref\": \"y1\", \"font\": {\"color\": \"#FFFFFF\"}, \"showarrow\": false}, {\"text\": \"15.56\", \"x\": \"running\", \"y\": \"downstairs\", \"xref\": \"x1\", \"yref\": \"y1\", \"font\": {\"color\": \"#FFFFFF\"}, \"showarrow\": false}, {\"text\": \"68.89\", \"x\": \"walking\", \"y\": \"downstairs\", \"xref\": \"x1\", \"yref\": \"y1\", \"font\": {\"color\": \"#000000\"}, \"showarrow\": false}, {\"text\": \"15.56\", \"x\": \"car\", \"y\": \"downstairs\", \"xref\": \"x1\", \"yref\": \"y1\", \"font\": {\"color\": \"#FFFFFF\"}, \"showarrow\": false}, {\"text\": \"0.0\", \"x\": \"bike\", \"y\": \"downstairs\", \"xref\": \"x1\", \"yref\": \"y1\", \"font\": {\"color\": \"#FFFFFF\"}, \"showarrow\": false}, {\"text\": \"0.0\", \"x\": \"upstairs\", \"y\": \"downstairs\", \"xref\": \"x1\", \"yref\": \"y1\", \"font\": {\"color\": \"#FFFFFF\"}, \"showarrow\": false}, {\"text\": \"0.0\", \"x\": \"downstairs\", \"y\": \"downstairs\", \"xref\": \"x1\", \"yref\": \"y1\", \"font\": {\"color\": \"#FFFFFF\"}, \"showarrow\": false}], \"xaxis\": {\"ticks\": \"\", \"dtick\": 1, \"side\": \"top\", \"gridcolor\": \"rgb(0, 0, 0)\"}, \"yaxis\": {\"ticks\": \"\", \"dtick\": 1, \"ticksuffix\": \"  \"}, \"title\": \"SVM - overall accuracy: 83.06%\"}, {\"showLink\": true, \"linkText\": \"Export to plot.ly\"})});</script>"
      ],
      "text/vnd.plotly.v1+html": [
       "<div id=\"cab5b3c0-3e1e-4142-8319-93a9b50efe2d\" style=\"height: 525px; width: 100%;\" class=\"plotly-graph-div\"></div><script type=\"text/javascript\">require([\"plotly\"], function(Plotly) { window.PLOTLYENV=window.PLOTLYENV || {};window.PLOTLYENV.BASE_URL=\"https://plot.ly\";Plotly.newPlot(\"cab5b3c0-3e1e-4142-8319-93a9b50efe2d\", [{\"type\": \"heatmap\", \"z\": [[87.85, 9.58, 2.57, 0.0, 0.0, 0.0], [6.34, 86.85, 6.34, 0.0, 0.47, 0.0], [2.4, 4.94, 92.23, 0.0, 0.42, 0.0], [16.0, 64.0, 20.0, 0.0, 0.0, 0.0], [9.09, 32.23, 11.57, 0.0, 47.11, 0.0], [15.56, 68.89, 15.56, 0.0, 0.0, 0.0]], \"x\": [\"running\", \"walking\", \"car\", \"bike\", \"upstairs\", \"downstairs\"], \"y\": [\"running\", \"walking\", \"car\", \"bike\", \"upstairs\", \"downstairs\"], \"colorscale\": \"RdBu\", \"showscale\": false}], {\"annotations\": [{\"text\": \"87.85\", \"x\": \"running\", \"y\": \"running\", \"xref\": \"x1\", \"yref\": \"y1\", \"font\": {\"color\": \"#000000\"}, \"showarrow\": false}, {\"text\": \"9.58\", \"x\": \"walking\", \"y\": \"running\", \"xref\": \"x1\", \"yref\": \"y1\", \"font\": {\"color\": \"#FFFFFF\"}, \"showarrow\": false}, {\"text\": \"2.57\", \"x\": \"car\", \"y\": \"running\", \"xref\": \"x1\", \"yref\": \"y1\", \"font\": {\"color\": \"#FFFFFF\"}, \"showarrow\": false}, {\"text\": \"0.0\", \"x\": \"bike\", \"y\": \"running\", \"xref\": \"x1\", \"yref\": \"y1\", \"font\": {\"color\": \"#FFFFFF\"}, \"showarrow\": false}, {\"text\": \"0.0\", \"x\": \"upstairs\", \"y\": \"running\", \"xref\": \"x1\", \"yref\": \"y1\", \"font\": {\"color\": \"#FFFFFF\"}, \"showarrow\": false}, {\"text\": \"0.0\", \"x\": \"downstairs\", \"y\": \"running\", \"xref\": \"x1\", \"yref\": \"y1\", \"font\": {\"color\": \"#FFFFFF\"}, \"showarrow\": false}, {\"text\": \"6.34\", \"x\": \"running\", \"y\": \"walking\", \"xref\": \"x1\", \"yref\": \"y1\", \"font\": {\"color\": \"#FFFFFF\"}, \"showarrow\": false}, {\"text\": \"86.85\", \"x\": \"walking\", \"y\": \"walking\", \"xref\": \"x1\", \"yref\": \"y1\", \"font\": {\"color\": \"#000000\"}, \"showarrow\": false}, {\"text\": \"6.34\", \"x\": \"car\", \"y\": \"walking\", \"xref\": \"x1\", \"yref\": \"y1\", \"font\": {\"color\": \"#FFFFFF\"}, \"showarrow\": false}, {\"text\": \"0.0\", \"x\": \"bike\", \"y\": \"walking\", \"xref\": \"x1\", \"yref\": \"y1\", \"font\": {\"color\": \"#FFFFFF\"}, \"showarrow\": false}, {\"text\": \"0.47\", \"x\": \"upstairs\", \"y\": \"walking\", \"xref\": \"x1\", \"yref\": \"y1\", \"font\": {\"color\": \"#FFFFFF\"}, \"showarrow\": false}, {\"text\": \"0.0\", \"x\": \"downstairs\", \"y\": \"walking\", \"xref\": \"x1\", \"yref\": \"y1\", \"font\": {\"color\": \"#FFFFFF\"}, \"showarrow\": false}, {\"text\": \"2.4\", \"x\": \"running\", \"y\": \"car\", \"xref\": \"x1\", \"yref\": \"y1\", \"font\": {\"color\": \"#FFFFFF\"}, \"showarrow\": false}, {\"text\": \"4.94\", \"x\": \"walking\", \"y\": \"car\", \"xref\": \"x1\", \"yref\": \"y1\", \"font\": {\"color\": \"#FFFFFF\"}, \"showarrow\": false}, {\"text\": \"92.23\", \"x\": \"car\", \"y\": \"car\", \"xref\": \"x1\", \"yref\": \"y1\", \"font\": {\"color\": \"#000000\"}, \"showarrow\": false}, {\"text\": \"0.0\", \"x\": \"bike\", \"y\": \"car\", \"xref\": \"x1\", \"yref\": \"y1\", \"font\": {\"color\": \"#FFFFFF\"}, \"showarrow\": false}, {\"text\": \"0.42\", \"x\": \"upstairs\", \"y\": \"car\", \"xref\": \"x1\", \"yref\": \"y1\", \"font\": {\"color\": \"#FFFFFF\"}, \"showarrow\": false}, {\"text\": \"0.0\", \"x\": \"downstairs\", \"y\": \"car\", \"xref\": \"x1\", \"yref\": \"y1\", \"font\": {\"color\": \"#FFFFFF\"}, \"showarrow\": false}, {\"text\": \"16.0\", \"x\": \"running\", \"y\": \"bike\", \"xref\": \"x1\", \"yref\": \"y1\", \"font\": {\"color\": \"#FFFFFF\"}, \"showarrow\": false}, {\"text\": \"64.0\", \"x\": \"walking\", \"y\": \"bike\", \"xref\": \"x1\", \"yref\": \"y1\", \"font\": {\"color\": \"#000000\"}, \"showarrow\": false}, {\"text\": \"20.0\", \"x\": \"car\", \"y\": \"bike\", \"xref\": \"x1\", \"yref\": \"y1\", \"font\": {\"color\": \"#FFFFFF\"}, \"showarrow\": false}, {\"text\": \"0.0\", \"x\": \"bike\", \"y\": \"bike\", \"xref\": \"x1\", \"yref\": \"y1\", \"font\": {\"color\": \"#FFFFFF\"}, \"showarrow\": false}, {\"text\": \"0.0\", \"x\": \"upstairs\", \"y\": \"bike\", \"xref\": \"x1\", \"yref\": \"y1\", \"font\": {\"color\": \"#FFFFFF\"}, \"showarrow\": false}, {\"text\": \"0.0\", \"x\": \"downstairs\", \"y\": \"bike\", \"xref\": \"x1\", \"yref\": \"y1\", \"font\": {\"color\": \"#FFFFFF\"}, \"showarrow\": false}, {\"text\": \"9.09\", \"x\": \"running\", \"y\": \"upstairs\", \"xref\": \"x1\", \"yref\": \"y1\", \"font\": {\"color\": \"#FFFFFF\"}, \"showarrow\": false}, {\"text\": \"32.23\", \"x\": \"walking\", \"y\": \"upstairs\", \"xref\": \"x1\", \"yref\": \"y1\", \"font\": {\"color\": \"#FFFFFF\"}, \"showarrow\": false}, {\"text\": \"11.57\", \"x\": \"car\", \"y\": \"upstairs\", \"xref\": \"x1\", \"yref\": \"y1\", \"font\": {\"color\": \"#FFFFFF\"}, \"showarrow\": false}, {\"text\": \"0.0\", \"x\": \"bike\", \"y\": \"upstairs\", \"xref\": \"x1\", \"yref\": \"y1\", \"font\": {\"color\": \"#FFFFFF\"}, \"showarrow\": false}, {\"text\": \"47.11\", \"x\": \"upstairs\", \"y\": \"upstairs\", \"xref\": \"x1\", \"yref\": \"y1\", \"font\": {\"color\": \"#000000\"}, \"showarrow\": false}, {\"text\": \"0.0\", \"x\": \"downstairs\", \"y\": \"upstairs\", \"xref\": \"x1\", \"yref\": \"y1\", \"font\": {\"color\": \"#FFFFFF\"}, \"showarrow\": false}, {\"text\": \"15.56\", \"x\": \"running\", \"y\": \"downstairs\", \"xref\": \"x1\", \"yref\": \"y1\", \"font\": {\"color\": \"#FFFFFF\"}, \"showarrow\": false}, {\"text\": \"68.89\", \"x\": \"walking\", \"y\": \"downstairs\", \"xref\": \"x1\", \"yref\": \"y1\", \"font\": {\"color\": \"#000000\"}, \"showarrow\": false}, {\"text\": \"15.56\", \"x\": \"car\", \"y\": \"downstairs\", \"xref\": \"x1\", \"yref\": \"y1\", \"font\": {\"color\": \"#FFFFFF\"}, \"showarrow\": false}, {\"text\": \"0.0\", \"x\": \"bike\", \"y\": \"downstairs\", \"xref\": \"x1\", \"yref\": \"y1\", \"font\": {\"color\": \"#FFFFFF\"}, \"showarrow\": false}, {\"text\": \"0.0\", \"x\": \"upstairs\", \"y\": \"downstairs\", \"xref\": \"x1\", \"yref\": \"y1\", \"font\": {\"color\": \"#FFFFFF\"}, \"showarrow\": false}, {\"text\": \"0.0\", \"x\": \"downstairs\", \"y\": \"downstairs\", \"xref\": \"x1\", \"yref\": \"y1\", \"font\": {\"color\": \"#FFFFFF\"}, \"showarrow\": false}], \"xaxis\": {\"ticks\": \"\", \"dtick\": 1, \"side\": \"top\", \"gridcolor\": \"rgb(0, 0, 0)\"}, \"yaxis\": {\"ticks\": \"\", \"dtick\": 1, \"ticksuffix\": \"  \"}, \"title\": \"SVM - overall accuracy: 83.06%\"}, {\"showLink\": true, \"linkText\": \"Export to plot.ly\"})});</script>"
      ]
     },
     "metadata": {},
     "output_type": "display_data"
    },
    {
     "data": {
      "application/vnd.plotly.v1+json": {
       "data": [
        {
         "colorscale": "RdBu",
         "showscale": false,
         "type": "heatmap",
         "x": [
          "running",
          "walking",
          "car",
          "bike",
          "upstairs",
          "downstairs"
         ],
         "y": [
          "running",
          "walking",
          "car",
          "bike",
          "upstairs",
          "downstairs"
         ],
         "z": [
          [
           88.32,
           4.21,
           3.5,
           0.23,
           1.64,
           2.1
          ],
          [
           6.1,
           75.59,
           4.23,
           1.41,
           8.45,
           4.23
          ],
          [
           2.54,
           3.11,
           87.15,
           1.27,
           4.38,
           1.55
          ],
          [
           8,
           20,
           4,
           56,
           0,
           12
          ],
          [
           8.26,
           18.18,
           14.05,
           3.31,
           55.37,
           0.83
          ],
          [
           17.78,
           28.89,
           8.89,
           8.89,
           11.11,
           24.44
          ]
         ]
        }
       ],
       "layout": {
        "annotations": [
         {
          "font": {
           "color": "#000000"
          },
          "showarrow": false,
          "text": "88.32",
          "x": "running",
          "xref": "x1",
          "y": "running",
          "yref": "y1"
         },
         {
          "font": {
           "color": "#FFFFFF"
          },
          "showarrow": false,
          "text": "4.21",
          "x": "walking",
          "xref": "x1",
          "y": "running",
          "yref": "y1"
         },
         {
          "font": {
           "color": "#FFFFFF"
          },
          "showarrow": false,
          "text": "3.5",
          "x": "car",
          "xref": "x1",
          "y": "running",
          "yref": "y1"
         },
         {
          "font": {
           "color": "#FFFFFF"
          },
          "showarrow": false,
          "text": "0.23",
          "x": "bike",
          "xref": "x1",
          "y": "running",
          "yref": "y1"
         },
         {
          "font": {
           "color": "#FFFFFF"
          },
          "showarrow": false,
          "text": "1.64",
          "x": "upstairs",
          "xref": "x1",
          "y": "running",
          "yref": "y1"
         },
         {
          "font": {
           "color": "#FFFFFF"
          },
          "showarrow": false,
          "text": "2.1",
          "x": "downstairs",
          "xref": "x1",
          "y": "running",
          "yref": "y1"
         },
         {
          "font": {
           "color": "#FFFFFF"
          },
          "showarrow": false,
          "text": "6.1",
          "x": "running",
          "xref": "x1",
          "y": "walking",
          "yref": "y1"
         },
         {
          "font": {
           "color": "#000000"
          },
          "showarrow": false,
          "text": "75.59",
          "x": "walking",
          "xref": "x1",
          "y": "walking",
          "yref": "y1"
         },
         {
          "font": {
           "color": "#FFFFFF"
          },
          "showarrow": false,
          "text": "4.23",
          "x": "car",
          "xref": "x1",
          "y": "walking",
          "yref": "y1"
         },
         {
          "font": {
           "color": "#FFFFFF"
          },
          "showarrow": false,
          "text": "1.41",
          "x": "bike",
          "xref": "x1",
          "y": "walking",
          "yref": "y1"
         },
         {
          "font": {
           "color": "#FFFFFF"
          },
          "showarrow": false,
          "text": "8.45",
          "x": "upstairs",
          "xref": "x1",
          "y": "walking",
          "yref": "y1"
         },
         {
          "font": {
           "color": "#FFFFFF"
          },
          "showarrow": false,
          "text": "4.23",
          "x": "downstairs",
          "xref": "x1",
          "y": "walking",
          "yref": "y1"
         },
         {
          "font": {
           "color": "#FFFFFF"
          },
          "showarrow": false,
          "text": "2.54",
          "x": "running",
          "xref": "x1",
          "y": "car",
          "yref": "y1"
         },
         {
          "font": {
           "color": "#FFFFFF"
          },
          "showarrow": false,
          "text": "3.11",
          "x": "walking",
          "xref": "x1",
          "y": "car",
          "yref": "y1"
         },
         {
          "font": {
           "color": "#000000"
          },
          "showarrow": false,
          "text": "87.15",
          "x": "car",
          "xref": "x1",
          "y": "car",
          "yref": "y1"
         },
         {
          "font": {
           "color": "#FFFFFF"
          },
          "showarrow": false,
          "text": "1.27",
          "x": "bike",
          "xref": "x1",
          "y": "car",
          "yref": "y1"
         },
         {
          "font": {
           "color": "#FFFFFF"
          },
          "showarrow": false,
          "text": "4.38",
          "x": "upstairs",
          "xref": "x1",
          "y": "car",
          "yref": "y1"
         },
         {
          "font": {
           "color": "#FFFFFF"
          },
          "showarrow": false,
          "text": "1.55",
          "x": "downstairs",
          "xref": "x1",
          "y": "car",
          "yref": "y1"
         },
         {
          "font": {
           "color": "#FFFFFF"
          },
          "showarrow": false,
          "text": "8.0",
          "x": "running",
          "xref": "x1",
          "y": "bike",
          "yref": "y1"
         },
         {
          "font": {
           "color": "#FFFFFF"
          },
          "showarrow": false,
          "text": "20.0",
          "x": "walking",
          "xref": "x1",
          "y": "bike",
          "yref": "y1"
         },
         {
          "font": {
           "color": "#FFFFFF"
          },
          "showarrow": false,
          "text": "4.0",
          "x": "car",
          "xref": "x1",
          "y": "bike",
          "yref": "y1"
         },
         {
          "font": {
           "color": "#000000"
          },
          "showarrow": false,
          "text": "56.0",
          "x": "bike",
          "xref": "x1",
          "y": "bike",
          "yref": "y1"
         },
         {
          "font": {
           "color": "#FFFFFF"
          },
          "showarrow": false,
          "text": "0.0",
          "x": "upstairs",
          "xref": "x1",
          "y": "bike",
          "yref": "y1"
         },
         {
          "font": {
           "color": "#FFFFFF"
          },
          "showarrow": false,
          "text": "12.0",
          "x": "downstairs",
          "xref": "x1",
          "y": "bike",
          "yref": "y1"
         },
         {
          "font": {
           "color": "#FFFFFF"
          },
          "showarrow": false,
          "text": "8.26",
          "x": "running",
          "xref": "x1",
          "y": "upstairs",
          "yref": "y1"
         },
         {
          "font": {
           "color": "#FFFFFF"
          },
          "showarrow": false,
          "text": "18.18",
          "x": "walking",
          "xref": "x1",
          "y": "upstairs",
          "yref": "y1"
         },
         {
          "font": {
           "color": "#FFFFFF"
          },
          "showarrow": false,
          "text": "14.05",
          "x": "car",
          "xref": "x1",
          "y": "upstairs",
          "yref": "y1"
         },
         {
          "font": {
           "color": "#FFFFFF"
          },
          "showarrow": false,
          "text": "3.31",
          "x": "bike",
          "xref": "x1",
          "y": "upstairs",
          "yref": "y1"
         },
         {
          "font": {
           "color": "#000000"
          },
          "showarrow": false,
          "text": "55.37",
          "x": "upstairs",
          "xref": "x1",
          "y": "upstairs",
          "yref": "y1"
         },
         {
          "font": {
           "color": "#FFFFFF"
          },
          "showarrow": false,
          "text": "0.83",
          "x": "downstairs",
          "xref": "x1",
          "y": "upstairs",
          "yref": "y1"
         },
         {
          "font": {
           "color": "#FFFFFF"
          },
          "showarrow": false,
          "text": "17.78",
          "x": "running",
          "xref": "x1",
          "y": "downstairs",
          "yref": "y1"
         },
         {
          "font": {
           "color": "#FFFFFF"
          },
          "showarrow": false,
          "text": "28.89",
          "x": "walking",
          "xref": "x1",
          "y": "downstairs",
          "yref": "y1"
         },
         {
          "font": {
           "color": "#FFFFFF"
          },
          "showarrow": false,
          "text": "8.89",
          "x": "car",
          "xref": "x1",
          "y": "downstairs",
          "yref": "y1"
         },
         {
          "font": {
           "color": "#FFFFFF"
          },
          "showarrow": false,
          "text": "8.89",
          "x": "bike",
          "xref": "x1",
          "y": "downstairs",
          "yref": "y1"
         },
         {
          "font": {
           "color": "#FFFFFF"
          },
          "showarrow": false,
          "text": "11.11",
          "x": "upstairs",
          "xref": "x1",
          "y": "downstairs",
          "yref": "y1"
         },
         {
          "font": {
           "color": "#FFFFFF"
          },
          "showarrow": false,
          "text": "24.44",
          "x": "downstairs",
          "xref": "x1",
          "y": "downstairs",
          "yref": "y1"
         }
        ],
        "title": "MLP - overall accuracy: 80.38%",
        "xaxis": {
         "dtick": 1,
         "gridcolor": "rgb(0, 0, 0)",
         "side": "top",
         "ticks": ""
        },
        "yaxis": {
         "dtick": 1,
         "ticks": "",
         "ticksuffix": "  "
        }
       }
      },
      "text/html": [
       "<div id=\"f1b28831-16db-4744-8029-9b74977bd9d2\" style=\"height: 525px; width: 100%;\" class=\"plotly-graph-div\"></div><script type=\"text/javascript\">require([\"plotly\"], function(Plotly) { window.PLOTLYENV=window.PLOTLYENV || {};window.PLOTLYENV.BASE_URL=\"https://plot.ly\";Plotly.newPlot(\"f1b28831-16db-4744-8029-9b74977bd9d2\", [{\"type\": \"heatmap\", \"z\": [[88.32, 4.21, 3.5, 0.23, 1.64, 2.1], [6.1, 75.59, 4.23, 1.41, 8.45, 4.23], [2.54, 3.11, 87.15, 1.27, 4.38, 1.55], [8.0, 20.0, 4.0, 56.0, 0.0, 12.0], [8.26, 18.18, 14.05, 3.31, 55.37, 0.83], [17.78, 28.89, 8.89, 8.89, 11.11, 24.44]], \"x\": [\"running\", \"walking\", \"car\", \"bike\", \"upstairs\", \"downstairs\"], \"y\": [\"running\", \"walking\", \"car\", \"bike\", \"upstairs\", \"downstairs\"], \"colorscale\": \"RdBu\", \"showscale\": false}], {\"annotations\": [{\"text\": \"88.32\", \"x\": \"running\", \"y\": \"running\", \"xref\": \"x1\", \"yref\": \"y1\", \"font\": {\"color\": \"#000000\"}, \"showarrow\": false}, {\"text\": \"4.21\", \"x\": \"walking\", \"y\": \"running\", \"xref\": \"x1\", \"yref\": \"y1\", \"font\": {\"color\": \"#FFFFFF\"}, \"showarrow\": false}, {\"text\": \"3.5\", \"x\": \"car\", \"y\": \"running\", \"xref\": \"x1\", \"yref\": \"y1\", \"font\": {\"color\": \"#FFFFFF\"}, \"showarrow\": false}, {\"text\": \"0.23\", \"x\": \"bike\", \"y\": \"running\", \"xref\": \"x1\", \"yref\": \"y1\", \"font\": {\"color\": \"#FFFFFF\"}, \"showarrow\": false}, {\"text\": \"1.64\", \"x\": \"upstairs\", \"y\": \"running\", \"xref\": \"x1\", \"yref\": \"y1\", \"font\": {\"color\": \"#FFFFFF\"}, \"showarrow\": false}, {\"text\": \"2.1\", \"x\": \"downstairs\", \"y\": \"running\", \"xref\": \"x1\", \"yref\": \"y1\", \"font\": {\"color\": \"#FFFFFF\"}, \"showarrow\": false}, {\"text\": \"6.1\", \"x\": \"running\", \"y\": \"walking\", \"xref\": \"x1\", \"yref\": \"y1\", \"font\": {\"color\": \"#FFFFFF\"}, \"showarrow\": false}, {\"text\": \"75.59\", \"x\": \"walking\", \"y\": \"walking\", \"xref\": \"x1\", \"yref\": \"y1\", \"font\": {\"color\": \"#000000\"}, \"showarrow\": false}, {\"text\": \"4.23\", \"x\": \"car\", \"y\": \"walking\", \"xref\": \"x1\", \"yref\": \"y1\", \"font\": {\"color\": \"#FFFFFF\"}, \"showarrow\": false}, {\"text\": \"1.41\", \"x\": \"bike\", \"y\": \"walking\", \"xref\": \"x1\", \"yref\": \"y1\", \"font\": {\"color\": \"#FFFFFF\"}, \"showarrow\": false}, {\"text\": \"8.45\", \"x\": \"upstairs\", \"y\": \"walking\", \"xref\": \"x1\", \"yref\": \"y1\", \"font\": {\"color\": \"#FFFFFF\"}, \"showarrow\": false}, {\"text\": \"4.23\", \"x\": \"downstairs\", \"y\": \"walking\", \"xref\": \"x1\", \"yref\": \"y1\", \"font\": {\"color\": \"#FFFFFF\"}, \"showarrow\": false}, {\"text\": \"2.54\", \"x\": \"running\", \"y\": \"car\", \"xref\": \"x1\", \"yref\": \"y1\", \"font\": {\"color\": \"#FFFFFF\"}, \"showarrow\": false}, {\"text\": \"3.11\", \"x\": \"walking\", \"y\": \"car\", \"xref\": \"x1\", \"yref\": \"y1\", \"font\": {\"color\": \"#FFFFFF\"}, \"showarrow\": false}, {\"text\": \"87.15\", \"x\": \"car\", \"y\": \"car\", \"xref\": \"x1\", \"yref\": \"y1\", \"font\": {\"color\": \"#000000\"}, \"showarrow\": false}, {\"text\": \"1.27\", \"x\": \"bike\", \"y\": \"car\", \"xref\": \"x1\", \"yref\": \"y1\", \"font\": {\"color\": \"#FFFFFF\"}, \"showarrow\": false}, {\"text\": \"4.38\", \"x\": \"upstairs\", \"y\": \"car\", \"xref\": \"x1\", \"yref\": \"y1\", \"font\": {\"color\": \"#FFFFFF\"}, \"showarrow\": false}, {\"text\": \"1.55\", \"x\": \"downstairs\", \"y\": \"car\", \"xref\": \"x1\", \"yref\": \"y1\", \"font\": {\"color\": \"#FFFFFF\"}, \"showarrow\": false}, {\"text\": \"8.0\", \"x\": \"running\", \"y\": \"bike\", \"xref\": \"x1\", \"yref\": \"y1\", \"font\": {\"color\": \"#FFFFFF\"}, \"showarrow\": false}, {\"text\": \"20.0\", \"x\": \"walking\", \"y\": \"bike\", \"xref\": \"x1\", \"yref\": \"y1\", \"font\": {\"color\": \"#FFFFFF\"}, \"showarrow\": false}, {\"text\": \"4.0\", \"x\": \"car\", \"y\": \"bike\", \"xref\": \"x1\", \"yref\": \"y1\", \"font\": {\"color\": \"#FFFFFF\"}, \"showarrow\": false}, {\"text\": \"56.0\", \"x\": \"bike\", \"y\": \"bike\", \"xref\": \"x1\", \"yref\": \"y1\", \"font\": {\"color\": \"#000000\"}, \"showarrow\": false}, {\"text\": \"0.0\", \"x\": \"upstairs\", \"y\": \"bike\", \"xref\": \"x1\", \"yref\": \"y1\", \"font\": {\"color\": \"#FFFFFF\"}, \"showarrow\": false}, {\"text\": \"12.0\", \"x\": \"downstairs\", \"y\": \"bike\", \"xref\": \"x1\", \"yref\": \"y1\", \"font\": {\"color\": \"#FFFFFF\"}, \"showarrow\": false}, {\"text\": \"8.26\", \"x\": \"running\", \"y\": \"upstairs\", \"xref\": \"x1\", \"yref\": \"y1\", \"font\": {\"color\": \"#FFFFFF\"}, \"showarrow\": false}, {\"text\": \"18.18\", \"x\": \"walking\", \"y\": \"upstairs\", \"xref\": \"x1\", \"yref\": \"y1\", \"font\": {\"color\": \"#FFFFFF\"}, \"showarrow\": false}, {\"text\": \"14.05\", \"x\": \"car\", \"y\": \"upstairs\", \"xref\": \"x1\", \"yref\": \"y1\", \"font\": {\"color\": \"#FFFFFF\"}, \"showarrow\": false}, {\"text\": \"3.31\", \"x\": \"bike\", \"y\": \"upstairs\", \"xref\": \"x1\", \"yref\": \"y1\", \"font\": {\"color\": \"#FFFFFF\"}, \"showarrow\": false}, {\"text\": \"55.37\", \"x\": \"upstairs\", \"y\": \"upstairs\", \"xref\": \"x1\", \"yref\": \"y1\", \"font\": {\"color\": \"#000000\"}, \"showarrow\": false}, {\"text\": \"0.83\", \"x\": \"downstairs\", \"y\": \"upstairs\", \"xref\": \"x1\", \"yref\": \"y1\", \"font\": {\"color\": \"#FFFFFF\"}, \"showarrow\": false}, {\"text\": \"17.78\", \"x\": \"running\", \"y\": \"downstairs\", \"xref\": \"x1\", \"yref\": \"y1\", \"font\": {\"color\": \"#FFFFFF\"}, \"showarrow\": false}, {\"text\": \"28.89\", \"x\": \"walking\", \"y\": \"downstairs\", \"xref\": \"x1\", \"yref\": \"y1\", \"font\": {\"color\": \"#FFFFFF\"}, \"showarrow\": false}, {\"text\": \"8.89\", \"x\": \"car\", \"y\": \"downstairs\", \"xref\": \"x1\", \"yref\": \"y1\", \"font\": {\"color\": \"#FFFFFF\"}, \"showarrow\": false}, {\"text\": \"8.89\", \"x\": \"bike\", \"y\": \"downstairs\", \"xref\": \"x1\", \"yref\": \"y1\", \"font\": {\"color\": \"#FFFFFF\"}, \"showarrow\": false}, {\"text\": \"11.11\", \"x\": \"upstairs\", \"y\": \"downstairs\", \"xref\": \"x1\", \"yref\": \"y1\", \"font\": {\"color\": \"#FFFFFF\"}, \"showarrow\": false}, {\"text\": \"24.44\", \"x\": \"downstairs\", \"y\": \"downstairs\", \"xref\": \"x1\", \"yref\": \"y1\", \"font\": {\"color\": \"#FFFFFF\"}, \"showarrow\": false}], \"xaxis\": {\"ticks\": \"\", \"dtick\": 1, \"side\": \"top\", \"gridcolor\": \"rgb(0, 0, 0)\"}, \"yaxis\": {\"ticks\": \"\", \"dtick\": 1, \"ticksuffix\": \"  \"}, \"title\": \"MLP - overall accuracy: 80.38%\"}, {\"showLink\": true, \"linkText\": \"Export to plot.ly\"})});</script>"
      ],
      "text/vnd.plotly.v1+html": [
       "<div id=\"f1b28831-16db-4744-8029-9b74977bd9d2\" style=\"height: 525px; width: 100%;\" class=\"plotly-graph-div\"></div><script type=\"text/javascript\">require([\"plotly\"], function(Plotly) { window.PLOTLYENV=window.PLOTLYENV || {};window.PLOTLYENV.BASE_URL=\"https://plot.ly\";Plotly.newPlot(\"f1b28831-16db-4744-8029-9b74977bd9d2\", [{\"type\": \"heatmap\", \"z\": [[88.32, 4.21, 3.5, 0.23, 1.64, 2.1], [6.1, 75.59, 4.23, 1.41, 8.45, 4.23], [2.54, 3.11, 87.15, 1.27, 4.38, 1.55], [8.0, 20.0, 4.0, 56.0, 0.0, 12.0], [8.26, 18.18, 14.05, 3.31, 55.37, 0.83], [17.78, 28.89, 8.89, 8.89, 11.11, 24.44]], \"x\": [\"running\", \"walking\", \"car\", \"bike\", \"upstairs\", \"downstairs\"], \"y\": [\"running\", \"walking\", \"car\", \"bike\", \"upstairs\", \"downstairs\"], \"colorscale\": \"RdBu\", \"showscale\": false}], {\"annotations\": [{\"text\": \"88.32\", \"x\": \"running\", \"y\": \"running\", \"xref\": \"x1\", \"yref\": \"y1\", \"font\": {\"color\": \"#000000\"}, \"showarrow\": false}, {\"text\": \"4.21\", \"x\": \"walking\", \"y\": \"running\", \"xref\": \"x1\", \"yref\": \"y1\", \"font\": {\"color\": \"#FFFFFF\"}, \"showarrow\": false}, {\"text\": \"3.5\", \"x\": \"car\", \"y\": \"running\", \"xref\": \"x1\", \"yref\": \"y1\", \"font\": {\"color\": \"#FFFFFF\"}, \"showarrow\": false}, {\"text\": \"0.23\", \"x\": \"bike\", \"y\": \"running\", \"xref\": \"x1\", \"yref\": \"y1\", \"font\": {\"color\": \"#FFFFFF\"}, \"showarrow\": false}, {\"text\": \"1.64\", \"x\": \"upstairs\", \"y\": \"running\", \"xref\": \"x1\", \"yref\": \"y1\", \"font\": {\"color\": \"#FFFFFF\"}, \"showarrow\": false}, {\"text\": \"2.1\", \"x\": \"downstairs\", \"y\": \"running\", \"xref\": \"x1\", \"yref\": \"y1\", \"font\": {\"color\": \"#FFFFFF\"}, \"showarrow\": false}, {\"text\": \"6.1\", \"x\": \"running\", \"y\": \"walking\", \"xref\": \"x1\", \"yref\": \"y1\", \"font\": {\"color\": \"#FFFFFF\"}, \"showarrow\": false}, {\"text\": \"75.59\", \"x\": \"walking\", \"y\": \"walking\", \"xref\": \"x1\", \"yref\": \"y1\", \"font\": {\"color\": \"#000000\"}, \"showarrow\": false}, {\"text\": \"4.23\", \"x\": \"car\", \"y\": \"walking\", \"xref\": \"x1\", \"yref\": \"y1\", \"font\": {\"color\": \"#FFFFFF\"}, \"showarrow\": false}, {\"text\": \"1.41\", \"x\": \"bike\", \"y\": \"walking\", \"xref\": \"x1\", \"yref\": \"y1\", \"font\": {\"color\": \"#FFFFFF\"}, \"showarrow\": false}, {\"text\": \"8.45\", \"x\": \"upstairs\", \"y\": \"walking\", \"xref\": \"x1\", \"yref\": \"y1\", \"font\": {\"color\": \"#FFFFFF\"}, \"showarrow\": false}, {\"text\": \"4.23\", \"x\": \"downstairs\", \"y\": \"walking\", \"xref\": \"x1\", \"yref\": \"y1\", \"font\": {\"color\": \"#FFFFFF\"}, \"showarrow\": false}, {\"text\": \"2.54\", \"x\": \"running\", \"y\": \"car\", \"xref\": \"x1\", \"yref\": \"y1\", \"font\": {\"color\": \"#FFFFFF\"}, \"showarrow\": false}, {\"text\": \"3.11\", \"x\": \"walking\", \"y\": \"car\", \"xref\": \"x1\", \"yref\": \"y1\", \"font\": {\"color\": \"#FFFFFF\"}, \"showarrow\": false}, {\"text\": \"87.15\", \"x\": \"car\", \"y\": \"car\", \"xref\": \"x1\", \"yref\": \"y1\", \"font\": {\"color\": \"#000000\"}, \"showarrow\": false}, {\"text\": \"1.27\", \"x\": \"bike\", \"y\": \"car\", \"xref\": \"x1\", \"yref\": \"y1\", \"font\": {\"color\": \"#FFFFFF\"}, \"showarrow\": false}, {\"text\": \"4.38\", \"x\": \"upstairs\", \"y\": \"car\", \"xref\": \"x1\", \"yref\": \"y1\", \"font\": {\"color\": \"#FFFFFF\"}, \"showarrow\": false}, {\"text\": \"1.55\", \"x\": \"downstairs\", \"y\": \"car\", \"xref\": \"x1\", \"yref\": \"y1\", \"font\": {\"color\": \"#FFFFFF\"}, \"showarrow\": false}, {\"text\": \"8.0\", \"x\": \"running\", \"y\": \"bike\", \"xref\": \"x1\", \"yref\": \"y1\", \"font\": {\"color\": \"#FFFFFF\"}, \"showarrow\": false}, {\"text\": \"20.0\", \"x\": \"walking\", \"y\": \"bike\", \"xref\": \"x1\", \"yref\": \"y1\", \"font\": {\"color\": \"#FFFFFF\"}, \"showarrow\": false}, {\"text\": \"4.0\", \"x\": \"car\", \"y\": \"bike\", \"xref\": \"x1\", \"yref\": \"y1\", \"font\": {\"color\": \"#FFFFFF\"}, \"showarrow\": false}, {\"text\": \"56.0\", \"x\": \"bike\", \"y\": \"bike\", \"xref\": \"x1\", \"yref\": \"y1\", \"font\": {\"color\": \"#000000\"}, \"showarrow\": false}, {\"text\": \"0.0\", \"x\": \"upstairs\", \"y\": \"bike\", \"xref\": \"x1\", \"yref\": \"y1\", \"font\": {\"color\": \"#FFFFFF\"}, \"showarrow\": false}, {\"text\": \"12.0\", \"x\": \"downstairs\", \"y\": \"bike\", \"xref\": \"x1\", \"yref\": \"y1\", \"font\": {\"color\": \"#FFFFFF\"}, \"showarrow\": false}, {\"text\": \"8.26\", \"x\": \"running\", \"y\": \"upstairs\", \"xref\": \"x1\", \"yref\": \"y1\", \"font\": {\"color\": \"#FFFFFF\"}, \"showarrow\": false}, {\"text\": \"18.18\", \"x\": \"walking\", \"y\": \"upstairs\", \"xref\": \"x1\", \"yref\": \"y1\", \"font\": {\"color\": \"#FFFFFF\"}, \"showarrow\": false}, {\"text\": \"14.05\", \"x\": \"car\", \"y\": \"upstairs\", \"xref\": \"x1\", \"yref\": \"y1\", \"font\": {\"color\": \"#FFFFFF\"}, \"showarrow\": false}, {\"text\": \"3.31\", \"x\": \"bike\", \"y\": \"upstairs\", \"xref\": \"x1\", \"yref\": \"y1\", \"font\": {\"color\": \"#FFFFFF\"}, \"showarrow\": false}, {\"text\": \"55.37\", \"x\": \"upstairs\", \"y\": \"upstairs\", \"xref\": \"x1\", \"yref\": \"y1\", \"font\": {\"color\": \"#000000\"}, \"showarrow\": false}, {\"text\": \"0.83\", \"x\": \"downstairs\", \"y\": \"upstairs\", \"xref\": \"x1\", \"yref\": \"y1\", \"font\": {\"color\": \"#FFFFFF\"}, \"showarrow\": false}, {\"text\": \"17.78\", \"x\": \"running\", \"y\": \"downstairs\", \"xref\": \"x1\", \"yref\": \"y1\", \"font\": {\"color\": \"#FFFFFF\"}, \"showarrow\": false}, {\"text\": \"28.89\", \"x\": \"walking\", \"y\": \"downstairs\", \"xref\": \"x1\", \"yref\": \"y1\", \"font\": {\"color\": \"#FFFFFF\"}, \"showarrow\": false}, {\"text\": \"8.89\", \"x\": \"car\", \"y\": \"downstairs\", \"xref\": \"x1\", \"yref\": \"y1\", \"font\": {\"color\": \"#FFFFFF\"}, \"showarrow\": false}, {\"text\": \"8.89\", \"x\": \"bike\", \"y\": \"downstairs\", \"xref\": \"x1\", \"yref\": \"y1\", \"font\": {\"color\": \"#FFFFFF\"}, \"showarrow\": false}, {\"text\": \"11.11\", \"x\": \"upstairs\", \"y\": \"downstairs\", \"xref\": \"x1\", \"yref\": \"y1\", \"font\": {\"color\": \"#FFFFFF\"}, \"showarrow\": false}, {\"text\": \"24.44\", \"x\": \"downstairs\", \"y\": \"downstairs\", \"xref\": \"x1\", \"yref\": \"y1\", \"font\": {\"color\": \"#FFFFFF\"}, \"showarrow\": false}], \"xaxis\": {\"ticks\": \"\", \"dtick\": 1, \"side\": \"top\", \"gridcolor\": \"rgb(0, 0, 0)\"}, \"yaxis\": {\"ticks\": \"\", \"dtick\": 1, \"ticksuffix\": \"  \"}, \"title\": \"MLP - overall accuracy: 80.38%\"}, {\"showLink\": true, \"linkText\": \"Export to plot.ly\"})});</script>"
      ]
     },
     "metadata": {},
     "output_type": "display_data"
    },
    {
     "data": {
      "application/vnd.plotly.v1+json": {
       "data": [
        {
         "colorscale": "RdBu",
         "showscale": false,
         "type": "heatmap",
         "x": [
          "running",
          "walking",
          "car",
          "bike",
          "upstairs",
          "downstairs"
         ],
         "y": [
          "running",
          "walking",
          "car",
          "bike",
          "upstairs",
          "downstairs"
         ],
         "z": [
          [
           91.59,
           6.78,
           1.17,
           0,
           0.23,
           0.23
          ],
          [
           8.22,
           88.03,
           2.82,
           0,
           0.94,
           0
          ],
          [
           8.33,
           8.19,
           81.07,
           0.42,
           1.84,
           0.14
          ],
          [
           28,
           40,
           8,
           24,
           0,
           0
          ],
          [
           19.01,
           33.88,
           5.79,
           0,
           41.32,
           0
          ],
          [
           33.33,
           57.78,
           0,
           0,
           2.22,
           6.67
          ]
         ]
        }
       ],
       "layout": {
        "annotations": [
         {
          "font": {
           "color": "#000000"
          },
          "showarrow": false,
          "text": "91.59",
          "x": "running",
          "xref": "x1",
          "y": "running",
          "yref": "y1"
         },
         {
          "font": {
           "color": "#FFFFFF"
          },
          "showarrow": false,
          "text": "6.78",
          "x": "walking",
          "xref": "x1",
          "y": "running",
          "yref": "y1"
         },
         {
          "font": {
           "color": "#FFFFFF"
          },
          "showarrow": false,
          "text": "1.17",
          "x": "car",
          "xref": "x1",
          "y": "running",
          "yref": "y1"
         },
         {
          "font": {
           "color": "#FFFFFF"
          },
          "showarrow": false,
          "text": "0.0",
          "x": "bike",
          "xref": "x1",
          "y": "running",
          "yref": "y1"
         },
         {
          "font": {
           "color": "#FFFFFF"
          },
          "showarrow": false,
          "text": "0.23",
          "x": "upstairs",
          "xref": "x1",
          "y": "running",
          "yref": "y1"
         },
         {
          "font": {
           "color": "#FFFFFF"
          },
          "showarrow": false,
          "text": "0.23",
          "x": "downstairs",
          "xref": "x1",
          "y": "running",
          "yref": "y1"
         },
         {
          "font": {
           "color": "#FFFFFF"
          },
          "showarrow": false,
          "text": "8.22",
          "x": "running",
          "xref": "x1",
          "y": "walking",
          "yref": "y1"
         },
         {
          "font": {
           "color": "#000000"
          },
          "showarrow": false,
          "text": "88.03",
          "x": "walking",
          "xref": "x1",
          "y": "walking",
          "yref": "y1"
         },
         {
          "font": {
           "color": "#FFFFFF"
          },
          "showarrow": false,
          "text": "2.82",
          "x": "car",
          "xref": "x1",
          "y": "walking",
          "yref": "y1"
         },
         {
          "font": {
           "color": "#FFFFFF"
          },
          "showarrow": false,
          "text": "0.0",
          "x": "bike",
          "xref": "x1",
          "y": "walking",
          "yref": "y1"
         },
         {
          "font": {
           "color": "#FFFFFF"
          },
          "showarrow": false,
          "text": "0.94",
          "x": "upstairs",
          "xref": "x1",
          "y": "walking",
          "yref": "y1"
         },
         {
          "font": {
           "color": "#FFFFFF"
          },
          "showarrow": false,
          "text": "0.0",
          "x": "downstairs",
          "xref": "x1",
          "y": "walking",
          "yref": "y1"
         },
         {
          "font": {
           "color": "#FFFFFF"
          },
          "showarrow": false,
          "text": "8.33",
          "x": "running",
          "xref": "x1",
          "y": "car",
          "yref": "y1"
         },
         {
          "font": {
           "color": "#FFFFFF"
          },
          "showarrow": false,
          "text": "8.19",
          "x": "walking",
          "xref": "x1",
          "y": "car",
          "yref": "y1"
         },
         {
          "font": {
           "color": "#000000"
          },
          "showarrow": false,
          "text": "81.07",
          "x": "car",
          "xref": "x1",
          "y": "car",
          "yref": "y1"
         },
         {
          "font": {
           "color": "#FFFFFF"
          },
          "showarrow": false,
          "text": "0.42",
          "x": "bike",
          "xref": "x1",
          "y": "car",
          "yref": "y1"
         },
         {
          "font": {
           "color": "#FFFFFF"
          },
          "showarrow": false,
          "text": "1.84",
          "x": "upstairs",
          "xref": "x1",
          "y": "car",
          "yref": "y1"
         },
         {
          "font": {
           "color": "#FFFFFF"
          },
          "showarrow": false,
          "text": "0.14",
          "x": "downstairs",
          "xref": "x1",
          "y": "car",
          "yref": "y1"
         },
         {
          "font": {
           "color": "#FFFFFF"
          },
          "showarrow": false,
          "text": "28.0",
          "x": "running",
          "xref": "x1",
          "y": "bike",
          "yref": "y1"
         },
         {
          "font": {
           "color": "#FFFFFF"
          },
          "showarrow": false,
          "text": "40.0",
          "x": "walking",
          "xref": "x1",
          "y": "bike",
          "yref": "y1"
         },
         {
          "font": {
           "color": "#FFFFFF"
          },
          "showarrow": false,
          "text": "8.0",
          "x": "car",
          "xref": "x1",
          "y": "bike",
          "yref": "y1"
         },
         {
          "font": {
           "color": "#FFFFFF"
          },
          "showarrow": false,
          "text": "24.0",
          "x": "bike",
          "xref": "x1",
          "y": "bike",
          "yref": "y1"
         },
         {
          "font": {
           "color": "#FFFFFF"
          },
          "showarrow": false,
          "text": "0.0",
          "x": "upstairs",
          "xref": "x1",
          "y": "bike",
          "yref": "y1"
         },
         {
          "font": {
           "color": "#FFFFFF"
          },
          "showarrow": false,
          "text": "0.0",
          "x": "downstairs",
          "xref": "x1",
          "y": "bike",
          "yref": "y1"
         },
         {
          "font": {
           "color": "#FFFFFF"
          },
          "showarrow": false,
          "text": "19.01",
          "x": "running",
          "xref": "x1",
          "y": "upstairs",
          "yref": "y1"
         },
         {
          "font": {
           "color": "#FFFFFF"
          },
          "showarrow": false,
          "text": "33.88",
          "x": "walking",
          "xref": "x1",
          "y": "upstairs",
          "yref": "y1"
         },
         {
          "font": {
           "color": "#FFFFFF"
          },
          "showarrow": false,
          "text": "5.79",
          "x": "car",
          "xref": "x1",
          "y": "upstairs",
          "yref": "y1"
         },
         {
          "font": {
           "color": "#FFFFFF"
          },
          "showarrow": false,
          "text": "0.0",
          "x": "bike",
          "xref": "x1",
          "y": "upstairs",
          "yref": "y1"
         },
         {
          "font": {
           "color": "#FFFFFF"
          },
          "showarrow": false,
          "text": "41.32",
          "x": "upstairs",
          "xref": "x1",
          "y": "upstairs",
          "yref": "y1"
         },
         {
          "font": {
           "color": "#FFFFFF"
          },
          "showarrow": false,
          "text": "0.0",
          "x": "downstairs",
          "xref": "x1",
          "y": "upstairs",
          "yref": "y1"
         },
         {
          "font": {
           "color": "#FFFFFF"
          },
          "showarrow": false,
          "text": "33.33",
          "x": "running",
          "xref": "x1",
          "y": "downstairs",
          "yref": "y1"
         },
         {
          "font": {
           "color": "#000000"
          },
          "showarrow": false,
          "text": "57.78",
          "x": "walking",
          "xref": "x1",
          "y": "downstairs",
          "yref": "y1"
         },
         {
          "font": {
           "color": "#FFFFFF"
          },
          "showarrow": false,
          "text": "0.0",
          "x": "car",
          "xref": "x1",
          "y": "downstairs",
          "yref": "y1"
         },
         {
          "font": {
           "color": "#FFFFFF"
          },
          "showarrow": false,
          "text": "0.0",
          "x": "bike",
          "xref": "x1",
          "y": "downstairs",
          "yref": "y1"
         },
         {
          "font": {
           "color": "#FFFFFF"
          },
          "showarrow": false,
          "text": "2.22",
          "x": "upstairs",
          "xref": "x1",
          "y": "downstairs",
          "yref": "y1"
         },
         {
          "font": {
           "color": "#FFFFFF"
          },
          "showarrow": false,
          "text": "6.67",
          "x": "downstairs",
          "xref": "x1",
          "y": "downstairs",
          "yref": "y1"
         }
        ],
        "title": "KNN - overall accuracy: 79.86%",
        "xaxis": {
         "dtick": 1,
         "gridcolor": "rgb(0, 0, 0)",
         "side": "top",
         "ticks": ""
        },
        "yaxis": {
         "dtick": 1,
         "ticks": "",
         "ticksuffix": "  "
        }
       }
      },
      "text/html": [
       "<div id=\"4ae08c88-bbf4-4b9a-a6ce-bd96b43297f0\" style=\"height: 525px; width: 100%;\" class=\"plotly-graph-div\"></div><script type=\"text/javascript\">require([\"plotly\"], function(Plotly) { window.PLOTLYENV=window.PLOTLYENV || {};window.PLOTLYENV.BASE_URL=\"https://plot.ly\";Plotly.newPlot(\"4ae08c88-bbf4-4b9a-a6ce-bd96b43297f0\", [{\"type\": \"heatmap\", \"z\": [[91.59, 6.78, 1.17, 0.0, 0.23, 0.23], [8.22, 88.03, 2.82, 0.0, 0.94, 0.0], [8.33, 8.19, 81.07, 0.42, 1.84, 0.14], [28.0, 40.0, 8.0, 24.0, 0.0, 0.0], [19.01, 33.88, 5.79, 0.0, 41.32, 0.0], [33.33, 57.78, 0.0, 0.0, 2.22, 6.67]], \"x\": [\"running\", \"walking\", \"car\", \"bike\", \"upstairs\", \"downstairs\"], \"y\": [\"running\", \"walking\", \"car\", \"bike\", \"upstairs\", \"downstairs\"], \"colorscale\": \"RdBu\", \"showscale\": false}], {\"annotations\": [{\"text\": \"91.59\", \"x\": \"running\", \"y\": \"running\", \"xref\": \"x1\", \"yref\": \"y1\", \"font\": {\"color\": \"#000000\"}, \"showarrow\": false}, {\"text\": \"6.78\", \"x\": \"walking\", \"y\": \"running\", \"xref\": \"x1\", \"yref\": \"y1\", \"font\": {\"color\": \"#FFFFFF\"}, \"showarrow\": false}, {\"text\": \"1.17\", \"x\": \"car\", \"y\": \"running\", \"xref\": \"x1\", \"yref\": \"y1\", \"font\": {\"color\": \"#FFFFFF\"}, \"showarrow\": false}, {\"text\": \"0.0\", \"x\": \"bike\", \"y\": \"running\", \"xref\": \"x1\", \"yref\": \"y1\", \"font\": {\"color\": \"#FFFFFF\"}, \"showarrow\": false}, {\"text\": \"0.23\", \"x\": \"upstairs\", \"y\": \"running\", \"xref\": \"x1\", \"yref\": \"y1\", \"font\": {\"color\": \"#FFFFFF\"}, \"showarrow\": false}, {\"text\": \"0.23\", \"x\": \"downstairs\", \"y\": \"running\", \"xref\": \"x1\", \"yref\": \"y1\", \"font\": {\"color\": \"#FFFFFF\"}, \"showarrow\": false}, {\"text\": \"8.22\", \"x\": \"running\", \"y\": \"walking\", \"xref\": \"x1\", \"yref\": \"y1\", \"font\": {\"color\": \"#FFFFFF\"}, \"showarrow\": false}, {\"text\": \"88.03\", \"x\": \"walking\", \"y\": \"walking\", \"xref\": \"x1\", \"yref\": \"y1\", \"font\": {\"color\": \"#000000\"}, \"showarrow\": false}, {\"text\": \"2.82\", \"x\": \"car\", \"y\": \"walking\", \"xref\": \"x1\", \"yref\": \"y1\", \"font\": {\"color\": \"#FFFFFF\"}, \"showarrow\": false}, {\"text\": \"0.0\", \"x\": \"bike\", \"y\": \"walking\", \"xref\": \"x1\", \"yref\": \"y1\", \"font\": {\"color\": \"#FFFFFF\"}, \"showarrow\": false}, {\"text\": \"0.94\", \"x\": \"upstairs\", \"y\": \"walking\", \"xref\": \"x1\", \"yref\": \"y1\", \"font\": {\"color\": \"#FFFFFF\"}, \"showarrow\": false}, {\"text\": \"0.0\", \"x\": \"downstairs\", \"y\": \"walking\", \"xref\": \"x1\", \"yref\": \"y1\", \"font\": {\"color\": \"#FFFFFF\"}, \"showarrow\": false}, {\"text\": \"8.33\", \"x\": \"running\", \"y\": \"car\", \"xref\": \"x1\", \"yref\": \"y1\", \"font\": {\"color\": \"#FFFFFF\"}, \"showarrow\": false}, {\"text\": \"8.19\", \"x\": \"walking\", \"y\": \"car\", \"xref\": \"x1\", \"yref\": \"y1\", \"font\": {\"color\": \"#FFFFFF\"}, \"showarrow\": false}, {\"text\": \"81.07\", \"x\": \"car\", \"y\": \"car\", \"xref\": \"x1\", \"yref\": \"y1\", \"font\": {\"color\": \"#000000\"}, \"showarrow\": false}, {\"text\": \"0.42\", \"x\": \"bike\", \"y\": \"car\", \"xref\": \"x1\", \"yref\": \"y1\", \"font\": {\"color\": \"#FFFFFF\"}, \"showarrow\": false}, {\"text\": \"1.84\", \"x\": \"upstairs\", \"y\": \"car\", \"xref\": \"x1\", \"yref\": \"y1\", \"font\": {\"color\": \"#FFFFFF\"}, \"showarrow\": false}, {\"text\": \"0.14\", \"x\": \"downstairs\", \"y\": \"car\", \"xref\": \"x1\", \"yref\": \"y1\", \"font\": {\"color\": \"#FFFFFF\"}, \"showarrow\": false}, {\"text\": \"28.0\", \"x\": \"running\", \"y\": \"bike\", \"xref\": \"x1\", \"yref\": \"y1\", \"font\": {\"color\": \"#FFFFFF\"}, \"showarrow\": false}, {\"text\": \"40.0\", \"x\": \"walking\", \"y\": \"bike\", \"xref\": \"x1\", \"yref\": \"y1\", \"font\": {\"color\": \"#FFFFFF\"}, \"showarrow\": false}, {\"text\": \"8.0\", \"x\": \"car\", \"y\": \"bike\", \"xref\": \"x1\", \"yref\": \"y1\", \"font\": {\"color\": \"#FFFFFF\"}, \"showarrow\": false}, {\"text\": \"24.0\", \"x\": \"bike\", \"y\": \"bike\", \"xref\": \"x1\", \"yref\": \"y1\", \"font\": {\"color\": \"#FFFFFF\"}, \"showarrow\": false}, {\"text\": \"0.0\", \"x\": \"upstairs\", \"y\": \"bike\", \"xref\": \"x1\", \"yref\": \"y1\", \"font\": {\"color\": \"#FFFFFF\"}, \"showarrow\": false}, {\"text\": \"0.0\", \"x\": \"downstairs\", \"y\": \"bike\", \"xref\": \"x1\", \"yref\": \"y1\", \"font\": {\"color\": \"#FFFFFF\"}, \"showarrow\": false}, {\"text\": \"19.01\", \"x\": \"running\", \"y\": \"upstairs\", \"xref\": \"x1\", \"yref\": \"y1\", \"font\": {\"color\": \"#FFFFFF\"}, \"showarrow\": false}, {\"text\": \"33.88\", \"x\": \"walking\", \"y\": \"upstairs\", \"xref\": \"x1\", \"yref\": \"y1\", \"font\": {\"color\": \"#FFFFFF\"}, \"showarrow\": false}, {\"text\": \"5.79\", \"x\": \"car\", \"y\": \"upstairs\", \"xref\": \"x1\", \"yref\": \"y1\", \"font\": {\"color\": \"#FFFFFF\"}, \"showarrow\": false}, {\"text\": \"0.0\", \"x\": \"bike\", \"y\": \"upstairs\", \"xref\": \"x1\", \"yref\": \"y1\", \"font\": {\"color\": \"#FFFFFF\"}, \"showarrow\": false}, {\"text\": \"41.32\", \"x\": \"upstairs\", \"y\": \"upstairs\", \"xref\": \"x1\", \"yref\": \"y1\", \"font\": {\"color\": \"#FFFFFF\"}, \"showarrow\": false}, {\"text\": \"0.0\", \"x\": \"downstairs\", \"y\": \"upstairs\", \"xref\": \"x1\", \"yref\": \"y1\", \"font\": {\"color\": \"#FFFFFF\"}, \"showarrow\": false}, {\"text\": \"33.33\", \"x\": \"running\", \"y\": \"downstairs\", \"xref\": \"x1\", \"yref\": \"y1\", \"font\": {\"color\": \"#FFFFFF\"}, \"showarrow\": false}, {\"text\": \"57.78\", \"x\": \"walking\", \"y\": \"downstairs\", \"xref\": \"x1\", \"yref\": \"y1\", \"font\": {\"color\": \"#000000\"}, \"showarrow\": false}, {\"text\": \"0.0\", \"x\": \"car\", \"y\": \"downstairs\", \"xref\": \"x1\", \"yref\": \"y1\", \"font\": {\"color\": \"#FFFFFF\"}, \"showarrow\": false}, {\"text\": \"0.0\", \"x\": \"bike\", \"y\": \"downstairs\", \"xref\": \"x1\", \"yref\": \"y1\", \"font\": {\"color\": \"#FFFFFF\"}, \"showarrow\": false}, {\"text\": \"2.22\", \"x\": \"upstairs\", \"y\": \"downstairs\", \"xref\": \"x1\", \"yref\": \"y1\", \"font\": {\"color\": \"#FFFFFF\"}, \"showarrow\": false}, {\"text\": \"6.67\", \"x\": \"downstairs\", \"y\": \"downstairs\", \"xref\": \"x1\", \"yref\": \"y1\", \"font\": {\"color\": \"#FFFFFF\"}, \"showarrow\": false}], \"xaxis\": {\"ticks\": \"\", \"dtick\": 1, \"side\": \"top\", \"gridcolor\": \"rgb(0, 0, 0)\"}, \"yaxis\": {\"ticks\": \"\", \"dtick\": 1, \"ticksuffix\": \"  \"}, \"title\": \"KNN - overall accuracy: 79.86%\"}, {\"showLink\": true, \"linkText\": \"Export to plot.ly\"})});</script>"
      ],
      "text/vnd.plotly.v1+html": [
       "<div id=\"4ae08c88-bbf4-4b9a-a6ce-bd96b43297f0\" style=\"height: 525px; width: 100%;\" class=\"plotly-graph-div\"></div><script type=\"text/javascript\">require([\"plotly\"], function(Plotly) { window.PLOTLYENV=window.PLOTLYENV || {};window.PLOTLYENV.BASE_URL=\"https://plot.ly\";Plotly.newPlot(\"4ae08c88-bbf4-4b9a-a6ce-bd96b43297f0\", [{\"type\": \"heatmap\", \"z\": [[91.59, 6.78, 1.17, 0.0, 0.23, 0.23], [8.22, 88.03, 2.82, 0.0, 0.94, 0.0], [8.33, 8.19, 81.07, 0.42, 1.84, 0.14], [28.0, 40.0, 8.0, 24.0, 0.0, 0.0], [19.01, 33.88, 5.79, 0.0, 41.32, 0.0], [33.33, 57.78, 0.0, 0.0, 2.22, 6.67]], \"x\": [\"running\", \"walking\", \"car\", \"bike\", \"upstairs\", \"downstairs\"], \"y\": [\"running\", \"walking\", \"car\", \"bike\", \"upstairs\", \"downstairs\"], \"colorscale\": \"RdBu\", \"showscale\": false}], {\"annotations\": [{\"text\": \"91.59\", \"x\": \"running\", \"y\": \"running\", \"xref\": \"x1\", \"yref\": \"y1\", \"font\": {\"color\": \"#000000\"}, \"showarrow\": false}, {\"text\": \"6.78\", \"x\": \"walking\", \"y\": \"running\", \"xref\": \"x1\", \"yref\": \"y1\", \"font\": {\"color\": \"#FFFFFF\"}, \"showarrow\": false}, {\"text\": \"1.17\", \"x\": \"car\", \"y\": \"running\", \"xref\": \"x1\", \"yref\": \"y1\", \"font\": {\"color\": \"#FFFFFF\"}, \"showarrow\": false}, {\"text\": \"0.0\", \"x\": \"bike\", \"y\": \"running\", \"xref\": \"x1\", \"yref\": \"y1\", \"font\": {\"color\": \"#FFFFFF\"}, \"showarrow\": false}, {\"text\": \"0.23\", \"x\": \"upstairs\", \"y\": \"running\", \"xref\": \"x1\", \"yref\": \"y1\", \"font\": {\"color\": \"#FFFFFF\"}, \"showarrow\": false}, {\"text\": \"0.23\", \"x\": \"downstairs\", \"y\": \"running\", \"xref\": \"x1\", \"yref\": \"y1\", \"font\": {\"color\": \"#FFFFFF\"}, \"showarrow\": false}, {\"text\": \"8.22\", \"x\": \"running\", \"y\": \"walking\", \"xref\": \"x1\", \"yref\": \"y1\", \"font\": {\"color\": \"#FFFFFF\"}, \"showarrow\": false}, {\"text\": \"88.03\", \"x\": \"walking\", \"y\": \"walking\", \"xref\": \"x1\", \"yref\": \"y1\", \"font\": {\"color\": \"#000000\"}, \"showarrow\": false}, {\"text\": \"2.82\", \"x\": \"car\", \"y\": \"walking\", \"xref\": \"x1\", \"yref\": \"y1\", \"font\": {\"color\": \"#FFFFFF\"}, \"showarrow\": false}, {\"text\": \"0.0\", \"x\": \"bike\", \"y\": \"walking\", \"xref\": \"x1\", \"yref\": \"y1\", \"font\": {\"color\": \"#FFFFFF\"}, \"showarrow\": false}, {\"text\": \"0.94\", \"x\": \"upstairs\", \"y\": \"walking\", \"xref\": \"x1\", \"yref\": \"y1\", \"font\": {\"color\": \"#FFFFFF\"}, \"showarrow\": false}, {\"text\": \"0.0\", \"x\": \"downstairs\", \"y\": \"walking\", \"xref\": \"x1\", \"yref\": \"y1\", \"font\": {\"color\": \"#FFFFFF\"}, \"showarrow\": false}, {\"text\": \"8.33\", \"x\": \"running\", \"y\": \"car\", \"xref\": \"x1\", \"yref\": \"y1\", \"font\": {\"color\": \"#FFFFFF\"}, \"showarrow\": false}, {\"text\": \"8.19\", \"x\": \"walking\", \"y\": \"car\", \"xref\": \"x1\", \"yref\": \"y1\", \"font\": {\"color\": \"#FFFFFF\"}, \"showarrow\": false}, {\"text\": \"81.07\", \"x\": \"car\", \"y\": \"car\", \"xref\": \"x1\", \"yref\": \"y1\", \"font\": {\"color\": \"#000000\"}, \"showarrow\": false}, {\"text\": \"0.42\", \"x\": \"bike\", \"y\": \"car\", \"xref\": \"x1\", \"yref\": \"y1\", \"font\": {\"color\": \"#FFFFFF\"}, \"showarrow\": false}, {\"text\": \"1.84\", \"x\": \"upstairs\", \"y\": \"car\", \"xref\": \"x1\", \"yref\": \"y1\", \"font\": {\"color\": \"#FFFFFF\"}, \"showarrow\": false}, {\"text\": \"0.14\", \"x\": \"downstairs\", \"y\": \"car\", \"xref\": \"x1\", \"yref\": \"y1\", \"font\": {\"color\": \"#FFFFFF\"}, \"showarrow\": false}, {\"text\": \"28.0\", \"x\": \"running\", \"y\": \"bike\", \"xref\": \"x1\", \"yref\": \"y1\", \"font\": {\"color\": \"#FFFFFF\"}, \"showarrow\": false}, {\"text\": \"40.0\", \"x\": \"walking\", \"y\": \"bike\", \"xref\": \"x1\", \"yref\": \"y1\", \"font\": {\"color\": \"#FFFFFF\"}, \"showarrow\": false}, {\"text\": \"8.0\", \"x\": \"car\", \"y\": \"bike\", \"xref\": \"x1\", \"yref\": \"y1\", \"font\": {\"color\": \"#FFFFFF\"}, \"showarrow\": false}, {\"text\": \"24.0\", \"x\": \"bike\", \"y\": \"bike\", \"xref\": \"x1\", \"yref\": \"y1\", \"font\": {\"color\": \"#FFFFFF\"}, \"showarrow\": false}, {\"text\": \"0.0\", \"x\": \"upstairs\", \"y\": \"bike\", \"xref\": \"x1\", \"yref\": \"y1\", \"font\": {\"color\": \"#FFFFFF\"}, \"showarrow\": false}, {\"text\": \"0.0\", \"x\": \"downstairs\", \"y\": \"bike\", \"xref\": \"x1\", \"yref\": \"y1\", \"font\": {\"color\": \"#FFFFFF\"}, \"showarrow\": false}, {\"text\": \"19.01\", \"x\": \"running\", \"y\": \"upstairs\", \"xref\": \"x1\", \"yref\": \"y1\", \"font\": {\"color\": \"#FFFFFF\"}, \"showarrow\": false}, {\"text\": \"33.88\", \"x\": \"walking\", \"y\": \"upstairs\", \"xref\": \"x1\", \"yref\": \"y1\", \"font\": {\"color\": \"#FFFFFF\"}, \"showarrow\": false}, {\"text\": \"5.79\", \"x\": \"car\", \"y\": \"upstairs\", \"xref\": \"x1\", \"yref\": \"y1\", \"font\": {\"color\": \"#FFFFFF\"}, \"showarrow\": false}, {\"text\": \"0.0\", \"x\": \"bike\", \"y\": \"upstairs\", \"xref\": \"x1\", \"yref\": \"y1\", \"font\": {\"color\": \"#FFFFFF\"}, \"showarrow\": false}, {\"text\": \"41.32\", \"x\": \"upstairs\", \"y\": \"upstairs\", \"xref\": \"x1\", \"yref\": \"y1\", \"font\": {\"color\": \"#FFFFFF\"}, \"showarrow\": false}, {\"text\": \"0.0\", \"x\": \"downstairs\", \"y\": \"upstairs\", \"xref\": \"x1\", \"yref\": \"y1\", \"font\": {\"color\": \"#FFFFFF\"}, \"showarrow\": false}, {\"text\": \"33.33\", \"x\": \"running\", \"y\": \"downstairs\", \"xref\": \"x1\", \"yref\": \"y1\", \"font\": {\"color\": \"#FFFFFF\"}, \"showarrow\": false}, {\"text\": \"57.78\", \"x\": \"walking\", \"y\": \"downstairs\", \"xref\": \"x1\", \"yref\": \"y1\", \"font\": {\"color\": \"#000000\"}, \"showarrow\": false}, {\"text\": \"0.0\", \"x\": \"car\", \"y\": \"downstairs\", \"xref\": \"x1\", \"yref\": \"y1\", \"font\": {\"color\": \"#FFFFFF\"}, \"showarrow\": false}, {\"text\": \"0.0\", \"x\": \"bike\", \"y\": \"downstairs\", \"xref\": \"x1\", \"yref\": \"y1\", \"font\": {\"color\": \"#FFFFFF\"}, \"showarrow\": false}, {\"text\": \"2.22\", \"x\": \"upstairs\", \"y\": \"downstairs\", \"xref\": \"x1\", \"yref\": \"y1\", \"font\": {\"color\": \"#FFFFFF\"}, \"showarrow\": false}, {\"text\": \"6.67\", \"x\": \"downstairs\", \"y\": \"downstairs\", \"xref\": \"x1\", \"yref\": \"y1\", \"font\": {\"color\": \"#FFFFFF\"}, \"showarrow\": false}], \"xaxis\": {\"ticks\": \"\", \"dtick\": 1, \"side\": \"top\", \"gridcolor\": \"rgb(0, 0, 0)\"}, \"yaxis\": {\"ticks\": \"\", \"dtick\": 1, \"ticksuffix\": \"  \"}, \"title\": \"KNN - overall accuracy: 79.86%\"}, {\"showLink\": true, \"linkText\": \"Export to plot.ly\"})});</script>"
      ]
     },
     "metadata": {},
     "output_type": "display_data"
    },
    {
     "data": {
      "application/vnd.plotly.v1+json": {
       "data": [
        {
         "colorscale": "RdBu",
         "showscale": false,
         "type": "heatmap",
         "x": [
          "running",
          "walking",
          "car",
          "bike",
          "upstairs",
          "downstairs"
         ],
         "y": [
          "running",
          "walking",
          "car",
          "bike",
          "upstairs",
          "downstairs"
         ],
         "z": [
          [
           90.65,
           6.78,
           2.1,
           0,
           0.47,
           0
          ],
          [
           9.39,
           80.52,
           7.75,
           0,
           1.88,
           0.47
          ],
          [
           4.24,
           3.11,
           91.53,
           0.28,
           0.56,
           0.28
          ],
          [
           36,
           28,
           16,
           16,
           4,
           0
          ],
          [
           14.05,
           25.62,
           23.14,
           0,
           33.88,
           3.31
          ],
          [
           20,
           55.56,
           11.11,
           4.44,
           2.22,
           6.67
          ]
         ]
        }
       ],
       "layout": {
        "annotations": [
         {
          "font": {
           "color": "#000000"
          },
          "showarrow": false,
          "text": "90.65",
          "x": "running",
          "xref": "x1",
          "y": "running",
          "yref": "y1"
         },
         {
          "font": {
           "color": "#FFFFFF"
          },
          "showarrow": false,
          "text": "6.78",
          "x": "walking",
          "xref": "x1",
          "y": "running",
          "yref": "y1"
         },
         {
          "font": {
           "color": "#FFFFFF"
          },
          "showarrow": false,
          "text": "2.1",
          "x": "car",
          "xref": "x1",
          "y": "running",
          "yref": "y1"
         },
         {
          "font": {
           "color": "#FFFFFF"
          },
          "showarrow": false,
          "text": "0.0",
          "x": "bike",
          "xref": "x1",
          "y": "running",
          "yref": "y1"
         },
         {
          "font": {
           "color": "#FFFFFF"
          },
          "showarrow": false,
          "text": "0.47",
          "x": "upstairs",
          "xref": "x1",
          "y": "running",
          "yref": "y1"
         },
         {
          "font": {
           "color": "#FFFFFF"
          },
          "showarrow": false,
          "text": "0.0",
          "x": "downstairs",
          "xref": "x1",
          "y": "running",
          "yref": "y1"
         },
         {
          "font": {
           "color": "#FFFFFF"
          },
          "showarrow": false,
          "text": "9.39",
          "x": "running",
          "xref": "x1",
          "y": "walking",
          "yref": "y1"
         },
         {
          "font": {
           "color": "#000000"
          },
          "showarrow": false,
          "text": "80.52",
          "x": "walking",
          "xref": "x1",
          "y": "walking",
          "yref": "y1"
         },
         {
          "font": {
           "color": "#FFFFFF"
          },
          "showarrow": false,
          "text": "7.75",
          "x": "car",
          "xref": "x1",
          "y": "walking",
          "yref": "y1"
         },
         {
          "font": {
           "color": "#FFFFFF"
          },
          "showarrow": false,
          "text": "0.0",
          "x": "bike",
          "xref": "x1",
          "y": "walking",
          "yref": "y1"
         },
         {
          "font": {
           "color": "#FFFFFF"
          },
          "showarrow": false,
          "text": "1.88",
          "x": "upstairs",
          "xref": "x1",
          "y": "walking",
          "yref": "y1"
         },
         {
          "font": {
           "color": "#FFFFFF"
          },
          "showarrow": false,
          "text": "0.47",
          "x": "downstairs",
          "xref": "x1",
          "y": "walking",
          "yref": "y1"
         },
         {
          "font": {
           "color": "#FFFFFF"
          },
          "showarrow": false,
          "text": "4.24",
          "x": "running",
          "xref": "x1",
          "y": "car",
          "yref": "y1"
         },
         {
          "font": {
           "color": "#FFFFFF"
          },
          "showarrow": false,
          "text": "3.11",
          "x": "walking",
          "xref": "x1",
          "y": "car",
          "yref": "y1"
         },
         {
          "font": {
           "color": "#000000"
          },
          "showarrow": false,
          "text": "91.53",
          "x": "car",
          "xref": "x1",
          "y": "car",
          "yref": "y1"
         },
         {
          "font": {
           "color": "#FFFFFF"
          },
          "showarrow": false,
          "text": "0.28",
          "x": "bike",
          "xref": "x1",
          "y": "car",
          "yref": "y1"
         },
         {
          "font": {
           "color": "#FFFFFF"
          },
          "showarrow": false,
          "text": "0.56",
          "x": "upstairs",
          "xref": "x1",
          "y": "car",
          "yref": "y1"
         },
         {
          "font": {
           "color": "#FFFFFF"
          },
          "showarrow": false,
          "text": "0.28",
          "x": "downstairs",
          "xref": "x1",
          "y": "car",
          "yref": "y1"
         },
         {
          "font": {
           "color": "#FFFFFF"
          },
          "showarrow": false,
          "text": "36.0",
          "x": "running",
          "xref": "x1",
          "y": "bike",
          "yref": "y1"
         },
         {
          "font": {
           "color": "#FFFFFF"
          },
          "showarrow": false,
          "text": "28.0",
          "x": "walking",
          "xref": "x1",
          "y": "bike",
          "yref": "y1"
         },
         {
          "font": {
           "color": "#FFFFFF"
          },
          "showarrow": false,
          "text": "16.0",
          "x": "car",
          "xref": "x1",
          "y": "bike",
          "yref": "y1"
         },
         {
          "font": {
           "color": "#FFFFFF"
          },
          "showarrow": false,
          "text": "16.0",
          "x": "bike",
          "xref": "x1",
          "y": "bike",
          "yref": "y1"
         },
         {
          "font": {
           "color": "#FFFFFF"
          },
          "showarrow": false,
          "text": "4.0",
          "x": "upstairs",
          "xref": "x1",
          "y": "bike",
          "yref": "y1"
         },
         {
          "font": {
           "color": "#FFFFFF"
          },
          "showarrow": false,
          "text": "0.0",
          "x": "downstairs",
          "xref": "x1",
          "y": "bike",
          "yref": "y1"
         },
         {
          "font": {
           "color": "#FFFFFF"
          },
          "showarrow": false,
          "text": "14.05",
          "x": "running",
          "xref": "x1",
          "y": "upstairs",
          "yref": "y1"
         },
         {
          "font": {
           "color": "#FFFFFF"
          },
          "showarrow": false,
          "text": "25.62",
          "x": "walking",
          "xref": "x1",
          "y": "upstairs",
          "yref": "y1"
         },
         {
          "font": {
           "color": "#FFFFFF"
          },
          "showarrow": false,
          "text": "23.14",
          "x": "car",
          "xref": "x1",
          "y": "upstairs",
          "yref": "y1"
         },
         {
          "font": {
           "color": "#FFFFFF"
          },
          "showarrow": false,
          "text": "0.0",
          "x": "bike",
          "xref": "x1",
          "y": "upstairs",
          "yref": "y1"
         },
         {
          "font": {
           "color": "#FFFFFF"
          },
          "showarrow": false,
          "text": "33.88",
          "x": "upstairs",
          "xref": "x1",
          "y": "upstairs",
          "yref": "y1"
         },
         {
          "font": {
           "color": "#FFFFFF"
          },
          "showarrow": false,
          "text": "3.31",
          "x": "downstairs",
          "xref": "x1",
          "y": "upstairs",
          "yref": "y1"
         },
         {
          "font": {
           "color": "#FFFFFF"
          },
          "showarrow": false,
          "text": "20.0",
          "x": "running",
          "xref": "x1",
          "y": "downstairs",
          "yref": "y1"
         },
         {
          "font": {
           "color": "#000000"
          },
          "showarrow": false,
          "text": "55.56",
          "x": "walking",
          "xref": "x1",
          "y": "downstairs",
          "yref": "y1"
         },
         {
          "font": {
           "color": "#FFFFFF"
          },
          "showarrow": false,
          "text": "11.11",
          "x": "car",
          "xref": "x1",
          "y": "downstairs",
          "yref": "y1"
         },
         {
          "font": {
           "color": "#FFFFFF"
          },
          "showarrow": false,
          "text": "4.44",
          "x": "bike",
          "xref": "x1",
          "y": "downstairs",
          "yref": "y1"
         },
         {
          "font": {
           "color": "#FFFFFF"
          },
          "showarrow": false,
          "text": "2.22",
          "x": "upstairs",
          "xref": "x1",
          "y": "downstairs",
          "yref": "y1"
         },
         {
          "font": {
           "color": "#FFFFFF"
          },
          "showarrow": false,
          "text": "6.67",
          "x": "downstairs",
          "xref": "x1",
          "y": "downstairs",
          "yref": "y1"
         }
        ],
        "title": "RF - overall accuracy: 81.4%",
        "xaxis": {
         "dtick": 1,
         "gridcolor": "rgb(0, 0, 0)",
         "side": "top",
         "ticks": ""
        },
        "yaxis": {
         "dtick": 1,
         "ticks": "",
         "ticksuffix": "  "
        }
       }
      },
      "text/html": [
       "<div id=\"7b167b2c-45a8-4376-8c5f-d12fc9f6848f\" style=\"height: 525px; width: 100%;\" class=\"plotly-graph-div\"></div><script type=\"text/javascript\">require([\"plotly\"], function(Plotly) { window.PLOTLYENV=window.PLOTLYENV || {};window.PLOTLYENV.BASE_URL=\"https://plot.ly\";Plotly.newPlot(\"7b167b2c-45a8-4376-8c5f-d12fc9f6848f\", [{\"type\": \"heatmap\", \"z\": [[90.65, 6.78, 2.1, 0.0, 0.47, 0.0], [9.39, 80.52, 7.75, 0.0, 1.88, 0.47], [4.24, 3.11, 91.53, 0.28, 0.56, 0.28], [36.0, 28.0, 16.0, 16.0, 4.0, 0.0], [14.05, 25.62, 23.14, 0.0, 33.88, 3.31], [20.0, 55.56, 11.11, 4.44, 2.22, 6.67]], \"x\": [\"running\", \"walking\", \"car\", \"bike\", \"upstairs\", \"downstairs\"], \"y\": [\"running\", \"walking\", \"car\", \"bike\", \"upstairs\", \"downstairs\"], \"colorscale\": \"RdBu\", \"showscale\": false}], {\"annotations\": [{\"text\": \"90.65\", \"x\": \"running\", \"y\": \"running\", \"xref\": \"x1\", \"yref\": \"y1\", \"font\": {\"color\": \"#000000\"}, \"showarrow\": false}, {\"text\": \"6.78\", \"x\": \"walking\", \"y\": \"running\", \"xref\": \"x1\", \"yref\": \"y1\", \"font\": {\"color\": \"#FFFFFF\"}, \"showarrow\": false}, {\"text\": \"2.1\", \"x\": \"car\", \"y\": \"running\", \"xref\": \"x1\", \"yref\": \"y1\", \"font\": {\"color\": \"#FFFFFF\"}, \"showarrow\": false}, {\"text\": \"0.0\", \"x\": \"bike\", \"y\": \"running\", \"xref\": \"x1\", \"yref\": \"y1\", \"font\": {\"color\": \"#FFFFFF\"}, \"showarrow\": false}, {\"text\": \"0.47\", \"x\": \"upstairs\", \"y\": \"running\", \"xref\": \"x1\", \"yref\": \"y1\", \"font\": {\"color\": \"#FFFFFF\"}, \"showarrow\": false}, {\"text\": \"0.0\", \"x\": \"downstairs\", \"y\": \"running\", \"xref\": \"x1\", \"yref\": \"y1\", \"font\": {\"color\": \"#FFFFFF\"}, \"showarrow\": false}, {\"text\": \"9.39\", \"x\": \"running\", \"y\": \"walking\", \"xref\": \"x1\", \"yref\": \"y1\", \"font\": {\"color\": \"#FFFFFF\"}, \"showarrow\": false}, {\"text\": \"80.52\", \"x\": \"walking\", \"y\": \"walking\", \"xref\": \"x1\", \"yref\": \"y1\", \"font\": {\"color\": \"#000000\"}, \"showarrow\": false}, {\"text\": \"7.75\", \"x\": \"car\", \"y\": \"walking\", \"xref\": \"x1\", \"yref\": \"y1\", \"font\": {\"color\": \"#FFFFFF\"}, \"showarrow\": false}, {\"text\": \"0.0\", \"x\": \"bike\", \"y\": \"walking\", \"xref\": \"x1\", \"yref\": \"y1\", \"font\": {\"color\": \"#FFFFFF\"}, \"showarrow\": false}, {\"text\": \"1.88\", \"x\": \"upstairs\", \"y\": \"walking\", \"xref\": \"x1\", \"yref\": \"y1\", \"font\": {\"color\": \"#FFFFFF\"}, \"showarrow\": false}, {\"text\": \"0.47\", \"x\": \"downstairs\", \"y\": \"walking\", \"xref\": \"x1\", \"yref\": \"y1\", \"font\": {\"color\": \"#FFFFFF\"}, \"showarrow\": false}, {\"text\": \"4.24\", \"x\": \"running\", \"y\": \"car\", \"xref\": \"x1\", \"yref\": \"y1\", \"font\": {\"color\": \"#FFFFFF\"}, \"showarrow\": false}, {\"text\": \"3.11\", \"x\": \"walking\", \"y\": \"car\", \"xref\": \"x1\", \"yref\": \"y1\", \"font\": {\"color\": \"#FFFFFF\"}, \"showarrow\": false}, {\"text\": \"91.53\", \"x\": \"car\", \"y\": \"car\", \"xref\": \"x1\", \"yref\": \"y1\", \"font\": {\"color\": \"#000000\"}, \"showarrow\": false}, {\"text\": \"0.28\", \"x\": \"bike\", \"y\": \"car\", \"xref\": \"x1\", \"yref\": \"y1\", \"font\": {\"color\": \"#FFFFFF\"}, \"showarrow\": false}, {\"text\": \"0.56\", \"x\": \"upstairs\", \"y\": \"car\", \"xref\": \"x1\", \"yref\": \"y1\", \"font\": {\"color\": \"#FFFFFF\"}, \"showarrow\": false}, {\"text\": \"0.28\", \"x\": \"downstairs\", \"y\": \"car\", \"xref\": \"x1\", \"yref\": \"y1\", \"font\": {\"color\": \"#FFFFFF\"}, \"showarrow\": false}, {\"text\": \"36.0\", \"x\": \"running\", \"y\": \"bike\", \"xref\": \"x1\", \"yref\": \"y1\", \"font\": {\"color\": \"#FFFFFF\"}, \"showarrow\": false}, {\"text\": \"28.0\", \"x\": \"walking\", \"y\": \"bike\", \"xref\": \"x1\", \"yref\": \"y1\", \"font\": {\"color\": \"#FFFFFF\"}, \"showarrow\": false}, {\"text\": \"16.0\", \"x\": \"car\", \"y\": \"bike\", \"xref\": \"x1\", \"yref\": \"y1\", \"font\": {\"color\": \"#FFFFFF\"}, \"showarrow\": false}, {\"text\": \"16.0\", \"x\": \"bike\", \"y\": \"bike\", \"xref\": \"x1\", \"yref\": \"y1\", \"font\": {\"color\": \"#FFFFFF\"}, \"showarrow\": false}, {\"text\": \"4.0\", \"x\": \"upstairs\", \"y\": \"bike\", \"xref\": \"x1\", \"yref\": \"y1\", \"font\": {\"color\": \"#FFFFFF\"}, \"showarrow\": false}, {\"text\": \"0.0\", \"x\": \"downstairs\", \"y\": \"bike\", \"xref\": \"x1\", \"yref\": \"y1\", \"font\": {\"color\": \"#FFFFFF\"}, \"showarrow\": false}, {\"text\": \"14.05\", \"x\": \"running\", \"y\": \"upstairs\", \"xref\": \"x1\", \"yref\": \"y1\", \"font\": {\"color\": \"#FFFFFF\"}, \"showarrow\": false}, {\"text\": \"25.62\", \"x\": \"walking\", \"y\": \"upstairs\", \"xref\": \"x1\", \"yref\": \"y1\", \"font\": {\"color\": \"#FFFFFF\"}, \"showarrow\": false}, {\"text\": \"23.14\", \"x\": \"car\", \"y\": \"upstairs\", \"xref\": \"x1\", \"yref\": \"y1\", \"font\": {\"color\": \"#FFFFFF\"}, \"showarrow\": false}, {\"text\": \"0.0\", \"x\": \"bike\", \"y\": \"upstairs\", \"xref\": \"x1\", \"yref\": \"y1\", \"font\": {\"color\": \"#FFFFFF\"}, \"showarrow\": false}, {\"text\": \"33.88\", \"x\": \"upstairs\", \"y\": \"upstairs\", \"xref\": \"x1\", \"yref\": \"y1\", \"font\": {\"color\": \"#FFFFFF\"}, \"showarrow\": false}, {\"text\": \"3.31\", \"x\": \"downstairs\", \"y\": \"upstairs\", \"xref\": \"x1\", \"yref\": \"y1\", \"font\": {\"color\": \"#FFFFFF\"}, \"showarrow\": false}, {\"text\": \"20.0\", \"x\": \"running\", \"y\": \"downstairs\", \"xref\": \"x1\", \"yref\": \"y1\", \"font\": {\"color\": \"#FFFFFF\"}, \"showarrow\": false}, {\"text\": \"55.56\", \"x\": \"walking\", \"y\": \"downstairs\", \"xref\": \"x1\", \"yref\": \"y1\", \"font\": {\"color\": \"#000000\"}, \"showarrow\": false}, {\"text\": \"11.11\", \"x\": \"car\", \"y\": \"downstairs\", \"xref\": \"x1\", \"yref\": \"y1\", \"font\": {\"color\": \"#FFFFFF\"}, \"showarrow\": false}, {\"text\": \"4.44\", \"x\": \"bike\", \"y\": \"downstairs\", \"xref\": \"x1\", \"yref\": \"y1\", \"font\": {\"color\": \"#FFFFFF\"}, \"showarrow\": false}, {\"text\": \"2.22\", \"x\": \"upstairs\", \"y\": \"downstairs\", \"xref\": \"x1\", \"yref\": \"y1\", \"font\": {\"color\": \"#FFFFFF\"}, \"showarrow\": false}, {\"text\": \"6.67\", \"x\": \"downstairs\", \"y\": \"downstairs\", \"xref\": \"x1\", \"yref\": \"y1\", \"font\": {\"color\": \"#FFFFFF\"}, \"showarrow\": false}], \"xaxis\": {\"ticks\": \"\", \"dtick\": 1, \"side\": \"top\", \"gridcolor\": \"rgb(0, 0, 0)\"}, \"yaxis\": {\"ticks\": \"\", \"dtick\": 1, \"ticksuffix\": \"  \"}, \"title\": \"RF - overall accuracy: 81.4%\"}, {\"showLink\": true, \"linkText\": \"Export to plot.ly\"})});</script>"
      ],
      "text/vnd.plotly.v1+html": [
       "<div id=\"7b167b2c-45a8-4376-8c5f-d12fc9f6848f\" style=\"height: 525px; width: 100%;\" class=\"plotly-graph-div\"></div><script type=\"text/javascript\">require([\"plotly\"], function(Plotly) { window.PLOTLYENV=window.PLOTLYENV || {};window.PLOTLYENV.BASE_URL=\"https://plot.ly\";Plotly.newPlot(\"7b167b2c-45a8-4376-8c5f-d12fc9f6848f\", [{\"type\": \"heatmap\", \"z\": [[90.65, 6.78, 2.1, 0.0, 0.47, 0.0], [9.39, 80.52, 7.75, 0.0, 1.88, 0.47], [4.24, 3.11, 91.53, 0.28, 0.56, 0.28], [36.0, 28.0, 16.0, 16.0, 4.0, 0.0], [14.05, 25.62, 23.14, 0.0, 33.88, 3.31], [20.0, 55.56, 11.11, 4.44, 2.22, 6.67]], \"x\": [\"running\", \"walking\", \"car\", \"bike\", \"upstairs\", \"downstairs\"], \"y\": [\"running\", \"walking\", \"car\", \"bike\", \"upstairs\", \"downstairs\"], \"colorscale\": \"RdBu\", \"showscale\": false}], {\"annotations\": [{\"text\": \"90.65\", \"x\": \"running\", \"y\": \"running\", \"xref\": \"x1\", \"yref\": \"y1\", \"font\": {\"color\": \"#000000\"}, \"showarrow\": false}, {\"text\": \"6.78\", \"x\": \"walking\", \"y\": \"running\", \"xref\": \"x1\", \"yref\": \"y1\", \"font\": {\"color\": \"#FFFFFF\"}, \"showarrow\": false}, {\"text\": \"2.1\", \"x\": \"car\", \"y\": \"running\", \"xref\": \"x1\", \"yref\": \"y1\", \"font\": {\"color\": \"#FFFFFF\"}, \"showarrow\": false}, {\"text\": \"0.0\", \"x\": \"bike\", \"y\": \"running\", \"xref\": \"x1\", \"yref\": \"y1\", \"font\": {\"color\": \"#FFFFFF\"}, \"showarrow\": false}, {\"text\": \"0.47\", \"x\": \"upstairs\", \"y\": \"running\", \"xref\": \"x1\", \"yref\": \"y1\", \"font\": {\"color\": \"#FFFFFF\"}, \"showarrow\": false}, {\"text\": \"0.0\", \"x\": \"downstairs\", \"y\": \"running\", \"xref\": \"x1\", \"yref\": \"y1\", \"font\": {\"color\": \"#FFFFFF\"}, \"showarrow\": false}, {\"text\": \"9.39\", \"x\": \"running\", \"y\": \"walking\", \"xref\": \"x1\", \"yref\": \"y1\", \"font\": {\"color\": \"#FFFFFF\"}, \"showarrow\": false}, {\"text\": \"80.52\", \"x\": \"walking\", \"y\": \"walking\", \"xref\": \"x1\", \"yref\": \"y1\", \"font\": {\"color\": \"#000000\"}, \"showarrow\": false}, {\"text\": \"7.75\", \"x\": \"car\", \"y\": \"walking\", \"xref\": \"x1\", \"yref\": \"y1\", \"font\": {\"color\": \"#FFFFFF\"}, \"showarrow\": false}, {\"text\": \"0.0\", \"x\": \"bike\", \"y\": \"walking\", \"xref\": \"x1\", \"yref\": \"y1\", \"font\": {\"color\": \"#FFFFFF\"}, \"showarrow\": false}, {\"text\": \"1.88\", \"x\": \"upstairs\", \"y\": \"walking\", \"xref\": \"x1\", \"yref\": \"y1\", \"font\": {\"color\": \"#FFFFFF\"}, \"showarrow\": false}, {\"text\": \"0.47\", \"x\": \"downstairs\", \"y\": \"walking\", \"xref\": \"x1\", \"yref\": \"y1\", \"font\": {\"color\": \"#FFFFFF\"}, \"showarrow\": false}, {\"text\": \"4.24\", \"x\": \"running\", \"y\": \"car\", \"xref\": \"x1\", \"yref\": \"y1\", \"font\": {\"color\": \"#FFFFFF\"}, \"showarrow\": false}, {\"text\": \"3.11\", \"x\": \"walking\", \"y\": \"car\", \"xref\": \"x1\", \"yref\": \"y1\", \"font\": {\"color\": \"#FFFFFF\"}, \"showarrow\": false}, {\"text\": \"91.53\", \"x\": \"car\", \"y\": \"car\", \"xref\": \"x1\", \"yref\": \"y1\", \"font\": {\"color\": \"#000000\"}, \"showarrow\": false}, {\"text\": \"0.28\", \"x\": \"bike\", \"y\": \"car\", \"xref\": \"x1\", \"yref\": \"y1\", \"font\": {\"color\": \"#FFFFFF\"}, \"showarrow\": false}, {\"text\": \"0.56\", \"x\": \"upstairs\", \"y\": \"car\", \"xref\": \"x1\", \"yref\": \"y1\", \"font\": {\"color\": \"#FFFFFF\"}, \"showarrow\": false}, {\"text\": \"0.28\", \"x\": \"downstairs\", \"y\": \"car\", \"xref\": \"x1\", \"yref\": \"y1\", \"font\": {\"color\": \"#FFFFFF\"}, \"showarrow\": false}, {\"text\": \"36.0\", \"x\": \"running\", \"y\": \"bike\", \"xref\": \"x1\", \"yref\": \"y1\", \"font\": {\"color\": \"#FFFFFF\"}, \"showarrow\": false}, {\"text\": \"28.0\", \"x\": \"walking\", \"y\": \"bike\", \"xref\": \"x1\", \"yref\": \"y1\", \"font\": {\"color\": \"#FFFFFF\"}, \"showarrow\": false}, {\"text\": \"16.0\", \"x\": \"car\", \"y\": \"bike\", \"xref\": \"x1\", \"yref\": \"y1\", \"font\": {\"color\": \"#FFFFFF\"}, \"showarrow\": false}, {\"text\": \"16.0\", \"x\": \"bike\", \"y\": \"bike\", \"xref\": \"x1\", \"yref\": \"y1\", \"font\": {\"color\": \"#FFFFFF\"}, \"showarrow\": false}, {\"text\": \"4.0\", \"x\": \"upstairs\", \"y\": \"bike\", \"xref\": \"x1\", \"yref\": \"y1\", \"font\": {\"color\": \"#FFFFFF\"}, \"showarrow\": false}, {\"text\": \"0.0\", \"x\": \"downstairs\", \"y\": \"bike\", \"xref\": \"x1\", \"yref\": \"y1\", \"font\": {\"color\": \"#FFFFFF\"}, \"showarrow\": false}, {\"text\": \"14.05\", \"x\": \"running\", \"y\": \"upstairs\", \"xref\": \"x1\", \"yref\": \"y1\", \"font\": {\"color\": \"#FFFFFF\"}, \"showarrow\": false}, {\"text\": \"25.62\", \"x\": \"walking\", \"y\": \"upstairs\", \"xref\": \"x1\", \"yref\": \"y1\", \"font\": {\"color\": \"#FFFFFF\"}, \"showarrow\": false}, {\"text\": \"23.14\", \"x\": \"car\", \"y\": \"upstairs\", \"xref\": \"x1\", \"yref\": \"y1\", \"font\": {\"color\": \"#FFFFFF\"}, \"showarrow\": false}, {\"text\": \"0.0\", \"x\": \"bike\", \"y\": \"upstairs\", \"xref\": \"x1\", \"yref\": \"y1\", \"font\": {\"color\": \"#FFFFFF\"}, \"showarrow\": false}, {\"text\": \"33.88\", \"x\": \"upstairs\", \"y\": \"upstairs\", \"xref\": \"x1\", \"yref\": \"y1\", \"font\": {\"color\": \"#FFFFFF\"}, \"showarrow\": false}, {\"text\": \"3.31\", \"x\": \"downstairs\", \"y\": \"upstairs\", \"xref\": \"x1\", \"yref\": \"y1\", \"font\": {\"color\": \"#FFFFFF\"}, \"showarrow\": false}, {\"text\": \"20.0\", \"x\": \"running\", \"y\": \"downstairs\", \"xref\": \"x1\", \"yref\": \"y1\", \"font\": {\"color\": \"#FFFFFF\"}, \"showarrow\": false}, {\"text\": \"55.56\", \"x\": \"walking\", \"y\": \"downstairs\", \"xref\": \"x1\", \"yref\": \"y1\", \"font\": {\"color\": \"#000000\"}, \"showarrow\": false}, {\"text\": \"11.11\", \"x\": \"car\", \"y\": \"downstairs\", \"xref\": \"x1\", \"yref\": \"y1\", \"font\": {\"color\": \"#FFFFFF\"}, \"showarrow\": false}, {\"text\": \"4.44\", \"x\": \"bike\", \"y\": \"downstairs\", \"xref\": \"x1\", \"yref\": \"y1\", \"font\": {\"color\": \"#FFFFFF\"}, \"showarrow\": false}, {\"text\": \"2.22\", \"x\": \"upstairs\", \"y\": \"downstairs\", \"xref\": \"x1\", \"yref\": \"y1\", \"font\": {\"color\": \"#FFFFFF\"}, \"showarrow\": false}, {\"text\": \"6.67\", \"x\": \"downstairs\", \"y\": \"downstairs\", \"xref\": \"x1\", \"yref\": \"y1\", \"font\": {\"color\": \"#FFFFFF\"}, \"showarrow\": false}], \"xaxis\": {\"ticks\": \"\", \"dtick\": 1, \"side\": \"top\", \"gridcolor\": \"rgb(0, 0, 0)\"}, \"yaxis\": {\"ticks\": \"\", \"dtick\": 1, \"ticksuffix\": \"  \"}, \"title\": \"RF - overall accuracy: 81.4%\"}, {\"showLink\": true, \"linkText\": \"Export to plot.ly\"})});</script>"
      ]
     },
     "metadata": {},
     "output_type": "display_data"
    }
   ],
   "source": [
    "# Każdy klasyfikator uczymy i testujemy, a następnie rysujemy heatmap z wynikami\n",
    "for clsf in classifiers:\n",
    "    # Uczenie klasyfikatora\n",
    "    clsf[\"cls\"].fit(X, y)\n",
    "    # Sprawdzenie dla danych testowych\n",
    "    predictions = clsf[\"cls\"].predict(X_test)\n",
    "    # Zapis wyniku\n",
    "    acc = accuracy_score(y_test, predictions)\n",
    "    \n",
    "    # Znormalizowana macierz\n",
    "    c_matrix = confusion_matrix(y_test, predictions, labels = [11,22,33,44,55,66])\n",
    "    c_matrix = c_matrix.astype('float') / c_matrix.sum(axis=1)[:, np.newaxis]\n",
    "    c_matrix = c_matrix*100.0\n",
    "    c_matrix = c_matrix.round(2)\n",
    "    \n",
    "    # Tytuły wykresów\n",
    "    title = clsf[\"name\"] + \" - overall accuracy: \" + str(round(acc*100,2)) + \"%\"\n",
    "    labels = [\"running\", \"walking\", \"car\", \"bike\", \"upstairs\", \"downstairs\"]\n",
    "    \n",
    "    fig = ff.create_annotated_heatmap(z=c_matrix, x=labels, y=labels)\n",
    "    fig.layout.update({\"title\": title})\n",
    "    iplot(fig)\n"
   ]
  },
  {
   "cell_type": "code",
   "execution_count": 9,
   "metadata": {},
   "outputs": [],
   "source": [
    "# # clf = SVC()\n",
    "# clf = MLPClassifier(solver='lbfgs', alpha=1e-7, hidden_layer_sizes=(26, 10, 6), random_state=1, max_iter=700)\n",
    "# # clf = KNeighborsClassifier(n_neighbors=7)\n",
    "# # clf = SGDClassifier(loss=\"log\")\n",
    "# clf.fit(X,y)\n",
    "\n",
    "# predictions = clf.predict(X_test)\n",
    "# acc = accuracy_score(y_test, predictions)\n",
    "# print(\"Accuracy: \" + str(round(acc*100,2)) + \"%\")"
   ]
  },
  {
   "cell_type": "code",
   "execution_count": 10,
   "metadata": {},
   "outputs": [],
   "source": [
    "# tsne = manifold.TSNE(n_components=2, init='pca', random_state=0)\n",
    "# Y = tsne.fit_transform(X_test)"
   ]
  },
  {
   "cell_type": "code",
   "execution_count": 11,
   "metadata": {},
   "outputs": [],
   "source": [
    "# plt.scatter(Y[:, 0], Y[:, 1], c=y_test, cmap=plt.cm.get_cmap(\"jet\", len(list(set(y_test)))))\n",
    "# plt.colorbar(ticks=range(len(list(set(y_test)))))\n",
    "\n",
    "# plt.show()"
   ]
  },
  {
   "cell_type": "code",
   "execution_count": null,
   "metadata": {},
   "outputs": [],
   "source": []
  }
 ],
 "metadata": {
  "kernelspec": {
   "display_name": "Python 3",
   "language": "python",
   "name": "python3"
  },
  "language_info": {
   "codemirror_mode": {
    "name": "ipython",
    "version": 3
   },
   "file_extension": ".py",
   "mimetype": "text/x-python",
   "name": "python",
   "nbconvert_exporter": "python",
   "pygments_lexer": "ipython3",
   "version": "3.6.4"
  }
 },
 "nbformat": 4,
 "nbformat_minor": 2
}

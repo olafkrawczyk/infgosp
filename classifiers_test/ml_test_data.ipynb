{
 "cells": [
  {
   "cell_type": "code",
   "execution_count": 1,
   "metadata": {},
   "outputs": [
    {
     "data": {
      "text/html": [
       "<script>requirejs.config({paths: { 'plotly': ['https://cdn.plot.ly/plotly-latest.min']},});if(!window.Plotly) {{require(['plotly'],function(plotly) {window.Plotly=plotly;});}}</script>"
      ],
      "text/vnd.plotly.v1+html": [
       "<script>requirejs.config({paths: { 'plotly': ['https://cdn.plot.ly/plotly-latest.min']},});if(!window.Plotly) {{require(['plotly'],function(plotly) {window.Plotly=plotly;});}}</script>"
      ]
     },
     "metadata": {},
     "output_type": "display_data"
    }
   ],
   "source": [
    "import pandas as pd\n",
    "import sklearn\n",
    "from sklearn.svm import SVC\n",
    "from sklearn.neighbors import KNeighborsClassifier\n",
    "from sklearn.neural_network import MLPClassifier\n",
    "from sklearn.linear_model import SGDClassifier\n",
    "from sklearn.ensemble import RandomForestClassifier\n",
    "from sklearn.metrics import accuracy_score, confusion_matrix\n",
    "from sklearn import manifold\n",
    "from sklearn.preprocessing import StandardScaler  \n",
    "import matplotlib.pyplot as plt\n",
    "\n",
    "import plotly.plotly as py\n",
    "import plotly.graph_objs as go\n",
    "import plotly.figure_factory as ff\n",
    "import numpy as np\n",
    "from plotly.offline import download_plotlyjs, init_notebook_mode, plot, iplot\n",
    "\n",
    "from sklearn.model_selection import cross_val_score\n",
    "\n",
    "init_notebook_mode(connected=True)\n",
    "\n",
    "# Jaki procent całego zbioru ma być wykorzystany do uczenia\n",
    "TRAIN_DATASET_PRECENTAGE = 0.5\n",
    "\n",
    "##\n",
    "## 11 - running\n",
    "## 22 - walking\n",
    "## 33 - car\n",
    "## 44 - bike\n",
    "## 55 - upstairs\n",
    "## 66 - downstairs"
   ]
  },
  {
   "cell_type": "code",
   "execution_count": 2,
   "metadata": {},
   "outputs": [
    {
     "name": "stdout",
     "output_type": "stream",
     "text": [
      "11 (845, 26)\n",
      "22 (881, 26)\n",
      "33 (1377, 26)\n",
      "44 (53, 26)\n",
      "55 (258, 26)\n",
      "66 (91, 26)\n"
     ]
    }
   ],
   "source": [
    "# Załadowanie zbioru cech z csv\n",
    "dataset = pd.read_csv(\"features.csv\", index_col=None)\n",
    "\n",
    "# Stworzenie kolumn dla wektora cech. Nazwy to liczby od 1 do 25.\n",
    "cols = [str(x) for x in range(1, 26)]\n",
    "#Ostatnia kolumna to etykieta aktywności\n",
    "cols.append(\"label\")\n",
    "\n",
    "dataset.columns = cols\n",
    "\n",
    "\n",
    "for label in (11,22,33,44,55,66):\n",
    "    print(label, dataset.loc[dataset[\"label\"] == label].shape)\n",
    "\n",
    "## 11 - running\n",
    "## 22 - walking\n",
    "## 33 - car\n",
    "## 44 - bike\n",
    "## 55 - upstairs\n",
    "## 66 - downstairs"
   ]
  },
  {
   "cell_type": "code",
   "execution_count": 3,
   "metadata": {},
   "outputs": [],
   "source": [
    "# Mieszamy wczytane wiersze tak, żeby kolejność cech nie miała wpływu na trenowanie i testowanie\n",
    "dataset = sklearn.utils.shuffle(dataset)"
   ]
  },
  {
   "cell_type": "code",
   "execution_count": 4,
   "metadata": {},
   "outputs": [],
   "source": [
    "# Obliczenie liczby wektorów cech potrzebynch do uczenia\n",
    "train_size = int(len(dataset)*TRAIN_DATASET_PRECENTAGE)\n",
    "\n",
    "#Podział na zbiór uczący i testowy\n",
    "train_dataset = dataset[:train_size]\n",
    "test_dataset = dataset[train_size:]\n",
    "\n",
    "# Oddzielamy cechy od etykiety i przypisujemy do X - zbioru danych uczących\n",
    "feature_cols = dataset.columns[:-1]\n",
    "X = train_dataset.loc[:, feature_cols]\n",
    "\n",
    "# Zbiór poprawnych etykiet dla zbioru uczącego\n",
    "y = train_dataset.label"
   ]
  },
  {
   "cell_type": "code",
   "execution_count": 5,
   "metadata": {},
   "outputs": [],
   "source": [
    "# Skalowanie wektora cech\n",
    "scaler = StandardScaler()\n",
    "scaler.fit(X)\n",
    "\n",
    "X = scaler.transform(X)"
   ]
  },
  {
   "cell_type": "code",
   "execution_count": 6,
   "metadata": {},
   "outputs": [],
   "source": [
    "# Podział na X i y dla danych testowych\n",
    "X_test = test_dataset.loc[:, feature_cols]\n",
    "X_test = scaler.transform(X_test)\n",
    "y_test = test_dataset.label"
   ]
  },
  {
   "cell_type": "code",
   "execution_count": 194,
   "metadata": {},
   "outputs": [],
   "source": [
    "# Tworzymy listę klasyfikatorów które testujemy\n",
    "classifiers = []\n",
    "\n",
    "classifiers.append({\"name\":\"SVM\", \"cls\":SVC(C=11)})\n",
    "classifiers.append({\"name\":\"MLP\", \"cls\":MLPClassifier(solver='adam', alpha=1e-5, \n",
    "                                                      hidden_layer_sizes=(200, 200), \n",
    "                                                      max_iter=2500, shuffle=True)})\n",
    "classifiers.append({\"name\":\"KNN\", \"cls\":KNeighborsClassifier(n_neighbors=3)})\n",
    "classifiers.append({\"name\":\"RF\", \"cls\":RandomForestClassifier()})\n"
   ]
  },
  {
   "cell_type": "code",
   "execution_count": 195,
   "metadata": {},
   "outputs": [
    {
     "name": "stdout",
     "output_type": "stream",
     "text": [
      "Cross validation folds=2\n",
      "SVM: 86.25%\n",
      "[0.86552707 0.85942857]\n",
      "MLP: 87.22%\n",
      "[0.87464387 0.86971429]\n",
      "KNN: 80.88%\n",
      "[0.80569801 0.812     ]\n",
      "RF: 81.23%\n",
      "[0.81538462 0.80914286]\n"
     ]
    }
   ],
   "source": [
    "# Cross validate\n",
    "\n",
    "X_cv = np.concatenate((X, X_test))\n",
    "y_cv = np.concatenate((y, y_test))\n",
    "\n",
    "cv = 2\n",
    "\n",
    "print(\"Cross validation folds=%d\" % (cv))\n",
    "\n",
    "for clsf in classifiers:\n",
    "    scores = cross_val_score(clsf[\"cls\"], X_cv, y_cv, cv=cv)\n",
    "    print(clsf[\"name\"] + \": %0.2f\" % (scores.mean()*100) + \"%\")\n",
    "    print(scores)"
   ]
  },
  {
   "cell_type": "code",
   "execution_count": 196,
   "metadata": {
    "scrolled": false
   },
   "outputs": [
    {
     "data": {
      "application/vnd.plotly.v1+json": {
       "data": [
        {
         "colorscale": "RdBu",
         "showscale": false,
         "type": "heatmap",
         "x": [
          "running",
          "walking",
          "car",
          "bike",
          "upstairs",
          "downstairs"
         ],
         "y": [
          "running",
          "walking",
          "car",
          "bike",
          "upstairs",
          "downstairs"
         ],
         "z": [
          [
           90.91,
           3.73,
           4.66,
           0.23,
           0.23,
           0.23
          ],
          [
           3.71,
           83.84,
           10.48,
           0,
           1.31,
           0.66
          ],
          [
           1.95,
           2.1,
           94.76,
           0,
           1.05,
           0.15
          ],
          [
           0,
           3.85,
           15.38,
           80.77,
           0,
           0
          ],
          [
           7.69,
           21.54,
           14.62,
           0.77,
           54.62,
           0.77
          ],
          [
           28.57,
           33.33,
           30.95,
           0,
           0,
           7.14
          ]
         ]
        }
       ],
       "layout": {
        "annotations": [
         {
          "font": {
           "color": "#000000"
          },
          "showarrow": false,
          "text": "90.91",
          "x": "running",
          "xref": "x1",
          "y": "running",
          "yref": "y1"
         },
         {
          "font": {
           "color": "#FFFFFF"
          },
          "showarrow": false,
          "text": "3.73",
          "x": "walking",
          "xref": "x1",
          "y": "running",
          "yref": "y1"
         },
         {
          "font": {
           "color": "#FFFFFF"
          },
          "showarrow": false,
          "text": "4.66",
          "x": "car",
          "xref": "x1",
          "y": "running",
          "yref": "y1"
         },
         {
          "font": {
           "color": "#FFFFFF"
          },
          "showarrow": false,
          "text": "0.23",
          "x": "bike",
          "xref": "x1",
          "y": "running",
          "yref": "y1"
         },
         {
          "font": {
           "color": "#FFFFFF"
          },
          "showarrow": false,
          "text": "0.23",
          "x": "upstairs",
          "xref": "x1",
          "y": "running",
          "yref": "y1"
         },
         {
          "font": {
           "color": "#FFFFFF"
          },
          "showarrow": false,
          "text": "0.23",
          "x": "downstairs",
          "xref": "x1",
          "y": "running",
          "yref": "y1"
         },
         {
          "font": {
           "color": "#FFFFFF"
          },
          "showarrow": false,
          "text": "3.71",
          "x": "running",
          "xref": "x1",
          "y": "walking",
          "yref": "y1"
         },
         {
          "font": {
           "color": "#000000"
          },
          "showarrow": false,
          "text": "83.84",
          "x": "walking",
          "xref": "x1",
          "y": "walking",
          "yref": "y1"
         },
         {
          "font": {
           "color": "#FFFFFF"
          },
          "showarrow": false,
          "text": "10.48",
          "x": "car",
          "xref": "x1",
          "y": "walking",
          "yref": "y1"
         },
         {
          "font": {
           "color": "#FFFFFF"
          },
          "showarrow": false,
          "text": "0.0",
          "x": "bike",
          "xref": "x1",
          "y": "walking",
          "yref": "y1"
         },
         {
          "font": {
           "color": "#FFFFFF"
          },
          "showarrow": false,
          "text": "1.31",
          "x": "upstairs",
          "xref": "x1",
          "y": "walking",
          "yref": "y1"
         },
         {
          "font": {
           "color": "#FFFFFF"
          },
          "showarrow": false,
          "text": "0.66",
          "x": "downstairs",
          "xref": "x1",
          "y": "walking",
          "yref": "y1"
         },
         {
          "font": {
           "color": "#FFFFFF"
          },
          "showarrow": false,
          "text": "1.95",
          "x": "running",
          "xref": "x1",
          "y": "car",
          "yref": "y1"
         },
         {
          "font": {
           "color": "#FFFFFF"
          },
          "showarrow": false,
          "text": "2.1",
          "x": "walking",
          "xref": "x1",
          "y": "car",
          "yref": "y1"
         },
         {
          "font": {
           "color": "#000000"
          },
          "showarrow": false,
          "text": "94.76",
          "x": "car",
          "xref": "x1",
          "y": "car",
          "yref": "y1"
         },
         {
          "font": {
           "color": "#FFFFFF"
          },
          "showarrow": false,
          "text": "0.0",
          "x": "bike",
          "xref": "x1",
          "y": "car",
          "yref": "y1"
         },
         {
          "font": {
           "color": "#FFFFFF"
          },
          "showarrow": false,
          "text": "1.05",
          "x": "upstairs",
          "xref": "x1",
          "y": "car",
          "yref": "y1"
         },
         {
          "font": {
           "color": "#FFFFFF"
          },
          "showarrow": false,
          "text": "0.15",
          "x": "downstairs",
          "xref": "x1",
          "y": "car",
          "yref": "y1"
         },
         {
          "font": {
           "color": "#FFFFFF"
          },
          "showarrow": false,
          "text": "0.0",
          "x": "running",
          "xref": "x1",
          "y": "bike",
          "yref": "y1"
         },
         {
          "font": {
           "color": "#FFFFFF"
          },
          "showarrow": false,
          "text": "3.85",
          "x": "walking",
          "xref": "x1",
          "y": "bike",
          "yref": "y1"
         },
         {
          "font": {
           "color": "#FFFFFF"
          },
          "showarrow": false,
          "text": "15.38",
          "x": "car",
          "xref": "x1",
          "y": "bike",
          "yref": "y1"
         },
         {
          "font": {
           "color": "#000000"
          },
          "showarrow": false,
          "text": "80.77",
          "x": "bike",
          "xref": "x1",
          "y": "bike",
          "yref": "y1"
         },
         {
          "font": {
           "color": "#FFFFFF"
          },
          "showarrow": false,
          "text": "0.0",
          "x": "upstairs",
          "xref": "x1",
          "y": "bike",
          "yref": "y1"
         },
         {
          "font": {
           "color": "#FFFFFF"
          },
          "showarrow": false,
          "text": "0.0",
          "x": "downstairs",
          "xref": "x1",
          "y": "bike",
          "yref": "y1"
         },
         {
          "font": {
           "color": "#FFFFFF"
          },
          "showarrow": false,
          "text": "7.69",
          "x": "running",
          "xref": "x1",
          "y": "upstairs",
          "yref": "y1"
         },
         {
          "font": {
           "color": "#FFFFFF"
          },
          "showarrow": false,
          "text": "21.54",
          "x": "walking",
          "xref": "x1",
          "y": "upstairs",
          "yref": "y1"
         },
         {
          "font": {
           "color": "#FFFFFF"
          },
          "showarrow": false,
          "text": "14.62",
          "x": "car",
          "xref": "x1",
          "y": "upstairs",
          "yref": "y1"
         },
         {
          "font": {
           "color": "#FFFFFF"
          },
          "showarrow": false,
          "text": "0.77",
          "x": "bike",
          "xref": "x1",
          "y": "upstairs",
          "yref": "y1"
         },
         {
          "font": {
           "color": "#000000"
          },
          "showarrow": false,
          "text": "54.62",
          "x": "upstairs",
          "xref": "x1",
          "y": "upstairs",
          "yref": "y1"
         },
         {
          "font": {
           "color": "#FFFFFF"
          },
          "showarrow": false,
          "text": "0.77",
          "x": "downstairs",
          "xref": "x1",
          "y": "upstairs",
          "yref": "y1"
         },
         {
          "font": {
           "color": "#FFFFFF"
          },
          "showarrow": false,
          "text": "28.57",
          "x": "running",
          "xref": "x1",
          "y": "downstairs",
          "yref": "y1"
         },
         {
          "font": {
           "color": "#FFFFFF"
          },
          "showarrow": false,
          "text": "33.33",
          "x": "walking",
          "xref": "x1",
          "y": "downstairs",
          "yref": "y1"
         },
         {
          "font": {
           "color": "#FFFFFF"
          },
          "showarrow": false,
          "text": "30.95",
          "x": "car",
          "xref": "x1",
          "y": "downstairs",
          "yref": "y1"
         },
         {
          "font": {
           "color": "#FFFFFF"
          },
          "showarrow": false,
          "text": "0.0",
          "x": "bike",
          "xref": "x1",
          "y": "downstairs",
          "yref": "y1"
         },
         {
          "font": {
           "color": "#FFFFFF"
          },
          "showarrow": false,
          "text": "0.0",
          "x": "upstairs",
          "xref": "x1",
          "y": "downstairs",
          "yref": "y1"
         },
         {
          "font": {
           "color": "#FFFFFF"
          },
          "showarrow": false,
          "text": "7.14",
          "x": "downstairs",
          "xref": "x1",
          "y": "downstairs",
          "yref": "y1"
         }
        ],
        "title": "SVM - overall accuracy: 85.68%",
        "xaxis": {
         "dtick": 1,
         "gridcolor": "rgb(0, 0, 0)",
         "side": "top",
         "ticks": ""
        },
        "yaxis": {
         "autorange": "reversed",
         "dtick": 1,
         "ticks": "",
         "ticksuffix": "  "
        }
       }
      },
      "text/html": [
       "<div id=\"216315cb-c26a-4ad5-bd52-23896765a78c\" style=\"height: 525px; width: 100%;\" class=\"plotly-graph-div\"></div><script type=\"text/javascript\">require([\"plotly\"], function(Plotly) { window.PLOTLYENV=window.PLOTLYENV || {};window.PLOTLYENV.BASE_URL=\"https://plot.ly\";Plotly.newPlot(\"216315cb-c26a-4ad5-bd52-23896765a78c\", [{\"type\": \"heatmap\", \"z\": [[90.91, 3.73, 4.66, 0.23, 0.23, 0.23], [3.71, 83.84, 10.48, 0.0, 1.31, 0.66], [1.95, 2.1, 94.76, 0.0, 1.05, 0.15], [0.0, 3.85, 15.38, 80.77, 0.0, 0.0], [7.69, 21.54, 14.62, 0.77, 54.62, 0.77], [28.57, 33.33, 30.95, 0.0, 0.0, 7.14]], \"x\": [\"running\", \"walking\", \"car\", \"bike\", \"upstairs\", \"downstairs\"], \"y\": [\"running\", \"walking\", \"car\", \"bike\", \"upstairs\", \"downstairs\"], \"colorscale\": \"RdBu\", \"showscale\": false}], {\"annotations\": [{\"text\": \"90.91\", \"x\": \"running\", \"y\": \"running\", \"xref\": \"x1\", \"yref\": \"y1\", \"font\": {\"color\": \"#000000\"}, \"showarrow\": false}, {\"text\": \"3.73\", \"x\": \"walking\", \"y\": \"running\", \"xref\": \"x1\", \"yref\": \"y1\", \"font\": {\"color\": \"#FFFFFF\"}, \"showarrow\": false}, {\"text\": \"4.66\", \"x\": \"car\", \"y\": \"running\", \"xref\": \"x1\", \"yref\": \"y1\", \"font\": {\"color\": \"#FFFFFF\"}, \"showarrow\": false}, {\"text\": \"0.23\", \"x\": \"bike\", \"y\": \"running\", \"xref\": \"x1\", \"yref\": \"y1\", \"font\": {\"color\": \"#FFFFFF\"}, \"showarrow\": false}, {\"text\": \"0.23\", \"x\": \"upstairs\", \"y\": \"running\", \"xref\": \"x1\", \"yref\": \"y1\", \"font\": {\"color\": \"#FFFFFF\"}, \"showarrow\": false}, {\"text\": \"0.23\", \"x\": \"downstairs\", \"y\": \"running\", \"xref\": \"x1\", \"yref\": \"y1\", \"font\": {\"color\": \"#FFFFFF\"}, \"showarrow\": false}, {\"text\": \"3.71\", \"x\": \"running\", \"y\": \"walking\", \"xref\": \"x1\", \"yref\": \"y1\", \"font\": {\"color\": \"#FFFFFF\"}, \"showarrow\": false}, {\"text\": \"83.84\", \"x\": \"walking\", \"y\": \"walking\", \"xref\": \"x1\", \"yref\": \"y1\", \"font\": {\"color\": \"#000000\"}, \"showarrow\": false}, {\"text\": \"10.48\", \"x\": \"car\", \"y\": \"walking\", \"xref\": \"x1\", \"yref\": \"y1\", \"font\": {\"color\": \"#FFFFFF\"}, \"showarrow\": false}, {\"text\": \"0.0\", \"x\": \"bike\", \"y\": \"walking\", \"xref\": \"x1\", \"yref\": \"y1\", \"font\": {\"color\": \"#FFFFFF\"}, \"showarrow\": false}, {\"text\": \"1.31\", \"x\": \"upstairs\", \"y\": \"walking\", \"xref\": \"x1\", \"yref\": \"y1\", \"font\": {\"color\": \"#FFFFFF\"}, \"showarrow\": false}, {\"text\": \"0.66\", \"x\": \"downstairs\", \"y\": \"walking\", \"xref\": \"x1\", \"yref\": \"y1\", \"font\": {\"color\": \"#FFFFFF\"}, \"showarrow\": false}, {\"text\": \"1.95\", \"x\": \"running\", \"y\": \"car\", \"xref\": \"x1\", \"yref\": \"y1\", \"font\": {\"color\": \"#FFFFFF\"}, \"showarrow\": false}, {\"text\": \"2.1\", \"x\": \"walking\", \"y\": \"car\", \"xref\": \"x1\", \"yref\": \"y1\", \"font\": {\"color\": \"#FFFFFF\"}, \"showarrow\": false}, {\"text\": \"94.76\", \"x\": \"car\", \"y\": \"car\", \"xref\": \"x1\", \"yref\": \"y1\", \"font\": {\"color\": \"#000000\"}, \"showarrow\": false}, {\"text\": \"0.0\", \"x\": \"bike\", \"y\": \"car\", \"xref\": \"x1\", \"yref\": \"y1\", \"font\": {\"color\": \"#FFFFFF\"}, \"showarrow\": false}, {\"text\": \"1.05\", \"x\": \"upstairs\", \"y\": \"car\", \"xref\": \"x1\", \"yref\": \"y1\", \"font\": {\"color\": \"#FFFFFF\"}, \"showarrow\": false}, {\"text\": \"0.15\", \"x\": \"downstairs\", \"y\": \"car\", \"xref\": \"x1\", \"yref\": \"y1\", \"font\": {\"color\": \"#FFFFFF\"}, \"showarrow\": false}, {\"text\": \"0.0\", \"x\": \"running\", \"y\": \"bike\", \"xref\": \"x1\", \"yref\": \"y1\", \"font\": {\"color\": \"#FFFFFF\"}, \"showarrow\": false}, {\"text\": \"3.85\", \"x\": \"walking\", \"y\": \"bike\", \"xref\": \"x1\", \"yref\": \"y1\", \"font\": {\"color\": \"#FFFFFF\"}, \"showarrow\": false}, {\"text\": \"15.38\", \"x\": \"car\", \"y\": \"bike\", \"xref\": \"x1\", \"yref\": \"y1\", \"font\": {\"color\": \"#FFFFFF\"}, \"showarrow\": false}, {\"text\": \"80.77\", \"x\": \"bike\", \"y\": \"bike\", \"xref\": \"x1\", \"yref\": \"y1\", \"font\": {\"color\": \"#000000\"}, \"showarrow\": false}, {\"text\": \"0.0\", \"x\": \"upstairs\", \"y\": \"bike\", \"xref\": \"x1\", \"yref\": \"y1\", \"font\": {\"color\": \"#FFFFFF\"}, \"showarrow\": false}, {\"text\": \"0.0\", \"x\": \"downstairs\", \"y\": \"bike\", \"xref\": \"x1\", \"yref\": \"y1\", \"font\": {\"color\": \"#FFFFFF\"}, \"showarrow\": false}, {\"text\": \"7.69\", \"x\": \"running\", \"y\": \"upstairs\", \"xref\": \"x1\", \"yref\": \"y1\", \"font\": {\"color\": \"#FFFFFF\"}, \"showarrow\": false}, {\"text\": \"21.54\", \"x\": \"walking\", \"y\": \"upstairs\", \"xref\": \"x1\", \"yref\": \"y1\", \"font\": {\"color\": \"#FFFFFF\"}, \"showarrow\": false}, {\"text\": \"14.62\", \"x\": \"car\", \"y\": \"upstairs\", \"xref\": \"x1\", \"yref\": \"y1\", \"font\": {\"color\": \"#FFFFFF\"}, \"showarrow\": false}, {\"text\": \"0.77\", \"x\": \"bike\", \"y\": \"upstairs\", \"xref\": \"x1\", \"yref\": \"y1\", \"font\": {\"color\": \"#FFFFFF\"}, \"showarrow\": false}, {\"text\": \"54.62\", \"x\": \"upstairs\", \"y\": \"upstairs\", \"xref\": \"x1\", \"yref\": \"y1\", \"font\": {\"color\": \"#000000\"}, \"showarrow\": false}, {\"text\": \"0.77\", \"x\": \"downstairs\", \"y\": \"upstairs\", \"xref\": \"x1\", \"yref\": \"y1\", \"font\": {\"color\": \"#FFFFFF\"}, \"showarrow\": false}, {\"text\": \"28.57\", \"x\": \"running\", \"y\": \"downstairs\", \"xref\": \"x1\", \"yref\": \"y1\", \"font\": {\"color\": \"#FFFFFF\"}, \"showarrow\": false}, {\"text\": \"33.33\", \"x\": \"walking\", \"y\": \"downstairs\", \"xref\": \"x1\", \"yref\": \"y1\", \"font\": {\"color\": \"#FFFFFF\"}, \"showarrow\": false}, {\"text\": \"30.95\", \"x\": \"car\", \"y\": \"downstairs\", \"xref\": \"x1\", \"yref\": \"y1\", \"font\": {\"color\": \"#FFFFFF\"}, \"showarrow\": false}, {\"text\": \"0.0\", \"x\": \"bike\", \"y\": \"downstairs\", \"xref\": \"x1\", \"yref\": \"y1\", \"font\": {\"color\": \"#FFFFFF\"}, \"showarrow\": false}, {\"text\": \"0.0\", \"x\": \"upstairs\", \"y\": \"downstairs\", \"xref\": \"x1\", \"yref\": \"y1\", \"font\": {\"color\": \"#FFFFFF\"}, \"showarrow\": false}, {\"text\": \"7.14\", \"x\": \"downstairs\", \"y\": \"downstairs\", \"xref\": \"x1\", \"yref\": \"y1\", \"font\": {\"color\": \"#FFFFFF\"}, \"showarrow\": false}], \"xaxis\": {\"ticks\": \"\", \"dtick\": 1, \"side\": \"top\", \"gridcolor\": \"rgb(0, 0, 0)\"}, \"yaxis\": {\"ticks\": \"\", \"dtick\": 1, \"ticksuffix\": \"  \", \"autorange\": \"reversed\"}, \"title\": \"SVM - overall accuracy: 85.68%\"}, {\"showLink\": true, \"linkText\": \"Export to plot.ly\"})});</script>"
      ],
      "text/vnd.plotly.v1+html": [
       "<div id=\"216315cb-c26a-4ad5-bd52-23896765a78c\" style=\"height: 525px; width: 100%;\" class=\"plotly-graph-div\"></div><script type=\"text/javascript\">require([\"plotly\"], function(Plotly) { window.PLOTLYENV=window.PLOTLYENV || {};window.PLOTLYENV.BASE_URL=\"https://plot.ly\";Plotly.newPlot(\"216315cb-c26a-4ad5-bd52-23896765a78c\", [{\"type\": \"heatmap\", \"z\": [[90.91, 3.73, 4.66, 0.23, 0.23, 0.23], [3.71, 83.84, 10.48, 0.0, 1.31, 0.66], [1.95, 2.1, 94.76, 0.0, 1.05, 0.15], [0.0, 3.85, 15.38, 80.77, 0.0, 0.0], [7.69, 21.54, 14.62, 0.77, 54.62, 0.77], [28.57, 33.33, 30.95, 0.0, 0.0, 7.14]], \"x\": [\"running\", \"walking\", \"car\", \"bike\", \"upstairs\", \"downstairs\"], \"y\": [\"running\", \"walking\", \"car\", \"bike\", \"upstairs\", \"downstairs\"], \"colorscale\": \"RdBu\", \"showscale\": false}], {\"annotations\": [{\"text\": \"90.91\", \"x\": \"running\", \"y\": \"running\", \"xref\": \"x1\", \"yref\": \"y1\", \"font\": {\"color\": \"#000000\"}, \"showarrow\": false}, {\"text\": \"3.73\", \"x\": \"walking\", \"y\": \"running\", \"xref\": \"x1\", \"yref\": \"y1\", \"font\": {\"color\": \"#FFFFFF\"}, \"showarrow\": false}, {\"text\": \"4.66\", \"x\": \"car\", \"y\": \"running\", \"xref\": \"x1\", \"yref\": \"y1\", \"font\": {\"color\": \"#FFFFFF\"}, \"showarrow\": false}, {\"text\": \"0.23\", \"x\": \"bike\", \"y\": \"running\", \"xref\": \"x1\", \"yref\": \"y1\", \"font\": {\"color\": \"#FFFFFF\"}, \"showarrow\": false}, {\"text\": \"0.23\", \"x\": \"upstairs\", \"y\": \"running\", \"xref\": \"x1\", \"yref\": \"y1\", \"font\": {\"color\": \"#FFFFFF\"}, \"showarrow\": false}, {\"text\": \"0.23\", \"x\": \"downstairs\", \"y\": \"running\", \"xref\": \"x1\", \"yref\": \"y1\", \"font\": {\"color\": \"#FFFFFF\"}, \"showarrow\": false}, {\"text\": \"3.71\", \"x\": \"running\", \"y\": \"walking\", \"xref\": \"x1\", \"yref\": \"y1\", \"font\": {\"color\": \"#FFFFFF\"}, \"showarrow\": false}, {\"text\": \"83.84\", \"x\": \"walking\", \"y\": \"walking\", \"xref\": \"x1\", \"yref\": \"y1\", \"font\": {\"color\": \"#000000\"}, \"showarrow\": false}, {\"text\": \"10.48\", \"x\": \"car\", \"y\": \"walking\", \"xref\": \"x1\", \"yref\": \"y1\", \"font\": {\"color\": \"#FFFFFF\"}, \"showarrow\": false}, {\"text\": \"0.0\", \"x\": \"bike\", \"y\": \"walking\", \"xref\": \"x1\", \"yref\": \"y1\", \"font\": {\"color\": \"#FFFFFF\"}, \"showarrow\": false}, {\"text\": \"1.31\", \"x\": \"upstairs\", \"y\": \"walking\", \"xref\": \"x1\", \"yref\": \"y1\", \"font\": {\"color\": \"#FFFFFF\"}, \"showarrow\": false}, {\"text\": \"0.66\", \"x\": \"downstairs\", \"y\": \"walking\", \"xref\": \"x1\", \"yref\": \"y1\", \"font\": {\"color\": \"#FFFFFF\"}, \"showarrow\": false}, {\"text\": \"1.95\", \"x\": \"running\", \"y\": \"car\", \"xref\": \"x1\", \"yref\": \"y1\", \"font\": {\"color\": \"#FFFFFF\"}, \"showarrow\": false}, {\"text\": \"2.1\", \"x\": \"walking\", \"y\": \"car\", \"xref\": \"x1\", \"yref\": \"y1\", \"font\": {\"color\": \"#FFFFFF\"}, \"showarrow\": false}, {\"text\": \"94.76\", \"x\": \"car\", \"y\": \"car\", \"xref\": \"x1\", \"yref\": \"y1\", \"font\": {\"color\": \"#000000\"}, \"showarrow\": false}, {\"text\": \"0.0\", \"x\": \"bike\", \"y\": \"car\", \"xref\": \"x1\", \"yref\": \"y1\", \"font\": {\"color\": \"#FFFFFF\"}, \"showarrow\": false}, {\"text\": \"1.05\", \"x\": \"upstairs\", \"y\": \"car\", \"xref\": \"x1\", \"yref\": \"y1\", \"font\": {\"color\": \"#FFFFFF\"}, \"showarrow\": false}, {\"text\": \"0.15\", \"x\": \"downstairs\", \"y\": \"car\", \"xref\": \"x1\", \"yref\": \"y1\", \"font\": {\"color\": \"#FFFFFF\"}, \"showarrow\": false}, {\"text\": \"0.0\", \"x\": \"running\", \"y\": \"bike\", \"xref\": \"x1\", \"yref\": \"y1\", \"font\": {\"color\": \"#FFFFFF\"}, \"showarrow\": false}, {\"text\": \"3.85\", \"x\": \"walking\", \"y\": \"bike\", \"xref\": \"x1\", \"yref\": \"y1\", \"font\": {\"color\": \"#FFFFFF\"}, \"showarrow\": false}, {\"text\": \"15.38\", \"x\": \"car\", \"y\": \"bike\", \"xref\": \"x1\", \"yref\": \"y1\", \"font\": {\"color\": \"#FFFFFF\"}, \"showarrow\": false}, {\"text\": \"80.77\", \"x\": \"bike\", \"y\": \"bike\", \"xref\": \"x1\", \"yref\": \"y1\", \"font\": {\"color\": \"#000000\"}, \"showarrow\": false}, {\"text\": \"0.0\", \"x\": \"upstairs\", \"y\": \"bike\", \"xref\": \"x1\", \"yref\": \"y1\", \"font\": {\"color\": \"#FFFFFF\"}, \"showarrow\": false}, {\"text\": \"0.0\", \"x\": \"downstairs\", \"y\": \"bike\", \"xref\": \"x1\", \"yref\": \"y1\", \"font\": {\"color\": \"#FFFFFF\"}, \"showarrow\": false}, {\"text\": \"7.69\", \"x\": \"running\", \"y\": \"upstairs\", \"xref\": \"x1\", \"yref\": \"y1\", \"font\": {\"color\": \"#FFFFFF\"}, \"showarrow\": false}, {\"text\": \"21.54\", \"x\": \"walking\", \"y\": \"upstairs\", \"xref\": \"x1\", \"yref\": \"y1\", \"font\": {\"color\": \"#FFFFFF\"}, \"showarrow\": false}, {\"text\": \"14.62\", \"x\": \"car\", \"y\": \"upstairs\", \"xref\": \"x1\", \"yref\": \"y1\", \"font\": {\"color\": \"#FFFFFF\"}, \"showarrow\": false}, {\"text\": \"0.77\", \"x\": \"bike\", \"y\": \"upstairs\", \"xref\": \"x1\", \"yref\": \"y1\", \"font\": {\"color\": \"#FFFFFF\"}, \"showarrow\": false}, {\"text\": \"54.62\", \"x\": \"upstairs\", \"y\": \"upstairs\", \"xref\": \"x1\", \"yref\": \"y1\", \"font\": {\"color\": \"#000000\"}, \"showarrow\": false}, {\"text\": \"0.77\", \"x\": \"downstairs\", \"y\": \"upstairs\", \"xref\": \"x1\", \"yref\": \"y1\", \"font\": {\"color\": \"#FFFFFF\"}, \"showarrow\": false}, {\"text\": \"28.57\", \"x\": \"running\", \"y\": \"downstairs\", \"xref\": \"x1\", \"yref\": \"y1\", \"font\": {\"color\": \"#FFFFFF\"}, \"showarrow\": false}, {\"text\": \"33.33\", \"x\": \"walking\", \"y\": \"downstairs\", \"xref\": \"x1\", \"yref\": \"y1\", \"font\": {\"color\": \"#FFFFFF\"}, \"showarrow\": false}, {\"text\": \"30.95\", \"x\": \"car\", \"y\": \"downstairs\", \"xref\": \"x1\", \"yref\": \"y1\", \"font\": {\"color\": \"#FFFFFF\"}, \"showarrow\": false}, {\"text\": \"0.0\", \"x\": \"bike\", \"y\": \"downstairs\", \"xref\": \"x1\", \"yref\": \"y1\", \"font\": {\"color\": \"#FFFFFF\"}, \"showarrow\": false}, {\"text\": \"0.0\", \"x\": \"upstairs\", \"y\": \"downstairs\", \"xref\": \"x1\", \"yref\": \"y1\", \"font\": {\"color\": \"#FFFFFF\"}, \"showarrow\": false}, {\"text\": \"7.14\", \"x\": \"downstairs\", \"y\": \"downstairs\", \"xref\": \"x1\", \"yref\": \"y1\", \"font\": {\"color\": \"#FFFFFF\"}, \"showarrow\": false}], \"xaxis\": {\"ticks\": \"\", \"dtick\": 1, \"side\": \"top\", \"gridcolor\": \"rgb(0, 0, 0)\"}, \"yaxis\": {\"ticks\": \"\", \"dtick\": 1, \"ticksuffix\": \"  \", \"autorange\": \"reversed\"}, \"title\": \"SVM - overall accuracy: 85.68%\"}, {\"showLink\": true, \"linkText\": \"Export to plot.ly\"})});</script>"
      ]
     },
     "metadata": {},
     "output_type": "display_data"
    },
    {
     "data": {
      "application/vnd.plotly.v1+json": {
       "data": [
        {
         "colorscale": "RdBu",
         "showscale": false,
         "type": "heatmap",
         "x": [
          "running",
          "walking",
          "car",
          "bike",
          "upstairs",
          "downstairs"
         ],
         "y": [
          "running",
          "walking",
          "car",
          "bike",
          "upstairs",
          "downstairs"
         ],
         "z": [
          [
           92.07,
           2.1,
           2.56,
           0.23,
           2.1,
           0.93
          ],
          [
           4.59,
           82.1,
           6.33,
           0.66,
           3.49,
           2.84
          ],
          [
           1.35,
           1.35,
           93.71,
           0.45,
           2.4,
           0.75
          ],
          [
           3.85,
           3.85,
           3.85,
           80.77,
           7.69,
           0
          ],
          [
           3.85,
           20,
           13.08,
           0.77,
           60,
           2.31
          ],
          [
           21.43,
           19.05,
           19.05,
           2.38,
           4.76,
           33.33
          ]
         ]
        }
       ],
       "layout": {
        "annotations": [
         {
          "font": {
           "color": "#000000"
          },
          "showarrow": false,
          "text": "92.07",
          "x": "running",
          "xref": "x1",
          "y": "running",
          "yref": "y1"
         },
         {
          "font": {
           "color": "#FFFFFF"
          },
          "showarrow": false,
          "text": "2.1",
          "x": "walking",
          "xref": "x1",
          "y": "running",
          "yref": "y1"
         },
         {
          "font": {
           "color": "#FFFFFF"
          },
          "showarrow": false,
          "text": "2.56",
          "x": "car",
          "xref": "x1",
          "y": "running",
          "yref": "y1"
         },
         {
          "font": {
           "color": "#FFFFFF"
          },
          "showarrow": false,
          "text": "0.23",
          "x": "bike",
          "xref": "x1",
          "y": "running",
          "yref": "y1"
         },
         {
          "font": {
           "color": "#FFFFFF"
          },
          "showarrow": false,
          "text": "2.1",
          "x": "upstairs",
          "xref": "x1",
          "y": "running",
          "yref": "y1"
         },
         {
          "font": {
           "color": "#FFFFFF"
          },
          "showarrow": false,
          "text": "0.93",
          "x": "downstairs",
          "xref": "x1",
          "y": "running",
          "yref": "y1"
         },
         {
          "font": {
           "color": "#FFFFFF"
          },
          "showarrow": false,
          "text": "4.59",
          "x": "running",
          "xref": "x1",
          "y": "walking",
          "yref": "y1"
         },
         {
          "font": {
           "color": "#000000"
          },
          "showarrow": false,
          "text": "82.1",
          "x": "walking",
          "xref": "x1",
          "y": "walking",
          "yref": "y1"
         },
         {
          "font": {
           "color": "#FFFFFF"
          },
          "showarrow": false,
          "text": "6.33",
          "x": "car",
          "xref": "x1",
          "y": "walking",
          "yref": "y1"
         },
         {
          "font": {
           "color": "#FFFFFF"
          },
          "showarrow": false,
          "text": "0.66",
          "x": "bike",
          "xref": "x1",
          "y": "walking",
          "yref": "y1"
         },
         {
          "font": {
           "color": "#FFFFFF"
          },
          "showarrow": false,
          "text": "3.49",
          "x": "upstairs",
          "xref": "x1",
          "y": "walking",
          "yref": "y1"
         },
         {
          "font": {
           "color": "#FFFFFF"
          },
          "showarrow": false,
          "text": "2.84",
          "x": "downstairs",
          "xref": "x1",
          "y": "walking",
          "yref": "y1"
         },
         {
          "font": {
           "color": "#FFFFFF"
          },
          "showarrow": false,
          "text": "1.35",
          "x": "running",
          "xref": "x1",
          "y": "car",
          "yref": "y1"
         },
         {
          "font": {
           "color": "#FFFFFF"
          },
          "showarrow": false,
          "text": "1.35",
          "x": "walking",
          "xref": "x1",
          "y": "car",
          "yref": "y1"
         },
         {
          "font": {
           "color": "#000000"
          },
          "showarrow": false,
          "text": "93.71",
          "x": "car",
          "xref": "x1",
          "y": "car",
          "yref": "y1"
         },
         {
          "font": {
           "color": "#FFFFFF"
          },
          "showarrow": false,
          "text": "0.45",
          "x": "bike",
          "xref": "x1",
          "y": "car",
          "yref": "y1"
         },
         {
          "font": {
           "color": "#FFFFFF"
          },
          "showarrow": false,
          "text": "2.4",
          "x": "upstairs",
          "xref": "x1",
          "y": "car",
          "yref": "y1"
         },
         {
          "font": {
           "color": "#FFFFFF"
          },
          "showarrow": false,
          "text": "0.75",
          "x": "downstairs",
          "xref": "x1",
          "y": "car",
          "yref": "y1"
         },
         {
          "font": {
           "color": "#FFFFFF"
          },
          "showarrow": false,
          "text": "3.85",
          "x": "running",
          "xref": "x1",
          "y": "bike",
          "yref": "y1"
         },
         {
          "font": {
           "color": "#FFFFFF"
          },
          "showarrow": false,
          "text": "3.85",
          "x": "walking",
          "xref": "x1",
          "y": "bike",
          "yref": "y1"
         },
         {
          "font": {
           "color": "#FFFFFF"
          },
          "showarrow": false,
          "text": "3.85",
          "x": "car",
          "xref": "x1",
          "y": "bike",
          "yref": "y1"
         },
         {
          "font": {
           "color": "#000000"
          },
          "showarrow": false,
          "text": "80.77",
          "x": "bike",
          "xref": "x1",
          "y": "bike",
          "yref": "y1"
         },
         {
          "font": {
           "color": "#FFFFFF"
          },
          "showarrow": false,
          "text": "7.69",
          "x": "upstairs",
          "xref": "x1",
          "y": "bike",
          "yref": "y1"
         },
         {
          "font": {
           "color": "#FFFFFF"
          },
          "showarrow": false,
          "text": "0.0",
          "x": "downstairs",
          "xref": "x1",
          "y": "bike",
          "yref": "y1"
         },
         {
          "font": {
           "color": "#FFFFFF"
          },
          "showarrow": false,
          "text": "3.85",
          "x": "running",
          "xref": "x1",
          "y": "upstairs",
          "yref": "y1"
         },
         {
          "font": {
           "color": "#FFFFFF"
          },
          "showarrow": false,
          "text": "20.0",
          "x": "walking",
          "xref": "x1",
          "y": "upstairs",
          "yref": "y1"
         },
         {
          "font": {
           "color": "#FFFFFF"
          },
          "showarrow": false,
          "text": "13.08",
          "x": "car",
          "xref": "x1",
          "y": "upstairs",
          "yref": "y1"
         },
         {
          "font": {
           "color": "#FFFFFF"
          },
          "showarrow": false,
          "text": "0.77",
          "x": "bike",
          "xref": "x1",
          "y": "upstairs",
          "yref": "y1"
         },
         {
          "font": {
           "color": "#000000"
          },
          "showarrow": false,
          "text": "60.0",
          "x": "upstairs",
          "xref": "x1",
          "y": "upstairs",
          "yref": "y1"
         },
         {
          "font": {
           "color": "#FFFFFF"
          },
          "showarrow": false,
          "text": "2.31",
          "x": "downstairs",
          "xref": "x1",
          "y": "upstairs",
          "yref": "y1"
         },
         {
          "font": {
           "color": "#FFFFFF"
          },
          "showarrow": false,
          "text": "21.43",
          "x": "running",
          "xref": "x1",
          "y": "downstairs",
          "yref": "y1"
         },
         {
          "font": {
           "color": "#FFFFFF"
          },
          "showarrow": false,
          "text": "19.05",
          "x": "walking",
          "xref": "x1",
          "y": "downstairs",
          "yref": "y1"
         },
         {
          "font": {
           "color": "#FFFFFF"
          },
          "showarrow": false,
          "text": "19.05",
          "x": "car",
          "xref": "x1",
          "y": "downstairs",
          "yref": "y1"
         },
         {
          "font": {
           "color": "#FFFFFF"
          },
          "showarrow": false,
          "text": "2.38",
          "x": "bike",
          "xref": "x1",
          "y": "downstairs",
          "yref": "y1"
         },
         {
          "font": {
           "color": "#FFFFFF"
          },
          "showarrow": false,
          "text": "4.76",
          "x": "upstairs",
          "xref": "x1",
          "y": "downstairs",
          "yref": "y1"
         },
         {
          "font": {
           "color": "#FFFFFF"
          },
          "showarrow": false,
          "text": "33.33",
          "x": "downstairs",
          "xref": "x1",
          "y": "downstairs",
          "yref": "y1"
         }
        ],
        "title": "MLP - overall accuracy: 86.14%",
        "xaxis": {
         "dtick": 1,
         "gridcolor": "rgb(0, 0, 0)",
         "side": "top",
         "ticks": ""
        },
        "yaxis": {
         "autorange": "reversed",
         "dtick": 1,
         "ticks": "",
         "ticksuffix": "  "
        }
       }
      },
      "text/html": [
       "<div id=\"1985351c-fe00-4e1d-b1a3-494f31a284b7\" style=\"height: 525px; width: 100%;\" class=\"plotly-graph-div\"></div><script type=\"text/javascript\">require([\"plotly\"], function(Plotly) { window.PLOTLYENV=window.PLOTLYENV || {};window.PLOTLYENV.BASE_URL=\"https://plot.ly\";Plotly.newPlot(\"1985351c-fe00-4e1d-b1a3-494f31a284b7\", [{\"type\": \"heatmap\", \"z\": [[92.07, 2.1, 2.56, 0.23, 2.1, 0.93], [4.59, 82.1, 6.33, 0.66, 3.49, 2.84], [1.35, 1.35, 93.71, 0.45, 2.4, 0.75], [3.85, 3.85, 3.85, 80.77, 7.69, 0.0], [3.85, 20.0, 13.08, 0.77, 60.0, 2.31], [21.43, 19.05, 19.05, 2.38, 4.76, 33.33]], \"x\": [\"running\", \"walking\", \"car\", \"bike\", \"upstairs\", \"downstairs\"], \"y\": [\"running\", \"walking\", \"car\", \"bike\", \"upstairs\", \"downstairs\"], \"colorscale\": \"RdBu\", \"showscale\": false}], {\"annotations\": [{\"text\": \"92.07\", \"x\": \"running\", \"y\": \"running\", \"xref\": \"x1\", \"yref\": \"y1\", \"font\": {\"color\": \"#000000\"}, \"showarrow\": false}, {\"text\": \"2.1\", \"x\": \"walking\", \"y\": \"running\", \"xref\": \"x1\", \"yref\": \"y1\", \"font\": {\"color\": \"#FFFFFF\"}, \"showarrow\": false}, {\"text\": \"2.56\", \"x\": \"car\", \"y\": \"running\", \"xref\": \"x1\", \"yref\": \"y1\", \"font\": {\"color\": \"#FFFFFF\"}, \"showarrow\": false}, {\"text\": \"0.23\", \"x\": \"bike\", \"y\": \"running\", \"xref\": \"x1\", \"yref\": \"y1\", \"font\": {\"color\": \"#FFFFFF\"}, \"showarrow\": false}, {\"text\": \"2.1\", \"x\": \"upstairs\", \"y\": \"running\", \"xref\": \"x1\", \"yref\": \"y1\", \"font\": {\"color\": \"#FFFFFF\"}, \"showarrow\": false}, {\"text\": \"0.93\", \"x\": \"downstairs\", \"y\": \"running\", \"xref\": \"x1\", \"yref\": \"y1\", \"font\": {\"color\": \"#FFFFFF\"}, \"showarrow\": false}, {\"text\": \"4.59\", \"x\": \"running\", \"y\": \"walking\", \"xref\": \"x1\", \"yref\": \"y1\", \"font\": {\"color\": \"#FFFFFF\"}, \"showarrow\": false}, {\"text\": \"82.1\", \"x\": \"walking\", \"y\": \"walking\", \"xref\": \"x1\", \"yref\": \"y1\", \"font\": {\"color\": \"#000000\"}, \"showarrow\": false}, {\"text\": \"6.33\", \"x\": \"car\", \"y\": \"walking\", \"xref\": \"x1\", \"yref\": \"y1\", \"font\": {\"color\": \"#FFFFFF\"}, \"showarrow\": false}, {\"text\": \"0.66\", \"x\": \"bike\", \"y\": \"walking\", \"xref\": \"x1\", \"yref\": \"y1\", \"font\": {\"color\": \"#FFFFFF\"}, \"showarrow\": false}, {\"text\": \"3.49\", \"x\": \"upstairs\", \"y\": \"walking\", \"xref\": \"x1\", \"yref\": \"y1\", \"font\": {\"color\": \"#FFFFFF\"}, \"showarrow\": false}, {\"text\": \"2.84\", \"x\": \"downstairs\", \"y\": \"walking\", \"xref\": \"x1\", \"yref\": \"y1\", \"font\": {\"color\": \"#FFFFFF\"}, \"showarrow\": false}, {\"text\": \"1.35\", \"x\": \"running\", \"y\": \"car\", \"xref\": \"x1\", \"yref\": \"y1\", \"font\": {\"color\": \"#FFFFFF\"}, \"showarrow\": false}, {\"text\": \"1.35\", \"x\": \"walking\", \"y\": \"car\", \"xref\": \"x1\", \"yref\": \"y1\", \"font\": {\"color\": \"#FFFFFF\"}, \"showarrow\": false}, {\"text\": \"93.71\", \"x\": \"car\", \"y\": \"car\", \"xref\": \"x1\", \"yref\": \"y1\", \"font\": {\"color\": \"#000000\"}, \"showarrow\": false}, {\"text\": \"0.45\", \"x\": \"bike\", \"y\": \"car\", \"xref\": \"x1\", \"yref\": \"y1\", \"font\": {\"color\": \"#FFFFFF\"}, \"showarrow\": false}, {\"text\": \"2.4\", \"x\": \"upstairs\", \"y\": \"car\", \"xref\": \"x1\", \"yref\": \"y1\", \"font\": {\"color\": \"#FFFFFF\"}, \"showarrow\": false}, {\"text\": \"0.75\", \"x\": \"downstairs\", \"y\": \"car\", \"xref\": \"x1\", \"yref\": \"y1\", \"font\": {\"color\": \"#FFFFFF\"}, \"showarrow\": false}, {\"text\": \"3.85\", \"x\": \"running\", \"y\": \"bike\", \"xref\": \"x1\", \"yref\": \"y1\", \"font\": {\"color\": \"#FFFFFF\"}, \"showarrow\": false}, {\"text\": \"3.85\", \"x\": \"walking\", \"y\": \"bike\", \"xref\": \"x1\", \"yref\": \"y1\", \"font\": {\"color\": \"#FFFFFF\"}, \"showarrow\": false}, {\"text\": \"3.85\", \"x\": \"car\", \"y\": \"bike\", \"xref\": \"x1\", \"yref\": \"y1\", \"font\": {\"color\": \"#FFFFFF\"}, \"showarrow\": false}, {\"text\": \"80.77\", \"x\": \"bike\", \"y\": \"bike\", \"xref\": \"x1\", \"yref\": \"y1\", \"font\": {\"color\": \"#000000\"}, \"showarrow\": false}, {\"text\": \"7.69\", \"x\": \"upstairs\", \"y\": \"bike\", \"xref\": \"x1\", \"yref\": \"y1\", \"font\": {\"color\": \"#FFFFFF\"}, \"showarrow\": false}, {\"text\": \"0.0\", \"x\": \"downstairs\", \"y\": \"bike\", \"xref\": \"x1\", \"yref\": \"y1\", \"font\": {\"color\": \"#FFFFFF\"}, \"showarrow\": false}, {\"text\": \"3.85\", \"x\": \"running\", \"y\": \"upstairs\", \"xref\": \"x1\", \"yref\": \"y1\", \"font\": {\"color\": \"#FFFFFF\"}, \"showarrow\": false}, {\"text\": \"20.0\", \"x\": \"walking\", \"y\": \"upstairs\", \"xref\": \"x1\", \"yref\": \"y1\", \"font\": {\"color\": \"#FFFFFF\"}, \"showarrow\": false}, {\"text\": \"13.08\", \"x\": \"car\", \"y\": \"upstairs\", \"xref\": \"x1\", \"yref\": \"y1\", \"font\": {\"color\": \"#FFFFFF\"}, \"showarrow\": false}, {\"text\": \"0.77\", \"x\": \"bike\", \"y\": \"upstairs\", \"xref\": \"x1\", \"yref\": \"y1\", \"font\": {\"color\": \"#FFFFFF\"}, \"showarrow\": false}, {\"text\": \"60.0\", \"x\": \"upstairs\", \"y\": \"upstairs\", \"xref\": \"x1\", \"yref\": \"y1\", \"font\": {\"color\": \"#000000\"}, \"showarrow\": false}, {\"text\": \"2.31\", \"x\": \"downstairs\", \"y\": \"upstairs\", \"xref\": \"x1\", \"yref\": \"y1\", \"font\": {\"color\": \"#FFFFFF\"}, \"showarrow\": false}, {\"text\": \"21.43\", \"x\": \"running\", \"y\": \"downstairs\", \"xref\": \"x1\", \"yref\": \"y1\", \"font\": {\"color\": \"#FFFFFF\"}, \"showarrow\": false}, {\"text\": \"19.05\", \"x\": \"walking\", \"y\": \"downstairs\", \"xref\": \"x1\", \"yref\": \"y1\", \"font\": {\"color\": \"#FFFFFF\"}, \"showarrow\": false}, {\"text\": \"19.05\", \"x\": \"car\", \"y\": \"downstairs\", \"xref\": \"x1\", \"yref\": \"y1\", \"font\": {\"color\": \"#FFFFFF\"}, \"showarrow\": false}, {\"text\": \"2.38\", \"x\": \"bike\", \"y\": \"downstairs\", \"xref\": \"x1\", \"yref\": \"y1\", \"font\": {\"color\": \"#FFFFFF\"}, \"showarrow\": false}, {\"text\": \"4.76\", \"x\": \"upstairs\", \"y\": \"downstairs\", \"xref\": \"x1\", \"yref\": \"y1\", \"font\": {\"color\": \"#FFFFFF\"}, \"showarrow\": false}, {\"text\": \"33.33\", \"x\": \"downstairs\", \"y\": \"downstairs\", \"xref\": \"x1\", \"yref\": \"y1\", \"font\": {\"color\": \"#FFFFFF\"}, \"showarrow\": false}], \"xaxis\": {\"ticks\": \"\", \"dtick\": 1, \"side\": \"top\", \"gridcolor\": \"rgb(0, 0, 0)\"}, \"yaxis\": {\"ticks\": \"\", \"dtick\": 1, \"ticksuffix\": \"  \", \"autorange\": \"reversed\"}, \"title\": \"MLP - overall accuracy: 86.14%\"}, {\"showLink\": true, \"linkText\": \"Export to plot.ly\"})});</script>"
      ],
      "text/vnd.plotly.v1+html": [
       "<div id=\"1985351c-fe00-4e1d-b1a3-494f31a284b7\" style=\"height: 525px; width: 100%;\" class=\"plotly-graph-div\"></div><script type=\"text/javascript\">require([\"plotly\"], function(Plotly) { window.PLOTLYENV=window.PLOTLYENV || {};window.PLOTLYENV.BASE_URL=\"https://plot.ly\";Plotly.newPlot(\"1985351c-fe00-4e1d-b1a3-494f31a284b7\", [{\"type\": \"heatmap\", \"z\": [[92.07, 2.1, 2.56, 0.23, 2.1, 0.93], [4.59, 82.1, 6.33, 0.66, 3.49, 2.84], [1.35, 1.35, 93.71, 0.45, 2.4, 0.75], [3.85, 3.85, 3.85, 80.77, 7.69, 0.0], [3.85, 20.0, 13.08, 0.77, 60.0, 2.31], [21.43, 19.05, 19.05, 2.38, 4.76, 33.33]], \"x\": [\"running\", \"walking\", \"car\", \"bike\", \"upstairs\", \"downstairs\"], \"y\": [\"running\", \"walking\", \"car\", \"bike\", \"upstairs\", \"downstairs\"], \"colorscale\": \"RdBu\", \"showscale\": false}], {\"annotations\": [{\"text\": \"92.07\", \"x\": \"running\", \"y\": \"running\", \"xref\": \"x1\", \"yref\": \"y1\", \"font\": {\"color\": \"#000000\"}, \"showarrow\": false}, {\"text\": \"2.1\", \"x\": \"walking\", \"y\": \"running\", \"xref\": \"x1\", \"yref\": \"y1\", \"font\": {\"color\": \"#FFFFFF\"}, \"showarrow\": false}, {\"text\": \"2.56\", \"x\": \"car\", \"y\": \"running\", \"xref\": \"x1\", \"yref\": \"y1\", \"font\": {\"color\": \"#FFFFFF\"}, \"showarrow\": false}, {\"text\": \"0.23\", \"x\": \"bike\", \"y\": \"running\", \"xref\": \"x1\", \"yref\": \"y1\", \"font\": {\"color\": \"#FFFFFF\"}, \"showarrow\": false}, {\"text\": \"2.1\", \"x\": \"upstairs\", \"y\": \"running\", \"xref\": \"x1\", \"yref\": \"y1\", \"font\": {\"color\": \"#FFFFFF\"}, \"showarrow\": false}, {\"text\": \"0.93\", \"x\": \"downstairs\", \"y\": \"running\", \"xref\": \"x1\", \"yref\": \"y1\", \"font\": {\"color\": \"#FFFFFF\"}, \"showarrow\": false}, {\"text\": \"4.59\", \"x\": \"running\", \"y\": \"walking\", \"xref\": \"x1\", \"yref\": \"y1\", \"font\": {\"color\": \"#FFFFFF\"}, \"showarrow\": false}, {\"text\": \"82.1\", \"x\": \"walking\", \"y\": \"walking\", \"xref\": \"x1\", \"yref\": \"y1\", \"font\": {\"color\": \"#000000\"}, \"showarrow\": false}, {\"text\": \"6.33\", \"x\": \"car\", \"y\": \"walking\", \"xref\": \"x1\", \"yref\": \"y1\", \"font\": {\"color\": \"#FFFFFF\"}, \"showarrow\": false}, {\"text\": \"0.66\", \"x\": \"bike\", \"y\": \"walking\", \"xref\": \"x1\", \"yref\": \"y1\", \"font\": {\"color\": \"#FFFFFF\"}, \"showarrow\": false}, {\"text\": \"3.49\", \"x\": \"upstairs\", \"y\": \"walking\", \"xref\": \"x1\", \"yref\": \"y1\", \"font\": {\"color\": \"#FFFFFF\"}, \"showarrow\": false}, {\"text\": \"2.84\", \"x\": \"downstairs\", \"y\": \"walking\", \"xref\": \"x1\", \"yref\": \"y1\", \"font\": {\"color\": \"#FFFFFF\"}, \"showarrow\": false}, {\"text\": \"1.35\", \"x\": \"running\", \"y\": \"car\", \"xref\": \"x1\", \"yref\": \"y1\", \"font\": {\"color\": \"#FFFFFF\"}, \"showarrow\": false}, {\"text\": \"1.35\", \"x\": \"walking\", \"y\": \"car\", \"xref\": \"x1\", \"yref\": \"y1\", \"font\": {\"color\": \"#FFFFFF\"}, \"showarrow\": false}, {\"text\": \"93.71\", \"x\": \"car\", \"y\": \"car\", \"xref\": \"x1\", \"yref\": \"y1\", \"font\": {\"color\": \"#000000\"}, \"showarrow\": false}, {\"text\": \"0.45\", \"x\": \"bike\", \"y\": \"car\", \"xref\": \"x1\", \"yref\": \"y1\", \"font\": {\"color\": \"#FFFFFF\"}, \"showarrow\": false}, {\"text\": \"2.4\", \"x\": \"upstairs\", \"y\": \"car\", \"xref\": \"x1\", \"yref\": \"y1\", \"font\": {\"color\": \"#FFFFFF\"}, \"showarrow\": false}, {\"text\": \"0.75\", \"x\": \"downstairs\", \"y\": \"car\", \"xref\": \"x1\", \"yref\": \"y1\", \"font\": {\"color\": \"#FFFFFF\"}, \"showarrow\": false}, {\"text\": \"3.85\", \"x\": \"running\", \"y\": \"bike\", \"xref\": \"x1\", \"yref\": \"y1\", \"font\": {\"color\": \"#FFFFFF\"}, \"showarrow\": false}, {\"text\": \"3.85\", \"x\": \"walking\", \"y\": \"bike\", \"xref\": \"x1\", \"yref\": \"y1\", \"font\": {\"color\": \"#FFFFFF\"}, \"showarrow\": false}, {\"text\": \"3.85\", \"x\": \"car\", \"y\": \"bike\", \"xref\": \"x1\", \"yref\": \"y1\", \"font\": {\"color\": \"#FFFFFF\"}, \"showarrow\": false}, {\"text\": \"80.77\", \"x\": \"bike\", \"y\": \"bike\", \"xref\": \"x1\", \"yref\": \"y1\", \"font\": {\"color\": \"#000000\"}, \"showarrow\": false}, {\"text\": \"7.69\", \"x\": \"upstairs\", \"y\": \"bike\", \"xref\": \"x1\", \"yref\": \"y1\", \"font\": {\"color\": \"#FFFFFF\"}, \"showarrow\": false}, {\"text\": \"0.0\", \"x\": \"downstairs\", \"y\": \"bike\", \"xref\": \"x1\", \"yref\": \"y1\", \"font\": {\"color\": \"#FFFFFF\"}, \"showarrow\": false}, {\"text\": \"3.85\", \"x\": \"running\", \"y\": \"upstairs\", \"xref\": \"x1\", \"yref\": \"y1\", \"font\": {\"color\": \"#FFFFFF\"}, \"showarrow\": false}, {\"text\": \"20.0\", \"x\": \"walking\", \"y\": \"upstairs\", \"xref\": \"x1\", \"yref\": \"y1\", \"font\": {\"color\": \"#FFFFFF\"}, \"showarrow\": false}, {\"text\": \"13.08\", \"x\": \"car\", \"y\": \"upstairs\", \"xref\": \"x1\", \"yref\": \"y1\", \"font\": {\"color\": \"#FFFFFF\"}, \"showarrow\": false}, {\"text\": \"0.77\", \"x\": \"bike\", \"y\": \"upstairs\", \"xref\": \"x1\", \"yref\": \"y1\", \"font\": {\"color\": \"#FFFFFF\"}, \"showarrow\": false}, {\"text\": \"60.0\", \"x\": \"upstairs\", \"y\": \"upstairs\", \"xref\": \"x1\", \"yref\": \"y1\", \"font\": {\"color\": \"#000000\"}, \"showarrow\": false}, {\"text\": \"2.31\", \"x\": \"downstairs\", \"y\": \"upstairs\", \"xref\": \"x1\", \"yref\": \"y1\", \"font\": {\"color\": \"#FFFFFF\"}, \"showarrow\": false}, {\"text\": \"21.43\", \"x\": \"running\", \"y\": \"downstairs\", \"xref\": \"x1\", \"yref\": \"y1\", \"font\": {\"color\": \"#FFFFFF\"}, \"showarrow\": false}, {\"text\": \"19.05\", \"x\": \"walking\", \"y\": \"downstairs\", \"xref\": \"x1\", \"yref\": \"y1\", \"font\": {\"color\": \"#FFFFFF\"}, \"showarrow\": false}, {\"text\": \"19.05\", \"x\": \"car\", \"y\": \"downstairs\", \"xref\": \"x1\", \"yref\": \"y1\", \"font\": {\"color\": \"#FFFFFF\"}, \"showarrow\": false}, {\"text\": \"2.38\", \"x\": \"bike\", \"y\": \"downstairs\", \"xref\": \"x1\", \"yref\": \"y1\", \"font\": {\"color\": \"#FFFFFF\"}, \"showarrow\": false}, {\"text\": \"4.76\", \"x\": \"upstairs\", \"y\": \"downstairs\", \"xref\": \"x1\", \"yref\": \"y1\", \"font\": {\"color\": \"#FFFFFF\"}, \"showarrow\": false}, {\"text\": \"33.33\", \"x\": \"downstairs\", \"y\": \"downstairs\", \"xref\": \"x1\", \"yref\": \"y1\", \"font\": {\"color\": \"#FFFFFF\"}, \"showarrow\": false}], \"xaxis\": {\"ticks\": \"\", \"dtick\": 1, \"side\": \"top\", \"gridcolor\": \"rgb(0, 0, 0)\"}, \"yaxis\": {\"ticks\": \"\", \"dtick\": 1, \"ticksuffix\": \"  \", \"autorange\": \"reversed\"}, \"title\": \"MLP - overall accuracy: 86.14%\"}, {\"showLink\": true, \"linkText\": \"Export to plot.ly\"})});</script>"
      ]
     },
     "metadata": {},
     "output_type": "display_data"
    },
    {
     "data": {
      "application/vnd.plotly.v1+json": {
       "data": [
        {
         "colorscale": "RdBu",
         "showscale": false,
         "type": "heatmap",
         "x": [
          "running",
          "walking",
          "car",
          "bike",
          "upstairs",
          "downstairs"
         ],
         "y": [
          "running",
          "walking",
          "car",
          "bike",
          "upstairs",
          "downstairs"
         ],
         "z": [
          [
           95.1,
           3.73,
           0.7,
           0.23,
           0.23,
           0
          ],
          [
           10.7,
           84.72,
           2.84,
           0,
           1.09,
           0.66
          ],
          [
           8.08,
           6.74,
           83.38,
           0.15,
           1.5,
           0.15
          ],
          [
           23.08,
           42.31,
           3.85,
           26.92,
           3.85,
           0
          ],
          [
           17.69,
           29.23,
           5.38,
           0,
           46.92,
           0.77
          ],
          [
           40.48,
           30.95,
           4.76,
           0,
           11.9,
           11.9
          ]
         ]
        }
       ],
       "layout": {
        "annotations": [
         {
          "font": {
           "color": "#000000"
          },
          "showarrow": false,
          "text": "95.1",
          "x": "running",
          "xref": "x1",
          "y": "running",
          "yref": "y1"
         },
         {
          "font": {
           "color": "#FFFFFF"
          },
          "showarrow": false,
          "text": "3.73",
          "x": "walking",
          "xref": "x1",
          "y": "running",
          "yref": "y1"
         },
         {
          "font": {
           "color": "#FFFFFF"
          },
          "showarrow": false,
          "text": "0.7",
          "x": "car",
          "xref": "x1",
          "y": "running",
          "yref": "y1"
         },
         {
          "font": {
           "color": "#FFFFFF"
          },
          "showarrow": false,
          "text": "0.23",
          "x": "bike",
          "xref": "x1",
          "y": "running",
          "yref": "y1"
         },
         {
          "font": {
           "color": "#FFFFFF"
          },
          "showarrow": false,
          "text": "0.23",
          "x": "upstairs",
          "xref": "x1",
          "y": "running",
          "yref": "y1"
         },
         {
          "font": {
           "color": "#FFFFFF"
          },
          "showarrow": false,
          "text": "0.0",
          "x": "downstairs",
          "xref": "x1",
          "y": "running",
          "yref": "y1"
         },
         {
          "font": {
           "color": "#FFFFFF"
          },
          "showarrow": false,
          "text": "10.7",
          "x": "running",
          "xref": "x1",
          "y": "walking",
          "yref": "y1"
         },
         {
          "font": {
           "color": "#000000"
          },
          "showarrow": false,
          "text": "84.72",
          "x": "walking",
          "xref": "x1",
          "y": "walking",
          "yref": "y1"
         },
         {
          "font": {
           "color": "#FFFFFF"
          },
          "showarrow": false,
          "text": "2.84",
          "x": "car",
          "xref": "x1",
          "y": "walking",
          "yref": "y1"
         },
         {
          "font": {
           "color": "#FFFFFF"
          },
          "showarrow": false,
          "text": "0.0",
          "x": "bike",
          "xref": "x1",
          "y": "walking",
          "yref": "y1"
         },
         {
          "font": {
           "color": "#FFFFFF"
          },
          "showarrow": false,
          "text": "1.09",
          "x": "upstairs",
          "xref": "x1",
          "y": "walking",
          "yref": "y1"
         },
         {
          "font": {
           "color": "#FFFFFF"
          },
          "showarrow": false,
          "text": "0.66",
          "x": "downstairs",
          "xref": "x1",
          "y": "walking",
          "yref": "y1"
         },
         {
          "font": {
           "color": "#FFFFFF"
          },
          "showarrow": false,
          "text": "8.08",
          "x": "running",
          "xref": "x1",
          "y": "car",
          "yref": "y1"
         },
         {
          "font": {
           "color": "#FFFFFF"
          },
          "showarrow": false,
          "text": "6.74",
          "x": "walking",
          "xref": "x1",
          "y": "car",
          "yref": "y1"
         },
         {
          "font": {
           "color": "#000000"
          },
          "showarrow": false,
          "text": "83.38",
          "x": "car",
          "xref": "x1",
          "y": "car",
          "yref": "y1"
         },
         {
          "font": {
           "color": "#FFFFFF"
          },
          "showarrow": false,
          "text": "0.15",
          "x": "bike",
          "xref": "x1",
          "y": "car",
          "yref": "y1"
         },
         {
          "font": {
           "color": "#FFFFFF"
          },
          "showarrow": false,
          "text": "1.5",
          "x": "upstairs",
          "xref": "x1",
          "y": "car",
          "yref": "y1"
         },
         {
          "font": {
           "color": "#FFFFFF"
          },
          "showarrow": false,
          "text": "0.15",
          "x": "downstairs",
          "xref": "x1",
          "y": "car",
          "yref": "y1"
         },
         {
          "font": {
           "color": "#FFFFFF"
          },
          "showarrow": false,
          "text": "23.08",
          "x": "running",
          "xref": "x1",
          "y": "bike",
          "yref": "y1"
         },
         {
          "font": {
           "color": "#FFFFFF"
          },
          "showarrow": false,
          "text": "42.31",
          "x": "walking",
          "xref": "x1",
          "y": "bike",
          "yref": "y1"
         },
         {
          "font": {
           "color": "#FFFFFF"
          },
          "showarrow": false,
          "text": "3.85",
          "x": "car",
          "xref": "x1",
          "y": "bike",
          "yref": "y1"
         },
         {
          "font": {
           "color": "#FFFFFF"
          },
          "showarrow": false,
          "text": "26.92",
          "x": "bike",
          "xref": "x1",
          "y": "bike",
          "yref": "y1"
         },
         {
          "font": {
           "color": "#FFFFFF"
          },
          "showarrow": false,
          "text": "3.85",
          "x": "upstairs",
          "xref": "x1",
          "y": "bike",
          "yref": "y1"
         },
         {
          "font": {
           "color": "#FFFFFF"
          },
          "showarrow": false,
          "text": "0.0",
          "x": "downstairs",
          "xref": "x1",
          "y": "bike",
          "yref": "y1"
         },
         {
          "font": {
           "color": "#FFFFFF"
          },
          "showarrow": false,
          "text": "17.69",
          "x": "running",
          "xref": "x1",
          "y": "upstairs",
          "yref": "y1"
         },
         {
          "font": {
           "color": "#FFFFFF"
          },
          "showarrow": false,
          "text": "29.23",
          "x": "walking",
          "xref": "x1",
          "y": "upstairs",
          "yref": "y1"
         },
         {
          "font": {
           "color": "#FFFFFF"
          },
          "showarrow": false,
          "text": "5.38",
          "x": "car",
          "xref": "x1",
          "y": "upstairs",
          "yref": "y1"
         },
         {
          "font": {
           "color": "#FFFFFF"
          },
          "showarrow": false,
          "text": "0.0",
          "x": "bike",
          "xref": "x1",
          "y": "upstairs",
          "yref": "y1"
         },
         {
          "font": {
           "color": "#FFFFFF"
          },
          "showarrow": false,
          "text": "46.92",
          "x": "upstairs",
          "xref": "x1",
          "y": "upstairs",
          "yref": "y1"
         },
         {
          "font": {
           "color": "#FFFFFF"
          },
          "showarrow": false,
          "text": "0.77",
          "x": "downstairs",
          "xref": "x1",
          "y": "upstairs",
          "yref": "y1"
         },
         {
          "font": {
           "color": "#FFFFFF"
          },
          "showarrow": false,
          "text": "40.48",
          "x": "running",
          "xref": "x1",
          "y": "downstairs",
          "yref": "y1"
         },
         {
          "font": {
           "color": "#FFFFFF"
          },
          "showarrow": false,
          "text": "30.95",
          "x": "walking",
          "xref": "x1",
          "y": "downstairs",
          "yref": "y1"
         },
         {
          "font": {
           "color": "#FFFFFF"
          },
          "showarrow": false,
          "text": "4.76",
          "x": "car",
          "xref": "x1",
          "y": "downstairs",
          "yref": "y1"
         },
         {
          "font": {
           "color": "#FFFFFF"
          },
          "showarrow": false,
          "text": "0.0",
          "x": "bike",
          "xref": "x1",
          "y": "downstairs",
          "yref": "y1"
         },
         {
          "font": {
           "color": "#FFFFFF"
          },
          "showarrow": false,
          "text": "11.9",
          "x": "upstairs",
          "xref": "x1",
          "y": "downstairs",
          "yref": "y1"
         },
         {
          "font": {
           "color": "#FFFFFF"
          },
          "showarrow": false,
          "text": "11.9",
          "x": "downstairs",
          "xref": "x1",
          "y": "downstairs",
          "yref": "y1"
         }
        ],
        "title": "KNN - overall accuracy: 81.35%",
        "xaxis": {
         "dtick": 1,
         "gridcolor": "rgb(0, 0, 0)",
         "side": "top",
         "ticks": ""
        },
        "yaxis": {
         "autorange": "reversed",
         "dtick": 1,
         "ticks": "",
         "ticksuffix": "  "
        }
       }
      },
      "text/html": [
       "<div id=\"56518978-d2e8-49ae-872e-b595bf425762\" style=\"height: 525px; width: 100%;\" class=\"plotly-graph-div\"></div><script type=\"text/javascript\">require([\"plotly\"], function(Plotly) { window.PLOTLYENV=window.PLOTLYENV || {};window.PLOTLYENV.BASE_URL=\"https://plot.ly\";Plotly.newPlot(\"56518978-d2e8-49ae-872e-b595bf425762\", [{\"type\": \"heatmap\", \"z\": [[95.1, 3.73, 0.7, 0.23, 0.23, 0.0], [10.7, 84.72, 2.84, 0.0, 1.09, 0.66], [8.08, 6.74, 83.38, 0.15, 1.5, 0.15], [23.08, 42.31, 3.85, 26.92, 3.85, 0.0], [17.69, 29.23, 5.38, 0.0, 46.92, 0.77], [40.48, 30.95, 4.76, 0.0, 11.9, 11.9]], \"x\": [\"running\", \"walking\", \"car\", \"bike\", \"upstairs\", \"downstairs\"], \"y\": [\"running\", \"walking\", \"car\", \"bike\", \"upstairs\", \"downstairs\"], \"colorscale\": \"RdBu\", \"showscale\": false}], {\"annotations\": [{\"text\": \"95.1\", \"x\": \"running\", \"y\": \"running\", \"xref\": \"x1\", \"yref\": \"y1\", \"font\": {\"color\": \"#000000\"}, \"showarrow\": false}, {\"text\": \"3.73\", \"x\": \"walking\", \"y\": \"running\", \"xref\": \"x1\", \"yref\": \"y1\", \"font\": {\"color\": \"#FFFFFF\"}, \"showarrow\": false}, {\"text\": \"0.7\", \"x\": \"car\", \"y\": \"running\", \"xref\": \"x1\", \"yref\": \"y1\", \"font\": {\"color\": \"#FFFFFF\"}, \"showarrow\": false}, {\"text\": \"0.23\", \"x\": \"bike\", \"y\": \"running\", \"xref\": \"x1\", \"yref\": \"y1\", \"font\": {\"color\": \"#FFFFFF\"}, \"showarrow\": false}, {\"text\": \"0.23\", \"x\": \"upstairs\", \"y\": \"running\", \"xref\": \"x1\", \"yref\": \"y1\", \"font\": {\"color\": \"#FFFFFF\"}, \"showarrow\": false}, {\"text\": \"0.0\", \"x\": \"downstairs\", \"y\": \"running\", \"xref\": \"x1\", \"yref\": \"y1\", \"font\": {\"color\": \"#FFFFFF\"}, \"showarrow\": false}, {\"text\": \"10.7\", \"x\": \"running\", \"y\": \"walking\", \"xref\": \"x1\", \"yref\": \"y1\", \"font\": {\"color\": \"#FFFFFF\"}, \"showarrow\": false}, {\"text\": \"84.72\", \"x\": \"walking\", \"y\": \"walking\", \"xref\": \"x1\", \"yref\": \"y1\", \"font\": {\"color\": \"#000000\"}, \"showarrow\": false}, {\"text\": \"2.84\", \"x\": \"car\", \"y\": \"walking\", \"xref\": \"x1\", \"yref\": \"y1\", \"font\": {\"color\": \"#FFFFFF\"}, \"showarrow\": false}, {\"text\": \"0.0\", \"x\": \"bike\", \"y\": \"walking\", \"xref\": \"x1\", \"yref\": \"y1\", \"font\": {\"color\": \"#FFFFFF\"}, \"showarrow\": false}, {\"text\": \"1.09\", \"x\": \"upstairs\", \"y\": \"walking\", \"xref\": \"x1\", \"yref\": \"y1\", \"font\": {\"color\": \"#FFFFFF\"}, \"showarrow\": false}, {\"text\": \"0.66\", \"x\": \"downstairs\", \"y\": \"walking\", \"xref\": \"x1\", \"yref\": \"y1\", \"font\": {\"color\": \"#FFFFFF\"}, \"showarrow\": false}, {\"text\": \"8.08\", \"x\": \"running\", \"y\": \"car\", \"xref\": \"x1\", \"yref\": \"y1\", \"font\": {\"color\": \"#FFFFFF\"}, \"showarrow\": false}, {\"text\": \"6.74\", \"x\": \"walking\", \"y\": \"car\", \"xref\": \"x1\", \"yref\": \"y1\", \"font\": {\"color\": \"#FFFFFF\"}, \"showarrow\": false}, {\"text\": \"83.38\", \"x\": \"car\", \"y\": \"car\", \"xref\": \"x1\", \"yref\": \"y1\", \"font\": {\"color\": \"#000000\"}, \"showarrow\": false}, {\"text\": \"0.15\", \"x\": \"bike\", \"y\": \"car\", \"xref\": \"x1\", \"yref\": \"y1\", \"font\": {\"color\": \"#FFFFFF\"}, \"showarrow\": false}, {\"text\": \"1.5\", \"x\": \"upstairs\", \"y\": \"car\", \"xref\": \"x1\", \"yref\": \"y1\", \"font\": {\"color\": \"#FFFFFF\"}, \"showarrow\": false}, {\"text\": \"0.15\", \"x\": \"downstairs\", \"y\": \"car\", \"xref\": \"x1\", \"yref\": \"y1\", \"font\": {\"color\": \"#FFFFFF\"}, \"showarrow\": false}, {\"text\": \"23.08\", \"x\": \"running\", \"y\": \"bike\", \"xref\": \"x1\", \"yref\": \"y1\", \"font\": {\"color\": \"#FFFFFF\"}, \"showarrow\": false}, {\"text\": \"42.31\", \"x\": \"walking\", \"y\": \"bike\", \"xref\": \"x1\", \"yref\": \"y1\", \"font\": {\"color\": \"#FFFFFF\"}, \"showarrow\": false}, {\"text\": \"3.85\", \"x\": \"car\", \"y\": \"bike\", \"xref\": \"x1\", \"yref\": \"y1\", \"font\": {\"color\": \"#FFFFFF\"}, \"showarrow\": false}, {\"text\": \"26.92\", \"x\": \"bike\", \"y\": \"bike\", \"xref\": \"x1\", \"yref\": \"y1\", \"font\": {\"color\": \"#FFFFFF\"}, \"showarrow\": false}, {\"text\": \"3.85\", \"x\": \"upstairs\", \"y\": \"bike\", \"xref\": \"x1\", \"yref\": \"y1\", \"font\": {\"color\": \"#FFFFFF\"}, \"showarrow\": false}, {\"text\": \"0.0\", \"x\": \"downstairs\", \"y\": \"bike\", \"xref\": \"x1\", \"yref\": \"y1\", \"font\": {\"color\": \"#FFFFFF\"}, \"showarrow\": false}, {\"text\": \"17.69\", \"x\": \"running\", \"y\": \"upstairs\", \"xref\": \"x1\", \"yref\": \"y1\", \"font\": {\"color\": \"#FFFFFF\"}, \"showarrow\": false}, {\"text\": \"29.23\", \"x\": \"walking\", \"y\": \"upstairs\", \"xref\": \"x1\", \"yref\": \"y1\", \"font\": {\"color\": \"#FFFFFF\"}, \"showarrow\": false}, {\"text\": \"5.38\", \"x\": \"car\", \"y\": \"upstairs\", \"xref\": \"x1\", \"yref\": \"y1\", \"font\": {\"color\": \"#FFFFFF\"}, \"showarrow\": false}, {\"text\": \"0.0\", \"x\": \"bike\", \"y\": \"upstairs\", \"xref\": \"x1\", \"yref\": \"y1\", \"font\": {\"color\": \"#FFFFFF\"}, \"showarrow\": false}, {\"text\": \"46.92\", \"x\": \"upstairs\", \"y\": \"upstairs\", \"xref\": \"x1\", \"yref\": \"y1\", \"font\": {\"color\": \"#FFFFFF\"}, \"showarrow\": false}, {\"text\": \"0.77\", \"x\": \"downstairs\", \"y\": \"upstairs\", \"xref\": \"x1\", \"yref\": \"y1\", \"font\": {\"color\": \"#FFFFFF\"}, \"showarrow\": false}, {\"text\": \"40.48\", \"x\": \"running\", \"y\": \"downstairs\", \"xref\": \"x1\", \"yref\": \"y1\", \"font\": {\"color\": \"#FFFFFF\"}, \"showarrow\": false}, {\"text\": \"30.95\", \"x\": \"walking\", \"y\": \"downstairs\", \"xref\": \"x1\", \"yref\": \"y1\", \"font\": {\"color\": \"#FFFFFF\"}, \"showarrow\": false}, {\"text\": \"4.76\", \"x\": \"car\", \"y\": \"downstairs\", \"xref\": \"x1\", \"yref\": \"y1\", \"font\": {\"color\": \"#FFFFFF\"}, \"showarrow\": false}, {\"text\": \"0.0\", \"x\": \"bike\", \"y\": \"downstairs\", \"xref\": \"x1\", \"yref\": \"y1\", \"font\": {\"color\": \"#FFFFFF\"}, \"showarrow\": false}, {\"text\": \"11.9\", \"x\": \"upstairs\", \"y\": \"downstairs\", \"xref\": \"x1\", \"yref\": \"y1\", \"font\": {\"color\": \"#FFFFFF\"}, \"showarrow\": false}, {\"text\": \"11.9\", \"x\": \"downstairs\", \"y\": \"downstairs\", \"xref\": \"x1\", \"yref\": \"y1\", \"font\": {\"color\": \"#FFFFFF\"}, \"showarrow\": false}], \"xaxis\": {\"ticks\": \"\", \"dtick\": 1, \"side\": \"top\", \"gridcolor\": \"rgb(0, 0, 0)\"}, \"yaxis\": {\"ticks\": \"\", \"dtick\": 1, \"ticksuffix\": \"  \", \"autorange\": \"reversed\"}, \"title\": \"KNN - overall accuracy: 81.35%\"}, {\"showLink\": true, \"linkText\": \"Export to plot.ly\"})});</script>"
      ],
      "text/vnd.plotly.v1+html": [
       "<div id=\"56518978-d2e8-49ae-872e-b595bf425762\" style=\"height: 525px; width: 100%;\" class=\"plotly-graph-div\"></div><script type=\"text/javascript\">require([\"plotly\"], function(Plotly) { window.PLOTLYENV=window.PLOTLYENV || {};window.PLOTLYENV.BASE_URL=\"https://plot.ly\";Plotly.newPlot(\"56518978-d2e8-49ae-872e-b595bf425762\", [{\"type\": \"heatmap\", \"z\": [[95.1, 3.73, 0.7, 0.23, 0.23, 0.0], [10.7, 84.72, 2.84, 0.0, 1.09, 0.66], [8.08, 6.74, 83.38, 0.15, 1.5, 0.15], [23.08, 42.31, 3.85, 26.92, 3.85, 0.0], [17.69, 29.23, 5.38, 0.0, 46.92, 0.77], [40.48, 30.95, 4.76, 0.0, 11.9, 11.9]], \"x\": [\"running\", \"walking\", \"car\", \"bike\", \"upstairs\", \"downstairs\"], \"y\": [\"running\", \"walking\", \"car\", \"bike\", \"upstairs\", \"downstairs\"], \"colorscale\": \"RdBu\", \"showscale\": false}], {\"annotations\": [{\"text\": \"95.1\", \"x\": \"running\", \"y\": \"running\", \"xref\": \"x1\", \"yref\": \"y1\", \"font\": {\"color\": \"#000000\"}, \"showarrow\": false}, {\"text\": \"3.73\", \"x\": \"walking\", \"y\": \"running\", \"xref\": \"x1\", \"yref\": \"y1\", \"font\": {\"color\": \"#FFFFFF\"}, \"showarrow\": false}, {\"text\": \"0.7\", \"x\": \"car\", \"y\": \"running\", \"xref\": \"x1\", \"yref\": \"y1\", \"font\": {\"color\": \"#FFFFFF\"}, \"showarrow\": false}, {\"text\": \"0.23\", \"x\": \"bike\", \"y\": \"running\", \"xref\": \"x1\", \"yref\": \"y1\", \"font\": {\"color\": \"#FFFFFF\"}, \"showarrow\": false}, {\"text\": \"0.23\", \"x\": \"upstairs\", \"y\": \"running\", \"xref\": \"x1\", \"yref\": \"y1\", \"font\": {\"color\": \"#FFFFFF\"}, \"showarrow\": false}, {\"text\": \"0.0\", \"x\": \"downstairs\", \"y\": \"running\", \"xref\": \"x1\", \"yref\": \"y1\", \"font\": {\"color\": \"#FFFFFF\"}, \"showarrow\": false}, {\"text\": \"10.7\", \"x\": \"running\", \"y\": \"walking\", \"xref\": \"x1\", \"yref\": \"y1\", \"font\": {\"color\": \"#FFFFFF\"}, \"showarrow\": false}, {\"text\": \"84.72\", \"x\": \"walking\", \"y\": \"walking\", \"xref\": \"x1\", \"yref\": \"y1\", \"font\": {\"color\": \"#000000\"}, \"showarrow\": false}, {\"text\": \"2.84\", \"x\": \"car\", \"y\": \"walking\", \"xref\": \"x1\", \"yref\": \"y1\", \"font\": {\"color\": \"#FFFFFF\"}, \"showarrow\": false}, {\"text\": \"0.0\", \"x\": \"bike\", \"y\": \"walking\", \"xref\": \"x1\", \"yref\": \"y1\", \"font\": {\"color\": \"#FFFFFF\"}, \"showarrow\": false}, {\"text\": \"1.09\", \"x\": \"upstairs\", \"y\": \"walking\", \"xref\": \"x1\", \"yref\": \"y1\", \"font\": {\"color\": \"#FFFFFF\"}, \"showarrow\": false}, {\"text\": \"0.66\", \"x\": \"downstairs\", \"y\": \"walking\", \"xref\": \"x1\", \"yref\": \"y1\", \"font\": {\"color\": \"#FFFFFF\"}, \"showarrow\": false}, {\"text\": \"8.08\", \"x\": \"running\", \"y\": \"car\", \"xref\": \"x1\", \"yref\": \"y1\", \"font\": {\"color\": \"#FFFFFF\"}, \"showarrow\": false}, {\"text\": \"6.74\", \"x\": \"walking\", \"y\": \"car\", \"xref\": \"x1\", \"yref\": \"y1\", \"font\": {\"color\": \"#FFFFFF\"}, \"showarrow\": false}, {\"text\": \"83.38\", \"x\": \"car\", \"y\": \"car\", \"xref\": \"x1\", \"yref\": \"y1\", \"font\": {\"color\": \"#000000\"}, \"showarrow\": false}, {\"text\": \"0.15\", \"x\": \"bike\", \"y\": \"car\", \"xref\": \"x1\", \"yref\": \"y1\", \"font\": {\"color\": \"#FFFFFF\"}, \"showarrow\": false}, {\"text\": \"1.5\", \"x\": \"upstairs\", \"y\": \"car\", \"xref\": \"x1\", \"yref\": \"y1\", \"font\": {\"color\": \"#FFFFFF\"}, \"showarrow\": false}, {\"text\": \"0.15\", \"x\": \"downstairs\", \"y\": \"car\", \"xref\": \"x1\", \"yref\": \"y1\", \"font\": {\"color\": \"#FFFFFF\"}, \"showarrow\": false}, {\"text\": \"23.08\", \"x\": \"running\", \"y\": \"bike\", \"xref\": \"x1\", \"yref\": \"y1\", \"font\": {\"color\": \"#FFFFFF\"}, \"showarrow\": false}, {\"text\": \"42.31\", \"x\": \"walking\", \"y\": \"bike\", \"xref\": \"x1\", \"yref\": \"y1\", \"font\": {\"color\": \"#FFFFFF\"}, \"showarrow\": false}, {\"text\": \"3.85\", \"x\": \"car\", \"y\": \"bike\", \"xref\": \"x1\", \"yref\": \"y1\", \"font\": {\"color\": \"#FFFFFF\"}, \"showarrow\": false}, {\"text\": \"26.92\", \"x\": \"bike\", \"y\": \"bike\", \"xref\": \"x1\", \"yref\": \"y1\", \"font\": {\"color\": \"#FFFFFF\"}, \"showarrow\": false}, {\"text\": \"3.85\", \"x\": \"upstairs\", \"y\": \"bike\", \"xref\": \"x1\", \"yref\": \"y1\", \"font\": {\"color\": \"#FFFFFF\"}, \"showarrow\": false}, {\"text\": \"0.0\", \"x\": \"downstairs\", \"y\": \"bike\", \"xref\": \"x1\", \"yref\": \"y1\", \"font\": {\"color\": \"#FFFFFF\"}, \"showarrow\": false}, {\"text\": \"17.69\", \"x\": \"running\", \"y\": \"upstairs\", \"xref\": \"x1\", \"yref\": \"y1\", \"font\": {\"color\": \"#FFFFFF\"}, \"showarrow\": false}, {\"text\": \"29.23\", \"x\": \"walking\", \"y\": \"upstairs\", \"xref\": \"x1\", \"yref\": \"y1\", \"font\": {\"color\": \"#FFFFFF\"}, \"showarrow\": false}, {\"text\": \"5.38\", \"x\": \"car\", \"y\": \"upstairs\", \"xref\": \"x1\", \"yref\": \"y1\", \"font\": {\"color\": \"#FFFFFF\"}, \"showarrow\": false}, {\"text\": \"0.0\", \"x\": \"bike\", \"y\": \"upstairs\", \"xref\": \"x1\", \"yref\": \"y1\", \"font\": {\"color\": \"#FFFFFF\"}, \"showarrow\": false}, {\"text\": \"46.92\", \"x\": \"upstairs\", \"y\": \"upstairs\", \"xref\": \"x1\", \"yref\": \"y1\", \"font\": {\"color\": \"#FFFFFF\"}, \"showarrow\": false}, {\"text\": \"0.77\", \"x\": \"downstairs\", \"y\": \"upstairs\", \"xref\": \"x1\", \"yref\": \"y1\", \"font\": {\"color\": \"#FFFFFF\"}, \"showarrow\": false}, {\"text\": \"40.48\", \"x\": \"running\", \"y\": \"downstairs\", \"xref\": \"x1\", \"yref\": \"y1\", \"font\": {\"color\": \"#FFFFFF\"}, \"showarrow\": false}, {\"text\": \"30.95\", \"x\": \"walking\", \"y\": \"downstairs\", \"xref\": \"x1\", \"yref\": \"y1\", \"font\": {\"color\": \"#FFFFFF\"}, \"showarrow\": false}, {\"text\": \"4.76\", \"x\": \"car\", \"y\": \"downstairs\", \"xref\": \"x1\", \"yref\": \"y1\", \"font\": {\"color\": \"#FFFFFF\"}, \"showarrow\": false}, {\"text\": \"0.0\", \"x\": \"bike\", \"y\": \"downstairs\", \"xref\": \"x1\", \"yref\": \"y1\", \"font\": {\"color\": \"#FFFFFF\"}, \"showarrow\": false}, {\"text\": \"11.9\", \"x\": \"upstairs\", \"y\": \"downstairs\", \"xref\": \"x1\", \"yref\": \"y1\", \"font\": {\"color\": \"#FFFFFF\"}, \"showarrow\": false}, {\"text\": \"11.9\", \"x\": \"downstairs\", \"y\": \"downstairs\", \"xref\": \"x1\", \"yref\": \"y1\", \"font\": {\"color\": \"#FFFFFF\"}, \"showarrow\": false}], \"xaxis\": {\"ticks\": \"\", \"dtick\": 1, \"side\": \"top\", \"gridcolor\": \"rgb(0, 0, 0)\"}, \"yaxis\": {\"ticks\": \"\", \"dtick\": 1, \"ticksuffix\": \"  \", \"autorange\": \"reversed\"}, \"title\": \"KNN - overall accuracy: 81.35%\"}, {\"showLink\": true, \"linkText\": \"Export to plot.ly\"})});</script>"
      ]
     },
     "metadata": {},
     "output_type": "display_data"
    },
    {
     "data": {
      "application/vnd.plotly.v1+json": {
       "data": [
        {
         "colorscale": "RdBu",
         "showscale": false,
         "type": "heatmap",
         "x": [
          "running",
          "walking",
          "car",
          "bike",
          "upstairs",
          "downstairs"
         ],
         "y": [
          "running",
          "walking",
          "car",
          "bike",
          "upstairs",
          "downstairs"
         ],
         "z": [
          [
           89.98,
           6.53,
           3.5,
           0,
           0,
           0
          ],
          [
           9.61,
           79.69,
           8.3,
           0,
           2.18,
           0.22
          ],
          [
           3.89,
           2.69,
           92.96,
           0,
           0.45,
           0
          ],
          [
           15.38,
           50,
           15.38,
           15.38,
           3.85,
           0
          ],
          [
           12.31,
           25.38,
           24.62,
           0,
           36.92,
           0.77
          ],
          [
           23.81,
           40.48,
           23.81,
           0,
           4.76,
           7.14
          ]
         ]
        }
       ],
       "layout": {
        "annotations": [
         {
          "font": {
           "color": "#000000"
          },
          "showarrow": false,
          "text": "89.98",
          "x": "running",
          "xref": "x1",
          "y": "running",
          "yref": "y1"
         },
         {
          "font": {
           "color": "#FFFFFF"
          },
          "showarrow": false,
          "text": "6.53",
          "x": "walking",
          "xref": "x1",
          "y": "running",
          "yref": "y1"
         },
         {
          "font": {
           "color": "#FFFFFF"
          },
          "showarrow": false,
          "text": "3.5",
          "x": "car",
          "xref": "x1",
          "y": "running",
          "yref": "y1"
         },
         {
          "font": {
           "color": "#FFFFFF"
          },
          "showarrow": false,
          "text": "0.0",
          "x": "bike",
          "xref": "x1",
          "y": "running",
          "yref": "y1"
         },
         {
          "font": {
           "color": "#FFFFFF"
          },
          "showarrow": false,
          "text": "0.0",
          "x": "upstairs",
          "xref": "x1",
          "y": "running",
          "yref": "y1"
         },
         {
          "font": {
           "color": "#FFFFFF"
          },
          "showarrow": false,
          "text": "0.0",
          "x": "downstairs",
          "xref": "x1",
          "y": "running",
          "yref": "y1"
         },
         {
          "font": {
           "color": "#FFFFFF"
          },
          "showarrow": false,
          "text": "9.61",
          "x": "running",
          "xref": "x1",
          "y": "walking",
          "yref": "y1"
         },
         {
          "font": {
           "color": "#000000"
          },
          "showarrow": false,
          "text": "79.69",
          "x": "walking",
          "xref": "x1",
          "y": "walking",
          "yref": "y1"
         },
         {
          "font": {
           "color": "#FFFFFF"
          },
          "showarrow": false,
          "text": "8.3",
          "x": "car",
          "xref": "x1",
          "y": "walking",
          "yref": "y1"
         },
         {
          "font": {
           "color": "#FFFFFF"
          },
          "showarrow": false,
          "text": "0.0",
          "x": "bike",
          "xref": "x1",
          "y": "walking",
          "yref": "y1"
         },
         {
          "font": {
           "color": "#FFFFFF"
          },
          "showarrow": false,
          "text": "2.18",
          "x": "upstairs",
          "xref": "x1",
          "y": "walking",
          "yref": "y1"
         },
         {
          "font": {
           "color": "#FFFFFF"
          },
          "showarrow": false,
          "text": "0.22",
          "x": "downstairs",
          "xref": "x1",
          "y": "walking",
          "yref": "y1"
         },
         {
          "font": {
           "color": "#FFFFFF"
          },
          "showarrow": false,
          "text": "3.89",
          "x": "running",
          "xref": "x1",
          "y": "car",
          "yref": "y1"
         },
         {
          "font": {
           "color": "#FFFFFF"
          },
          "showarrow": false,
          "text": "2.69",
          "x": "walking",
          "xref": "x1",
          "y": "car",
          "yref": "y1"
         },
         {
          "font": {
           "color": "#000000"
          },
          "showarrow": false,
          "text": "92.96",
          "x": "car",
          "xref": "x1",
          "y": "car",
          "yref": "y1"
         },
         {
          "font": {
           "color": "#FFFFFF"
          },
          "showarrow": false,
          "text": "0.0",
          "x": "bike",
          "xref": "x1",
          "y": "car",
          "yref": "y1"
         },
         {
          "font": {
           "color": "#FFFFFF"
          },
          "showarrow": false,
          "text": "0.45",
          "x": "upstairs",
          "xref": "x1",
          "y": "car",
          "yref": "y1"
         },
         {
          "font": {
           "color": "#FFFFFF"
          },
          "showarrow": false,
          "text": "0.0",
          "x": "downstairs",
          "xref": "x1",
          "y": "car",
          "yref": "y1"
         },
         {
          "font": {
           "color": "#FFFFFF"
          },
          "showarrow": false,
          "text": "15.38",
          "x": "running",
          "xref": "x1",
          "y": "bike",
          "yref": "y1"
         },
         {
          "font": {
           "color": "#000000"
          },
          "showarrow": false,
          "text": "50.0",
          "x": "walking",
          "xref": "x1",
          "y": "bike",
          "yref": "y1"
         },
         {
          "font": {
           "color": "#FFFFFF"
          },
          "showarrow": false,
          "text": "15.38",
          "x": "car",
          "xref": "x1",
          "y": "bike",
          "yref": "y1"
         },
         {
          "font": {
           "color": "#FFFFFF"
          },
          "showarrow": false,
          "text": "15.38",
          "x": "bike",
          "xref": "x1",
          "y": "bike",
          "yref": "y1"
         },
         {
          "font": {
           "color": "#FFFFFF"
          },
          "showarrow": false,
          "text": "3.85",
          "x": "upstairs",
          "xref": "x1",
          "y": "bike",
          "yref": "y1"
         },
         {
          "font": {
           "color": "#FFFFFF"
          },
          "showarrow": false,
          "text": "0.0",
          "x": "downstairs",
          "xref": "x1",
          "y": "bike",
          "yref": "y1"
         },
         {
          "font": {
           "color": "#FFFFFF"
          },
          "showarrow": false,
          "text": "12.31",
          "x": "running",
          "xref": "x1",
          "y": "upstairs",
          "yref": "y1"
         },
         {
          "font": {
           "color": "#FFFFFF"
          },
          "showarrow": false,
          "text": "25.38",
          "x": "walking",
          "xref": "x1",
          "y": "upstairs",
          "yref": "y1"
         },
         {
          "font": {
           "color": "#FFFFFF"
          },
          "showarrow": false,
          "text": "24.62",
          "x": "car",
          "xref": "x1",
          "y": "upstairs",
          "yref": "y1"
         },
         {
          "font": {
           "color": "#FFFFFF"
          },
          "showarrow": false,
          "text": "0.0",
          "x": "bike",
          "xref": "x1",
          "y": "upstairs",
          "yref": "y1"
         },
         {
          "font": {
           "color": "#FFFFFF"
          },
          "showarrow": false,
          "text": "36.92",
          "x": "upstairs",
          "xref": "x1",
          "y": "upstairs",
          "yref": "y1"
         },
         {
          "font": {
           "color": "#FFFFFF"
          },
          "showarrow": false,
          "text": "0.77",
          "x": "downstairs",
          "xref": "x1",
          "y": "upstairs",
          "yref": "y1"
         },
         {
          "font": {
           "color": "#FFFFFF"
          },
          "showarrow": false,
          "text": "23.81",
          "x": "running",
          "xref": "x1",
          "y": "downstairs",
          "yref": "y1"
         },
         {
          "font": {
           "color": "#FFFFFF"
          },
          "showarrow": false,
          "text": "40.48",
          "x": "walking",
          "xref": "x1",
          "y": "downstairs",
          "yref": "y1"
         },
         {
          "font": {
           "color": "#FFFFFF"
          },
          "showarrow": false,
          "text": "23.81",
          "x": "car",
          "xref": "x1",
          "y": "downstairs",
          "yref": "y1"
         },
         {
          "font": {
           "color": "#FFFFFF"
          },
          "showarrow": false,
          "text": "0.0",
          "x": "bike",
          "xref": "x1",
          "y": "downstairs",
          "yref": "y1"
         },
         {
          "font": {
           "color": "#FFFFFF"
          },
          "showarrow": false,
          "text": "4.76",
          "x": "upstairs",
          "xref": "x1",
          "y": "downstairs",
          "yref": "y1"
         },
         {
          "font": {
           "color": "#FFFFFF"
          },
          "showarrow": false,
          "text": "7.14",
          "x": "downstairs",
          "xref": "x1",
          "y": "downstairs",
          "yref": "y1"
         }
        ],
        "title": "RF - overall accuracy: 81.4%",
        "xaxis": {
         "dtick": 1,
         "gridcolor": "rgb(0, 0, 0)",
         "side": "top",
         "ticks": ""
        },
        "yaxis": {
         "autorange": "reversed",
         "dtick": 1,
         "ticks": "",
         "ticksuffix": "  "
        }
       }
      },
      "text/html": [
       "<div id=\"2c3fd815-e572-4095-bfad-8b28e2165bb0\" style=\"height: 525px; width: 100%;\" class=\"plotly-graph-div\"></div><script type=\"text/javascript\">require([\"plotly\"], function(Plotly) { window.PLOTLYENV=window.PLOTLYENV || {};window.PLOTLYENV.BASE_URL=\"https://plot.ly\";Plotly.newPlot(\"2c3fd815-e572-4095-bfad-8b28e2165bb0\", [{\"type\": \"heatmap\", \"z\": [[89.98, 6.53, 3.5, 0.0, 0.0, 0.0], [9.61, 79.69, 8.3, 0.0, 2.18, 0.22], [3.89, 2.69, 92.96, 0.0, 0.45, 0.0], [15.38, 50.0, 15.38, 15.38, 3.85, 0.0], [12.31, 25.38, 24.62, 0.0, 36.92, 0.77], [23.81, 40.48, 23.81, 0.0, 4.76, 7.14]], \"x\": [\"running\", \"walking\", \"car\", \"bike\", \"upstairs\", \"downstairs\"], \"y\": [\"running\", \"walking\", \"car\", \"bike\", \"upstairs\", \"downstairs\"], \"colorscale\": \"RdBu\", \"showscale\": false}], {\"annotations\": [{\"text\": \"89.98\", \"x\": \"running\", \"y\": \"running\", \"xref\": \"x1\", \"yref\": \"y1\", \"font\": {\"color\": \"#000000\"}, \"showarrow\": false}, {\"text\": \"6.53\", \"x\": \"walking\", \"y\": \"running\", \"xref\": \"x1\", \"yref\": \"y1\", \"font\": {\"color\": \"#FFFFFF\"}, \"showarrow\": false}, {\"text\": \"3.5\", \"x\": \"car\", \"y\": \"running\", \"xref\": \"x1\", \"yref\": \"y1\", \"font\": {\"color\": \"#FFFFFF\"}, \"showarrow\": false}, {\"text\": \"0.0\", \"x\": \"bike\", \"y\": \"running\", \"xref\": \"x1\", \"yref\": \"y1\", \"font\": {\"color\": \"#FFFFFF\"}, \"showarrow\": false}, {\"text\": \"0.0\", \"x\": \"upstairs\", \"y\": \"running\", \"xref\": \"x1\", \"yref\": \"y1\", \"font\": {\"color\": \"#FFFFFF\"}, \"showarrow\": false}, {\"text\": \"0.0\", \"x\": \"downstairs\", \"y\": \"running\", \"xref\": \"x1\", \"yref\": \"y1\", \"font\": {\"color\": \"#FFFFFF\"}, \"showarrow\": false}, {\"text\": \"9.61\", \"x\": \"running\", \"y\": \"walking\", \"xref\": \"x1\", \"yref\": \"y1\", \"font\": {\"color\": \"#FFFFFF\"}, \"showarrow\": false}, {\"text\": \"79.69\", \"x\": \"walking\", \"y\": \"walking\", \"xref\": \"x1\", \"yref\": \"y1\", \"font\": {\"color\": \"#000000\"}, \"showarrow\": false}, {\"text\": \"8.3\", \"x\": \"car\", \"y\": \"walking\", \"xref\": \"x1\", \"yref\": \"y1\", \"font\": {\"color\": \"#FFFFFF\"}, \"showarrow\": false}, {\"text\": \"0.0\", \"x\": \"bike\", \"y\": \"walking\", \"xref\": \"x1\", \"yref\": \"y1\", \"font\": {\"color\": \"#FFFFFF\"}, \"showarrow\": false}, {\"text\": \"2.18\", \"x\": \"upstairs\", \"y\": \"walking\", \"xref\": \"x1\", \"yref\": \"y1\", \"font\": {\"color\": \"#FFFFFF\"}, \"showarrow\": false}, {\"text\": \"0.22\", \"x\": \"downstairs\", \"y\": \"walking\", \"xref\": \"x1\", \"yref\": \"y1\", \"font\": {\"color\": \"#FFFFFF\"}, \"showarrow\": false}, {\"text\": \"3.89\", \"x\": \"running\", \"y\": \"car\", \"xref\": \"x1\", \"yref\": \"y1\", \"font\": {\"color\": \"#FFFFFF\"}, \"showarrow\": false}, {\"text\": \"2.69\", \"x\": \"walking\", \"y\": \"car\", \"xref\": \"x1\", \"yref\": \"y1\", \"font\": {\"color\": \"#FFFFFF\"}, \"showarrow\": false}, {\"text\": \"92.96\", \"x\": \"car\", \"y\": \"car\", \"xref\": \"x1\", \"yref\": \"y1\", \"font\": {\"color\": \"#000000\"}, \"showarrow\": false}, {\"text\": \"0.0\", \"x\": \"bike\", \"y\": \"car\", \"xref\": \"x1\", \"yref\": \"y1\", \"font\": {\"color\": \"#FFFFFF\"}, \"showarrow\": false}, {\"text\": \"0.45\", \"x\": \"upstairs\", \"y\": \"car\", \"xref\": \"x1\", \"yref\": \"y1\", \"font\": {\"color\": \"#FFFFFF\"}, \"showarrow\": false}, {\"text\": \"0.0\", \"x\": \"downstairs\", \"y\": \"car\", \"xref\": \"x1\", \"yref\": \"y1\", \"font\": {\"color\": \"#FFFFFF\"}, \"showarrow\": false}, {\"text\": \"15.38\", \"x\": \"running\", \"y\": \"bike\", \"xref\": \"x1\", \"yref\": \"y1\", \"font\": {\"color\": \"#FFFFFF\"}, \"showarrow\": false}, {\"text\": \"50.0\", \"x\": \"walking\", \"y\": \"bike\", \"xref\": \"x1\", \"yref\": \"y1\", \"font\": {\"color\": \"#000000\"}, \"showarrow\": false}, {\"text\": \"15.38\", \"x\": \"car\", \"y\": \"bike\", \"xref\": \"x1\", \"yref\": \"y1\", \"font\": {\"color\": \"#FFFFFF\"}, \"showarrow\": false}, {\"text\": \"15.38\", \"x\": \"bike\", \"y\": \"bike\", \"xref\": \"x1\", \"yref\": \"y1\", \"font\": {\"color\": \"#FFFFFF\"}, \"showarrow\": false}, {\"text\": \"3.85\", \"x\": \"upstairs\", \"y\": \"bike\", \"xref\": \"x1\", \"yref\": \"y1\", \"font\": {\"color\": \"#FFFFFF\"}, \"showarrow\": false}, {\"text\": \"0.0\", \"x\": \"downstairs\", \"y\": \"bike\", \"xref\": \"x1\", \"yref\": \"y1\", \"font\": {\"color\": \"#FFFFFF\"}, \"showarrow\": false}, {\"text\": \"12.31\", \"x\": \"running\", \"y\": \"upstairs\", \"xref\": \"x1\", \"yref\": \"y1\", \"font\": {\"color\": \"#FFFFFF\"}, \"showarrow\": false}, {\"text\": \"25.38\", \"x\": \"walking\", \"y\": \"upstairs\", \"xref\": \"x1\", \"yref\": \"y1\", \"font\": {\"color\": \"#FFFFFF\"}, \"showarrow\": false}, {\"text\": \"24.62\", \"x\": \"car\", \"y\": \"upstairs\", \"xref\": \"x1\", \"yref\": \"y1\", \"font\": {\"color\": \"#FFFFFF\"}, \"showarrow\": false}, {\"text\": \"0.0\", \"x\": \"bike\", \"y\": \"upstairs\", \"xref\": \"x1\", \"yref\": \"y1\", \"font\": {\"color\": \"#FFFFFF\"}, \"showarrow\": false}, {\"text\": \"36.92\", \"x\": \"upstairs\", \"y\": \"upstairs\", \"xref\": \"x1\", \"yref\": \"y1\", \"font\": {\"color\": \"#FFFFFF\"}, \"showarrow\": false}, {\"text\": \"0.77\", \"x\": \"downstairs\", \"y\": \"upstairs\", \"xref\": \"x1\", \"yref\": \"y1\", \"font\": {\"color\": \"#FFFFFF\"}, \"showarrow\": false}, {\"text\": \"23.81\", \"x\": \"running\", \"y\": \"downstairs\", \"xref\": \"x1\", \"yref\": \"y1\", \"font\": {\"color\": \"#FFFFFF\"}, \"showarrow\": false}, {\"text\": \"40.48\", \"x\": \"walking\", \"y\": \"downstairs\", \"xref\": \"x1\", \"yref\": \"y1\", \"font\": {\"color\": \"#FFFFFF\"}, \"showarrow\": false}, {\"text\": \"23.81\", \"x\": \"car\", \"y\": \"downstairs\", \"xref\": \"x1\", \"yref\": \"y1\", \"font\": {\"color\": \"#FFFFFF\"}, \"showarrow\": false}, {\"text\": \"0.0\", \"x\": \"bike\", \"y\": \"downstairs\", \"xref\": \"x1\", \"yref\": \"y1\", \"font\": {\"color\": \"#FFFFFF\"}, \"showarrow\": false}, {\"text\": \"4.76\", \"x\": \"upstairs\", \"y\": \"downstairs\", \"xref\": \"x1\", \"yref\": \"y1\", \"font\": {\"color\": \"#FFFFFF\"}, \"showarrow\": false}, {\"text\": \"7.14\", \"x\": \"downstairs\", \"y\": \"downstairs\", \"xref\": \"x1\", \"yref\": \"y1\", \"font\": {\"color\": \"#FFFFFF\"}, \"showarrow\": false}], \"xaxis\": {\"ticks\": \"\", \"dtick\": 1, \"side\": \"top\", \"gridcolor\": \"rgb(0, 0, 0)\"}, \"yaxis\": {\"ticks\": \"\", \"dtick\": 1, \"ticksuffix\": \"  \", \"autorange\": \"reversed\"}, \"title\": \"RF - overall accuracy: 81.4%\"}, {\"showLink\": true, \"linkText\": \"Export to plot.ly\"})});</script>"
      ],
      "text/vnd.plotly.v1+html": [
       "<div id=\"2c3fd815-e572-4095-bfad-8b28e2165bb0\" style=\"height: 525px; width: 100%;\" class=\"plotly-graph-div\"></div><script type=\"text/javascript\">require([\"plotly\"], function(Plotly) { window.PLOTLYENV=window.PLOTLYENV || {};window.PLOTLYENV.BASE_URL=\"https://plot.ly\";Plotly.newPlot(\"2c3fd815-e572-4095-bfad-8b28e2165bb0\", [{\"type\": \"heatmap\", \"z\": [[89.98, 6.53, 3.5, 0.0, 0.0, 0.0], [9.61, 79.69, 8.3, 0.0, 2.18, 0.22], [3.89, 2.69, 92.96, 0.0, 0.45, 0.0], [15.38, 50.0, 15.38, 15.38, 3.85, 0.0], [12.31, 25.38, 24.62, 0.0, 36.92, 0.77], [23.81, 40.48, 23.81, 0.0, 4.76, 7.14]], \"x\": [\"running\", \"walking\", \"car\", \"bike\", \"upstairs\", \"downstairs\"], \"y\": [\"running\", \"walking\", \"car\", \"bike\", \"upstairs\", \"downstairs\"], \"colorscale\": \"RdBu\", \"showscale\": false}], {\"annotations\": [{\"text\": \"89.98\", \"x\": \"running\", \"y\": \"running\", \"xref\": \"x1\", \"yref\": \"y1\", \"font\": {\"color\": \"#000000\"}, \"showarrow\": false}, {\"text\": \"6.53\", \"x\": \"walking\", \"y\": \"running\", \"xref\": \"x1\", \"yref\": \"y1\", \"font\": {\"color\": \"#FFFFFF\"}, \"showarrow\": false}, {\"text\": \"3.5\", \"x\": \"car\", \"y\": \"running\", \"xref\": \"x1\", \"yref\": \"y1\", \"font\": {\"color\": \"#FFFFFF\"}, \"showarrow\": false}, {\"text\": \"0.0\", \"x\": \"bike\", \"y\": \"running\", \"xref\": \"x1\", \"yref\": \"y1\", \"font\": {\"color\": \"#FFFFFF\"}, \"showarrow\": false}, {\"text\": \"0.0\", \"x\": \"upstairs\", \"y\": \"running\", \"xref\": \"x1\", \"yref\": \"y1\", \"font\": {\"color\": \"#FFFFFF\"}, \"showarrow\": false}, {\"text\": \"0.0\", \"x\": \"downstairs\", \"y\": \"running\", \"xref\": \"x1\", \"yref\": \"y1\", \"font\": {\"color\": \"#FFFFFF\"}, \"showarrow\": false}, {\"text\": \"9.61\", \"x\": \"running\", \"y\": \"walking\", \"xref\": \"x1\", \"yref\": \"y1\", \"font\": {\"color\": \"#FFFFFF\"}, \"showarrow\": false}, {\"text\": \"79.69\", \"x\": \"walking\", \"y\": \"walking\", \"xref\": \"x1\", \"yref\": \"y1\", \"font\": {\"color\": \"#000000\"}, \"showarrow\": false}, {\"text\": \"8.3\", \"x\": \"car\", \"y\": \"walking\", \"xref\": \"x1\", \"yref\": \"y1\", \"font\": {\"color\": \"#FFFFFF\"}, \"showarrow\": false}, {\"text\": \"0.0\", \"x\": \"bike\", \"y\": \"walking\", \"xref\": \"x1\", \"yref\": \"y1\", \"font\": {\"color\": \"#FFFFFF\"}, \"showarrow\": false}, {\"text\": \"2.18\", \"x\": \"upstairs\", \"y\": \"walking\", \"xref\": \"x1\", \"yref\": \"y1\", \"font\": {\"color\": \"#FFFFFF\"}, \"showarrow\": false}, {\"text\": \"0.22\", \"x\": \"downstairs\", \"y\": \"walking\", \"xref\": \"x1\", \"yref\": \"y1\", \"font\": {\"color\": \"#FFFFFF\"}, \"showarrow\": false}, {\"text\": \"3.89\", \"x\": \"running\", \"y\": \"car\", \"xref\": \"x1\", \"yref\": \"y1\", \"font\": {\"color\": \"#FFFFFF\"}, \"showarrow\": false}, {\"text\": \"2.69\", \"x\": \"walking\", \"y\": \"car\", \"xref\": \"x1\", \"yref\": \"y1\", \"font\": {\"color\": \"#FFFFFF\"}, \"showarrow\": false}, {\"text\": \"92.96\", \"x\": \"car\", \"y\": \"car\", \"xref\": \"x1\", \"yref\": \"y1\", \"font\": {\"color\": \"#000000\"}, \"showarrow\": false}, {\"text\": \"0.0\", \"x\": \"bike\", \"y\": \"car\", \"xref\": \"x1\", \"yref\": \"y1\", \"font\": {\"color\": \"#FFFFFF\"}, \"showarrow\": false}, {\"text\": \"0.45\", \"x\": \"upstairs\", \"y\": \"car\", \"xref\": \"x1\", \"yref\": \"y1\", \"font\": {\"color\": \"#FFFFFF\"}, \"showarrow\": false}, {\"text\": \"0.0\", \"x\": \"downstairs\", \"y\": \"car\", \"xref\": \"x1\", \"yref\": \"y1\", \"font\": {\"color\": \"#FFFFFF\"}, \"showarrow\": false}, {\"text\": \"15.38\", \"x\": \"running\", \"y\": \"bike\", \"xref\": \"x1\", \"yref\": \"y1\", \"font\": {\"color\": \"#FFFFFF\"}, \"showarrow\": false}, {\"text\": \"50.0\", \"x\": \"walking\", \"y\": \"bike\", \"xref\": \"x1\", \"yref\": \"y1\", \"font\": {\"color\": \"#000000\"}, \"showarrow\": false}, {\"text\": \"15.38\", \"x\": \"car\", \"y\": \"bike\", \"xref\": \"x1\", \"yref\": \"y1\", \"font\": {\"color\": \"#FFFFFF\"}, \"showarrow\": false}, {\"text\": \"15.38\", \"x\": \"bike\", \"y\": \"bike\", \"xref\": \"x1\", \"yref\": \"y1\", \"font\": {\"color\": \"#FFFFFF\"}, \"showarrow\": false}, {\"text\": \"3.85\", \"x\": \"upstairs\", \"y\": \"bike\", \"xref\": \"x1\", \"yref\": \"y1\", \"font\": {\"color\": \"#FFFFFF\"}, \"showarrow\": false}, {\"text\": \"0.0\", \"x\": \"downstairs\", \"y\": \"bike\", \"xref\": \"x1\", \"yref\": \"y1\", \"font\": {\"color\": \"#FFFFFF\"}, \"showarrow\": false}, {\"text\": \"12.31\", \"x\": \"running\", \"y\": \"upstairs\", \"xref\": \"x1\", \"yref\": \"y1\", \"font\": {\"color\": \"#FFFFFF\"}, \"showarrow\": false}, {\"text\": \"25.38\", \"x\": \"walking\", \"y\": \"upstairs\", \"xref\": \"x1\", \"yref\": \"y1\", \"font\": {\"color\": \"#FFFFFF\"}, \"showarrow\": false}, {\"text\": \"24.62\", \"x\": \"car\", \"y\": \"upstairs\", \"xref\": \"x1\", \"yref\": \"y1\", \"font\": {\"color\": \"#FFFFFF\"}, \"showarrow\": false}, {\"text\": \"0.0\", \"x\": \"bike\", \"y\": \"upstairs\", \"xref\": \"x1\", \"yref\": \"y1\", \"font\": {\"color\": \"#FFFFFF\"}, \"showarrow\": false}, {\"text\": \"36.92\", \"x\": \"upstairs\", \"y\": \"upstairs\", \"xref\": \"x1\", \"yref\": \"y1\", \"font\": {\"color\": \"#FFFFFF\"}, \"showarrow\": false}, {\"text\": \"0.77\", \"x\": \"downstairs\", \"y\": \"upstairs\", \"xref\": \"x1\", \"yref\": \"y1\", \"font\": {\"color\": \"#FFFFFF\"}, \"showarrow\": false}, {\"text\": \"23.81\", \"x\": \"running\", \"y\": \"downstairs\", \"xref\": \"x1\", \"yref\": \"y1\", \"font\": {\"color\": \"#FFFFFF\"}, \"showarrow\": false}, {\"text\": \"40.48\", \"x\": \"walking\", \"y\": \"downstairs\", \"xref\": \"x1\", \"yref\": \"y1\", \"font\": {\"color\": \"#FFFFFF\"}, \"showarrow\": false}, {\"text\": \"23.81\", \"x\": \"car\", \"y\": \"downstairs\", \"xref\": \"x1\", \"yref\": \"y1\", \"font\": {\"color\": \"#FFFFFF\"}, \"showarrow\": false}, {\"text\": \"0.0\", \"x\": \"bike\", \"y\": \"downstairs\", \"xref\": \"x1\", \"yref\": \"y1\", \"font\": {\"color\": \"#FFFFFF\"}, \"showarrow\": false}, {\"text\": \"4.76\", \"x\": \"upstairs\", \"y\": \"downstairs\", \"xref\": \"x1\", \"yref\": \"y1\", \"font\": {\"color\": \"#FFFFFF\"}, \"showarrow\": false}, {\"text\": \"7.14\", \"x\": \"downstairs\", \"y\": \"downstairs\", \"xref\": \"x1\", \"yref\": \"y1\", \"font\": {\"color\": \"#FFFFFF\"}, \"showarrow\": false}], \"xaxis\": {\"ticks\": \"\", \"dtick\": 1, \"side\": \"top\", \"gridcolor\": \"rgb(0, 0, 0)\"}, \"yaxis\": {\"ticks\": \"\", \"dtick\": 1, \"ticksuffix\": \"  \", \"autorange\": \"reversed\"}, \"title\": \"RF - overall accuracy: 81.4%\"}, {\"showLink\": true, \"linkText\": \"Export to plot.ly\"})});</script>"
      ]
     },
     "metadata": {},
     "output_type": "display_data"
    }
   ],
   "source": [
    "# Każdy klasyfikator uczymy i testujemy, a następnie rysujemy heatmap z wynikami\n",
    "for clsf in classifiers:\n",
    "    # Uczenie klasyfikatora\n",
    "    clsf[\"cls\"].fit(X, y)\n",
    "    # Sprawdzenie dla danych testowych\n",
    "    predictions = clsf[\"cls\"].predict(X_test)\n",
    "    # Zapis wyniku\n",
    "    acc = accuracy_score(y_test, predictions)\n",
    "    \n",
    "    # Znormalizowana macierz\n",
    "    c_matrix = confusion_matrix(y_test, predictions, labels = [11,22,33,44,55,66])\n",
    "    c_matrix = c_matrix.astype('float') / c_matrix.sum(axis=1)[:, np.newaxis]\n",
    "    c_matrix = c_matrix*100.0\n",
    "    c_matrix = c_matrix.round(2)\n",
    "    \n",
    "    # Tytuły wykresów\n",
    "    title = clsf[\"name\"] + \" - overall accuracy: \" + str(round(acc*100,2)) + \"%\"\n",
    "    labels = [\"running\", \"walking\", \"car\", \"bike\", \"upstairs\", \"downstairs\"]\n",
    "    \n",
    "    fig = ff.create_annotated_heatmap(z=c_matrix, x=labels, y=labels)\n",
    "    fig.layout.update({\"title\": title})\n",
    "    \n",
    "    fig.layout.update({\"yaxis\":dict(autorange='reversed')})\n",
    "    \n",
    "    iplot(fig)\n"
   ]
  },
  {
   "cell_type": "code",
   "execution_count": 10,
   "metadata": {},
   "outputs": [],
   "source": [
    "# # clf = SVC()\n",
    "# clf = MLPClassifier(solver='lbfgs', alpha=1e-7, hidden_layer_sizes=(26, 10, 6), random_state=1, max_iter=700)\n",
    "# # clf = KNeighborsClassifier(n_neighbors=7)\n",
    "# # clf = SGDClassifier(loss=\"log\")\n",
    "# clf.fit(X,y)\n",
    "\n",
    "# predictions = clf.predict(X_test)\n",
    "# acc = accuracy_score(y_test, predictions)\n",
    "# print(\"Accuracy: \" + str(round(acc*100,2)) + \"%\")"
   ]
  },
  {
   "cell_type": "code",
   "execution_count": 11,
   "metadata": {},
   "outputs": [],
   "source": [
    "# tsne = manifold.TSNE(n_components=2, init='pca', random_state=0)\n",
    "# Y = tsne.fit_transform(X_test)"
   ]
  },
  {
   "cell_type": "code",
   "execution_count": 12,
   "metadata": {},
   "outputs": [],
   "source": [
    "# plt.scatter(Y[:, 0], Y[:, 1], c=y_test, cmap=plt.cm.get_cmap(\"jet\", len(list(set(y_test)))))\n",
    "# plt.colorbar(ticks=range(len(list(set(y_test)))))\n",
    "\n",
    "# plt.show()"
   ]
  },
  {
   "cell_type": "code",
   "execution_count": null,
   "metadata": {},
   "outputs": [],
   "source": []
  }
 ],
 "metadata": {
  "kernelspec": {
   "display_name": "Python 3",
   "language": "python",
   "name": "python3"
  },
  "language_info": {
   "codemirror_mode": {
    "name": "ipython",
    "version": 3
   },
   "file_extension": ".py",
   "mimetype": "text/x-python",
   "name": "python",
   "nbconvert_exporter": "python",
   "pygments_lexer": "ipython3",
   "version": "3.6.4"
  }
 },
 "nbformat": 4,
 "nbformat_minor": 2
}
